{
 "cells": [
  {
   "cell_type": "code",
   "execution_count": null,
   "metadata": {},
   "outputs": [],
   "source": [
    "import requests\n",
    "import pandas as pd\n",
    "import numpy as np\n",
    "import plotly.express as px\n",
    "import folium\n",
    "import json"
   ]
  },
  {
   "cell_type": "code",
   "execution_count": null,
   "metadata": {},
   "outputs": [],
   "source": [
    "lpd = pd.read_csv('laadpaaldata.csv')"
   ]
  },
  {
   "cell_type": "code",
   "execution_count": null,
   "metadata": {},
   "outputs": [],
   "source": [
    "###Inladen API - kijk naar country code en maxresults\n",
    "response = requests.get('https://api.openchargemap.io/v3/poi/?output=json&countrycode=NL&maxresults=1000&compact=true&verbose=false&key=772ba88b-50db-49f1-b9f1-933c6053edd3')\n",
    "response.status_code"
   ]
  },
  {
   "cell_type": "code",
   "execution_count": null,
   "metadata": {},
   "outputs": [],
   "source": [
    "###Omzetten naar dictionary\n",
    "json_lp = response.json()"
   ]
  },
  {
   "cell_type": "code",
   "execution_count": null,
   "metadata": {},
   "outputs": [],
   "source": [
    "###Dataframe bevat kolom die een list zijn. \n",
    "#Met json_normalize zet je de eerste kolom om naar losse kolommen\n",
    "opencharge = pd.json_normalize(json_lp)\n",
    "#Daarna nog handmatig kijken welke kolommen over zijn in dit geval Connections\n",
    "#Kijken naar eerst laadpaal op de locatie\n",
    "#Kan je uitpakken middels:\n",
    "df4 = pd.json_normalize(opencharge.Connections)\n",
    "df5 = pd.json_normalize(df4[0])\n",
    "df5.head()\n",
    "###Bestanden samenvoegen\n",
    "ocm = pd.concat([opencharge, df5], axis=1)\n",
    "ocm.head()"
   ]
  },
  {
   "cell_type": "code",
   "execution_count": null,
   "metadata": {},
   "outputs": [],
   "source": [
    "###Inladen API - kijk naar country code en maxresults\n",
    "response_ev = requests.get('https://opendata.rdw.nl/resource/8wbe-pu7d.json')\n",
    "response_ev.status_code"
   ]
  },
  {
   "cell_type": "code",
   "execution_count": null,
   "metadata": {},
   "outputs": [],
   "source": [
    "###Omzetten naar dictionary\n",
    "json_ev = response_ev.json()"
   ]
  },
  {
   "cell_type": "code",
   "execution_count": null,
   "metadata": {},
   "outputs": [],
   "source": [
    "#build dataframe from json_ev\n",
    "rdw = pd.DataFrame(json_ev)"
   ]
  },
  {
   "cell_type": "code",
   "execution_count": null,
   "metadata": {},
   "outputs": [],
   "source": [
    "ocm.info()"
   ]
  },
  {
   "cell_type": "code",
   "execution_count": null,
   "metadata": {},
   "outputs": [],
   "source": [
    "ocm.head()"
   ]
  },
  {
   "cell_type": "code",
   "execution_count": null,
   "metadata": {},
   "outputs": [],
   "source": [
    "rdw.info()"
   ]
  },
  {
   "cell_type": "code",
   "execution_count": null,
   "metadata": {},
   "outputs": [],
   "source": [
    "rdw"
   ]
  },
  {
   "cell_type": "code",
   "execution_count": null,
   "metadata": {},
   "outputs": [],
   "source": [
    "lpd.info()"
   ]
  },
  {
   "cell_type": "code",
   "execution_count": null,
   "metadata": {},
   "outputs": [],
   "source": [
    "lpd"
   ]
  },
  {
   "cell_type": "code",
   "execution_count": null,
   "metadata": {},
   "outputs": [],
   "source": [
    "ocm.columns = ocm.columns.str.replace('.', '_') \n",
    "ocm.columns = ocm.columns.str.replace(' ', '_')\n",
    "\n",
    "ocm = ocm.loc[:,~ocm.columns.duplicated()].copy()\n",
    "ocm = ocm[ocm['Quantity'].notna()]\n",
    "ocm = ocm[ocm['NumberOfPoints'] != 0]\n",
    "ocm = ocm[ocm['AddressInfo_Latitude'] > 50]\n",
    "ocm = ocm.drop(columns=['Connections','AddressInfo_DistanceUnit', 'GeneralComments', 'AddressInfo_RelatedURL', 'UsageCost', 'AddressInfo_AddressLine2', 'AddressInfo_AccessComments', \n",
    "                        'AddressInfo_ContactTelephone1', 'AddressInfo_ContactEmail', 'AddressInfo_ContactTelephone2', 'OperatorsReference', 'DataProvidersReference',\n",
    "                        'Reference', 'Amps', 'Voltage', 'Comments'])\n",
    "ocm.columns = map(str.lower, ocm.columns)\n",
    "rdw.columns = map(str.lower, rdw.columns)\n",
    "lpd.columns = map(str.lower, lpd.columns)\n",
    "\n",
    "ocm['addressinfo_postcode'] = ocm['addressinfo_postcode'].str.replace('[a-zA-Z]', '')\n",
    "ocm['addressinfo_postcode'] = ocm['addressinfo_postcode'].str.replace(' ', '')\n"
   ]
  },
  {
   "cell_type": "code",
   "execution_count": null,
   "metadata": {},
   "outputs": [],
   "source": [
    "ocm['addressinfo_stateorprovince'].isna().sum()"
   ]
  },
  {
   "cell_type": "code",
   "execution_count": null,
   "metadata": {},
   "outputs": [],
   "source": [
    "ev = rdw.loc[(rdw['brandstof'].str.contains('E')) & (rdw['extern_oplaadbaar'] == 'J')]\n"
   ]
  },
  {
   "cell_type": "code",
   "execution_count": null,
   "metadata": {},
   "outputs": [],
   "source": [
    "merge = pd.merge(ocm, ev, left_on='addressinfo_postcode', right_on='postcode', how='outer')"
   ]
  },
  {
   "cell_type": "code",
   "execution_count": null,
   "metadata": {},
   "outputs": [],
   "source": [
    "m = folium.Map(location=[52.091684, 5.114055], zoom_start=7)\n"
   ]
  },
  {
   "cell_type": "code",
   "execution_count": null,
   "metadata": {},
   "outputs": [],
   "source": [
    "import geopandas as gpd\n",
    "import geojson"
   ]
  },
  {
   "cell_type": "code",
   "execution_count": null,
   "metadata": {},
   "outputs": [],
   "source": [
    "# r =  requests.get('https://data.opendatasoft.com/api/v2/catalog/datasets/georef-netherlands-postcode-pc4%40public/exports/geojson?limit=-1&offset=0&lang=nl&timezone=Europe%2FBerlin')"
   ]
  },
  {
   "cell_type": "code",
   "execution_count": 31,
   "metadata": {},
   "outputs": [],
   "source": [
    "geofile = gpd.read_file('https://data.opendatasoft.com/api/v2/catalog/datasets/georef-netherlands-postcode-pc4%40public/exports/geojson?limit=-1&offset=0&lang=nl&timezone=Europe%2FBerlin')"
   ]
  },
  {
   "cell_type": "code",
   "execution_count": null,
   "metadata": {},
   "outputs": [],
   "source": [
    "# geofile = r.json()"
   ]
  },
  {
   "cell_type": "code",
   "execution_count": 38,
   "metadata": {},
   "outputs": [],
   "source": [
    "rdw['postcode'] = rdw['postcode'].astype('str')\n",
    "rdw['aantal'] = rdw['aantal'].astype('str')\n",
    "geofile['pc4_code'] = geofile['pc4_code'].astype('str')"
   ]
  },
  {
   "cell_type": "code",
   "execution_count": 41,
   "metadata": {},
   "outputs": [
    {
     "ename": "TypeError",
     "evalue": "ufunc 'isnan' not supported for the input types, and the inputs could not be safely coerced to any supported types according to the casting rule ''safe''",
     "output_type": "error",
     "traceback": [
      "\u001b[0;31m---------------------------------------------------------------------------\u001b[0m",
      "\u001b[0;31mTypeError\u001b[0m                                 Traceback (most recent call last)",
      "Cell \u001b[0;32mIn[41], line 1\u001b[0m\n\u001b[0;32m----> 1\u001b[0m folium\u001b[39m.\u001b[39;49mChoropleth(\n\u001b[1;32m      2\u001b[0m     geo_data\u001b[39m=\u001b[39;49mgeofile\u001b[39m.\u001b[39;49mto_json(),\n\u001b[1;32m      3\u001b[0m     name\u001b[39m=\u001b[39;49m\u001b[39m\"\u001b[39;49m\u001b[39mgeometry\u001b[39;49m\u001b[39m\"\u001b[39;49m,\n\u001b[1;32m      4\u001b[0m     data\u001b[39m=\u001b[39;49mrdw,\n\u001b[1;32m      5\u001b[0m     columns\u001b[39m=\u001b[39;49m[\u001b[39m\"\u001b[39;49m\u001b[39mpostcode\u001b[39;49m\u001b[39m\"\u001b[39;49m, \u001b[39m'\u001b[39;49m\u001b[39maantal\u001b[39;49m\u001b[39m'\u001b[39;49m],\n\u001b[1;32m      6\u001b[0m     key_on\u001b[39m=\u001b[39;49m\u001b[39m\"\u001b[39;49m\u001b[39mfeature.properties.gem_name\u001b[39;49m\u001b[39m\"\u001b[39;49m,\n\u001b[1;32m      7\u001b[0m     fill_color\u001b[39m=\u001b[39;49m\u001b[39m\"\u001b[39;49m\u001b[39mYlGn\u001b[39;49m\u001b[39m\"\u001b[39;49m,\n\u001b[1;32m      8\u001b[0m     fill_opacity\u001b[39m=\u001b[39;49m\u001b[39m0.7\u001b[39;49m,\n\u001b[1;32m      9\u001b[0m     line_opacity\u001b[39m=\u001b[39;49m\u001b[39m.1\u001b[39;49m,\n\u001b[1;32m     10\u001b[0m )\u001b[39m.\u001b[39madd_to(m)\n",
      "File \u001b[0;32m~/opt/anaconda3/envs/dev-env/lib/python3.10/site-packages/folium/features.py:1487\u001b[0m, in \u001b[0;36mChoropleth.__init__\u001b[0;34m(self, geo_data, data, columns, key_on, bins, fill_color, nan_fill_color, fill_opacity, nan_fill_opacity, line_color, line_weight, line_opacity, name, legend_name, overlay, control, show, topojson, smooth_factor, highlight, use_jenks, **kwargs)\u001b[0m\n\u001b[1;32m   1485\u001b[0m \u001b[39mif\u001b[39;00m color_data \u001b[39mis\u001b[39;00m \u001b[39mnot\u001b[39;00m \u001b[39mNone\u001b[39;00m \u001b[39mand\u001b[39;00m key_on \u001b[39mis\u001b[39;00m \u001b[39mnot\u001b[39;00m \u001b[39mNone\u001b[39;00m:\n\u001b[1;32m   1486\u001b[0m     real_values \u001b[39m=\u001b[39m np\u001b[39m.\u001b[39marray(\u001b[39mlist\u001b[39m(color_data\u001b[39m.\u001b[39mvalues()))\n\u001b[0;32m-> 1487\u001b[0m     real_values \u001b[39m=\u001b[39m real_values[\u001b[39m~\u001b[39mnp\u001b[39m.\u001b[39;49misnan(real_values)]\n\u001b[1;32m   1488\u001b[0m     \u001b[39mif\u001b[39;00m use_jenks:\n\u001b[1;32m   1489\u001b[0m         \u001b[39mfrom\u001b[39;00m \u001b[39mjenkspy\u001b[39;00m \u001b[39mimport\u001b[39;00m jenks_breaks\n",
      "\u001b[0;31mTypeError\u001b[0m: ufunc 'isnan' not supported for the input types, and the inputs could not be safely coerced to any supported types according to the casting rule ''safe''"
     ]
    }
   ],
   "source": [
    "folium.Choropleth(\n",
    "    geo_data=geofile.to_json(),\n",
    "    name=\"geometry\",\n",
    "    data=rdw,\n",
    "    columns=[\"postcode\", 'aantal'],\n",
    "    key_on=\"feature.properties.gem_name\",\n",
    "    fill_color=\"YlGn\",\n",
    "    fill_opacity=0.7,\n",
    "    line_opacity=.1,\n",
    ").add_to(m)"
   ]
  },
  {
   "cell_type": "code",
   "execution_count": null,
   "metadata": {},
   "outputs": [],
   "source": [
    "m"
   ]
  }
 ],
 "metadata": {
  "kernelspec": {
   "display_name": "Python 3",
   "language": "python",
   "name": "python3"
  },
  "language_info": {
   "codemirror_mode": {
    "name": "ipython",
    "version": 3
   },
   "file_extension": ".py",
   "mimetype": "text/x-python",
   "name": "python",
   "nbconvert_exporter": "python",
   "pygments_lexer": "ipython3",
   "version": "3.10.9"
  },
  "orig_nbformat": 4
 },
 "nbformat": 4,
 "nbformat_minor": 2
}
