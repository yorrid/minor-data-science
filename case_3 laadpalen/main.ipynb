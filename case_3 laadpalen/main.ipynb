{
 "cells": [
  {
   "cell_type": "code",
   "execution_count": null,
   "metadata": {},
   "outputs": [],
   "source": [
    "import requests\n",
    "import pandas as pd\n",
    "import numpy as np\n",
    "import plotly.express as px\n",
    "import folium\n",
    "import json\n",
    "import streamlit as st"
   ]
  },
  {
   "cell_type": "code",
   "execution_count": null,
   "metadata": {},
   "outputs": [],
   "source": [
    "df_laadpaaldata = pd.read_csv('laadpaaldata.csv')"
   ]
  },
  {
   "cell_type": "code",
   "execution_count": null,
   "metadata": {},
   "outputs": [],
   "source": [
    "###Inladen API - kijk naar country code en maxresults\n",
    "response = requests.get('https://api.openchargemap.io/v3/poi/?output=json&countrycode=NL&maxresults=1000&compact=true&verbose=false&key=772ba88b-50db-49f1-b9f1-933c6053edd3')\n",
    "response.status_code"
   ]
  },
  {
   "cell_type": "code",
   "execution_count": null,
   "metadata": {},
   "outputs": [],
   "source": [
    "###Omzetten naar dictionary\n",
    "json_lp = response.json()"
   ]
  },
  {
   "cell_type": "code",
   "execution_count": null,
   "metadata": {},
   "outputs": [],
   "source": [
    "###Dataframe bevat kolom die een list zijn. \n",
    "#Met json_normalize zet je de eerste kolom om naar losse kolommen\n",
    "opencharge = pd.json_normalize(json_lp)\n",
    "#Daarna nog handmatig kijken welke kolommen over zijn in dit geval Connections\n",
    "#Kijken naar eerst laadpaal op de locatie\n",
    "#Kan je uitpakken middels:\n",
    "df4 = pd.json_normalize(opencharge.Connections)\n",
    "df5 = pd.json_normalize(df4[0])\n",
    "df5.head()\n",
    "###Bestanden samenvoegen\n",
    "df_opencharge = pd.concat([opencharge, df5], axis=1)\n",
    "df_opencharge.head()"
   ]
  },
  {
   "cell_type": "code",
   "execution_count": null,
   "metadata": {},
   "outputs": [],
   "source": [
    "###Inladen API - kijk naar country code en maxresults\n",
    "response_ev = requests.get('https://opendata.rdw.nl/resource/8jni-y848.json')\n",
    "response_ev.status_code"
   ]
  },
  {
   "cell_type": "code",
   "execution_count": null,
   "metadata": {},
   "outputs": [],
   "source": [
    "###Omzetten naar dictionary\n",
    "json_ev = response_ev.json()"
   ]
  },
  {
   "cell_type": "code",
   "execution_count": null,
   "metadata": {},
   "outputs": [],
   "source": [
    "#build dataframe from json_ev\n",
    "df_ev = pd.DataFrame(json_ev)"
   ]
  },
  {
   "cell_type": "code",
   "execution_count": null,
   "metadata": {},
   "outputs": [],
   "source": [
    "df_opencharge.info()"
   ]
  },
  {
   "cell_type": "code",
   "execution_count": null,
   "metadata": {},
   "outputs": [],
   "source": [
    "df_opencharge.head()"
   ]
  },
  {
   "cell_type": "code",
   "execution_count": null,
   "metadata": {},
   "outputs": [],
   "source": [
    "df_ev.info()"
   ]
  },
  {
   "cell_type": "code",
   "execution_count": null,
   "metadata": {},
   "outputs": [],
   "source": [
    "df_ev"
   ]
  },
  {
   "cell_type": "code",
   "execution_count": null,
   "metadata": {},
   "outputs": [],
   "source": [
    "df_laadpaaldata.info()"
   ]
  },
  {
   "cell_type": "code",
   "execution_count": null,
   "metadata": {},
   "outputs": [],
   "source": [
    "df_laadpaaldata"
   ]
  },
  {
   "cell_type": "code",
   "execution_count": null,
   "metadata": {},
   "outputs": [],
   "source": [
    "df_opencharge.columns = df_opencharge.columns.str.replace('.', '_') \n",
    "df_opencharge.columns = df_opencharge.columns.str.replace(' ', '_')"
   ]
  },
  {
   "cell_type": "code",
   "execution_count": null,
   "metadata": {},
   "outputs": [],
   "source": [
    "fig = px.histogram(df_laadpaaldata, x='ConnectedTime', title='Time cars are connected to the chargers', labels={'ConnectedTime':'Connected Time (in minutes)'})\n",
    "fig.show()"
   ]
  },
  {
   "cell_type": "code",
   "execution_count": null,
   "metadata": {},
   "outputs": [],
   "source": [
    "fig = px.histogram(df_ev, x='brandstof_volgnummer', title='Verdeling brandstof volgnummers', labels={'brandstof_volgnummer':'Brandstof volgnummer'})\n",
    "fig.show()"
   ]
  },
  {
   "cell_type": "code",
   "execution_count": null,
   "metadata": {},
   "outputs": [],
   "source": [
    "fig = px.histogram(df_opencharge, x='IsRecentlyVerified', title='Ratio of verified and non varified chargers', color='IsRecentlyVerified',\n",
    "                                                                                                        labels={'IsRecentlyVerified':'Verified charger',\n",
    "                                                                                                                'count':'Number of chargers'})\n",
    "fig.show()"
   ]
  },
  {
   "cell_type": "code",
   "execution_count": 89,
   "metadata": {},
   "outputs": [],
   "source": [
    "df_opencharge = df_opencharge[df_opencharge['Quantity'].notna()]"
   ]
  },
  {
   "cell_type": "code",
   "execution_count": 91,
   "metadata": {},
   "outputs": [
    {
     "data": {
      "text/plain": [
       "15"
      ]
     },
     "execution_count": 91,
     "metadata": {},
     "output_type": "execute_result"
    }
   ],
   "source": [
    "df_opencharge['PowerKW'].isna().sum()"
   ]
  },
  {
   "cell_type": "code",
   "execution_count": null,
   "metadata": {},
   "outputs": [],
   "source": []
  }
 ],
 "metadata": {
  "kernelspec": {
   "display_name": "Python 3",
   "language": "python",
   "name": "python3"
  },
  "language_info": {
   "codemirror_mode": {
    "name": "ipython",
    "version": 3
   },
   "file_extension": ".py",
   "mimetype": "text/x-python",
   "name": "python",
   "nbconvert_exporter": "python",
   "pygments_lexer": "ipython3",
   "version": "3.10.9"
  },
  "orig_nbformat": 4
 },
 "nbformat": 4,
 "nbformat_minor": 2
}
