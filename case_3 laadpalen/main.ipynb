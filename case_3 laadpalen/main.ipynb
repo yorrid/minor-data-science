{
 "cells": [
  {
   "cell_type": "code",
   "execution_count": null,
   "metadata": {},
   "outputs": [],
   "source": [
    "import requests\n",
    "import pandas as pd\n",
    "import numpy as np\n",
    "import plotly.express as px\n",
    "import folium\n",
    "import json\n",
    "import streamlit as st"
   ]
  },
  {
   "cell_type": "code",
   "execution_count": null,
   "metadata": {},
   "outputs": [],
   "source": [
    "###Inladen API - kijk naar country code en maxresults\n",
    "response = requests.get('https://api.openchargemap.io/v3/poi?output=json&countrycode=NL&maxresults=100&compact=true&verbose=false&key=17194855-0114-467b-805a-489c9df1e25f')\n",
    "response.status_code"
   ]
  },
  {
   "cell_type": "code",
   "execution_count": null,
   "metadata": {},
   "outputs": [],
   "source": [
    "###Omzetten naar dictionary\n",
    "json = response.json()"
   ]
  },
  {
   "cell_type": "code",
   "execution_count": null,
   "metadata": {},
   "outputs": [],
   "source": [
    "###Dataframe bevat kolom die een list zijn. \n",
    "#Met json_normalize zet je de eerste kolom om naar losse kolommen\n",
    "Laadpalen = pd.json_normalize(json)\n",
    "#Daarna nog handmatig kijken welke kolommen over zijn in dit geval Connections\n",
    "#Kijken naar eerst laadpaal op de locatie\n",
    "#Kan je uitpakken middels:\n",
    "df4 = pd.json_normalize(Laadpalen.Connections)\n",
    "df5 = pd.json_normalize(df4[0])\n",
    "df5.head()\n",
    "###Bestanden samenvoegen\n",
    "Laadpalen = pd.concat([Laadpalen, df5], axis=1)\n",
    "Laadpalen.head()"
   ]
  },
  {
   "cell_type": "code",
   "execution_count": null,
   "metadata": {},
   "outputs": [],
   "source": [
    "Laadpalen.info()"
   ]
  }
 ],
 "metadata": {
  "kernelspec": {
   "display_name": "Python 3",
   "language": "python",
   "name": "python3"
  },
  "language_info": {
   "codemirror_mode": {
    "name": "ipython",
    "version": 3
   },
   "file_extension": ".py",
   "mimetype": "text/x-python",
   "name": "python",
   "nbconvert_exporter": "python",
   "pygments_lexer": "ipython3",
   "version": "3.10.9"
  },
  "orig_nbformat": 4
 },
 "nbformat": 4,
 "nbformat_minor": 2
}
