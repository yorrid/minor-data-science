{
 "cells": [
  {
   "cell_type": "code",
   "execution_count": 109,
   "metadata": {},
   "outputs": [],
   "source": [
    "import requests\n",
    "import pandas as pd\n",
    "import numpy as np\n",
    "import plotly.express as px\n",
    "from sodapy import Socrata\n",
    "import folium\n",
    "import json\n",
    "import scipy\n",
    "import plotly.figure_factory as ff\n",
    "import datetime\n",
    "import math"
   ]
  },
  {
   "cell_type": "code",
   "execution_count": null,
   "metadata": {},
   "outputs": [],
   "source": [
    "lpd = pd.read_csv('laadpaaldata.csv')"
   ]
  },
  {
   "cell_type": "code",
   "execution_count": null,
   "metadata": {},
   "outputs": [],
   "source": [
    "###Inladen API - kijk naar country code en maxresults\n",
    "response = requests.get('https://api.openchargemap.io/v3/poi/?output=json&countrycode=NL&maxresults=1000&compact=true&verbose=false&key=772ba88b-50db-49f1-b9f1-933c6053edd3')\n",
    "response.status_code"
   ]
  },
  {
   "cell_type": "code",
   "execution_count": null,
   "metadata": {},
   "outputs": [],
   "source": [
    "###Omzetten naar dictionary\n",
    "json_lp = response.json()"
   ]
  },
  {
   "cell_type": "code",
   "execution_count": null,
   "metadata": {},
   "outputs": [],
   "source": [
    "###Dataframe bevat kolom die een list zijn. \n",
    "#Met json_normalize zet je de eerste kolom om naar losse kolommen\n",
    "opencharge = pd.json_normalize(json_lp)\n",
    "#Daarna nog handmatig kijken welke kolommen over zijn in dit geval Connections\n",
    "#Kijken naar eerst laadpaal op de locatie\n",
    "#Kan je uitpakken middels:\n",
    "df4 = pd.json_normalize(opencharge.Connections)\n",
    "df5 = pd.json_normalize(df4[0])\n",
    "df5.head()\n",
    "###Bestanden samenvoegen\n",
    "ocm = pd.concat([opencharge, df5], axis=1)\n",
    "ocm.head()"
   ]
  },
  {
   "cell_type": "code",
   "execution_count": null,
   "metadata": {},
   "outputs": [],
   "source": [
    "# #RDW data inladen via api\n",
    "# client = Socrata(\"opendata.rdw.nl\", None)\n",
    "\n",
    "# results = client.get(\"8wbe-pu7d\", limit=50000)\n",
    "# rdw = pd.DataFrame.from_records(results)\n"
   ]
  },
  {
   "cell_type": "code",
   "execution_count": null,
   "metadata": {},
   "outputs": [],
   "source": [
    "rdw = pd.read_csv('fuel_count.csv')\n",
    "rdw.rename({'datum_eerste_toelating':'date_of_acceptance','benzine_count': 'gasoline_count', 'elektriciteit_count':'electric_count', 'waterstof_count':'hydrogen_count'}, inplace=True, axis=1)"
   ]
  },
  {
   "cell_type": "code",
   "execution_count": null,
   "metadata": {},
   "outputs": [],
   "source": [
    "ocm.info()"
   ]
  },
  {
   "cell_type": "code",
   "execution_count": null,
   "metadata": {},
   "outputs": [],
   "source": [
    "ocm.head()"
   ]
  },
  {
   "cell_type": "code",
   "execution_count": null,
   "metadata": {},
   "outputs": [],
   "source": [
    "lpd.info()"
   ]
  },
  {
   "cell_type": "code",
   "execution_count": null,
   "metadata": {},
   "outputs": [],
   "source": [
    "lpd"
   ]
  },
  {
   "cell_type": "code",
   "execution_count": null,
   "metadata": {},
   "outputs": [],
   "source": [
    "ocm.columns = ocm.columns.str.replace('.', '_') \n",
    "ocm.columns = ocm.columns.str.replace(' ', '_')\n",
    "\n",
    "ocm = ocm.loc[:,~ocm.columns.duplicated()].copy()\n",
    "ocm = ocm[ocm['Quantity'].notna()]\n",
    "ocm = ocm[ocm['NumberOfPoints'] != 0]\n",
    "ocm = ocm[ocm['AddressInfo_Latitude'] > 50]\n",
    "ocm = ocm.drop(columns=['Connections','AddressInfo_DistanceUnit', 'GeneralComments', 'AddressInfo_RelatedURL', 'UsageCost', 'AddressInfo_AddressLine2', 'AddressInfo_AccessComments', \n",
    "                        'AddressInfo_ContactTelephone1', 'AddressInfo_ContactEmail', 'AddressInfo_ContactTelephone2', 'OperatorsReference', 'DataProvidersReference',\n",
    "                        'Reference', 'Amps', 'Voltage', 'Comments'])\n",
    "ocm.columns = map(str.lower, ocm.columns)\n",
    "rdw.columns = map(str.lower, rdw.columns)\n",
    "lpd.columns = map(str.lower, lpd.columns)\n",
    "\n",
    "ocm['addressinfo_postcode'] = ocm['addressinfo_postcode'].str.replace('[a-zA-Z]', '')\n",
    "ocm['addressinfo_postcode'] = ocm['addressinfo_postcode'].str.replace(' ', '')\n"
   ]
  },
  {
   "cell_type": "code",
   "execution_count": null,
   "metadata": {},
   "outputs": [],
   "source": [
    "ocm['addressinfo_stateorprovince'].isna().sum()"
   ]
  },
  {
   "cell_type": "code",
   "execution_count": null,
   "metadata": {},
   "outputs": [],
   "source": [
    "m = folium.Map(location=[52.091684, 5.114055], zoom_start=7)\n"
   ]
  },
  {
   "cell_type": "code",
   "execution_count": null,
   "metadata": {},
   "outputs": [],
   "source": [
    "import geopandas as gpd\n",
    "import geojson"
   ]
  },
  {
   "cell_type": "code",
   "execution_count": null,
   "metadata": {},
   "outputs": [],
   "source": [
    "# r =  requests.get('https://data.opendatasoft.com/api/v2/catalog/datasets/georef-netherlands-postcode-pc4%40public/exports/geojson?limit=-1&offset=0&lang=nl&timezone=Europe%2FBerlin')"
   ]
  },
  {
   "cell_type": "code",
   "execution_count": null,
   "metadata": {},
   "outputs": [],
   "source": [
    "# geofile = gpd.read_file('https://data.opendatasoft.com/api/v2/catalog/datasets/georef-netherlands-postcode-pc4%40public/exports/geojson?limit=-1&offset=0&lang=nl&timezone=Europe%2FBerlin')"
   ]
  },
  {
   "cell_type": "code",
   "execution_count": null,
   "metadata": {},
   "outputs": [],
   "source": [
    "# geofile = r.json()"
   ]
  },
  {
   "cell_type": "code",
   "execution_count": null,
   "metadata": {},
   "outputs": [],
   "source": [
    "# geo_map = {}\n",
    "# for feature in geofile['features']:\n",
    "#     feature['id'] = feature['properties']['prov_name']\n",
    "#     geo_map[feature['properties']['prov_name']] = feature['id']"
   ]
  },
  {
   "cell_type": "code",
   "execution_count": null,
   "metadata": {},
   "outputs": [],
   "source": [
    "# ocm['geo_id'] = ocm['addressinfo_stateorprovince'].apply(lambda x: geo_map[x])"
   ]
  },
  {
   "cell_type": "code",
   "execution_count": null,
   "metadata": {},
   "outputs": [],
   "source": [
    "# folium.Choropleth(\n",
    "#     geo_data=geofile.to_json(),\n",
    "#     name=\"geometry\",\n",
    "#     data=rdw,\n",
    "#     columns=[\"postcode\", 'aantal'],\n",
    "#     key_on='feature.properties.pc4_code',\n",
    "#     fill_color=\"YlGn\",\n",
    "#     fill_opacity=0.7,\n",
    "#     line_opacity=.1,\n",
    "# ).add_to(m)"
   ]
  },
  {
   "cell_type": "code",
   "execution_count": null,
   "metadata": {},
   "outputs": [],
   "source": [
    "# fig = px.choropleth(merge, geojson=geofile, locations='addressinfo_stateorprovince', color='aantal',\n",
    "#                            color_continuous_scale=\"Viridis\",\n",
    "#                            range_color=(0, 12),                         \n",
    "#                            scope=\"europe\", )\n",
    "# fig.update_geos(fitbounds=\"locations\", visible=False)\n",
    "# fig.show()"
   ]
  },
  {
   "cell_type": "code",
   "execution_count": null,
   "metadata": {},
   "outputs": [],
   "source": [
    "lpd = lpd.loc[(lpd['chargetime'] >= 0)]\n",
    "lpd = lpd.loc[(lpd['connectedtime'] < 20)]"
   ]
  },
  {
   "cell_type": "code",
   "execution_count": null,
   "metadata": {},
   "outputs": [],
   "source": [
    "fig = px.histogram(data_frame=lpd, x='chargetime', color='chargetime', color_discrete_sequence=['indianred'])\n",
    "fig.update_layout({'title': {'text': 'Count of charging time'}})\n",
    "fig.update_layout({'xaxis': {'title': {'text': 'Charging time (hrs)'}}})\n",
    "fig.update_layout({'yaxis': {'title': {'text': 'Count'}}})\n",
    "fig.update_layout(showlegend=False)\n",
    "my_annotation = {'x': 2.4657452041318058, 'y': 192,'showarrow': True, 'ay': -200, 'ax':200, 'arrowhead': 3,'text': \"Mean/Average\",'font' : {'size': 10, 'color': 'black'}}\n",
    "my_annotation2 = {'x': 2.2, 'y': 192,'showarrow': True, 'ay': -150, 'ax':-50, 'arrowhead': 3,'text': \"Median\",'font' : {'size': 10, 'color': 'black'}}\n",
    "fig.update_layout({'annotations': [my_annotation, my_annotation2]})\n",
    "hist_data = [lpd['chargetime']]\n",
    "group_labels = ['Charge Time']"
   ]
  },
  {
   "cell_type": "code",
   "execution_count": null,
   "metadata": {},
   "outputs": [],
   "source": [
    "hist_data = [lpd['chargetime'], lpd['connectedtime']]\n",
    "group_labels = ['Charge Time', 'Connected Time']"
   ]
  },
  {
   "cell_type": "code",
   "execution_count": null,
   "metadata": {},
   "outputs": [],
   "source": [
    "cht_avg = lpd['chargetime'].mean()\n",
    "cht_median = lpd['chargetime'].median()\n",
    "ct_avg = lpd['connectedtime'].mean()\n",
    "ct_median = lpd['connectedtime'].median()"
   ]
  },
  {
   "cell_type": "code",
   "execution_count": null,
   "metadata": {},
   "outputs": [],
   "source": [
    "df = rdw.loc[(rdw['date_of_acceptance'] == '2010-01-01')]\n",
    "df"
   ]
  },
  {
   "cell_type": "code",
   "execution_count": null,
   "metadata": {},
   "outputs": [],
   "source": [
    "rdw['total'] = rdw['gasoline_count'] + rdw['electric_count'] + rdw['diesel_count'] + rdw['hydrogen_count'] + rdw['alcohol_count'] + rdw['lpg_count'] + rdw['cng_count'] + rdw['lng_count']"
   ]
  },
  {
   "cell_type": "code",
   "execution_count": null,
   "metadata": {},
   "outputs": [],
   "source": [
    "rdw['ratio_electric'] = rdw['electric_count'] / rdw['total'] * 100"
   ]
  },
  {
   "cell_type": "code",
   "execution_count": null,
   "metadata": {},
   "outputs": [],
   "source": [
    "rdw['non_electric'] = rdw['total'] - rdw['electric_count']"
   ]
  },
  {
   "cell_type": "code",
   "execution_count": null,
   "metadata": {},
   "outputs": [],
   "source": [
    "rdw['date_of_acceptance_y'] = pd.DatetimeIndex(rdw['date_of_acceptance']).year"
   ]
  },
  {
   "cell_type": "code",
   "execution_count": null,
   "metadata": {},
   "outputs": [],
   "source": [
    "rdw = rdw.loc[(rdw['date_of_acceptance'] >= '2009-12-01')]\n",
    "rdw = rdw.loc[(rdw['date_of_acceptance'] <= '2022-12-31')]"
   ]
  },
  {
   "cell_type": "code",
   "execution_count": null,
   "metadata": {},
   "outputs": [],
   "source": [
    "rdw['date_of_acceptance'] = pd.to_datetime(rdw['date_of_acceptance'])"
   ]
  },
  {
   "cell_type": "code",
   "execution_count": 126,
   "metadata": {},
   "outputs": [],
   "source": [
    "from sklearn.linear_model import LinearRegression\n",
    "from sklearn.model_selection import train_test_split\n",
    "import matplotlib.pyplot as plt\n",
    "\n",
    "X = pd.date_range(start='2010-01-01', end='2022-12-01', freq='MS')\n",
    "y = rdw['electric_count']\n",
    "\n",
    "X_train, X_test, y_train, y_test = train_test_split(rdw.date_of_acceptance_y, y)\n",
    "\n",
    "lr = LinearRegression()\n",
    "lr.fit(X_train.values.reshape(-1, 1), y_train.values)\n",
    "\n",
    "prediction = lr.predict(X_test.values.reshape(-1, 1))\n",
    "\n",
    "years = list(range(2023, 2051))\n",
    "\n",
    "df = pd.DataFrame(columns=['year', 'predicted_electric_count', 'predicted_non_electric_count', 'percentage'])\n",
    "pre_electric = []\n",
    "\n",
    "for year in years:\n",
    "    predicted = lr.predict(np.array([[year]]))[0]\n",
    "    # print(f'predicted {year} ratio: {lr.predict(np.array([[year]]))[0]}%')\n",
    "    pre_electric.append(predicted)\n",
    "    \n",
    "df['year'] = years\n",
    "df['predicted_electric_count'] = pre_electric"
   ]
  },
  {
   "cell_type": "code",
   "execution_count": 127,
   "metadata": {},
   "outputs": [],
   "source": [
    "y_non = rdw['non_electric']\n",
    "X_train, X_test, y_train, y_test = train_test_split(rdw.date_of_acceptance_y, y_non)\n",
    "\n",
    "lr = LinearRegression()\n",
    "lr.fit(X_train.values.reshape(-1, 1), y_train.values)\n",
    "\n",
    "prediction = lr.predict(X_test.values.reshape(-1, 1))\n",
    "\n",
    "pre_non_electric = []\n",
    "\n",
    "for year in years:\n",
    "    predicted = lr.predict(np.array([[year]]))[0]\n",
    "    # print(f'predicted {year} ratio: {lr.predict(np.array([[year]]))[0]}%')\n",
    "    pre_non_electric.append(predicted)\n",
    "\n",
    "\n",
    "df['predicted_non_electric_count'] = pre_non_electric"
   ]
  },
  {
   "cell_type": "code",
   "execution_count": 128,
   "metadata": {},
   "outputs": [],
   "source": [
    "df['percentage'] = df['predicted_electric_count'] / (df['predicted_electric_count'] + df['predicted_non_electric_count']) * 100"
   ]
  },
  {
   "cell_type": "code",
   "execution_count": 129,
   "metadata": {},
   "outputs": [
    {
     "data": {
      "text/html": [
       "<div>\n",
       "<style scoped>\n",
       "    .dataframe tbody tr th:only-of-type {\n",
       "        vertical-align: middle;\n",
       "    }\n",
       "\n",
       "    .dataframe tbody tr th {\n",
       "        vertical-align: top;\n",
       "    }\n",
       "\n",
       "    .dataframe thead th {\n",
       "        text-align: right;\n",
       "    }\n",
       "</style>\n",
       "<table border=\"1\" class=\"dataframe\">\n",
       "  <thead>\n",
       "    <tr style=\"text-align: right;\">\n",
       "      <th></th>\n",
       "      <th>year</th>\n",
       "      <th>predicted_electric_count</th>\n",
       "      <th>predicted_non_electric_count</th>\n",
       "      <th>percentage</th>\n",
       "    </tr>\n",
       "  </thead>\n",
       "  <tbody>\n",
       "    <tr>\n",
       "      <th>0</th>\n",
       "      <td>2023</td>\n",
       "      <td>18376.499752</td>\n",
       "      <td>41204.335146</td>\n",
       "      <td>30.842971</td>\n",
       "    </tr>\n",
       "    <tr>\n",
       "      <th>1</th>\n",
       "      <td>2024</td>\n",
       "      <td>19963.138673</td>\n",
       "      <td>39758.954581</td>\n",
       "      <td>33.426723</td>\n",
       "    </tr>\n",
       "    <tr>\n",
       "      <th>2</th>\n",
       "      <td>2025</td>\n",
       "      <td>21549.777594</td>\n",
       "      <td>38313.574016</td>\n",
       "      <td>35.998281</td>\n",
       "    </tr>\n",
       "    <tr>\n",
       "      <th>3</th>\n",
       "      <td>2026</td>\n",
       "      <td>23136.416515</td>\n",
       "      <td>36868.193451</td>\n",
       "      <td>38.557732</td>\n",
       "    </tr>\n",
       "    <tr>\n",
       "      <th>4</th>\n",
       "      <td>2027</td>\n",
       "      <td>24723.055436</td>\n",
       "      <td>35422.812886</td>\n",
       "      <td>41.105160</td>\n",
       "    </tr>\n",
       "    <tr>\n",
       "      <th>5</th>\n",
       "      <td>2028</td>\n",
       "      <td>26309.694357</td>\n",
       "      <td>33977.432321</td>\n",
       "      <td>43.640651</td>\n",
       "    </tr>\n",
       "    <tr>\n",
       "      <th>6</th>\n",
       "      <td>2029</td>\n",
       "      <td>27896.333278</td>\n",
       "      <td>32532.051756</td>\n",
       "      <td>46.164287</td>\n",
       "    </tr>\n",
       "    <tr>\n",
       "      <th>7</th>\n",
       "      <td>2030</td>\n",
       "      <td>29482.972199</td>\n",
       "      <td>31086.671191</td>\n",
       "      <td>48.676153</td>\n",
       "    </tr>\n",
       "    <tr>\n",
       "      <th>8</th>\n",
       "      <td>2031</td>\n",
       "      <td>31069.611120</td>\n",
       "      <td>29641.290626</td>\n",
       "      <td>51.176329</td>\n",
       "    </tr>\n",
       "    <tr>\n",
       "      <th>9</th>\n",
       "      <td>2032</td>\n",
       "      <td>32656.250041</td>\n",
       "      <td>28195.910062</td>\n",
       "      <td>53.664899</td>\n",
       "    </tr>\n",
       "    <tr>\n",
       "      <th>10</th>\n",
       "      <td>2033</td>\n",
       "      <td>34242.888962</td>\n",
       "      <td>26750.529497</td>\n",
       "      <td>56.141941</td>\n",
       "    </tr>\n",
       "    <tr>\n",
       "      <th>11</th>\n",
       "      <td>2034</td>\n",
       "      <td>35829.527884</td>\n",
       "      <td>25305.148932</td>\n",
       "      <td>58.607536</td>\n",
       "    </tr>\n",
       "    <tr>\n",
       "      <th>12</th>\n",
       "      <td>2035</td>\n",
       "      <td>37416.166805</td>\n",
       "      <td>23859.768367</td>\n",
       "      <td>61.061764</td>\n",
       "    </tr>\n",
       "    <tr>\n",
       "      <th>13</th>\n",
       "      <td>2036</td>\n",
       "      <td>39002.805726</td>\n",
       "      <td>22414.387802</td>\n",
       "      <td>63.504702</td>\n",
       "    </tr>\n",
       "    <tr>\n",
       "      <th>14</th>\n",
       "      <td>2037</td>\n",
       "      <td>40589.444647</td>\n",
       "      <td>20969.007237</td>\n",
       "      <td>65.936429</td>\n",
       "    </tr>\n",
       "    <tr>\n",
       "      <th>15</th>\n",
       "      <td>2038</td>\n",
       "      <td>42176.083568</td>\n",
       "      <td>19523.626672</td>\n",
       "      <td>68.357020</td>\n",
       "    </tr>\n",
       "    <tr>\n",
       "      <th>16</th>\n",
       "      <td>2039</td>\n",
       "      <td>43762.722489</td>\n",
       "      <td>18078.246107</td>\n",
       "      <td>70.766554</td>\n",
       "    </tr>\n",
       "    <tr>\n",
       "      <th>17</th>\n",
       "      <td>2040</td>\n",
       "      <td>45349.361410</td>\n",
       "      <td>16632.865542</td>\n",
       "      <td>73.165105</td>\n",
       "    </tr>\n",
       "    <tr>\n",
       "      <th>18</th>\n",
       "      <td>2041</td>\n",
       "      <td>46936.000331</td>\n",
       "      <td>15187.484977</td>\n",
       "      <td>75.552748</td>\n",
       "    </tr>\n",
       "    <tr>\n",
       "      <th>19</th>\n",
       "      <td>2042</td>\n",
       "      <td>48522.639252</td>\n",
       "      <td>13742.104413</td>\n",
       "      <td>77.929558</td>\n",
       "    </tr>\n",
       "    <tr>\n",
       "      <th>20</th>\n",
       "      <td>2043</td>\n",
       "      <td>50109.278173</td>\n",
       "      <td>12296.723848</td>\n",
       "      <td>80.295607</td>\n",
       "    </tr>\n",
       "    <tr>\n",
       "      <th>21</th>\n",
       "      <td>2044</td>\n",
       "      <td>51695.917094</td>\n",
       "      <td>10851.343283</td>\n",
       "      <td>82.650969</td>\n",
       "    </tr>\n",
       "    <tr>\n",
       "      <th>22</th>\n",
       "      <td>2045</td>\n",
       "      <td>53282.556015</td>\n",
       "      <td>9405.962718</td>\n",
       "      <td>84.995717</td>\n",
       "    </tr>\n",
       "    <tr>\n",
       "      <th>23</th>\n",
       "      <td>2046</td>\n",
       "      <td>54869.194936</td>\n",
       "      <td>7960.582153</td>\n",
       "      <td>87.329921</td>\n",
       "    </tr>\n",
       "    <tr>\n",
       "      <th>24</th>\n",
       "      <td>2047</td>\n",
       "      <td>56455.833857</td>\n",
       "      <td>6515.201588</td>\n",
       "      <td>89.653653</td>\n",
       "    </tr>\n",
       "    <tr>\n",
       "      <th>25</th>\n",
       "      <td>2048</td>\n",
       "      <td>58042.472778</td>\n",
       "      <td>5069.821023</td>\n",
       "      <td>91.966983</td>\n",
       "    </tr>\n",
       "    <tr>\n",
       "      <th>26</th>\n",
       "      <td>2049</td>\n",
       "      <td>59629.111699</td>\n",
       "      <td>3624.440458</td>\n",
       "      <td>94.269981</td>\n",
       "    </tr>\n",
       "    <tr>\n",
       "      <th>27</th>\n",
       "      <td>2050</td>\n",
       "      <td>61215.750621</td>\n",
       "      <td>2179.059893</td>\n",
       "      <td>96.562716</td>\n",
       "    </tr>\n",
       "  </tbody>\n",
       "</table>\n",
       "</div>"
      ],
      "text/plain": [
       "    year  predicted_electric_count  predicted_non_electric_count  percentage\n",
       "0   2023              18376.499752                  41204.335146   30.842971\n",
       "1   2024              19963.138673                  39758.954581   33.426723\n",
       "2   2025              21549.777594                  38313.574016   35.998281\n",
       "3   2026              23136.416515                  36868.193451   38.557732\n",
       "4   2027              24723.055436                  35422.812886   41.105160\n",
       "5   2028              26309.694357                  33977.432321   43.640651\n",
       "6   2029              27896.333278                  32532.051756   46.164287\n",
       "7   2030              29482.972199                  31086.671191   48.676153\n",
       "8   2031              31069.611120                  29641.290626   51.176329\n",
       "9   2032              32656.250041                  28195.910062   53.664899\n",
       "10  2033              34242.888962                  26750.529497   56.141941\n",
       "11  2034              35829.527884                  25305.148932   58.607536\n",
       "12  2035              37416.166805                  23859.768367   61.061764\n",
       "13  2036              39002.805726                  22414.387802   63.504702\n",
       "14  2037              40589.444647                  20969.007237   65.936429\n",
       "15  2038              42176.083568                  19523.626672   68.357020\n",
       "16  2039              43762.722489                  18078.246107   70.766554\n",
       "17  2040              45349.361410                  16632.865542   73.165105\n",
       "18  2041              46936.000331                  15187.484977   75.552748\n",
       "19  2042              48522.639252                  13742.104413   77.929558\n",
       "20  2043              50109.278173                  12296.723848   80.295607\n",
       "21  2044              51695.917094                  10851.343283   82.650969\n",
       "22  2045              53282.556015                   9405.962718   84.995717\n",
       "23  2046              54869.194936                   7960.582153   87.329921\n",
       "24  2047              56455.833857                   6515.201588   89.653653\n",
       "25  2048              58042.472778                   5069.821023   91.966983\n",
       "26  2049              59629.111699                   3624.440458   94.269981\n",
       "27  2050              61215.750621                   2179.059893   96.562716"
      ]
     },
     "execution_count": 129,
     "metadata": {},
     "output_type": "execute_result"
    }
   ],
   "source": [
    "df"
   ]
  },
  {
   "cell_type": "code",
   "execution_count": 131,
   "metadata": {},
   "outputs": [
    {
     "data": {
      "application/vnd.plotly.v1+json": {
       "config": {
        "plotlyServerURL": "https://plot.ly"
       },
       "data": [
        {
         "hovertemplate": "year=%{x}<br>percentage=%{y}<extra></extra>",
         "legendgroup": "",
         "line": {
          "color": "#636efa",
          "dash": "solid"
         },
         "marker": {
          "symbol": "circle"
         },
         "mode": "lines",
         "name": "",
         "orientation": "v",
         "showlegend": false,
         "type": "scatter",
         "x": [
          2023,
          2024,
          2025,
          2026,
          2027,
          2028,
          2029,
          2030,
          2031,
          2032,
          2033,
          2034,
          2035,
          2036,
          2037,
          2038,
          2039,
          2040,
          2041,
          2042,
          2043,
          2044,
          2045,
          2046,
          2047,
          2048,
          2049,
          2050
         ],
         "xaxis": "x",
         "y": [
          30.842971206133164,
          33.42672298521808,
          35.99828110927892,
          38.557731694482115,
          41.10516004798563,
          43.640650677417874,
          46.164287300220835,
          48.67615285286512,
          51.17632949993671,
          53.66489864309384,
          56.14194092990249,
          58.60753626254983,
          61.06176380643327,
          63.504701998634616,
          65.93642855627789,
          68.35702048476757,
          70.76655408592086,
          73.16510496598254,
          75.55274804353303,
          77.92955755729164,
          80.29560707380737,
          82.65096949505067,
          84.99571706590307,
          87.32992138153999,
          89.65365339471975,
          91.96698342297495,
          94.26998115570136,
          96.56271566115815
         ],
         "yaxis": "y"
        }
       ],
       "layout": {
        "legend": {
         "tracegroupgap": 0
        },
        "template": {
         "data": {
          "bar": [
           {
            "error_x": {
             "color": "#2a3f5f"
            },
            "error_y": {
             "color": "#2a3f5f"
            },
            "marker": {
             "line": {
              "color": "#E5ECF6",
              "width": 0.5
             },
             "pattern": {
              "fillmode": "overlay",
              "size": 10,
              "solidity": 0.2
             }
            },
            "type": "bar"
           }
          ],
          "barpolar": [
           {
            "marker": {
             "line": {
              "color": "#E5ECF6",
              "width": 0.5
             },
             "pattern": {
              "fillmode": "overlay",
              "size": 10,
              "solidity": 0.2
             }
            },
            "type": "barpolar"
           }
          ],
          "carpet": [
           {
            "aaxis": {
             "endlinecolor": "#2a3f5f",
             "gridcolor": "white",
             "linecolor": "white",
             "minorgridcolor": "white",
             "startlinecolor": "#2a3f5f"
            },
            "baxis": {
             "endlinecolor": "#2a3f5f",
             "gridcolor": "white",
             "linecolor": "white",
             "minorgridcolor": "white",
             "startlinecolor": "#2a3f5f"
            },
            "type": "carpet"
           }
          ],
          "choropleth": [
           {
            "colorbar": {
             "outlinewidth": 0,
             "ticks": ""
            },
            "type": "choropleth"
           }
          ],
          "contour": [
           {
            "colorbar": {
             "outlinewidth": 0,
             "ticks": ""
            },
            "colorscale": [
             [
              0,
              "#0d0887"
             ],
             [
              0.1111111111111111,
              "#46039f"
             ],
             [
              0.2222222222222222,
              "#7201a8"
             ],
             [
              0.3333333333333333,
              "#9c179e"
             ],
             [
              0.4444444444444444,
              "#bd3786"
             ],
             [
              0.5555555555555556,
              "#d8576b"
             ],
             [
              0.6666666666666666,
              "#ed7953"
             ],
             [
              0.7777777777777778,
              "#fb9f3a"
             ],
             [
              0.8888888888888888,
              "#fdca26"
             ],
             [
              1,
              "#f0f921"
             ]
            ],
            "type": "contour"
           }
          ],
          "contourcarpet": [
           {
            "colorbar": {
             "outlinewidth": 0,
             "ticks": ""
            },
            "type": "contourcarpet"
           }
          ],
          "heatmap": [
           {
            "colorbar": {
             "outlinewidth": 0,
             "ticks": ""
            },
            "colorscale": [
             [
              0,
              "#0d0887"
             ],
             [
              0.1111111111111111,
              "#46039f"
             ],
             [
              0.2222222222222222,
              "#7201a8"
             ],
             [
              0.3333333333333333,
              "#9c179e"
             ],
             [
              0.4444444444444444,
              "#bd3786"
             ],
             [
              0.5555555555555556,
              "#d8576b"
             ],
             [
              0.6666666666666666,
              "#ed7953"
             ],
             [
              0.7777777777777778,
              "#fb9f3a"
             ],
             [
              0.8888888888888888,
              "#fdca26"
             ],
             [
              1,
              "#f0f921"
             ]
            ],
            "type": "heatmap"
           }
          ],
          "heatmapgl": [
           {
            "colorbar": {
             "outlinewidth": 0,
             "ticks": ""
            },
            "colorscale": [
             [
              0,
              "#0d0887"
             ],
             [
              0.1111111111111111,
              "#46039f"
             ],
             [
              0.2222222222222222,
              "#7201a8"
             ],
             [
              0.3333333333333333,
              "#9c179e"
             ],
             [
              0.4444444444444444,
              "#bd3786"
             ],
             [
              0.5555555555555556,
              "#d8576b"
             ],
             [
              0.6666666666666666,
              "#ed7953"
             ],
             [
              0.7777777777777778,
              "#fb9f3a"
             ],
             [
              0.8888888888888888,
              "#fdca26"
             ],
             [
              1,
              "#f0f921"
             ]
            ],
            "type": "heatmapgl"
           }
          ],
          "histogram": [
           {
            "marker": {
             "pattern": {
              "fillmode": "overlay",
              "size": 10,
              "solidity": 0.2
             }
            },
            "type": "histogram"
           }
          ],
          "histogram2d": [
           {
            "colorbar": {
             "outlinewidth": 0,
             "ticks": ""
            },
            "colorscale": [
             [
              0,
              "#0d0887"
             ],
             [
              0.1111111111111111,
              "#46039f"
             ],
             [
              0.2222222222222222,
              "#7201a8"
             ],
             [
              0.3333333333333333,
              "#9c179e"
             ],
             [
              0.4444444444444444,
              "#bd3786"
             ],
             [
              0.5555555555555556,
              "#d8576b"
             ],
             [
              0.6666666666666666,
              "#ed7953"
             ],
             [
              0.7777777777777778,
              "#fb9f3a"
             ],
             [
              0.8888888888888888,
              "#fdca26"
             ],
             [
              1,
              "#f0f921"
             ]
            ],
            "type": "histogram2d"
           }
          ],
          "histogram2dcontour": [
           {
            "colorbar": {
             "outlinewidth": 0,
             "ticks": ""
            },
            "colorscale": [
             [
              0,
              "#0d0887"
             ],
             [
              0.1111111111111111,
              "#46039f"
             ],
             [
              0.2222222222222222,
              "#7201a8"
             ],
             [
              0.3333333333333333,
              "#9c179e"
             ],
             [
              0.4444444444444444,
              "#bd3786"
             ],
             [
              0.5555555555555556,
              "#d8576b"
             ],
             [
              0.6666666666666666,
              "#ed7953"
             ],
             [
              0.7777777777777778,
              "#fb9f3a"
             ],
             [
              0.8888888888888888,
              "#fdca26"
             ],
             [
              1,
              "#f0f921"
             ]
            ],
            "type": "histogram2dcontour"
           }
          ],
          "mesh3d": [
           {
            "colorbar": {
             "outlinewidth": 0,
             "ticks": ""
            },
            "type": "mesh3d"
           }
          ],
          "parcoords": [
           {
            "line": {
             "colorbar": {
              "outlinewidth": 0,
              "ticks": ""
             }
            },
            "type": "parcoords"
           }
          ],
          "pie": [
           {
            "automargin": true,
            "type": "pie"
           }
          ],
          "scatter": [
           {
            "fillpattern": {
             "fillmode": "overlay",
             "size": 10,
             "solidity": 0.2
            },
            "type": "scatter"
           }
          ],
          "scatter3d": [
           {
            "line": {
             "colorbar": {
              "outlinewidth": 0,
              "ticks": ""
             }
            },
            "marker": {
             "colorbar": {
              "outlinewidth": 0,
              "ticks": ""
             }
            },
            "type": "scatter3d"
           }
          ],
          "scattercarpet": [
           {
            "marker": {
             "colorbar": {
              "outlinewidth": 0,
              "ticks": ""
             }
            },
            "type": "scattercarpet"
           }
          ],
          "scattergeo": [
           {
            "marker": {
             "colorbar": {
              "outlinewidth": 0,
              "ticks": ""
             }
            },
            "type": "scattergeo"
           }
          ],
          "scattergl": [
           {
            "marker": {
             "colorbar": {
              "outlinewidth": 0,
              "ticks": ""
             }
            },
            "type": "scattergl"
           }
          ],
          "scattermapbox": [
           {
            "marker": {
             "colorbar": {
              "outlinewidth": 0,
              "ticks": ""
             }
            },
            "type": "scattermapbox"
           }
          ],
          "scatterpolar": [
           {
            "marker": {
             "colorbar": {
              "outlinewidth": 0,
              "ticks": ""
             }
            },
            "type": "scatterpolar"
           }
          ],
          "scatterpolargl": [
           {
            "marker": {
             "colorbar": {
              "outlinewidth": 0,
              "ticks": ""
             }
            },
            "type": "scatterpolargl"
           }
          ],
          "scatterternary": [
           {
            "marker": {
             "colorbar": {
              "outlinewidth": 0,
              "ticks": ""
             }
            },
            "type": "scatterternary"
           }
          ],
          "surface": [
           {
            "colorbar": {
             "outlinewidth": 0,
             "ticks": ""
            },
            "colorscale": [
             [
              0,
              "#0d0887"
             ],
             [
              0.1111111111111111,
              "#46039f"
             ],
             [
              0.2222222222222222,
              "#7201a8"
             ],
             [
              0.3333333333333333,
              "#9c179e"
             ],
             [
              0.4444444444444444,
              "#bd3786"
             ],
             [
              0.5555555555555556,
              "#d8576b"
             ],
             [
              0.6666666666666666,
              "#ed7953"
             ],
             [
              0.7777777777777778,
              "#fb9f3a"
             ],
             [
              0.8888888888888888,
              "#fdca26"
             ],
             [
              1,
              "#f0f921"
             ]
            ],
            "type": "surface"
           }
          ],
          "table": [
           {
            "cells": {
             "fill": {
              "color": "#EBF0F8"
             },
             "line": {
              "color": "white"
             }
            },
            "header": {
             "fill": {
              "color": "#C8D4E3"
             },
             "line": {
              "color": "white"
             }
            },
            "type": "table"
           }
          ]
         },
         "layout": {
          "annotationdefaults": {
           "arrowcolor": "#2a3f5f",
           "arrowhead": 0,
           "arrowwidth": 1
          },
          "autotypenumbers": "strict",
          "coloraxis": {
           "colorbar": {
            "outlinewidth": 0,
            "ticks": ""
           }
          },
          "colorscale": {
           "diverging": [
            [
             0,
             "#8e0152"
            ],
            [
             0.1,
             "#c51b7d"
            ],
            [
             0.2,
             "#de77ae"
            ],
            [
             0.3,
             "#f1b6da"
            ],
            [
             0.4,
             "#fde0ef"
            ],
            [
             0.5,
             "#f7f7f7"
            ],
            [
             0.6,
             "#e6f5d0"
            ],
            [
             0.7,
             "#b8e186"
            ],
            [
             0.8,
             "#7fbc41"
            ],
            [
             0.9,
             "#4d9221"
            ],
            [
             1,
             "#276419"
            ]
           ],
           "sequential": [
            [
             0,
             "#0d0887"
            ],
            [
             0.1111111111111111,
             "#46039f"
            ],
            [
             0.2222222222222222,
             "#7201a8"
            ],
            [
             0.3333333333333333,
             "#9c179e"
            ],
            [
             0.4444444444444444,
             "#bd3786"
            ],
            [
             0.5555555555555556,
             "#d8576b"
            ],
            [
             0.6666666666666666,
             "#ed7953"
            ],
            [
             0.7777777777777778,
             "#fb9f3a"
            ],
            [
             0.8888888888888888,
             "#fdca26"
            ],
            [
             1,
             "#f0f921"
            ]
           ],
           "sequentialminus": [
            [
             0,
             "#0d0887"
            ],
            [
             0.1111111111111111,
             "#46039f"
            ],
            [
             0.2222222222222222,
             "#7201a8"
            ],
            [
             0.3333333333333333,
             "#9c179e"
            ],
            [
             0.4444444444444444,
             "#bd3786"
            ],
            [
             0.5555555555555556,
             "#d8576b"
            ],
            [
             0.6666666666666666,
             "#ed7953"
            ],
            [
             0.7777777777777778,
             "#fb9f3a"
            ],
            [
             0.8888888888888888,
             "#fdca26"
            ],
            [
             1,
             "#f0f921"
            ]
           ]
          },
          "colorway": [
           "#636efa",
           "#EF553B",
           "#00cc96",
           "#ab63fa",
           "#FFA15A",
           "#19d3f3",
           "#FF6692",
           "#B6E880",
           "#FF97FF",
           "#FECB52"
          ],
          "font": {
           "color": "#2a3f5f"
          },
          "geo": {
           "bgcolor": "white",
           "lakecolor": "white",
           "landcolor": "#E5ECF6",
           "showlakes": true,
           "showland": true,
           "subunitcolor": "white"
          },
          "hoverlabel": {
           "align": "left"
          },
          "hovermode": "closest",
          "mapbox": {
           "style": "light"
          },
          "paper_bgcolor": "white",
          "plot_bgcolor": "#E5ECF6",
          "polar": {
           "angularaxis": {
            "gridcolor": "white",
            "linecolor": "white",
            "ticks": ""
           },
           "bgcolor": "#E5ECF6",
           "radialaxis": {
            "gridcolor": "white",
            "linecolor": "white",
            "ticks": ""
           }
          },
          "scene": {
           "xaxis": {
            "backgroundcolor": "#E5ECF6",
            "gridcolor": "white",
            "gridwidth": 2,
            "linecolor": "white",
            "showbackground": true,
            "ticks": "",
            "zerolinecolor": "white"
           },
           "yaxis": {
            "backgroundcolor": "#E5ECF6",
            "gridcolor": "white",
            "gridwidth": 2,
            "linecolor": "white",
            "showbackground": true,
            "ticks": "",
            "zerolinecolor": "white"
           },
           "zaxis": {
            "backgroundcolor": "#E5ECF6",
            "gridcolor": "white",
            "gridwidth": 2,
            "linecolor": "white",
            "showbackground": true,
            "ticks": "",
            "zerolinecolor": "white"
           }
          },
          "shapedefaults": {
           "line": {
            "color": "#2a3f5f"
           }
          },
          "ternary": {
           "aaxis": {
            "gridcolor": "white",
            "linecolor": "white",
            "ticks": ""
           },
           "baxis": {
            "gridcolor": "white",
            "linecolor": "white",
            "ticks": ""
           },
           "bgcolor": "#E5ECF6",
           "caxis": {
            "gridcolor": "white",
            "linecolor": "white",
            "ticks": ""
           }
          },
          "title": {
           "x": 0.05
          },
          "xaxis": {
           "automargin": true,
           "gridcolor": "white",
           "linecolor": "white",
           "ticks": "",
           "title": {
            "standoff": 15
           },
           "zerolinecolor": "white",
           "zerolinewidth": 2
          },
          "yaxis": {
           "automargin": true,
           "gridcolor": "white",
           "linecolor": "white",
           "ticks": "",
           "title": {
            "standoff": 15
           },
           "zerolinecolor": "white",
           "zerolinewidth": 2
          }
         }
        },
        "title": {
         "text": "Percentage of electric cars in the Netherlands"
        },
        "xaxis": {
         "anchor": "y",
         "domain": [
          0,
          1
         ],
         "title": {
          "text": "year"
         }
        },
        "yaxis": {
         "anchor": "x",
         "domain": [
          0,
          1
         ],
         "title": {
          "text": "percentage"
         },
         "type": "log"
        }
       }
      }
     },
     "metadata": {},
     "output_type": "display_data"
    }
   ],
   "source": [
    "px.line(df, x='year', y='percentage', title='Percentage of electric cars in the Netherlands', log_y=True)"
   ]
  }
 ],
 "metadata": {
  "kernelspec": {
   "display_name": "Python 3",
   "language": "python",
   "name": "python3"
  },
  "language_info": {
   "codemirror_mode": {
    "name": "ipython",
    "version": 3
   },
   "file_extension": ".py",
   "mimetype": "text/x-python",
   "name": "python",
   "nbconvert_exporter": "python",
   "pygments_lexer": "ipython3",
   "version": "3.10.9"
  },
  "orig_nbformat": 4
 },
 "nbformat": 4,
 "nbformat_minor": 2
}
