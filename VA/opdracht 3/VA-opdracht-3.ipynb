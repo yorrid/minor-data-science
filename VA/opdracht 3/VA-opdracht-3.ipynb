{
 "cells": [
  {
   "cell_type": "markdown",
   "metadata": {},
   "source": [
    "# VA 2022-2023 sem-2 Inleveropdracht 3"
   ]
  },
  {
   "cell_type": "markdown",
   "metadata": {},
   "source": [
    "Vul je naam in:"
   ]
  },
  {
   "cell_type": "markdown",
   "metadata": {},
   "source": [
    "## Deadline"
   ]
  },
  {
   "cell_type": "markdown",
   "metadata": {},
   "source": [
    "De deadline voor deze opdracht is: "
   ]
  },
  {
   "cell_type": "markdown",
   "metadata": {},
   "source": [
    "# Deel 1 - Introductie Folium"
   ]
  },
  {
   "cell_type": "markdown",
   "metadata": {},
   "source": [
    "## Onderdeel 1"
   ]
  },
  {
   "cell_type": "markdown",
   "metadata": {},
   "source": [
    "We gaan een kaart maken met behulp van `folium`. Folium is een library die gebruikt wordt voor het visualiseren van geospatiale gegevens. Het is eenvoudig te gebruiken en toch een krachtige library. Informatie over folium kan je bijv. vinden op https://python-visualization.github.io/folium/modules.html. Hieronder is al een voorbeeld gemaakt. De locatie Utrecht centrum is weergegeven als een marker. De onderstaande code produceert een kaart (inclusief een marker), maar is nog niet compleet. Voldoe aan de volgende eisen:\n",
    "\n",
    "- Gebruik een functie om Nederland direct volledig in beeld te krijgen.\n",
    "- Kies zelf nog twee locaties in Nederland en geef de locaties als markers weer met de bijbehorende popup.\n",
    "- Pas de code aan en maak de popup tekst dikgedrukt."
   ]
  },
  {
   "cell_type": "code",
   "execution_count": null,
   "metadata": {},
   "outputs": [],
   "source": [
    "import folium\n",
    "\n",
    "# Wanneer je een error krijgt, installeer dan folium:\n",
    "# !pip install folium"
   ]
  },
  {
   "cell_type": "code",
   "execution_count": null,
   "metadata": {
    "scrolled": true
   },
   "outputs": [],
   "source": [
    "m = folium.Map(location=[52.0893191, 5.1101691])\n",
    "\n",
    "folium.Marker(location=[52.0893191, 5.1101691],popup='Utrecht centrum',tooltip='Klik hier om de popup te zien').add_to(m)\n",
    "\n",
    "m"
   ]
  },
  {
   "cell_type": "markdown",
   "metadata": {},
   "source": [
    "## Onderdeel 2"
   ]
  },
  {
   "cell_type": "markdown",
   "metadata": {},
   "source": [
    "We gaan nu meerdere kaartlagen toevoegen. De standaard kaartlaag is van openstreetmap.\n",
    "\n",
    "Kopieer de code uit onderdeel 1 en vul de code aan. Zoek op google naar een alternatieve kaartlaag naar jouw smaak zonder kleur en stel hem in als de standaard kaartlaag. Je zou deze site http://leaflet-extras.github.io/leaflet-providers/preview/ kunnen gebruiken (informatie over tiles kan je vinden op https://python-visualization.github.io/folium/modules.html). Voeg nog drie unieke kaartlagen en een layer control toe, zodat je in de kaart omgeving de kaartlaag kan selecteren. Zorg dat één van je kaartlagen geen kleur heeft."
   ]
  },
  {
   "cell_type": "code",
   "execution_count": null,
   "metadata": {},
   "outputs": [],
   "source": []
  },
  {
   "cell_type": "markdown",
   "metadata": {},
   "source": [
    "# Deel 2 - NO2 metingen"
   ]
  },
  {
   "cell_type": "markdown",
   "metadata": {},
   "source": [
    "Voor dit deel gaan we kijken naar NO2 metingen in Amsterdam. We hebben de dataset NO2. Deze dataset bevat metingen van NO2 op verschillende locaties vanaf 2010 t/m 2019."
   ]
  },
  {
   "cell_type": "code",
   "execution_count": null,
   "metadata": {},
   "outputs": [],
   "source": [
    "import pandas as pd\n",
    "\n",
    "NO2 = pd.read_csv('NO2_JAREN.csv', sep=\";\", decimal=',')\n",
    "\n",
    "NO2.head()"
   ]
  },
  {
   "cell_type": "code",
   "execution_count": null,
   "metadata": {},
   "outputs": [],
   "source": [
    "NO2.info()"
   ]
  },
  {
   "cell_type": "code",
   "execution_count": null,
   "metadata": {},
   "outputs": [],
   "source": [
    "NO2.describe()"
   ]
  },
  {
   "cell_type": "markdown",
   "metadata": {},
   "source": [
    "## Onderdeel 3"
   ]
  },
  {
   "cell_type": "markdown",
   "metadata": {},
   "source": [
    "In deze opdracht gaan we toewerken naar het verwerken van de data van de NO2-metingen op de kaart. De data willen we graag in kleur. Hiervoor gaan we een geschikt kleurenpalet samenstellen. Defineer een functie `color_producer` die voor elke type meetpunt, een kleur toewijst. Er is hieronder al een begin gemaakt. Je kunt de site https://matplotlib.org/3.1.0/gallery/color/named_colors.html gebruiken voor de verschillende kleurnamen. Bij het uitvoeren van de functie color_producer(NO2.Type_meetpunt[0]), komt daar een kleurnaam uit."
   ]
  },
  {
   "cell_type": "code",
   "execution_count": null,
   "metadata": {},
   "outputs": [],
   "source": [
    "NO2.Type_meetpunt.unique()"
   ]
  },
  {
   "cell_type": "code",
   "execution_count": null,
   "metadata": {},
   "outputs": [],
   "source": [
    "# def color_producer(type):\n",
    "#    if type ..."
   ]
  },
  {
   "cell_type": "code",
   "execution_count": null,
   "metadata": {},
   "outputs": [],
   "source": [
    "# Hieruit zou een kleurnaam moeten komen\n",
    "color_producer(NO2.Type_meetpunt[0])\n"
   ]
  },
  {
   "cell_type": "markdown",
   "metadata": {},
   "source": [
    "## Onderdeel 4"
   ]
  },
  {
   "cell_type": "markdown",
   "metadata": {},
   "source": [
    "Maak nu een kaart van NO2 metingen in Amsterdam van het jaar 2010 met de volgende eisen:\n",
    "\n",
    "- De kaartlaag is zelf niet in kleur.\n",
    "- De locaties (een regel in het dataframe) worden door cirkelvormige markeringen weergegeven.\n",
    "- Als je in de kaart op een meetpunt klikt wordt het adres zichtbaar\n",
    "- De kleur van het weergegeven meetpunt wordt bepaald door de functie color_producer() afhankelijk van de variabele Type_meetpunt.\n",
    "- Je plaatst een legenda met correcte titel en labels, je gebruikt immers kleuren die een uitleg nodig hebben.\n"
   ]
  },
  {
   "cell_type": "code",
   "execution_count": null,
   "metadata": {},
   "outputs": [],
   "source": [
    "## selecteer eerst alleen data van het jaar 2010\n",
    "...\n",
    "\n",
    "# Maak een kaart met die data\n",
    "\n",
    "m = folium.Map(zoom_start = 12)\n",
    "\n",
    "\n",
    "# Voer eerst de code in de cel hieronder uit, voordat de functie add_categorical_legend werkt\n",
    "m = add_categorical_legend(m, 'title',\n",
    "                             colors = [],\n",
    "                           labels = [])\n",
    "m"
   ]
  },
  {
   "cell_type": "code",
   "execution_count": null,
   "metadata": {},
   "outputs": [],
   "source": [
    "#  ik heb een functie gevonden op het internet voor het toevoegen van een categorische legenda:\n",
    "# (bron: https://stackoverflow.com/questions/65042654/how-to-add-categorical-legend-to-python-folium-map)\n",
    "\n",
    "def add_categorical_legend(folium_map, title, colors, labels):\n",
    "    if len(colors) != len(labels):\n",
    "        raise ValueError(\"colors and labels must have the same length.\")\n",
    "\n",
    "    color_by_label = dict(zip(labels, colors))\n",
    "    \n",
    "    legend_categories = \"\"     \n",
    "    for label, color in color_by_label.items():\n",
    "        legend_categories += f\"<li><span style='background:{color}'></span>{label}</li>\"\n",
    "        \n",
    "    legend_html = f\"\"\"\n",
    "    <div id='maplegend' class='maplegend'>\n",
    "      <div class='legend-title'>{title}</div>\n",
    "      <div class='legend-scale'>\n",
    "        <ul class='legend-labels'>\n",
    "        {legend_categories}\n",
    "        </ul>\n",
    "      </div>\n",
    "    </div>\n",
    "    \"\"\"\n",
    "    script = f\"\"\"\n",
    "        <script type=\"text/javascript\">\n",
    "        var oneTimeExecution = (function() {{\n",
    "                    var executed = false;\n",
    "                    return function() {{\n",
    "                        if (!executed) {{\n",
    "                             var checkExist = setInterval(function() {{\n",
    "                                       if ((document.getElementsByClassName('leaflet-top leaflet-right').length) || (!executed)) {{\n",
    "                                          document.getElementsByClassName('leaflet-top leaflet-right')[0].style.display = \"flex\"\n",
    "                                          document.getElementsByClassName('leaflet-top leaflet-right')[0].style.flexDirection = \"column\"\n",
    "                                          document.getElementsByClassName('leaflet-top leaflet-right')[0].innerHTML += `{legend_html}`;\n",
    "                                          clearInterval(checkExist);\n",
    "                                          executed = true;\n",
    "                                       }}\n",
    "                                    }}, 100);\n",
    "                        }}\n",
    "                    }};\n",
    "                }})();\n",
    "        oneTimeExecution()\n",
    "        </script>\n",
    "      \"\"\"\n",
    "   \n",
    "\n",
    "    css = \"\"\"\n",
    "\n",
    "    <style type='text/css'>\n",
    "      .maplegend {\n",
    "        z-index:9999;\n",
    "        float:right;\n",
    "        background-color: rgba(255, 255, 255, 1);\n",
    "        border-radius: 5px;\n",
    "        border: 2px solid #bbb;\n",
    "        padding: 10px;\n",
    "        font-size:12px;\n",
    "        positon: relative;\n",
    "      }\n",
    "      .maplegend .legend-title {\n",
    "        text-align: left;\n",
    "        margin-bottom: 5px;\n",
    "        font-weight: bold;\n",
    "        font-size: 90%;\n",
    "        }\n",
    "      .maplegend .legend-scale ul {\n",
    "        margin: 0;\n",
    "        margin-bottom: 5px;\n",
    "        padding: 0;\n",
    "        float: left;\n",
    "        list-style: none;\n",
    "        }\n",
    "      .maplegend .legend-scale ul li {\n",
    "        font-size: 80%;\n",
    "        list-style: none;\n",
    "        margin-left: 0;\n",
    "        line-height: 18px;\n",
    "        margin-bottom: 2px;\n",
    "        }\n",
    "      .maplegend ul.legend-labels li span {\n",
    "        display: block;\n",
    "        float: left;\n",
    "        height: 16px;\n",
    "        width: 30px;\n",
    "        margin-right: 5px;\n",
    "        margin-left: 0;\n",
    "        border: 0px solid #ccc;\n",
    "        }\n",
    "      .maplegend .legend-source {\n",
    "        font-size: 80%;\n",
    "        color: #777;\n",
    "        clear: both;\n",
    "        }\n",
    "      .maplegend a {\n",
    "        color: #777;\n",
    "        }\n",
    "    </style>\n",
    "    \"\"\"\n",
    "\n",
    "    folium_map.get_root().header.add_child(folium.Element(script + css))\n",
    "\n",
    "    return folium_map"
   ]
  },
  {
   "cell_type": "markdown",
   "metadata": {},
   "source": [
    "Kopieer nu je bovenstaande code en vul aan:\n",
    "\n",
    "- De kleur van de rand en de opvulling van de cirkel is hetzelfde (`fill`)\n",
    "- De grootte van het meetpunt (straal) is evenredig met de waarde van de gemeten hoeveelheid stikstof (`radius`) en overzichtelijk bij een zoom van 12."
   ]
  },
  {
   "cell_type": "markdown",
   "metadata": {},
   "source": []
  },
  {
   "cell_type": "markdown",
   "metadata": {},
   "source": [
    "*(Bonus)* Kopieer nu je bovenstaande code en vul aan:\n",
    "- Het jaar is te selecteren."
   ]
  },
  {
   "cell_type": "code",
   "execution_count": null,
   "metadata": {},
   "outputs": [],
   "source": [
    "m = folium.Map(...)\n",
    "\n",
    "\n",
    "# Om het jaar te selecteren, hier alvast wat tips:\n",
    "# Maak per jaar folium featuregroups aan\n",
    "jaar_2010 = folium.FeatureGroup(name=\"2010\").add_to(m)\n",
    "jaar_2011 = folium.FeatureGroup(name=\"2011\", show=False).add_to(m)\n",
    "...\n",
    "\n",
    "# Voeg voor elk jaar locaties met cirkelmarkers toe waarbij het adres zichtbaar is\n",
    "# De grootte van de cirkel is evenredig met de waarde van de gemeten hoeveelheid stikstof\n",
    "for index, row in NO2.iterrows():\n",
    "    jaar_2010.add_child(folium.CircleMarker(location=...,\n",
    "                                            popup=...,\n",
    "                                            radius=...,\n",
    "                                            color=...,\n",
    "                                            fill=True).add_to(m))\n",
    "    \n",
    "# Legenda toevoegen met titels en labels\n",
    "m = add_categorical_legend(m, ...)\n",
    "\n",
    "# Layer control toevoegen zodat het jaar te selecteren is\n",
    "folium.LayerControl(position='bottomleft', collapsed=False).add_to(m)\n",
    "\n",
    "m"
   ]
  },
  {
   "cell_type": "markdown",
   "metadata": {},
   "source": [
    "## Onderdeel 5"
   ]
  },
  {
   "cell_type": "markdown",
   "metadata": {},
   "source": [
    "Beschrijf op basis van, en met onderbouwing door, de gemaakte afbeeldingen in onderdeel 4:\n",
    "\n",
    "- welke informatie de data weergeeft."
   ]
  },
  {
   "cell_type": "markdown",
   "metadata": {},
   "source": [
    "# Deel 3 - WHO data"
   ]
  },
  {
   "cell_type": "markdown",
   "metadata": {},
   "source": [
    "De Wereldgezondheidsorganisatie publiceert veel data. Denk aan de leversverwachting, het BMI en het aantal doden op de weg. Kies een willekeurige dataset per land en zoek een geojson file met landen. "
   ]
  },
  {
   "cell_type": "markdown",
   "metadata": {},
   "source": [
    "## Onderdeel 6"
   ]
  },
  {
   "cell_type": "markdown",
   "metadata": {},
   "source": [
    "Laad geopandas in. Geeft dit een error, volg dan de stappen aangegeven in de bijgevoegde slides. "
   ]
  },
  {
   "cell_type": "code",
   "execution_count": null,
   "metadata": {},
   "outputs": [],
   "source": [
    "import geopandas as gpd"
   ]
  },
  {
   "cell_type": "code",
   "execution_count": null,
   "metadata": {},
   "outputs": [],
   "source": [
    "# Gegeven code\n",
    "\n",
    "countries = gpd.read_file('countries.geojson')\n",
    "life_expectancy = pd.read_csv('Life_Expectancy_Data.csv')\n",
    "\n",
    "print(countries.head())\n",
    "print(\"\")\n",
    "print(life_expectancy.head())"
   ]
  },
  {
   "cell_type": "markdown",
   "metadata": {},
   "source": [
    "Laad de data van de WHO en de geojson file in en voeg deze samen."
   ]
  },
  {
   "cell_type": "code",
   "execution_count": null,
   "metadata": {},
   "outputs": [],
   "source": [
    "geo_df = life_expectancy.merge(___, ...)\n",
    "\n",
    "# DataFrame omzetten naar GeoDataFrame\n",
    "# geo_df_crs = {'init' : 'epsg:4326'}\n",
    "\n",
    "# geo_df = gpd.GeoDataFrame(geo_df,\n",
    "#                               crs = geo_df_crs,\n",
    "#                               geometry = geo_df.geometry)"
   ]
  },
  {
   "cell_type": "markdown",
   "metadata": {},
   "source": [
    "## Onderdeel 7"
   ]
  },
  {
   "cell_type": "markdown",
   "metadata": {},
   "source": [
    "We gaan de data uit onderdeel 6 gebruiken om de landen een kleur te geven afhankelijk van de gekozen data van de WHO.\n",
    "\n",
    "Deel 1:\n",
    "Maak een kaart met de volgende eisen: \n",
    "\n",
    "- Kies 1 jaartal om te gebruiken op de kaart\n",
    "- Zorg dat alle landen van de wereld direct volledig in beeld te zien zijn.\n",
    "- Geen (interactieve) zoom opties.\n",
    "- Een geschikte achtergrondskaart, expliciet gedefineerd.\n",
    "- (Bonus) Maak het mogelijk om meerdere jaartallen te selecteren"
   ]
  },
  {
   "cell_type": "code",
   "execution_count": null,
   "metadata": {},
   "outputs": [],
   "source": [
    "# Hieronder jouw code voor deel 1\n",
    "\n"
   ]
  },
  {
   "cell_type": "markdown",
   "metadata": {},
   "source": [
    "Deel 2, vul de code van deel 1 aan:\n",
    "\n",
    "Gebruik `Choropleth` om deze afbeelding te maken met aanvullende eisen:\n",
    "\n",
    "- Baken de landen af met lijntjes in een expliciet gedefinieerde ondoorzichtigheid (opacity).\n",
    "- Stel de ondoorzichtigheid (opacity) van de opvulling expliciet in op een voor jou optimale waarde.\n",
    "- Defineer een geschikt kleurenpalet naar jouw keuze voor de vlakken.\n",
    "- Voeg een legenda toe (hier is al iets voor geschreven)"
   ]
  },
  {
   "cell_type": "code",
   "execution_count": null,
   "metadata": {},
   "outputs": [],
   "source": [
    "# Hieronder jouw code voor deel 2\n",
    "\n"
   ]
  },
  {
   "cell_type": "code",
   "execution_count": null,
   "metadata": {},
   "outputs": [],
   "source": [
    "m = folium.Map()\n",
    "\n",
    "\n",
    "## voeg code toe\n",
    "\n",
    "\n",
    "# code voor de legenda\n",
    "from branca.element import Template, MacroElement\n",
    "\n",
    "template = \"\"\"\n",
    "{% macro html(this, kwargs) %}\n",
    "\n",
    "<!doctype html>\n",
    "<html lang=\"en\">\n",
    "<head>\n",
    "  <meta charset=\"utf-8\">\n",
    "  <meta name=\"viewport\" content=\"width=device-width, initial-scale=1\">\n",
    "  <title>jQuery UI Draggable - Default functionality</title>\n",
    "  <link rel=\"stylesheet\" href=\"//code.jquery.com/ui/1.12.1/themes/base/jquery-ui.css\">\n",
    "\n",
    "  <script src=\"https://code.jquery.com/jquery-1.12.4.js\"></script>\n",
    "  <script src=\"https://code.jquery.com/ui/1.12.1/jquery-ui.js\"></script>\n",
    "  \n",
    "  <script>\n",
    "  $( function() {\n",
    "    $( \"#maplegend\" ).draggable({\n",
    "                    start: function (event, ui) {\n",
    "                        $(this).css({\n",
    "                            right: \"auto\",\n",
    "                            top: \"auto\",\n",
    "                            bottom: \"auto\"\n",
    "                        });\n",
    "                    }\n",
    "                });\n",
    "});\n",
    "\n",
    "  </script>\n",
    "</head>\n",
    "<body>\n",
    "\n",
    " \n",
    "<div id='maplegend' class='maplegend' \n",
    "    style='position: absolute; z-index:9999; border:2px solid grey; background-color:rgba(255, 255, 255, 0.8);\n",
    "     border-radius:6px; padding: 10px; font-size:14px; right: 20px; bottom: 20px;'>\n",
    "     \n",
    "<div class='legend-title'>Legenda</div>\n",
    "<div class='legend-scale'>\n",
    "  <ul class='legend-labels'>\n",
    "    <li><span style='background:black;opacity:0.7;'></span>N.B.</li>\n",
    "\n",
    "\n",
    "  </ul>\n",
    "</div>\n",
    "</div>\n",
    " \n",
    "</body>\n",
    "</html>\n",
    "\n",
    "<style type='text/css'>\n",
    "  .maplegend .legend-title {\n",
    "    text-align: left;\n",
    "    margin-bottom: 5px;\n",
    "    font-weight: bold;\n",
    "    font-size: 90%;\n",
    "    }\n",
    "  .maplegend .legend-scale ul {\n",
    "    margin: 0;\n",
    "    margin-bottom: 5px;\n",
    "    padding: 0;\n",
    "    float: left;\n",
    "    list-style: none;\n",
    "    }\n",
    "  .maplegend .legend-scale ul li {\n",
    "    font-size: 80%;\n",
    "    list-style: none;\n",
    "    margin-left: 0;\n",
    "    line-height: 18px;\n",
    "    margin-bottom: 2px;\n",
    "    }\n",
    "  .maplegend ul.legend-labels li span {\n",
    "    display: block;\n",
    "    float: left;\n",
    "    height: 16px;\n",
    "    width: 30px;\n",
    "    margin-right: 5px;\n",
    "    margin-left: 0;\n",
    "    border: 1px solid #999;\n",
    "    }\n",
    "  .maplegend .legend-source {\n",
    "    font-size: 80%;\n",
    "    color: #777;\n",
    "    clear: both;\n",
    "    }\n",
    "  .maplegend a {\n",
    "    color: #777;\n",
    "    }\n",
    "</style>\n",
    "{% endmacro %}\"\"\"\n",
    "\n",
    "macro = MacroElement()\n",
    "macro._template = Template(template)\n",
    "\n",
    "m.get_root().add_child(macro)\n",
    "\n",
    "display(m)"
   ]
  },
  {
   "cell_type": "markdown",
   "metadata": {},
   "source": [
    "# Deel 4: Overig"
   ]
  },
  {
   "cell_type": "markdown",
   "metadata": {},
   "source": [
    "## Onderdeel 8"
   ]
  },
  {
   "cell_type": "markdown",
   "metadata": {},
   "source": [
    "Voor dit onderdeel gaan we even terug naar plotly en sliders / dropdowns.\n",
    "Gebruik een dataset zoals omschreven in: https://plotly.com/python/mapbox-county-choropleth/\n",
    "Je kan een zelfde soort plot maken (en deze code gebruiken). Dat is prima. Het gaat hier om het maken van een dropdown of een slider:\n",
    "\n",
    "* Maak een plot met plotly van deze data met een kleurenschema.\n",
    "* Geef de plot een dropdown (bijvoorbeeld van welk kleurenschema) of een slider mee.\n",
    "* Je mag dus ook een ander soort plot maken als je wilt (bijvoorbeeld een bubble map). Hoeft niet, mag wel."
   ]
  },
  {
   "cell_type": "code",
   "execution_count": null,
   "metadata": {},
   "outputs": [],
   "source": []
  },
  {
   "cell_type": "markdown",
   "metadata": {},
   "source": [
    "## Onderdeel 9\n",
    "Voor dit onderdeel gebruik je data van https://maps.amsterdam.nl/open_geodata/ .\n",
    "\n",
    "Kies een van de datasets van het kopje Duurzaamheid. Creer hiermee met folium een kaart. Er zijn 20 verschillende categorieën binnen Duurzaamheid.\n",
    "\n",
    "Zit je in case groep 1, dan gebruik je categorie 1 -> Bodemkwaliteit. Zit je in case groep 2 -> Geluidscontouren industrie. Heb je een gemixte groep, dan kies je 1 van de 2 categorieën waar je in de case groep zit. Zit je in een case groep boven de 20, dan gebruik je van het kopje Stedelijke ontwikkeling & Wonen, de categorie Woningwaarde 2021. \n",
    "\n",
    "Zit je in de groep met \"NO2 metingen - jaren\". Gebruik dan \"Parkeerdruk - buurten\" onder het kopje Verkeer en Infrastructuur in plaats van NO2 metingen.\n",
    "\n",
    "Zorg dat je foliumkaart de volgende onderdelen bevatten:\n",
    "* Er moet een standaard zoom van 12 en als standaard centrum van de kaart de locatie van de Dam Amsterdam in staan\n",
    "* Zorg dat de kleuren goed overeen komen met wat je wilt laten zien: Groene daken in groen, warmte in rood, geluidscontouren als contouren etc. \n",
    "* Zorg dat er een legenda bij zit\n"
   ]
  },
  {
   "cell_type": "code",
   "execution_count": null,
   "metadata": {},
   "outputs": [],
   "source": []
  },
  {
   "cell_type": "markdown",
   "metadata": {},
   "source": [
    "Wat valt er op aan je plot? \\\n",
    "...\n"
   ]
  },
  {
   "cell_type": "markdown",
   "metadata": {},
   "source": [
    "## Onderdeel 10 (bonus)"
   ]
  },
  {
   "cell_type": "markdown",
   "metadata": {},
   "source": [
    "Voor dit onderdeel mag je de data uit deel 2 of 3 gebruiken maar je mag ook andere data gebruiken of toevoegen. \n",
    "\n",
    "Er zijn nog veel meer functies in Folium die nog niet gebruikt zijn. Gebruik je creativiteit en laat zien dat jij Folium snapt. Gebruik drie functies die we nog niet eerder gezien hebben. "
   ]
  },
  {
   "cell_type": "code",
   "execution_count": null,
   "metadata": {},
   "outputs": [],
   "source": []
  }
 ],
 "metadata": {
  "kernelspec": {
   "display_name": "Python 3 (ipykernel)",
   "language": "python",
   "name": "python3"
  },
  "language_info": {
   "codemirror_mode": {
    "name": "ipython",
    "version": 3
   },
   "file_extension": ".py",
   "mimetype": "text/x-python",
   "name": "python",
   "nbconvert_exporter": "python",
   "pygments_lexer": "ipython3",
   "version": "3.7.10"
  }
 },
 "nbformat": 4,
 "nbformat_minor": 4
}
