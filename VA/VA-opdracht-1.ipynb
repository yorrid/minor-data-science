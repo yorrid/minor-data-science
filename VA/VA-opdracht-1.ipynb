{
 "cells": [
  {
   "cell_type": "markdown",
   "metadata": {},
   "source": [
    "# VA 2022-2023 sem-2 Opdracht 1"
   ]
  },
  {
   "cell_type": "markdown",
   "metadata": {},
   "source": [
    "Vul hier je naam in en de naam van je groepsgenoot: Kyra, Yorrid"
   ]
  },
  {
   "cell_type": "markdown",
   "metadata": {},
   "source": [
    "## Deadline"
   ]
  },
  {
   "attachments": {},
   "cell_type": "markdown",
   "metadata": {},
   "source": [
    "De deadline voor deze opdracht is woensdagochtend.\n",
    "\n",
    "Wat gaan we doen?\n",
    "* Gebruik van Matplotlib package voor makkelijke plots\n",
    "* Gebruik van Seaborn package, voor nog mooiere plots\n",
    "\n",
    "Benodigdheden: \n",
    "* Schaatstijden500m.csv \n",
    "* Schaatstijden500m verschil.csv \n",
    "\n",
    "in zelfde map als dit document."
   ]
  },
  {
   "cell_type": "markdown",
   "metadata": {},
   "source": [
    "## Deel 1 - Schaatsen"
   ]
  },
  {
   "cell_type": "markdown",
   "metadata": {},
   "source": [
    "We gaan kijken naar de 500m meter tijden van de broers Ronald en Michel Mulder geschaatst in Thialf (bron:osta.nl). De dataset is te vinden op BrightSpace. Zorg dat deze dataset zich in dezelfde map als deze notebook zit. Ter voorbereiding op een visualisatie nemen we de volgende stappen.\n",
    "* We laden de package `pandas` in en noemen het `pd`.\n",
    "* We gebruiken de functie `head` om de eerste vijf regels uit de dataset te bekijken.\n",
    "* We gebruiken de functie `info` om de structuur van de dataset te bekijken.\n",
    "* We gebruiken de functie `describe` om de statische waarden te bekijken."
   ]
  },
  {
   "cell_type": "code",
   "execution_count": 2,
   "metadata": {},
   "outputs": [
    {
     "name": "stderr",
     "output_type": "stream",
     "text": [
      "C:\\Users\\yorri\\AppData\\Local\\Temp\\ipykernel_1688\\3949043643.py:4: UserWarning: Parsing dates in DD/MM/YYYY format when dayfirst=False (the default) was specified. This may lead to inconsistently parsed dates! Specify a format to ensure consistent parsing.\n",
      "  schaatstijden['Datum'] = pd.to_datetime(schaatstijden['Datum'])\n"
     ]
    }
   ],
   "source": [
    "import sys\n",
    "import pandas as pd\n",
    "schaatstijden = pd.read_csv('Schaatstijden500m.csv')\n",
    "schaatstijden['Datum'] = pd.to_datetime(schaatstijden['Datum'])"
   ]
  },
  {
   "cell_type": "code",
   "execution_count": 3,
   "metadata": {},
   "outputs": [
    {
     "data": {
      "text/html": [
       "<div>\n",
       "<style scoped>\n",
       "    .dataframe tbody tr th:only-of-type {\n",
       "        vertical-align: middle;\n",
       "    }\n",
       "\n",
       "    .dataframe tbody tr th {\n",
       "        vertical-align: top;\n",
       "    }\n",
       "\n",
       "    .dataframe thead th {\n",
       "        text-align: right;\n",
       "    }\n",
       "</style>\n",
       "<table border=\"1\" class=\"dataframe\">\n",
       "  <thead>\n",
       "    <tr style=\"text-align: right;\">\n",
       "      <th></th>\n",
       "      <th>Tijd</th>\n",
       "      <th>Datum</th>\n",
       "      <th>Ijsbaan</th>\n",
       "      <th>Rijder</th>\n",
       "    </tr>\n",
       "  </thead>\n",
       "  <tbody>\n",
       "    <tr>\n",
       "      <th>0</th>\n",
       "      <td>89.80</td>\n",
       "      <td>2020-01-26</td>\n",
       "      <td>IJsstadion Thialf (NED)</td>\n",
       "      <td>Ronald</td>\n",
       "    </tr>\n",
       "    <tr>\n",
       "      <th>1</th>\n",
       "      <td>34.86</td>\n",
       "      <td>2020-01-25</td>\n",
       "      <td>IJsstadion Thialf (NED)</td>\n",
       "      <td>Ronald</td>\n",
       "    </tr>\n",
       "    <tr>\n",
       "      <th>2</th>\n",
       "      <td>34.92</td>\n",
       "      <td>2020-01-18</td>\n",
       "      <td>IJsstadion Thialf (NED)</td>\n",
       "      <td>Ronald</td>\n",
       "    </tr>\n",
       "    <tr>\n",
       "      <th>3</th>\n",
       "      <td>35.27</td>\n",
       "      <td>2019-12-27</td>\n",
       "      <td>IJsstadion Thialf (NED)</td>\n",
       "      <td>Michel</td>\n",
       "    </tr>\n",
       "    <tr>\n",
       "      <th>4</th>\n",
       "      <td>35.38</td>\n",
       "      <td>2019-12-27</td>\n",
       "      <td>IJsstadion Thialf (NED)</td>\n",
       "      <td>Ronald</td>\n",
       "    </tr>\n",
       "  </tbody>\n",
       "</table>\n",
       "</div>"
      ],
      "text/plain": [
       "    Tijd      Datum                  Ijsbaan  Rijder\n",
       "0  89.80 2020-01-26  IJsstadion Thialf (NED)  Ronald\n",
       "1  34.86 2020-01-25  IJsstadion Thialf (NED)  Ronald\n",
       "2  34.92 2020-01-18  IJsstadion Thialf (NED)  Ronald\n",
       "3  35.27 2019-12-27  IJsstadion Thialf (NED)  Michel\n",
       "4  35.38 2019-12-27  IJsstadion Thialf (NED)  Ronald"
      ]
     },
     "execution_count": 3,
     "metadata": {},
     "output_type": "execute_result"
    }
   ],
   "source": [
    "schaatstijden.head()"
   ]
  },
  {
   "cell_type": "code",
   "execution_count": 4,
   "metadata": {},
   "outputs": [
    {
     "name": "stdout",
     "output_type": "stream",
     "text": [
      "<class 'pandas.core.frame.DataFrame'>\n",
      "RangeIndex: 76 entries, 0 to 75\n",
      "Data columns (total 4 columns):\n",
      " #   Column   Non-Null Count  Dtype         \n",
      "---  ------   --------------  -----         \n",
      " 0   Tijd     76 non-null     float64       \n",
      " 1   Datum    76 non-null     datetime64[ns]\n",
      " 2   Ijsbaan  76 non-null     object        \n",
      " 3   Rijder   76 non-null     object        \n",
      "dtypes: datetime64[ns](1), float64(1), object(2)\n",
      "memory usage: 2.5+ KB\n"
     ]
    }
   ],
   "source": [
    "schaatstijden.info()"
   ]
  },
  {
   "cell_type": "code",
   "execution_count": 5,
   "metadata": {},
   "outputs": [
    {
     "data": {
      "text/html": [
       "<div>\n",
       "<style scoped>\n",
       "    .dataframe tbody tr th:only-of-type {\n",
       "        vertical-align: middle;\n",
       "    }\n",
       "\n",
       "    .dataframe tbody tr th {\n",
       "        vertical-align: top;\n",
       "    }\n",
       "\n",
       "    .dataframe thead th {\n",
       "        text-align: right;\n",
       "    }\n",
       "</style>\n",
       "<table border=\"1\" class=\"dataframe\">\n",
       "  <thead>\n",
       "    <tr style=\"text-align: right;\">\n",
       "      <th></th>\n",
       "      <th>Tijd</th>\n",
       "    </tr>\n",
       "  </thead>\n",
       "  <tbody>\n",
       "    <tr>\n",
       "      <th>count</th>\n",
       "      <td>76.000000</td>\n",
       "    </tr>\n",
       "    <tr>\n",
       "      <th>mean</th>\n",
       "      <td>35.815263</td>\n",
       "    </tr>\n",
       "    <tr>\n",
       "      <th>std</th>\n",
       "      <td>6.280937</td>\n",
       "    </tr>\n",
       "    <tr>\n",
       "      <th>min</th>\n",
       "      <td>34.490000</td>\n",
       "    </tr>\n",
       "    <tr>\n",
       "      <th>25%</th>\n",
       "      <td>34.917500</td>\n",
       "    </tr>\n",
       "    <tr>\n",
       "      <th>50%</th>\n",
       "      <td>35.055000</td>\n",
       "    </tr>\n",
       "    <tr>\n",
       "      <th>75%</th>\n",
       "      <td>35.272500</td>\n",
       "    </tr>\n",
       "    <tr>\n",
       "      <th>max</th>\n",
       "      <td>89.800000</td>\n",
       "    </tr>\n",
       "  </tbody>\n",
       "</table>\n",
       "</div>"
      ],
      "text/plain": [
       "            Tijd\n",
       "count  76.000000\n",
       "mean   35.815263\n",
       "std     6.280937\n",
       "min    34.490000\n",
       "25%    34.917500\n",
       "50%    35.055000\n",
       "75%    35.272500\n",
       "max    89.800000"
      ]
     },
     "execution_count": 5,
     "metadata": {},
     "output_type": "execute_result"
    }
   ],
   "source": [
    "schaatstijden.describe()"
   ]
  },
  {
   "cell_type": "markdown",
   "metadata": {},
   "source": [
    "## Onderdeel 1"
   ]
  },
  {
   "cell_type": "markdown",
   "metadata": {},
   "source": [
    "Kijk eens goed naar de tabellen hierboven en geef antwoord op de volgende vragen.\n",
    "* Hoeveel 500m tijden zitten er in de dataset?\n",
    "* Wat is de snelste tijd? "
   ]
  },
  {
   "cell_type": "markdown",
   "metadata": {},
   "source": [
    "#### Antwoord:\n",
    "* 76\n",
    "* 34,49"
   ]
  },
  {
   "cell_type": "markdown",
   "metadata": {},
   "source": [
    "## Onderdeel 2"
   ]
  },
  {
   "cell_type": "markdown",
   "metadata": {},
   "source": [
    "Maak een histogram van de kolom `Tijd`. Vul de code aan, voldoe aan de volgende extra eisen en pas verder geen dingen aan.\n",
    "* Kies de juiste kolom.\n",
    "* Maak de histogram oranje.\n",
    "* Gebruik een geschikte titel.\n",
    "* Gebruik een geschikt x-as label.\n",
    "* Gebruik een geschikt y-as label."
   ]
  },
  {
   "cell_type": "code",
   "execution_count": 6,
   "metadata": {},
   "outputs": [],
   "source": [
    "import matplotlib.pyplot as plt\n",
    "import numpy as np"
   ]
  },
  {
   "cell_type": "code",
   "execution_count": 7,
   "metadata": {},
   "outputs": [
    {
     "data": {
      "image/png": "[encoded data removed]",
      "text/plain": [
       "<Figure size 640x480 with 1 Axes>"
      ]
     },
     "metadata": {},
     "output_type": "display_data"
    }
   ],
   "source": [
    "plt.hist(schaatstijden['Tijd'], color='orange')\n",
    "plt.title('tijd')\n",
    "plt.xlabel('tijden in secon')\n",
    "plt.ylabel('occurence')\n",
    "plt.show()"
   ]
  },
  {
   "cell_type": "markdown",
   "metadata": {},
   "source": [
    "Wellicht heb je het al gezien. Een van de broers is gevallen tijdens een rit. Dit resulteerde in tijd een stuk langzamer dan normaal. Filter deze tijd uit de dataset en maak de histogram nogmaals."
   ]
  },
  {
   "cell_type": "code",
   "execution_count": 8,
   "metadata": {},
   "outputs": [],
   "source": [
    "filter = schaatstijden[schaatstijden['Tijd'] < 80]"
   ]
  },
  {
   "cell_type": "code",
   "execution_count": 9,
   "metadata": {},
   "outputs": [
    {
     "data": {
      "image/png": "[encoded data removed]",
      "text/plain": [
       "<Figure size 640x480 with 1 Axes>"
      ]
     },
     "metadata": {},
     "output_type": "display_data"
    }
   ],
   "source": [
    "plt.hist(filter['Tijd'], color='orange')\n",
    "plt.show()"
   ]
  },
  {
   "cell_type": "markdown",
   "metadata": {},
   "source": [
    "## Onderdeel 3"
   ]
  },
  {
   "cell_type": "markdown",
   "metadata": {},
   "source": [
    "Voor de volgende analyse gaan we een boxplot maken. (gebruik de dataset zonder val) We willen een uitspraak doen welke broer sneller is op de 500m in Thialf. Maak een boxplot van de tijden van Ronald en een boxplot van de tijden van Michel. Voldoe aan de volgende eisen.\n",
    "* Voeg een lijn blauwe toe met het huidige baan record in thialf, 34,07\n",
    "* Gebruik een geschikte titel.\n",
    "* Gebruik een geschikt x-as label.\n",
    "* Gebruik een geschikt y-as label."
   ]
  },
  {
   "cell_type": "code",
   "execution_count": 10,
   "metadata": {},
   "outputs": [],
   "source": [
    "schaatstijdenBoxplotData = {'Ronald': schaatstijden[schaatstijden['Rijder'] == 'Ronald']['Tijd'],\n",
    "                            'Michel': schaatstijden[schaatstijden['Rijder'] == 'Michel']['Tijd']}"
   ]
  },
  {
   "cell_type": "code",
   "execution_count": 11,
   "metadata": {},
   "outputs": [
    {
     "data": {
      "text/plain": [
       "{'Ronald': 0     89.80\n",
       " 1     34.86\n",
       " 2     34.92\n",
       " 4     35.38\n",
       " 6     34.91\n",
       " 10    35.00\n",
       " 12    34.94\n",
       " 14    34.78\n",
       " 18    34.87\n",
       " 20    34.60\n",
       " 22    34.95\n",
       " 24    35.14\n",
       " 26    35.22\n",
       " 29    34.67\n",
       " 30    35.02\n",
       " 34    34.49\n",
       " 36    34.74\n",
       " 37    34.85\n",
       " 38    34.99\n",
       " 40    34.69\n",
       " 42    35.06\n",
       " 44    35.00\n",
       " 46    34.98\n",
       " 48    35.08\n",
       " 49    34.87\n",
       " 51    34.83\n",
       " 53    34.81\n",
       " 57    34.81\n",
       " 58    35.05\n",
       " 60    34.80\n",
       " 62    34.89\n",
       " 64    35.25\n",
       " 66    34.92\n",
       " 69    34.95\n",
       " 70    35.11\n",
       " 72    35.30\n",
       " Name: Tijd, dtype: float64,\n",
       " 'Michel': 3     35.27\n",
       " 5     34.96\n",
       " 7     35.28\n",
       " 8     35.28\n",
       " 9     35.14\n",
       " 11    35.16\n",
       " 13    34.99\n",
       " 15    34.62\n",
       " 16    34.92\n",
       " 17    35.01\n",
       " 19    35.04\n",
       " 21    35.19\n",
       " 23    34.95\n",
       " 25    35.22\n",
       " 27    35.26\n",
       " 28    35.72\n",
       " 31    34.74\n",
       " 32    35.08\n",
       " 33    34.98\n",
       " 35    34.90\n",
       " 39    35.58\n",
       " 41    35.23\n",
       " 43    35.51\n",
       " 45    35.43\n",
       " 47    35.49\n",
       " 50    35.23\n",
       " 52    35.02\n",
       " 54    35.49\n",
       " 55    35.59\n",
       " 56    35.43\n",
       " 59    35.18\n",
       " 61    35.07\n",
       " 63    35.14\n",
       " 65    35.63\n",
       " 67    35.34\n",
       " 68    35.62\n",
       " 71    35.54\n",
       " 73    35.47\n",
       " 74    35.48\n",
       " 75    35.25\n",
       " Name: Tijd, dtype: float64}"
      ]
     },
     "execution_count": 11,
     "metadata": {},
     "output_type": "execute_result"
    }
   ],
   "source": [
    "schaatstijdenBoxplotData"
   ]
  },
  {
   "cell_type": "code",
   "execution_count": 12,
   "metadata": {},
   "outputs": [],
   "source": [
    "del(schaatstijdenBoxplotData['Ronald'][0])"
   ]
  },
  {
   "cell_type": "code",
   "execution_count": 13,
   "metadata": {},
   "outputs": [
    {
     "data": {
      "image/png": "[encoded data removed]",
      "text/plain": [
       "<Figure size 640x480 with 1 Axes>"
      ]
     },
     "metadata": {},
     "output_type": "display_data"
    }
   ],
   "source": [
    "#code voor boxplot\n",
    "fig, ax = plt.subplots()\n",
    "\n",
    "# welke schaatsers wil je apart in de boxplot en hoe kan je dat doen?\n",
    "ax.boxplot([schaatstijdenBoxplotData['Ronald'], schaatstijdenBoxplotData['Michel']] )\n",
    "ax.set_title('Wie is sneller')\n",
    "ax.set_xticklabels(['Ronald', 'Michel'])\n",
    "ax.set_ylabel('Schaatser')\n",
    "ax.set_xlabel('Tijd')\n",
    "plt.show()"
   ]
  },
  {
   "cell_type": "markdown",
   "metadata": {},
   "source": [
    "## Onderdeel 4"
   ]
  },
  {
   "cell_type": "markdown",
   "metadata": {},
   "source": [
    "Deze vraag gaat over visualisatie gemaakt bij onderdeel 3. Doe een uitspraak over de welke broer het snelst is. Gebruik een maat voor locatie en voor spreiding in je antwoord."
   ]
  },
  {
   "cell_type": "markdown",
   "metadata": {},
   "source": [
    "Ronald is sneller want zijn kleinste en grootste waarde zijn sneller."
   ]
  },
  {
   "cell_type": "markdown",
   "metadata": {},
   "source": [
    "## Onderdeel 5"
   ]
  },
  {
   "cell_type": "markdown",
   "metadata": {},
   "source": [
    "De broers hebben tijdens een aantal wedstrijden tegen elkaar gereden (niet uitsluitend in dezelfde rit). Ook deze data staat op BrightSpace, we laden de data in en berekenen het verschil van het onderlinge resultaat."
   ]
  },
  {
   "cell_type": "code",
   "execution_count": 14,
   "metadata": {},
   "outputs": [
    {
     "name": "stderr",
     "output_type": "stream",
     "text": [
      "C:\\Users\\yorri\\AppData\\Local\\Temp\\ipykernel_1688\\2446715650.py:2: UserWarning: Parsing dates in DD/MM/YYYY format when dayfirst=False (the default) was specified. This may lead to inconsistently parsed dates! Specify a format to ensure consistent parsing.\n",
      "  schaatstijdenVerschil['Datum'] = pd.to_datetime(schaatstijdenVerschil['Datum'])\n"
     ]
    }
   ],
   "source": [
    "schaatstijdenVerschil = pd.read_csv('Schaatstijden500m verschil.csv')\n",
    "schaatstijdenVerschil['Datum'] = pd.to_datetime(schaatstijdenVerschil['Datum'])"
   ]
  },
  {
   "cell_type": "code",
   "execution_count": 15,
   "metadata": {},
   "outputs": [],
   "source": [
    "schaatstijdenVerschil['Verschil'] = schaatstijdenVerschil['Ronald'] - schaatstijdenVerschil['Michel']"
   ]
  },
  {
   "cell_type": "code",
   "execution_count": 16,
   "metadata": {},
   "outputs": [
    {
     "data": {
      "text/html": [
       "<div>\n",
       "<style scoped>\n",
       "    .dataframe tbody tr th:only-of-type {\n",
       "        vertical-align: middle;\n",
       "    }\n",
       "\n",
       "    .dataframe tbody tr th {\n",
       "        vertical-align: top;\n",
       "    }\n",
       "\n",
       "    .dataframe thead th {\n",
       "        text-align: right;\n",
       "    }\n",
       "</style>\n",
       "<table border=\"1\" class=\"dataframe\">\n",
       "  <thead>\n",
       "    <tr style=\"text-align: right;\">\n",
       "      <th></th>\n",
       "      <th>Datum</th>\n",
       "      <th>Ijsbaan</th>\n",
       "      <th>Michel</th>\n",
       "      <th>Ronald</th>\n",
       "      <th>Verschil</th>\n",
       "    </tr>\n",
       "  </thead>\n",
       "  <tbody>\n",
       "    <tr>\n",
       "      <th>0</th>\n",
       "      <td>2017-12-27</td>\n",
       "      <td>IJsstadion Thialf (NED)</td>\n",
       "      <td>34.98</td>\n",
       "      <td>34.49</td>\n",
       "      <td>-0.49</td>\n",
       "    </tr>\n",
       "    <tr>\n",
       "      <th>1</th>\n",
       "      <td>2018-12-28</td>\n",
       "      <td>IJsstadion Thialf (NED)</td>\n",
       "      <td>35.04</td>\n",
       "      <td>34.60</td>\n",
       "      <td>-0.44</td>\n",
       "    </tr>\n",
       "    <tr>\n",
       "      <th>2</th>\n",
       "      <td>2018-10-03</td>\n",
       "      <td>IJsstadion Thialf (NED)</td>\n",
       "      <td>35.72</td>\n",
       "      <td>34.67</td>\n",
       "      <td>-1.05</td>\n",
       "    </tr>\n",
       "    <tr>\n",
       "      <th>3</th>\n",
       "      <td>2017-10-28</td>\n",
       "      <td>IJsstadion Thialf (NED)</td>\n",
       "      <td>35.58</td>\n",
       "      <td>34.69</td>\n",
       "      <td>-0.89</td>\n",
       "    </tr>\n",
       "    <tr>\n",
       "      <th>4</th>\n",
       "      <td>2017-12-22</td>\n",
       "      <td>IJsstadion Thialf (NED)</td>\n",
       "      <td>34.90</td>\n",
       "      <td>34.74</td>\n",
       "      <td>-0.16</td>\n",
       "    </tr>\n",
       "  </tbody>\n",
       "</table>\n",
       "</div>"
      ],
      "text/plain": [
       "       Datum                  Ijsbaan  Michel  Ronald  Verschil\n",
       "0 2017-12-27  IJsstadion Thialf (NED)   34.98   34.49     -0.49\n",
       "1 2018-12-28  IJsstadion Thialf (NED)   35.04   34.60     -0.44\n",
       "2 2018-10-03  IJsstadion Thialf (NED)   35.72   34.67     -1.05\n",
       "3 2017-10-28  IJsstadion Thialf (NED)   35.58   34.69     -0.89\n",
       "4 2017-12-22  IJsstadion Thialf (NED)   34.90   34.74     -0.16"
      ]
     },
     "execution_count": 16,
     "metadata": {},
     "output_type": "execute_result"
    }
   ],
   "source": [
    "schaatstijdenVerschil.head()"
   ]
  },
  {
   "cell_type": "markdown",
   "metadata": {},
   "source": [
    "Maakt een histogram van het verschil tussen de broers."
   ]
  },
  {
   "cell_type": "code",
   "execution_count": 17,
   "metadata": {},
   "outputs": [
    {
     "data": {
      "image/png": "[encoded data removed]",
      "text/plain": [
       "<Figure size 640x480 with 1 Axes>"
      ]
     },
     "metadata": {},
     "output_type": "display_data"
    },
    {
     "data": {
      "text/plain": [
       "count    26.000000\n",
       "mean     -0.298846\n",
       "std       0.291909\n",
       "min      -1.050000\n",
       "25%      -0.447500\n",
       "50%      -0.230000\n",
       "75%      -0.145000\n",
       "max       0.190000\n",
       "Name: Verschil, dtype: float64"
      ]
     },
     "execution_count": 17,
     "metadata": {},
     "output_type": "execute_result"
    }
   ],
   "source": [
    "plt.hist(schaatstijdenVerschil['Verschil'])\n",
    "plt.show()\n",
    "\n",
    "schaatstijdenVerschil['Verschil'].describe()"
   ]
  },
  {
   "cell_type": "markdown",
   "metadata": {},
   "source": [
    "## Onderdeel 6"
   ]
  },
  {
   "cell_type": "markdown",
   "metadata": {},
   "source": [
    "Deze vraag gaat over visualisatie gemaakt bij onderdeel 5. Doe een uitspraak over de welke broer het snelst is. Gebruik: \n",
    "* een maat voor locatie (bijvoorbeeld het gemiddelde)\n",
    "* voor spreiding (bijvoorbeeld hoeveel de tijden per persoon uit elkaar liggen (standaard deviatie))"
   ]
  },
  {
   "cell_type": "markdown",
   "metadata": {},
   "source": [
    "Ronald is sneller. De spreiding is groter en de meeste waarde liggen in de min."
   ]
  },
  {
   "cell_type": "markdown",
   "metadata": {},
   "source": [
    "## Onderdeel 7"
   ]
  },
  {
   "cell_type": "markdown",
   "metadata": {},
   "source": [
    "Deze meer geavanceerde visualisatie gaat over het verloop van de tijden over de jaren. Maak een dataframe van schaatstijdenVerschil met de gemiddelde 500m tijd per broer per jaar (mocht je over de skills beschikken, dan mag het ook per schaatsseizoen september t/m maart)."
   ]
  },
  {
   "cell_type": "code",
   "execution_count": 18,
   "metadata": {},
   "outputs": [],
   "source": [
    "gemPerJaarPerBroer = schaatstijdenVerschil.groupby(schaatstijdenVerschil['Datum'].dt.year)[['Ronald', 'Michel']].mean()\n"
   ]
  },
  {
   "cell_type": "code",
   "execution_count": 19,
   "metadata": {},
   "outputs": [
    {
     "data": {
      "text/html": [
       "<div>\n",
       "<style scoped>\n",
       "    .dataframe tbody tr th:only-of-type {\n",
       "        vertical-align: middle;\n",
       "    }\n",
       "\n",
       "    .dataframe tbody tr th {\n",
       "        vertical-align: top;\n",
       "    }\n",
       "\n",
       "    .dataframe thead th {\n",
       "        text-align: right;\n",
       "    }\n",
       "</style>\n",
       "<table border=\"1\" class=\"dataframe\">\n",
       "  <thead>\n",
       "    <tr style=\"text-align: right;\">\n",
       "      <th></th>\n",
       "      <th>Ronald</th>\n",
       "      <th>Michel</th>\n",
       "    </tr>\n",
       "    <tr>\n",
       "      <th>Datum</th>\n",
       "      <th></th>\n",
       "      <th></th>\n",
       "    </tr>\n",
       "  </thead>\n",
       "  <tbody>\n",
       "    <tr>\n",
       "      <th>2015</th>\n",
       "      <td>35.120000</td>\n",
       "      <td>35.500000</td>\n",
       "    </tr>\n",
       "    <tr>\n",
       "      <th>2016</th>\n",
       "      <td>34.916667</td>\n",
       "      <td>35.211667</td>\n",
       "    </tr>\n",
       "    <tr>\n",
       "      <th>2017</th>\n",
       "      <td>34.826667</td>\n",
       "      <td>35.271667</td>\n",
       "    </tr>\n",
       "    <tr>\n",
       "      <th>2018</th>\n",
       "      <td>34.916000</td>\n",
       "      <td>35.224000</td>\n",
       "    </tr>\n",
       "    <tr>\n",
       "      <th>2019</th>\n",
       "      <td>34.980000</td>\n",
       "      <td>35.088333</td>\n",
       "    </tr>\n",
       "  </tbody>\n",
       "</table>\n",
       "</div>"
      ],
      "text/plain": [
       "          Ronald     Michel\n",
       "Datum                      \n",
       "2015   35.120000  35.500000\n",
       "2016   34.916667  35.211667\n",
       "2017   34.826667  35.271667\n",
       "2018   34.916000  35.224000\n",
       "2019   34.980000  35.088333"
      ]
     },
     "execution_count": 19,
     "metadata": {},
     "output_type": "execute_result"
    }
   ],
   "source": [
    "gemPerJaarPerBroer.head()"
   ]
  },
  {
   "cell_type": "markdown",
   "metadata": {},
   "source": [
    "Maak een lijndiagram met op de x-as het jaar en op de y-as de gemiddelde tijd per jaar. Geef een lijn per broer weer. Geef de visualisatie geschikte titels en een legenda."
   ]
  },
  {
   "cell_type": "code",
   "execution_count": 20,
   "metadata": {},
   "outputs": [
    {
     "data": {
      "image/png": "[encoded data removed]",
      "text/plain": [
       "<Figure size 640x480 with 1 Axes>"
      ]
     },
     "metadata": {},
     "output_type": "display_data"
    }
   ],
   "source": [
    "y = gemPerJaarPerBroer['Ronald']\n",
    "x = gemPerJaarPerBroer['Michel']\n",
    "plt.xlabel('Tijd in seconden')\n",
    "plt.ylabel('Jaar')\n",
    "plt.plot(y, label='Ronald')\n",
    "plt.plot(x, label='Michel')\n",
    "plt.legend()\n",
    "plt.show()\n",
    "plt.close()"
   ]
  },
  {
   "cell_type": "markdown",
   "metadata": {},
   "source": [
    "# Deel 2 - Seaborn package"
   ]
  },
  {
   "cell_type": "markdown",
   "metadata": {},
   "source": [
    "We gaan voor de laatste twee onderdelen gebruik maken van een andere package: Seaborn. Hier kan je redelijk makkelijk mooie plots maken. Het werkt wel net wat anders qua input en output. In de volgende twee onderdelen lopen we hier met je doorheen, zodat je volgende week bij de case visualisaties kan maken met Seaborn.\n",
    "\n",
    "Mocht je bij het importeren een foutmelding krijgen, dan heb je waarschijnlijk nog niet de package geinstalleerd. Dit kan je doen door het hekje voor het eerste stukje code weg te halen."
   ]
  },
  {
   "cell_type": "code",
   "execution_count": 21,
   "metadata": {},
   "outputs": [],
   "source": [
    "#!conda install --yes --prefix {sys.prefix} numpy\n",
    "import seaborn as sns"
   ]
  },
  {
   "cell_type": "markdown",
   "metadata": {},
   "source": [
    "We gaan een histogram maken. We importeren even een andere dataset om te laten zien hoe het werkt. Hierna kan je dit ook op de schaatstijden uitvoeren. Een histogram maak je als volgt. Zie ook de voorbeelden: https://seaborn.pydata.org/generated/seaborn.histplot.html"
   ]
  },
  {
   "cell_type": "code",
   "execution_count": 22,
   "metadata": {},
   "outputs": [
    {
     "data": {
      "text/plain": [
       "<AxesSubplot: xlabel='flipper_length_mm', ylabel='Count'>"
      ]
     },
     "execution_count": 22,
     "metadata": {},
     "output_type": "execute_result"
    },
    {
     "data": {
      "image/png": "[encoded data removed]",
      "text/plain": [
       "<Figure size 640x480 with 1 Axes>"
      ]
     },
     "metadata": {},
     "output_type": "display_data"
    }
   ],
   "source": [
    "penguins = sns.load_dataset(\"penguins\")\n",
    "sns.histplot(data=penguins, x=\"flipper_length_mm\")\n"
   ]
  },
  {
   "cell_type": "markdown",
   "metadata": {},
   "source": [
    "## Onderdeel 8\n",
    "Zorg nu dat je een histogram maakt voor de schaatstijden waarbij op de x-as de tijden staan."
   ]
  },
  {
   "cell_type": "code",
   "execution_count": 23,
   "metadata": {},
   "outputs": [
    {
     "data": {
      "text/plain": [
       "<AxesSubplot: xlabel='Tijd', ylabel='Count'>"
      ]
     },
     "execution_count": 23,
     "metadata": {},
     "output_type": "execute_result"
    },
    {
     "data": {
      "image/png": "[encoded data removed]",
      "text/plain": [
       "<Figure size 640x480 with 1 Axes>"
      ]
     },
     "metadata": {},
     "output_type": "display_data"
    }
   ],
   "source": [
    "sns.histplot(data=filter, x = 'Tijd')"
   ]
  },
  {
   "cell_type": "markdown",
   "metadata": {},
   "source": [
    "Maak een histogram waarbij je voor de verschillende schaatsers (Ronald, Michel) een andere kleur geeft. "
   ]
  },
  {
   "cell_type": "code",
   "execution_count": 24,
   "metadata": {},
   "outputs": [
    {
     "data": {
      "text/plain": [
       "<AxesSubplot: xlabel='Tijd', ylabel='Count'>"
      ]
     },
     "execution_count": 24,
     "metadata": {},
     "output_type": "execute_result"
    },
    {
     "data": {
      "image/png": "[encoded data removed]",
      "text/plain": [
       "<Figure size 640x480 with 1 Axes>"
      ]
     },
     "metadata": {},
     "output_type": "display_data"
    }
   ],
   "source": [
    "sns.histplot(data=filter, x = 'Tijd', hue ='Rijder')"
   ]
  },
  {
   "cell_type": "markdown",
   "metadata": {},
   "source": [
    "## Onderdeel 9"
   ]
  },
  {
   "cell_type": "markdown",
   "metadata": {},
   "source": [
    "Met de vraag uit onderdeel 7 gaan we ook kijken wat we nog meer kunnen zeggen over de huidige data. \n",
    "* Hoe vaak van alle keren was Ronald/Michel sneller?\n",
    "* Hoeveel procent van de keren was dit?\n",
    "* Maak een top 20 van snelste tijden van de langzamere broer en maak een top 20 van langzaamste tijden van de snellere broer.\n",
    "* Hoe vaak had de langzame broer kunnen winnen van de snelle broer als hij zijn snelste tijden had gereden en de snelle broer zijn langzaamste tijden? (gebruik de gesoorteerde tabellen van de tijden om dit te tellen)\n"
   ]
  },
  {
   "cell_type": "code",
   "execution_count": 25,
   "metadata": {},
   "outputs": [
    {
     "name": "stdout",
     "output_type": "stream",
     "text": [
      "Ronald    22\n",
      "Michel     4\n",
      "Name: snelste, dtype: int64\n"
     ]
    }
   ],
   "source": [
    "schaatstijdenVerschil['snelste'] = np.where(schaatstijdenVerschil['Verschil'] < 0,'Ronald', 'Michel')\n",
    "schaatstijdenVerschil['langzaamste'] = np.where(schaatstijdenVerschil['Verschil'] > 0,'Ronald', 'Michel')\n",
    "print(schaatstijdenVerschil['snelste'].value_counts())"
   ]
  },
  {
   "cell_type": "code",
   "execution_count": 26,
   "metadata": {},
   "outputs": [
    {
     "name": "stdout",
     "output_type": "stream",
     "text": [
      "84.62\n"
     ]
    }
   ],
   "source": [
    "print(round((22/26)*100, 2))\n"
   ]
  },
  {
   "cell_type": "markdown",
   "metadata": {},
   "source": [
    "#### Antwoord"
   ]
  },
  {
   "cell_type": "code",
   "execution_count": 27,
   "metadata": {},
   "outputs": [
    {
     "name": "stdout",
     "output_type": "stream",
     "text": [
      "22\n",
      "4\n",
      "85\n",
      "    Ronald  Michel  Verschil\n",
      "0    35.38   34.90      0.48\n",
      "1    35.30   34.95      0.35\n",
      "2    35.25   34.96      0.29\n",
      "3    35.22   34.98      0.24\n",
      "4    35.14   34.99      0.15\n",
      "5    35.11   35.01      0.10\n",
      "6    35.06   35.02      0.04\n",
      "7    35.00   35.04     -0.04\n",
      "8    35.00   35.07     -0.07\n",
      "9    34.98   35.14     -0.16\n",
      "10   34.95   35.14     -0.19\n",
      "11   34.95   35.16     -0.21\n",
      "12   34.94   35.18     -0.24\n",
      "13   34.92   35.19     -0.27\n",
      "14   34.91   35.22     -0.31\n",
      "15   34.89   35.23     -0.34\n",
      "16   34.87   35.23     -0.36\n",
      "17   34.83   35.27     -0.44\n",
      "18   34.81   35.34     -0.53\n",
      "19   34.80   35.43     -0.63\n",
      "7\n"
     ]
    }
   ],
   "source": [
    "import numpy as np \n",
    "\n",
    "Ronald_sneller = 0\n",
    "Michel_sneller = 0\n",
    "\n",
    "for row in schaatstijdenVerschil.index:\n",
    "    if schaatstijdenVerschil['Verschil'][row]<0.0:\n",
    "        Ronald_sneller += 1\n",
    "    else:\n",
    "        Michel_sneller += 1\n",
    "        \n",
    "print(Ronald_sneller) #ronald 22 keer\n",
    "print(Michel_sneller) #Michel 4 keer\n",
    "\n",
    "print(round(Ronald_sneller/(Ronald_sneller+Michel_sneller)*100) + '%') #85%\n",
    "\n",
    "Ronald_min_20 = schaatstijdenVerschil.sort_values(\"Ronald\", ascending=False).reset_index().iloc[:20]\n",
    "Michel_top_20 = schaatstijdenVerschil.sort_values(\"Michel\").reset_index().iloc[:20]\n",
    "\n",
    "slechtse_beste_vergelijking = pd.concat([Ronald_min_20['Ronald'], Michel_top_20['Michel']], axis = 1)\n",
    "\n",
    "slechtse_beste_vergelijking['Verschil'] = slechtse_beste_vergelijking['Ronald'] - slechtse_beste_vergelijking['Michel']\n",
    "print(slechtse_beste_vergelijking)\n",
    "\n",
    "Michel_wint_alsnog = 0\n",
    "\n",
    "for row in slechtse_beste_vergelijking.index:\n",
    "    if slechtse_beste_vergelijking['Verschil'][row]>0.0:\n",
    "        Michel_wint_alsnog += 1\n",
    "\n",
    "print(Michel_wint_alsnog) #7\n",
    "   \n",
    "\n"
   ]
  },
  {
   "cell_type": "code",
   "execution_count": null,
   "metadata": {},
   "outputs": [],
   "source": []
  }
 ],
 "metadata": {
  "kernelspec": {
   "display_name": "Python 3",
   "language": "python",
   "name": "python3"
  },
  "language_info": {
   "codemirror_mode": {
    "name": "ipython",
    "version": 3
   },
   "file_extension": ".py",
   "mimetype": "text/x-python",
   "name": "python",
   "nbconvert_exporter": "python",
   "pygments_lexer": "ipython3",
   "version": "3.10.9"
  },
  "vscode": {
   "interpreter": {
    "hash": "369e01ec3dd6252750b8612bf6a52f666435a34cc86b1ebe126ab89b338dac53"
   }
  }
 },
 "nbformat": 4,
 "nbformat_minor": 4
}
