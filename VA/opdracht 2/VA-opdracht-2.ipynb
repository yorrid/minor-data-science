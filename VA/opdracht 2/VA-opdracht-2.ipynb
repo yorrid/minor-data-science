{
 "cells": [
  {
   "cell_type": "markdown",
   "metadata": {},
   "source": [
    "# VA 2022-2023 sem-2 Opdracht 2"
   ]
  },
  {
   "cell_type": "markdown",
   "metadata": {},
   "source": [
    "Vul je naam in en die van je groepsgenoot:"
   ]
  },
  {
   "cell_type": "markdown",
   "metadata": {},
   "source": [
    "## Deadline"
   ]
  },
  {
   "cell_type": "markdown",
   "metadata": {},
   "source": [
    "De deadline voor deze opdracht is woensdag 10:00."
   ]
  },
  {
   "cell_type": "markdown",
   "metadata": {},
   "source": [
    "## Palmer Archipelago (Antarctica) penguin"
   ]
  },
  {
   "cell_type": "markdown",
   "metadata": {},
   "source": [
    "We maken gebruik van de dataset `Palmer Archipelago (Antarctica) penguin`. Download de `penguins_size` CSV bestand van Brightspace en plaats het in dezelfde folder waarin je werkt. Deze dataset laden we in via pandas. Zoals in opdracht 1 gebruiken we functies `head`, `info` en `describe` om de data te inspecteren. De data bevat de volgende informatie:\n",
    "* species: pinguïnsoorten (Chinstrap, Adélie of Gentoo)\n",
    "* culmen_length_mm: lengte bovenste rand van een snavel (mm)\n",
    "* culmen_depth_mm: snavel hoogte (mm)\n",
    "* flipper_length_mm: vleugel lengte (mm)\n",
    "* body_mass_g: lichaamsmassa (g)\n",
    "* island: eilandnaam (Dream, Torgersen of Biscoe) in de Palmer Archipelago (Antarctica)\n",
    "* sex: geslacht van de pinguins"
   ]
  },
  {
   "cell_type": "code",
   "execution_count": null,
   "metadata": {},
   "outputs": [],
   "source": [
    "import pandas as pd"
   ]
  },
  {
   "cell_type": "code",
   "execution_count": null,
   "metadata": {},
   "outputs": [],
   "source": [
    "df = pd.read_csv('penguins_size.csv')"
   ]
  },
  {
   "cell_type": "code",
   "execution_count": null,
   "metadata": {},
   "outputs": [],
   "source": [
    "df.head()"
   ]
  },
  {
   "cell_type": "code",
   "execution_count": null,
   "metadata": {},
   "outputs": [],
   "source": [
    "df.info()"
   ]
  },
  {
   "cell_type": "code",
   "execution_count": null,
   "metadata": {},
   "outputs": [],
   "source": [
    "df.describe()"
   ]
  },
  {
   "cell_type": "markdown",
   "metadata": {},
   "source": [
    "# Deel 1 - Seaborn\n",
    "## Onderdeel 1\n",
    "Laten we eerst een aantal boxplots maken van het gewicht en pinguïnsoort. We maken de opdrachten deze week eerst in `seaborn` en na dit onderdeel in `plotly`. \n",
    "\n",
    "* Zet de boxplots in verticale richting. (het pinguïnsoort komt op de x-as, gewicht op de y-as)\n",
    "* Geef de visualusatie geschikte titels en labels. Zie: https://www.delftstack.com/howto/seaborn/set-axis-labels-seaborn-python/ voor de labels\n",
    "* Verander de volgorde van de boxplots. Van links naar rechts: Gentoo, Adelie, Chrinstrap."
   ]
  },
  {
   "cell_type": "code",
   "execution_count": null,
   "metadata": {},
   "outputs": [],
   "source": [
    "import seaborn as sns\n",
    "import matplotlib.pyplot as plt\n",
    "\n",
    "ax = sns.boxplot(...)\n",
    "plt.title(...)\n",
    "plt.xlabel(...)\n",
    "plt.ylabel(...)\n",
    "plt.show()\n"
   ]
  },
  {
   "cell_type": "markdown",
   "metadata": {},
   "source": [
    "Voeg nu de volgende onderdelen toe aan je vorige plot:\n",
    "* Maak de boxplots dunner.\n",
    "* Geef de boxplots een andere kleur dan de standaardkleur.\n",
    "* Vermeld boven de mediaan in de boxplots de waarde van de mediaan."
   ]
  },
  {
   "cell_type": "code",
   "execution_count": null,
   "metadata": {},
   "outputs": [],
   "source": [
    "## welke values heb je nodig?\n",
    "medians = df.groupby(...).median()\n",
    "medians"
   ]
  },
  {
   "cell_type": "code",
   "execution_count": null,
   "metadata": {},
   "outputs": [],
   "source": [
    "ax = sns.boxplot(...)\n",
    "\n",
    "order = ['', '', '']\n",
    "#selecteren obv index\n",
    "medians = medians.reindex(order)\n",
    "\n",
    "pos = range(len(medians))\n",
    "for tick, label in zip(pos, ax.get_xticklabels()):\n",
    "    ax.text(pos[tick], medians[tick] + 100, medians[tick], \n",
    "            horizontalalignment='center', size='x-small', color='w', weight='semibold')\n",
    "    \n",
    "plt.show()"
   ]
  },
  {
   "cell_type": "markdown",
   "metadata": {},
   "source": [
    "## Onderdeel 2"
   ]
  },
  {
   "cell_type": "markdown",
   "metadata": {},
   "source": [
    "Maak een scatterplot van de data met op de x-as de lengte van de snavel en op y-as de hoogte van de snavel.\n",
    "* Zorg dat alle verschillende soorten een eigen kleur hebben.\n",
    "* Geef de visualisatie geschikte titels en labels\n",
    "* Geef de titel een rode kleur.\n"
   ]
  },
  {
   "cell_type": "code",
   "execution_count": null,
   "metadata": {},
   "outputs": [],
   "source": [
    "ax = sns.scatterplot(...)"
   ]
  },
  {
   "cell_type": "markdown",
   "metadata": {},
   "source": [
    "We zijn nu benieuwd naar de relatie tussen het gewicht en de vleugelgrootte per pinguinsoort. Maak een spreidingsdiagram van de twee variabelen. Voldoe aan de volgende eisen.\n",
    "\n",
    "* Geef elk soort een eigen kleur en markeervorm. (denk aan rondjes, sterretjes en plusjes). Gebruik `markers`.\n",
    "* Zet `height` parameter op 8.\n",
    "* Gebruik een functie in seaborn om een lineaire regressielijn toe te voegen voor elk soort (`sns.lmplot`). Verwijder het betrouwbaarheidsinterval (het gebied om de regressielijn) met `ci = None`.\n",
    "* Geef de visualusatie geschikte titels. (boven, en x- en y-assen)\n",
    "* Geef de legenda een passende titel"
   ]
  },
  {
   "cell_type": "code",
   "execution_count": null,
   "metadata": {},
   "outputs": [],
   "source": [
    "g = sns.lmplot(...)\n",
    "\n",
    "new_title = 'My title'\n",
    "g._legend.set_title(new_title)\n",
    "\n",
    "\n",
    "plt.show()"
   ]
  },
  {
   "cell_type": "code",
   "execution_count": null,
   "metadata": {},
   "outputs": [],
   "source": []
  },
  {
   "cell_type": "markdown",
   "metadata": {},
   "source": [
    "# Deel 2 - Plotly\n",
    "## Onderdeel 3"
   ]
  },
  {
   "cell_type": "markdown",
   "metadata": {},
   "source": [
    "Laten we eerst een aantal boxplots maken van het gewicht en pinguïnsoort. Zoals alle verdere opdrachten maken we de volgende visualisaties met `plotly`.\n",
    "\n",
    "* Zet de boxplots in verticale richting. (het pinguïnsoort komt op de x-as)\n",
    "* Geef de visualusatie geschikte titels. (boven, en x- en y-assen)\n",
    "* Geef alle verschillende soorten een andere kleur. Gebruik hiervoor een andere kleurenverdeling dan de standaard.\n",
    "* Verander de volgorde van de boxplots. Van links naar rechts: Gentoo, Adelie, Chinstrap."
   ]
  },
  {
   "cell_type": "code",
   "execution_count": null,
   "metadata": {},
   "outputs": [],
   "source": [
    "import plotly.express as px\n",
    "\n",
    "# Wanneer je een error krijgt, installeer dan plotly, zie https://plotly.com/python/getting-started/"
   ]
  },
  {
   "cell_type": "code",
   "execution_count": null,
   "metadata": {},
   "outputs": [],
   "source": [
    "fig = px.box()\n",
    "fig.show()"
   ]
  },
  {
   "cell_type": "markdown",
   "metadata": {},
   "source": [
    "Beantwoord op basis van de laatst gemaakte visualisatie.\n",
    "\n",
    "* Welke uitspraak kan je maken met betrekking tot de lichaamsmassa en het pinguïnsoort?"
   ]
  },
  {
   "cell_type": "markdown",
   "metadata": {},
   "source": [
    "#### Antwoord:\n",
    "\n"
   ]
  },
  {
   "cell_type": "markdown",
   "metadata": {},
   "source": [
    "Voordat we aan de slag gaan met de distplot gaan we een histogram maken van de lengte van de vleugels (`flipper_length_mm`) van de drie pinguïnsoorten.\n",
    "* Gebruik de px.histogram om een histogram te maken.\n",
    "* Zorg dat elke soort een eigen duidelijk verschillende kleur heeft. Gebruik hiervoor een eigen color map.\n",
    "* Geef de visualusatie geschikte titels. (boven, en x- en y-assen)"
   ]
  },
  {
   "cell_type": "code",
   "execution_count": null,
   "metadata": {},
   "outputs": [],
   "source": [
    "species_color_map = {}\n",
    "\n",
    "fig = px.histogram()\n",
    "fig.update_layout()\n",
    "fig.show()"
   ]
  },
  {
   "cell_type": "markdown",
   "metadata": {},
   "source": [
    "## Onderdeel 4"
   ]
  },
  {
   "cell_type": "markdown",
   "metadata": {},
   "source": [
    "We gaan kijken of de snavelkarakteristieken verschillend zijn per pinguïnsoort en/of eiland. Hiervoor maken we een spreidingsdiagram. Om dit te maken, gebruiken we de scatter_matrix functie van plotly express.\n",
    "\n",
    "* Gebruik de variabelen lengte en hoogte van de snavel en eiland voor de spreidingsdiagram.\n",
    "* Geef elk eiland een eigen vorm. (denk aan rondjes, sterretjes en plusjes). Je kan hiervoor het `symbol` argument gebruiken\n",
    "* Maak de grafiek groter en laat de diagonale grafieken in de figuur weg. (zie voorbeelden https://plotly.com/python/splom/)\n",
    "* Geef de visualusatie geschikte titels en labels (legenda). (boven, en x- en y-assen)\n",
    "\n",
    "Geef elk soort een eigen kleur. Zie de voorbeelden op https://plotly.com/python/discrete-color/\n",
    "\n",
    "Zit je in groep 1, 2 of 3 (case groep):\n",
    "* Gebruik de kleuren van het kleurenschema Set3\n",
    "\n",
    "Zit je in groep 4, 5 of 6 (case groep):\n",
    "* Gebruik de kleuren van het kleurenschema Pastel\n",
    "\n",
    "Zit je in groep 7, 8, 9 of 10 (case groep):\n",
    "* Gebruik de kleuren van het kleurenschema Vivid\n",
    "\n"
   ]
  },
  {
   "cell_type": "code",
   "execution_count": null,
   "metadata": {},
   "outputs": [],
   "source": [
    "fig = px.scatter_matrix()\n",
    "fig.update_traces(diagonal_visible=False)\n",
    "fig.update_layout()\n",
    "fig.show()\n",
    "\n",
    "\n"
   ]
  },
  {
   "cell_type": "markdown",
   "metadata": {},
   "source": [
    "Beantwoord op basis van de laatst gemaakte visualisatie.\n",
    "\n",
    "* Wat is de relatie tussen de snavelkarakteristieken (lengte en hoogte) en de pinguïnsoorten?\n",
    "* Wat valt je op als je kijkt naar type eiland en pinguïnsoort?"
   ]
  },
  {
   "cell_type": "markdown",
   "metadata": {},
   "source": [
    "#### Antwoord:\n",
    "\n",
    "\n"
   ]
  },
  {
   "cell_type": "markdown",
   "metadata": {},
   "source": [
    "## Onderdeel 5"
   ]
  },
  {
   "cell_type": "markdown",
   "metadata": {},
   "source": [
    "We gaan hier op een andere manier een figuur maken. Namelijk met de `graphic_objects` module van plotly. We maken een scatter plot, waarbij we snavel lengte op de y-as en snavel hoogte op x-as zetten.\n",
    "\n",
    "* Maak een lijst met de drie verschillende soorten.\n",
    "* Maak een loop, waarbij elke keer voor een andere soort een nieuwe trace met een scatter plot wordt toegevoegd.\n",
    "* Zorg dat de assen en titels weer geschikt zijn.\n",
    "* Gebruik dezelfde kleuren als uit onderdeel 3 (maak je eigen color map)"
   ]
  },
  {
   "cell_type": "code",
   "execution_count": null,
   "metadata": {},
   "outputs": [],
   "source": [
    "import plotly.graph_objects as go\n",
    "fig = go.Figure()\n",
    "\n",
    "species = []\n",
    "\n",
    "### code\n",
    "# Loop through the species\n",
    "for species in []:\n",
    "    fig.add_trace()\n",
    "\n",
    "fig.update_layout({'title': {'text':''},\n",
    "                    'xaxis': {'title':{'text': ''}},\n",
    "                    'yaxis': {'title':{'text': ''}}})\n",
    "fig.show()"
   ]
  },
  {
   "cell_type": "markdown",
   "metadata": {},
   "source": [
    "## Onderdeel 6"
   ]
  },
  {
   "cell_type": "markdown",
   "metadata": {},
   "source": [
    "We zijn nu benieuwd naar de relatie tussen het gewicht en de vleugelgrootte per pinguinsoort. Maak een spreidingsdiagram van de twee variabelen. Dit kan met de plotly.express module `scatter_matrix`. Voldoe aan de volgende eisen.\n",
    "\n",
    "* Geef elk soort een eigen kleur en markeervorm. (denk aan rondjes, sterretjes en plusjes)\n",
    "* Zet `height` parameter op geschikte `int`, zodat de hoogte ongeveer 2 keer zo veel is als de `default`.\n",
    "* Geef de visualusatie geschikte titels. (boven, en x- en y-assen)\n",
    "\n",
    "Zit je in groep 1, 2 of 3 (case groep):\n",
    "* Voeg een annotatie zonder pijl toe met de huidige datum en tijd boven aan de figuur. Gebruik hiervoor y: 1.05, en x: 0.5 \n",
    "\n",
    "Zit je in groep 4, 5 of 6:\n",
    "* Voeg een annotatie met pijl toe aan de grafiek linksboven om het maximum aan te geven met (evt. handmatig aangegeven) hoeveel de waarde is van het maximum\n",
    "\n",
    "Zit je in groep 7, 8, 9 of 10:\n",
    "* Voeg een annotatie zonder pijl toe met de mediane waardes van het gewicht van elke soort onder aan de figuur met gewicht.  \n",
    "\n"
   ]
  },
  {
   "cell_type": "code",
   "execution_count": null,
   "metadata": {},
   "outputs": [],
   "source": [
    "from datetime import datetime\n",
    "\n",
    "fig = px.scatter_matrix()\n",
    "\n",
    "# Add an annotation and show\n",
    "timestamp = datetime.now()\n",
    "fig.update_layout()\n",
    "fig.show()"
   ]
  },
  {
   "cell_type": "markdown",
   "metadata": {},
   "source": [
    "## Onderdeel 7"
   ]
  },
  {
   "cell_type": "markdown",
   "metadata": {},
   "source": [
    "We gaan nu dezelfde relatie tussen het gewicht en de vleugelgrootte per pinguinsoort nog eens bekijken. We gaan nu ook een regressielijn in de figuur laten zien. Dit doen we met het `trendline` argument. \n",
    "\n",
    "* Maak een scatter plot met gewicht op de x-as en vleugel lengte op de y-as.\n",
    "* Zorg dat elke soort een eigen kleur heeft.\n",
    "* Maak een 'ols' regressielijn voor elke soort met het `trendline` argument.\n",
    "* Maak een histogram boven de x-as en naast de y-as met de `marginal_x` en `marginal_y` argumenten.\n",
    "* Geef beide assen en de figuur een geschikte titel en zorg dat de legenda ook een geschikt label heeft.\n",
    "* Maak de grafiek een stuk groter"
   ]
  },
  {
   "cell_type": "code",
   "execution_count": null,
   "metadata": {
    "scrolled": false
   },
   "outputs": [],
   "source": [
    "fig = px.scatter()\n",
    "fig.update_layout()\n",
    "fig.show()"
   ]
  },
  {
   "cell_type": "markdown",
   "metadata": {},
   "source": [
    "Beantwoord op basis van de laatst gemaakte visualisatie.\n",
    "\n",
    "* Wat is de voorspelde vleugelgrootte bij een gewicht van 4500 gram van de soort Gentoo? \n",
    "* welk regressielijn heeft het grootste richtingcoefficient?"
   ]
  },
  {
   "cell_type": "markdown",
   "metadata": {},
   "source": [
    "#### Antwoord:\n",
    "\n",
    "\n"
   ]
  },
  {
   "cell_type": "markdown",
   "metadata": {},
   "source": [
    "## Onderdeel 8"
   ]
  },
  {
   "cell_type": "markdown",
   "metadata": {},
   "source": [
    "We gaan nu een dichtheidsfunctie maken van de lengte van de vleugels (`flipper_length_mm`) van de drie pinguïnsoorten. Hiervoor gebruiken we de displot functie van plotly. \n",
    "\n",
    "* Mocht je hier ergens een foutmelding krijgen, zorg eerst dat je de dataframe filtert op Nan values\n",
    "* Om een dichtheidsfunctie te maken moeten we aan de slag met de plotly.figure_factory package. Importeer deze package. Kijk hier verder voor meer informatie: https://plotly.com/python/distplot/\n",
    "* We moeten de data eerst herschrijven om met deze package aan de slag te gaan. Dat is soms de harde waarheid van mooie visualisaties maken. Veel voorwerk... Kijk bij de voorbeelden in de link voor meer info: https://plotly.com/python/distplot/ (Het is ook mogelijk om het met de pandas DataFrame te doen, maar dat is wat moeilijker.)\n",
    "\n",
    "\n",
    "* Maak van elke soort een list of DataFrame Series met de lengte van de vleugels\n",
    "* Maak een nieuwe variabele met de namen van de labels\n",
    "* Maak de figuur van de distplot met een passende titel en label op de x-as\n",
    "\n",
    "Zit je in groep 1, 2 of 3 (case groep): \n",
    "* gebruik deze kleuren (colors = ['#835AF1', '#7FA6EE', '#B8F7D4']) en zorg dat de dichtheidsfunctie lijnen niet zichtbaar zijn.\n",
    "\n",
    "Zit je in groep 4, 5 of 6: \n",
    "* Gebruik dezelfde kleuren als in voorgaande plots en gebruik de volgende bin groottes ([0.3, 0.2, 0.1])\n",
    "\n",
    "Zit je in groep 7, 8, 9 of 10: \n",
    "* Zorg dat je de RUG plot niet laat zien en gebruik de normaal verdeling als curve type."
   ]
  },
  {
   "cell_type": "code",
   "execution_count": null,
   "metadata": {
    "scrolled": false
   },
   "outputs": [],
   "source": [
    "import plotly.figure_factory as ff\n",
    "\n",
    "# df = df.dropna()\n",
    "\n",
    "group_1 = df[df['species'] == 'Adelie']['flipper_length_mm']\n",
    "# group_2 = ...\n",
    "# group_3 = ...\n",
    "\n",
    "# group_labels = ['Adelie', 'Chinstrap', 'Gentoo']\n",
    "\n",
    "fig = ff.create_distplot(...,colors=['blue','red','green'])\n",
    "fig.update_layout()\n",
    "fig.show()\n",
    "\n"
   ]
  },
  {
   "cell_type": "markdown",
   "metadata": {},
   "source": [
    "## Onderdeel 9"
   ]
  },
  {
   "cell_type": "markdown",
   "metadata": {},
   "source": [
    "Deze vragen gaan over de dichtheidsfunctie gemaakt in onderdeel 3. Geef antwoord op de volgende vragen op basis van de gemaakte visualisatie.\n",
    "\n",
    "* Wat voor verdeling is dit?\n",
    "* Wat is een dichtheidsfunctie?\n",
    "* Noem tenminste twee voordelen en een nadeel van een Kernel density estimation (KDE)."
   ]
  },
  {
   "cell_type": "markdown",
   "metadata": {},
   "source": [
    "#### Antwoord:"
   ]
  },
  {
   "cell_type": "markdown",
   "metadata": {},
   "source": [
    "## Onderdeel 10"
   ]
  },
  {
   "cell_type": "markdown",
   "metadata": {},
   "source": [
    "We willen de spreidingsdiagram ook maken met behulp van de `plotly.graph_objects` om een aantal opties toe te voegen.\n",
    "* Maak een scatter matrix (splom). https://plotly.com/python/splom/\n",
    "* Geef de verschillende soorten andere kleuren (als het kan, soortgelijke kleuren als in de voorgaande figuren, https://plotly.com/python/colorscales/)\n",
    "* Geef de assen juiste namen en geef de figuur een passende titel\n",
    "\n",
    "Zit in je in groep 1, 2 of 3 (case groep): \n",
    "* Zorg dat de markers doorzichtig zijn. Gebruik de waarde `0.5`.\n",
    "\n",
    "Zit je in groep 4, 5 of 6:\n",
    "* Verberg de diagonale grafieken van de figuur.\n",
    "\n",
    "Zit je in groep 7, 8, 9 of 10:\n",
    "* Gebruik een hoogte en breedte van `1000` voor deze figuur."
   ]
  },
  {
   "cell_type": "code",
   "execution_count": null,
   "metadata": {
    "scrolled": false
   },
   "outputs": [],
   "source": [
    "import plotly.graph_objects as go\n",
    "\n",
    "fig = go.Splom()\n",
    "\n",
    "### code\n",
    "\n",
    "fig.show()"
   ]
  }
 ],
 "metadata": {
  "kernelspec": {
   "display_name": "Python 3 (ipykernel)",
   "language": "python",
   "name": "python3"
  },
  "language_info": {
   "codemirror_mode": {
    "name": "ipython",
    "version": 3
   },
   "file_extension": ".py",
   "mimetype": "text/x-python",
   "name": "python",
   "nbconvert_exporter": "python",
   "pygments_lexer": "ipython3",
   "version": "3.7.10"
  }
 },
 "nbformat": 4,
 "nbformat_minor": 4
}
