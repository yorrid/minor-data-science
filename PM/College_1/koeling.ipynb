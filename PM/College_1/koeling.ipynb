{
 "cells": [
  {
   "cell_type": "code",
   "execution_count": 122,
   "metadata": {},
   "outputs": [],
   "source": [
    "import pandas as pd\n",
    "import numpy as np\n",
    "import matplotlib.pyplot as plt\n",
    "import plotly.express as px\n",
    "import plotly.graph_objects as go\n",
    "from datetime import datetime\n",
    "from datetime import timedelta\n",
    "from pandas.plotting import register_matplotlib_converters\n",
    "from statsmodels.tsa.seasonal import seasonal_decompose\n",
    "from statsmodels.tsa.stattools import acf, pacf\n",
    "from statsmodels.tsa.statespace.sarimax import SARIMAX\n",
    "register_matplotlib_converters()\n",
    "from time import time\n",
    "from scipy.signal import find_peaks"
   ]
  },
  {
   "cell_type": "code",
   "execution_count": 123,
   "metadata": {},
   "outputs": [],
   "source": [
    "def parser(s):\n",
    "    return datetime.strptime(s, '%Y-%m-%d %H:%M:%S')"
   ]
  },
  {
   "cell_type": "code",
   "execution_count": 124,
   "metadata": {},
   "outputs": [],
   "source": [
    "data = pd.read_csv('freezerdata_clean.csv', index_col=0, parse_dates=[0], date_parser=parser, usecols=[1,7]).squeeze('columns')"
   ]
  },
  {
   "cell_type": "code",
   "execution_count": 125,
   "metadata": {},
   "outputs": [
    {
     "data": {
      "text/plain": [
       "Date\n",
       "2023-03-14 23:00:00     NaN\n",
       "2023-03-14 23:01:00    19.2\n",
       "2023-03-14 23:02:00    19.4\n",
       "2023-03-14 23:03:00    19.2\n",
       "2023-03-14 23:04:00    19.3\n",
       "Name: Refrigerated, dtype: float64"
      ]
     },
     "execution_count": 125,
     "metadata": {},
     "output_type": "execute_result"
    }
   ],
   "source": [
    "data.head()"
   ]
  },
  {
   "cell_type": "code",
   "execution_count": 126,
   "metadata": {},
   "outputs": [
    {
     "data": {
      "text/plain": [
       "Date\n",
       "2023-03-14 23:00:00     0.0\n",
       "2023-03-14 23:01:00    19.2\n",
       "2023-03-14 23:02:00    19.4\n",
       "2023-03-14 23:03:00    19.2\n",
       "2023-03-14 23:04:00    19.3\n",
       "                       ... \n",
       "2023-03-19 18:56:00    -3.5\n",
       "2023-03-19 18:57:00    -2.2\n",
       "2023-03-19 18:58:00    -2.0\n",
       "2023-03-19 18:59:00    -1.6\n",
       "2023-03-19 19:00:00    -1.4\n",
       "Name: Refrigerated, Length: 6961, dtype: float64"
      ]
     },
     "execution_count": 126,
     "metadata": {},
     "output_type": "execute_result"
    }
   ],
   "source": [
    "data.fillna(0)"
   ]
  },
  {
   "cell_type": "code",
   "execution_count": 137,
   "metadata": {},
   "outputs": [],
   "source": [
    "start_date = datetime(2023,3,17,10,0,0)\n",
    "end_date = datetime(2023,3,17,15,0,0)\n",
    "lim_data = data[start_date:end_date]"
   ]
  },
  {
   "cell_type": "code",
   "execution_count": 141,
   "metadata": {},
   "outputs": [],
   "source": [
    "peaks = find_peaks(lim_data)[0]\n",
    "throughs = find_peaks(-lim_data)[0]"
   ]
  },
  {
   "cell_type": "code",
   "execution_count": 145,
   "metadata": {},
   "outputs": [
    {
     "data": {
      "application/vnd.plotly.v1+json": {
       "config": {
        "plotlyServerURL": "https://plot.ly"
       },
       "data": [
        {
         "mode": "lines+markers",
         "name": "Original Plot",
         "type": "scatter",
         "y": [
          -3,
          -2.4,
          -1.7,
          -1.5,
          -1.2,
          -0.9,
          -0.8,
          -0.6,
          -0.4,
          0,
          0,
          0.2,
          0.4,
          0.5,
          0.7,
          0.9,
          1.1,
          1.3,
          1.4,
          1.5,
          -2.4,
          -1.3,
          1.4,
          -2.2,
          -1.8,
          -2.2,
          -0.8,
          -0.7,
          null,
          -0.4,
          -0.3,
          -3.2,
          -4.7,
          -2.4,
          -2.2,
          -1.9,
          -1.6,
          -1.4,
          -1,
          0.9,
          -4.4,
          -2.4,
          -2.2,
          -2,
          -1.6,
          -1.3,
          -1.2,
          -0.7,
          -0.7,
          -0.4,
          -0.3,
          -0.2,
          0,
          0,
          0.3,
          0.4,
          0.6,
          0.6,
          0.6,
          0.8,
          0.8,
          1,
          1.2,
          -3,
          -3.3,
          -2.1,
          -1.8,
          -1.7,
          -1.3,
          -1,
          -0.6,
          -0.6,
          -0.5,
          -0.2,
          0.1,
          0,
          0.3,
          0.6,
          0.5,
          0.7,
          0.8,
          0.8,
          1,
          1,
          1.2,
          1.3,
          1.4,
          -3.1,
          -1.4,
          -2.2,
          -1.9,
          -1.5,
          -1.2,
          -0.9,
          -0.7,
          -0.5,
          -0.4,
          0,
          0.1,
          0.4,
          0.4,
          0.5,
          0.7,
          0.7,
          0.9,
          1,
          1,
          1.1,
          1.3,
          1.4,
          -3.4,
          -1.8,
          -2,
          -1.8,
          -1.4,
          -1.2,
          -0.8,
          -0.6,
          -0.4,
          -0.1,
          0,
          0,
          0.4,
          0.6,
          0.4,
          0.8,
          0.9,
          1,
          0.9,
          1.1,
          1,
          -1.9,
          -1.6,
          -2.2,
          -1.9,
          -1.4,
          -1.9,
          0.8,
          2.7,
          3.4,
          4.6,
          5.7,
          5.7,
          5.8,
          5.9,
          6.2,
          7.4,
          7.9,
          6.8,
          7.1,
          6.9,
          8.4,
          8.6,
          8.8,
          8.3,
          8.7,
          8.8,
          8.5,
          8,
          8.4,
          8.6,
          9,
          9.1,
          8.6,
          9.2,
          9.1,
          9.6,
          4.2,
          0.8,
          -1.9,
          -3.7,
          -1.2,
          -0.8,
          0,
          0.4,
          0.8,
          1,
          1.4,
          1.6,
          -2.6,
          -1.2,
          -1.8,
          -1.2,
          -0.8,
          -0.5,
          -0.2,
          0.3,
          0.4,
          0.7,
          0.9,
          1.1,
          1.2,
          1.3,
          -3.3,
          -4.4,
          -2,
          -1.6,
          -1.3,
          -1,
          -0.8,
          -0.4,
          -0.1,
          0.1,
          0.3,
          0.6,
          0.7,
          0.7,
          0.9,
          1.1,
          1.2,
          1.3,
          -2.9,
          -4.6,
          -2,
          -1.9,
          -1.5,
          -1.1,
          -0.8,
          -0.7,
          -0.4,
          null,
          -0.2,
          0,
          0,
          0.4,
          0.5,
          0.6,
          0.9,
          1,
          1.2,
          1.2,
          1.3,
          -4,
          -3.8,
          -2.2,
          -1.9,
          -1.6,
          -1.3,
          -0.9,
          -0.8,
          -0.7,
          -0.4,
          0,
          0,
          0.3,
          0.3,
          0.4,
          0.6,
          0.7,
          1,
          0.9,
          1.1,
          1.2,
          1.4,
          -2.7,
          -4,
          -2.2,
          -2,
          -1.7,
          -1.3,
          -1,
          -0.8,
          -0.6,
          -0.4,
          -0.2,
          0,
          0.1,
          0.4,
          0.6,
          0.6,
          0.8,
          0.9,
          1,
          1,
          1,
          1.4,
          1.4,
          -2.7,
          -1.9,
          -2.1,
          -1.8,
          -1.4,
          -1.2,
          -1,
          -0.6,
          -0.5,
          -0.3,
          -0.2,
          0,
          0.2,
          0.3,
          0.4,
          0.7,
          0.8,
          1,
          1,
          1.1,
          1.4,
          1.4,
          -3.4,
          -3.9
         ]
        },
        {
         "marker": {
          "color": "red",
          "size": 8,
          "symbol": "cross"
         },
         "mode": "markers",
         "name": "Detected Peaks",
         "type": "scatter",
         "x": [
          19,
          22,
          24,
          30,
          39,
          62,
          74,
          77,
          86,
          88,
          109,
          111,
          123,
          127,
          129,
          132,
          135,
          147,
          149,
          153,
          156,
          162,
          164,
          166,
          178,
          180,
          192,
          210,
          231,
          249,
          253,
          275,
          278,
          297
         ],
         "y": [
          1.5,
          1.4,
          -1.8,
          -0.3,
          0.9,
          1.2,
          0.1,
          0.6,
          1.4,
          -1.4,
          1.4,
          -1.8,
          0.6,
          1,
          1.1,
          -1.6,
          -1.4,
          7.9,
          7.1,
          8.8,
          8.8,
          9.1,
          9.2,
          9.6,
          1.6,
          -1.2,
          1.3,
          1.3,
          1.3,
          1,
          1.4,
          1.4,
          -1.9,
          1.4
         ]
        },
        {
         "marker": {
          "color": "orange",
          "size": 8,
          "symbol": "circle"
         },
         "mode": "markers",
         "name": "Detected throughs",
         "type": "scatter",
         "x": [
          20,
          23,
          25,
          32,
          40,
          64,
          75,
          78,
          87,
          89,
          110,
          112,
          124,
          128,
          131,
          133,
          136,
          148,
          150,
          154,
          158,
          163,
          165,
          170,
          179,
          181,
          194,
          212,
          232,
          250,
          255,
          277,
          279
         ],
         "y": [
          -2.4,
          -2.2,
          -2.2,
          -4.7,
          -4.4,
          -3.3,
          0,
          0.5,
          -3.1,
          -2.2,
          -3.4,
          -2,
          0.4,
          0.9,
          -1.9,
          -2.2,
          -1.9,
          6.8,
          6.9,
          8.3,
          8,
          8.6,
          9.1,
          -3.7,
          -2.6,
          -1.8,
          -4.4,
          -4.6,
          -4,
          0.9,
          -4,
          -2.7,
          -2.1
         ]
        }
       ],
       "layout": {
        "template": {
         "data": {
          "bar": [
           {
            "error_x": {
             "color": "#2a3f5f"
            },
            "error_y": {
             "color": "#2a3f5f"
            },
            "marker": {
             "line": {
              "color": "#E5ECF6",
              "width": 0.5
             },
             "pattern": {
              "fillmode": "overlay",
              "size": 10,
              "solidity": 0.2
             }
            },
            "type": "bar"
           }
          ],
          "barpolar": [
           {
            "marker": {
             "line": {
              "color": "#E5ECF6",
              "width": 0.5
             },
             "pattern": {
              "fillmode": "overlay",
              "size": 10,
              "solidity": 0.2
             }
            },
            "type": "barpolar"
           }
          ],
          "carpet": [
           {
            "aaxis": {
             "endlinecolor": "#2a3f5f",
             "gridcolor": "white",
             "linecolor": "white",
             "minorgridcolor": "white",
             "startlinecolor": "#2a3f5f"
            },
            "baxis": {
             "endlinecolor": "#2a3f5f",
             "gridcolor": "white",
             "linecolor": "white",
             "minorgridcolor": "white",
             "startlinecolor": "#2a3f5f"
            },
            "type": "carpet"
           }
          ],
          "choropleth": [
           {
            "colorbar": {
             "outlinewidth": 0,
             "ticks": ""
            },
            "type": "choropleth"
           }
          ],
          "contour": [
           {
            "colorbar": {
             "outlinewidth": 0,
             "ticks": ""
            },
            "colorscale": [
             [
              0,
              "#0d0887"
             ],
             [
              0.1111111111111111,
              "#46039f"
             ],
             [
              0.2222222222222222,
              "#7201a8"
             ],
             [
              0.3333333333333333,
              "#9c179e"
             ],
             [
              0.4444444444444444,
              "#bd3786"
             ],
             [
              0.5555555555555556,
              "#d8576b"
             ],
             [
              0.6666666666666666,
              "#ed7953"
             ],
             [
              0.7777777777777778,
              "#fb9f3a"
             ],
             [
              0.8888888888888888,
              "#fdca26"
             ],
             [
              1,
              "#f0f921"
             ]
            ],
            "type": "contour"
           }
          ],
          "contourcarpet": [
           {
            "colorbar": {
             "outlinewidth": 0,
             "ticks": ""
            },
            "type": "contourcarpet"
           }
          ],
          "heatmap": [
           {
            "colorbar": {
             "outlinewidth": 0,
             "ticks": ""
            },
            "colorscale": [
             [
              0,
              "#0d0887"
             ],
             [
              0.1111111111111111,
              "#46039f"
             ],
             [
              0.2222222222222222,
              "#7201a8"
             ],
             [
              0.3333333333333333,
              "#9c179e"
             ],
             [
              0.4444444444444444,
              "#bd3786"
             ],
             [
              0.5555555555555556,
              "#d8576b"
             ],
             [
              0.6666666666666666,
              "#ed7953"
             ],
             [
              0.7777777777777778,
              "#fb9f3a"
             ],
             [
              0.8888888888888888,
              "#fdca26"
             ],
             [
              1,
              "#f0f921"
             ]
            ],
            "type": "heatmap"
           }
          ],
          "heatmapgl": [
           {
            "colorbar": {
             "outlinewidth": 0,
             "ticks": ""
            },
            "colorscale": [
             [
              0,
              "#0d0887"
             ],
             [
              0.1111111111111111,
              "#46039f"
             ],
             [
              0.2222222222222222,
              "#7201a8"
             ],
             [
              0.3333333333333333,
              "#9c179e"
             ],
             [
              0.4444444444444444,
              "#bd3786"
             ],
             [
              0.5555555555555556,
              "#d8576b"
             ],
             [
              0.6666666666666666,
              "#ed7953"
             ],
             [
              0.7777777777777778,
              "#fb9f3a"
             ],
             [
              0.8888888888888888,
              "#fdca26"
             ],
             [
              1,
              "#f0f921"
             ]
            ],
            "type": "heatmapgl"
           }
          ],
          "histogram": [
           {
            "marker": {
             "pattern": {
              "fillmode": "overlay",
              "size": 10,
              "solidity": 0.2
             }
            },
            "type": "histogram"
           }
          ],
          "histogram2d": [
           {
            "colorbar": {
             "outlinewidth": 0,
             "ticks": ""
            },
            "colorscale": [
             [
              0,
              "#0d0887"
             ],
             [
              0.1111111111111111,
              "#46039f"
             ],
             [
              0.2222222222222222,
              "#7201a8"
             ],
             [
              0.3333333333333333,
              "#9c179e"
             ],
             [
              0.4444444444444444,
              "#bd3786"
             ],
             [
              0.5555555555555556,
              "#d8576b"
             ],
             [
              0.6666666666666666,
              "#ed7953"
             ],
             [
              0.7777777777777778,
              "#fb9f3a"
             ],
             [
              0.8888888888888888,
              "#fdca26"
             ],
             [
              1,
              "#f0f921"
             ]
            ],
            "type": "histogram2d"
           }
          ],
          "histogram2dcontour": [
           {
            "colorbar": {
             "outlinewidth": 0,
             "ticks": ""
            },
            "colorscale": [
             [
              0,
              "#0d0887"
             ],
             [
              0.1111111111111111,
              "#46039f"
             ],
             [
              0.2222222222222222,
              "#7201a8"
             ],
             [
              0.3333333333333333,
              "#9c179e"
             ],
             [
              0.4444444444444444,
              "#bd3786"
             ],
             [
              0.5555555555555556,
              "#d8576b"
             ],
             [
              0.6666666666666666,
              "#ed7953"
             ],
             [
              0.7777777777777778,
              "#fb9f3a"
             ],
             [
              0.8888888888888888,
              "#fdca26"
             ],
             [
              1,
              "#f0f921"
             ]
            ],
            "type": "histogram2dcontour"
           }
          ],
          "mesh3d": [
           {
            "colorbar": {
             "outlinewidth": 0,
             "ticks": ""
            },
            "type": "mesh3d"
           }
          ],
          "parcoords": [
           {
            "line": {
             "colorbar": {
              "outlinewidth": 0,
              "ticks": ""
             }
            },
            "type": "parcoords"
           }
          ],
          "pie": [
           {
            "automargin": true,
            "type": "pie"
           }
          ],
          "scatter": [
           {
            "fillpattern": {
             "fillmode": "overlay",
             "size": 10,
             "solidity": 0.2
            },
            "type": "scatter"
           }
          ],
          "scatter3d": [
           {
            "line": {
             "colorbar": {
              "outlinewidth": 0,
              "ticks": ""
             }
            },
            "marker": {
             "colorbar": {
              "outlinewidth": 0,
              "ticks": ""
             }
            },
            "type": "scatter3d"
           }
          ],
          "scattercarpet": [
           {
            "marker": {
             "colorbar": {
              "outlinewidth": 0,
              "ticks": ""
             }
            },
            "type": "scattercarpet"
           }
          ],
          "scattergeo": [
           {
            "marker": {
             "colorbar": {
              "outlinewidth": 0,
              "ticks": ""
             }
            },
            "type": "scattergeo"
           }
          ],
          "scattergl": [
           {
            "marker": {
             "colorbar": {
              "outlinewidth": 0,
              "ticks": ""
             }
            },
            "type": "scattergl"
           }
          ],
          "scattermapbox": [
           {
            "marker": {
             "colorbar": {
              "outlinewidth": 0,
              "ticks": ""
             }
            },
            "type": "scattermapbox"
           }
          ],
          "scatterpolar": [
           {
            "marker": {
             "colorbar": {
              "outlinewidth": 0,
              "ticks": ""
             }
            },
            "type": "scatterpolar"
           }
          ],
          "scatterpolargl": [
           {
            "marker": {
             "colorbar": {
              "outlinewidth": 0,
              "ticks": ""
             }
            },
            "type": "scatterpolargl"
           }
          ],
          "scatterternary": [
           {
            "marker": {
             "colorbar": {
              "outlinewidth": 0,
              "ticks": ""
             }
            },
            "type": "scatterternary"
           }
          ],
          "surface": [
           {
            "colorbar": {
             "outlinewidth": 0,
             "ticks": ""
            },
            "colorscale": [
             [
              0,
              "#0d0887"
             ],
             [
              0.1111111111111111,
              "#46039f"
             ],
             [
              0.2222222222222222,
              "#7201a8"
             ],
             [
              0.3333333333333333,
              "#9c179e"
             ],
             [
              0.4444444444444444,
              "#bd3786"
             ],
             [
              0.5555555555555556,
              "#d8576b"
             ],
             [
              0.6666666666666666,
              "#ed7953"
             ],
             [
              0.7777777777777778,
              "#fb9f3a"
             ],
             [
              0.8888888888888888,
              "#fdca26"
             ],
             [
              1,
              "#f0f921"
             ]
            ],
            "type": "surface"
           }
          ],
          "table": [
           {
            "cells": {
             "fill": {
              "color": "#EBF0F8"
             },
             "line": {
              "color": "white"
             }
            },
            "header": {
             "fill": {
              "color": "#C8D4E3"
             },
             "line": {
              "color": "white"
             }
            },
            "type": "table"
           }
          ]
         },
         "layout": {
          "annotationdefaults": {
           "arrowcolor": "#2a3f5f",
           "arrowhead": 0,
           "arrowwidth": 1
          },
          "autotypenumbers": "strict",
          "coloraxis": {
           "colorbar": {
            "outlinewidth": 0,
            "ticks": ""
           }
          },
          "colorscale": {
           "diverging": [
            [
             0,
             "#8e0152"
            ],
            [
             0.1,
             "#c51b7d"
            ],
            [
             0.2,
             "#de77ae"
            ],
            [
             0.3,
             "#f1b6da"
            ],
            [
             0.4,
             "#fde0ef"
            ],
            [
             0.5,
             "#f7f7f7"
            ],
            [
             0.6,
             "#e6f5d0"
            ],
            [
             0.7,
             "#b8e186"
            ],
            [
             0.8,
             "#7fbc41"
            ],
            [
             0.9,
             "#4d9221"
            ],
            [
             1,
             "#276419"
            ]
           ],
           "sequential": [
            [
             0,
             "#0d0887"
            ],
            [
             0.1111111111111111,
             "#46039f"
            ],
            [
             0.2222222222222222,
             "#7201a8"
            ],
            [
             0.3333333333333333,
             "#9c179e"
            ],
            [
             0.4444444444444444,
             "#bd3786"
            ],
            [
             0.5555555555555556,
             "#d8576b"
            ],
            [
             0.6666666666666666,
             "#ed7953"
            ],
            [
             0.7777777777777778,
             "#fb9f3a"
            ],
            [
             0.8888888888888888,
             "#fdca26"
            ],
            [
             1,
             "#f0f921"
            ]
           ],
           "sequentialminus": [
            [
             0,
             "#0d0887"
            ],
            [
             0.1111111111111111,
             "#46039f"
            ],
            [
             0.2222222222222222,
             "#7201a8"
            ],
            [
             0.3333333333333333,
             "#9c179e"
            ],
            [
             0.4444444444444444,
             "#bd3786"
            ],
            [
             0.5555555555555556,
             "#d8576b"
            ],
            [
             0.6666666666666666,
             "#ed7953"
            ],
            [
             0.7777777777777778,
             "#fb9f3a"
            ],
            [
             0.8888888888888888,
             "#fdca26"
            ],
            [
             1,
             "#f0f921"
            ]
           ]
          },
          "colorway": [
           "#636efa",
           "#EF553B",
           "#00cc96",
           "#ab63fa",
           "#FFA15A",
           "#19d3f3",
           "#FF6692",
           "#B6E880",
           "#FF97FF",
           "#FECB52"
          ],
          "font": {
           "color": "#2a3f5f"
          },
          "geo": {
           "bgcolor": "white",
           "lakecolor": "white",
           "landcolor": "#E5ECF6",
           "showlakes": true,
           "showland": true,
           "subunitcolor": "white"
          },
          "hoverlabel": {
           "align": "left"
          },
          "hovermode": "closest",
          "mapbox": {
           "style": "light"
          },
          "paper_bgcolor": "white",
          "plot_bgcolor": "#E5ECF6",
          "polar": {
           "angularaxis": {
            "gridcolor": "white",
            "linecolor": "white",
            "ticks": ""
           },
           "bgcolor": "#E5ECF6",
           "radialaxis": {
            "gridcolor": "white",
            "linecolor": "white",
            "ticks": ""
           }
          },
          "scene": {
           "xaxis": {
            "backgroundcolor": "#E5ECF6",
            "gridcolor": "white",
            "gridwidth": 2,
            "linecolor": "white",
            "showbackground": true,
            "ticks": "",
            "zerolinecolor": "white"
           },
           "yaxis": {
            "backgroundcolor": "#E5ECF6",
            "gridcolor": "white",
            "gridwidth": 2,
            "linecolor": "white",
            "showbackground": true,
            "ticks": "",
            "zerolinecolor": "white"
           },
           "zaxis": {
            "backgroundcolor": "#E5ECF6",
            "gridcolor": "white",
            "gridwidth": 2,
            "linecolor": "white",
            "showbackground": true,
            "ticks": "",
            "zerolinecolor": "white"
           }
          },
          "shapedefaults": {
           "line": {
            "color": "#2a3f5f"
           }
          },
          "ternary": {
           "aaxis": {
            "gridcolor": "white",
            "linecolor": "white",
            "ticks": ""
           },
           "baxis": {
            "gridcolor": "white",
            "linecolor": "white",
            "ticks": ""
           },
           "bgcolor": "#E5ECF6",
           "caxis": {
            "gridcolor": "white",
            "linecolor": "white",
            "ticks": ""
           }
          },
          "title": {
           "x": 0.05
          },
          "xaxis": {
           "automargin": true,
           "gridcolor": "white",
           "linecolor": "white",
           "ticks": "",
           "title": {
            "standoff": 15
           },
           "zerolinecolor": "white",
           "zerolinewidth": 2
          },
          "yaxis": {
           "automargin": true,
           "gridcolor": "white",
           "linecolor": "white",
           "ticks": "",
           "title": {
            "standoff": 15
           },
           "zerolinecolor": "white",
           "zerolinewidth": 2
          }
         }
        }
       }
      }
     },
     "metadata": {},
     "output_type": "display_data"
    }
   ],
   "source": [
    "fig = go.Figure()\n",
    "fig.add_trace(go.Scatter(y=lim_data, mode=\"lines+markers\", name=\"Original Plot\"))\n",
    "\n",
    "fig.add_trace(\n",
    "    go.Scatter(\n",
    "        x=peaks,\n",
    "        y=[lim_data[j] for j in peaks],\n",
    "        mode=\"markers\",\n",
    "        marker=dict(size=8, color=\"red\", symbol=\"cross\"),\n",
    "        name=\"Detected Peaks\",\n",
    "    )\n",
    ")\n",
    "\n",
    "fig.add_trace(\n",
    "    go.Scatter(\n",
    "        x=throughs,\n",
    "        y=[lim_data[j] for j in throughs],\n",
    "        mode=\"markers\",\n",
    "        marker=dict(size=8, color=\"orange\", symbol=\"circle\"),\n",
    "        name=\"Detected throughs\",\n",
    "    )\n",
    ")\n",
    "fig.add_vrect(\n",
    "    x0=\"2018-09-24\",\n",
    "    x1=\"2018-12-18\",\n",
    "    label=dict(\n",
    "        text=\"Decline\",\n",
    "        textposition=\"top center\",\n",
    "        font=dict(size=20, family=\"Times New Roman\"),\n",
    "    ),\n",
    "    fillcolor=\"green\",\n",
    "    opacity=0.25,\n",
    "    line_width=0,\n",
    ")\n",
    "\n",
    "fig.show()"
   ]
  },
  {
   "cell_type": "code",
   "execution_count": null,
   "metadata": {},
   "outputs": [],
   "source": []
  }
 ],
 "metadata": {
  "kernelspec": {
   "display_name": "Python 3",
   "language": "python",
   "name": "python3"
  },
  "language_info": {
   "codemirror_mode": {
    "name": "ipython",
    "version": 3
   },
   "file_extension": ".py",
   "mimetype": "text/x-python",
   "name": "python",
   "nbconvert_exporter": "python",
   "pygments_lexer": "ipython3",
   "version": "3.10.9"
  },
  "orig_nbformat": 4
 },
 "nbformat": 4,
 "nbformat_minor": 2
}
