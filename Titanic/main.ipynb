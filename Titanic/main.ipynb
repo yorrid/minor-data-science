{
 "cells": [
  {
   "cell_type": "code",
   "execution_count": 2,
   "metadata": {},
   "outputs": [],
   "source": [
    "import pandas as pd\n",
    "import numpy as np\n",
    "import matplotlib.pyplot as plt\n",
    "import seaborn as sns\n",
    "from statistics import mean\n",
    "from statistics import stdev\n",
    "from functions import event_probability "
   ]
  },
  {
   "cell_type": "code",
   "execution_count": 3,
   "metadata": {},
   "outputs": [],
   "source": [
    "# Load csv \n",
    "df_train = pd.read_csv('train.csv')\n",
    "df_test_raw = pd.read_csv('test.csv')\n",
    "\n",
    "# Create new column (Survived) in raw test data with a value of 0 on each row\n",
    "df_test_raw['Survived'] = 0"
   ]
  },
  {
   "cell_type": "code",
   "execution_count": 4,
   "metadata": {},
   "outputs": [
    {
     "name": "stdout",
     "output_type": "stream",
     "text": [
      "Train dataset shape: \n",
      "(891, 12)\n",
      "Test dataset shape: \n",
      "(418, 12)\n"
     ]
    }
   ],
   "source": [
    "# Show the given row and columns in the datasets\n",
    "shape_train = df_train.shape\n",
    "shape_test = df_test_raw.shape\n",
    "print('Train dataset shape: ')\n",
    "print(shape_train)\n",
    "print('Test dataset shape: ')\n",
    "print(shape_test)"
   ]
  },
  {
   "cell_type": "code",
   "execution_count": 5,
   "metadata": {},
   "outputs": [
    {
     "name": "stdout",
     "output_type": "stream",
     "text": [
      "<class 'pandas.core.frame.DataFrame'>\n",
      "RangeIndex: 891 entries, 0 to 890\n",
      "Data columns (total 12 columns):\n",
      " #   Column       Non-Null Count  Dtype  \n",
      "---  ------       --------------  -----  \n",
      " 0   PassengerId  891 non-null    int64  \n",
      " 1   Survived     891 non-null    int64  \n",
      " 2   Pclass       891 non-null    int64  \n",
      " 3   Name         891 non-null    object \n",
      " 4   Sex          891 non-null    object \n",
      " 5   Age          714 non-null    float64\n",
      " 6   SibSp        891 non-null    int64  \n",
      " 7   Parch        891 non-null    int64  \n",
      " 8   Ticket       891 non-null    object \n",
      " 9   Fare         891 non-null    float64\n",
      " 10  Cabin        204 non-null    object \n",
      " 11  Embarked     889 non-null    object \n",
      "dtypes: float64(2), int64(5), object(5)\n",
      "memory usage: 83.7+ KB\n",
      "<class 'pandas.core.frame.DataFrame'>\n",
      "RangeIndex: 418 entries, 0 to 417\n",
      "Data columns (total 12 columns):\n",
      " #   Column       Non-Null Count  Dtype  \n",
      "---  ------       --------------  -----  \n",
      " 0   PassengerId  418 non-null    int64  \n",
      " 1   Pclass       418 non-null    int64  \n",
      " 2   Name         418 non-null    object \n",
      " 3   Sex          418 non-null    object \n",
      " 4   Age          332 non-null    float64\n",
      " 5   SibSp        418 non-null    int64  \n",
      " 6   Parch        418 non-null    int64  \n",
      " 7   Ticket       418 non-null    object \n",
      " 8   Fare         417 non-null    float64\n",
      " 9   Cabin        91 non-null     object \n",
      " 10  Embarked     418 non-null    object \n",
      " 11  Survived     418 non-null    int64  \n",
      "dtypes: float64(2), int64(5), object(5)\n",
      "memory usage: 39.3+ KB\n"
     ]
    }
   ],
   "source": [
    "# Show all info of the datasets\n",
    "df_train.info()\n",
    "df_test_raw.info()"
   ]
  },
  {
   "cell_type": "code",
   "execution_count": 6,
   "metadata": {},
   "outputs": [
    {
     "data": {
      "text/html": [
       "<div>\n",
       "<style scoped>\n",
       "    .dataframe tbody tr th:only-of-type {\n",
       "        vertical-align: middle;\n",
       "    }\n",
       "\n",
       "    .dataframe tbody tr th {\n",
       "        vertical-align: top;\n",
       "    }\n",
       "\n",
       "    .dataframe thead th {\n",
       "        text-align: right;\n",
       "    }\n",
       "</style>\n",
       "<table border=\"1\" class=\"dataframe\">\n",
       "  <thead>\n",
       "    <tr style=\"text-align: right;\">\n",
       "      <th></th>\n",
       "      <th>PassengerId</th>\n",
       "      <th>Survived</th>\n",
       "      <th>Pclass</th>\n",
       "      <th>Name</th>\n",
       "      <th>Sex</th>\n",
       "      <th>Age</th>\n",
       "      <th>SibSp</th>\n",
       "      <th>Parch</th>\n",
       "      <th>Ticket</th>\n",
       "      <th>Fare</th>\n",
       "      <th>Cabin</th>\n",
       "      <th>Embarked</th>\n",
       "    </tr>\n",
       "  </thead>\n",
       "  <tbody>\n",
       "    <tr>\n",
       "      <th>0</th>\n",
       "      <td>1</td>\n",
       "      <td>0</td>\n",
       "      <td>3</td>\n",
       "      <td>Braund, Mr. Owen Harris</td>\n",
       "      <td>male</td>\n",
       "      <td>22.0</td>\n",
       "      <td>1</td>\n",
       "      <td>0</td>\n",
       "      <td>A/5 21171</td>\n",
       "      <td>7.2500</td>\n",
       "      <td>NaN</td>\n",
       "      <td>S</td>\n",
       "    </tr>\n",
       "    <tr>\n",
       "      <th>1</th>\n",
       "      <td>2</td>\n",
       "      <td>1</td>\n",
       "      <td>1</td>\n",
       "      <td>Cumings, Mrs. John Bradley (Florence Briggs Th...</td>\n",
       "      <td>female</td>\n",
       "      <td>38.0</td>\n",
       "      <td>1</td>\n",
       "      <td>0</td>\n",
       "      <td>PC 17599</td>\n",
       "      <td>71.2833</td>\n",
       "      <td>C85</td>\n",
       "      <td>C</td>\n",
       "    </tr>\n",
       "    <tr>\n",
       "      <th>2</th>\n",
       "      <td>3</td>\n",
       "      <td>1</td>\n",
       "      <td>3</td>\n",
       "      <td>Heikkinen, Miss. Laina</td>\n",
       "      <td>female</td>\n",
       "      <td>26.0</td>\n",
       "      <td>0</td>\n",
       "      <td>0</td>\n",
       "      <td>STON/O2. 3101282</td>\n",
       "      <td>7.9250</td>\n",
       "      <td>NaN</td>\n",
       "      <td>S</td>\n",
       "    </tr>\n",
       "    <tr>\n",
       "      <th>3</th>\n",
       "      <td>4</td>\n",
       "      <td>1</td>\n",
       "      <td>1</td>\n",
       "      <td>Futrelle, Mrs. Jacques Heath (Lily May Peel)</td>\n",
       "      <td>female</td>\n",
       "      <td>35.0</td>\n",
       "      <td>1</td>\n",
       "      <td>0</td>\n",
       "      <td>113803</td>\n",
       "      <td>53.1000</td>\n",
       "      <td>C123</td>\n",
       "      <td>S</td>\n",
       "    </tr>\n",
       "    <tr>\n",
       "      <th>4</th>\n",
       "      <td>5</td>\n",
       "      <td>0</td>\n",
       "      <td>3</td>\n",
       "      <td>Allen, Mr. William Henry</td>\n",
       "      <td>male</td>\n",
       "      <td>35.0</td>\n",
       "      <td>0</td>\n",
       "      <td>0</td>\n",
       "      <td>373450</td>\n",
       "      <td>8.0500</td>\n",
       "      <td>NaN</td>\n",
       "      <td>S</td>\n",
       "    </tr>\n",
       "    <tr>\n",
       "      <th>...</th>\n",
       "      <td>...</td>\n",
       "      <td>...</td>\n",
       "      <td>...</td>\n",
       "      <td>...</td>\n",
       "      <td>...</td>\n",
       "      <td>...</td>\n",
       "      <td>...</td>\n",
       "      <td>...</td>\n",
       "      <td>...</td>\n",
       "      <td>...</td>\n",
       "      <td>...</td>\n",
       "      <td>...</td>\n",
       "    </tr>\n",
       "    <tr>\n",
       "      <th>886</th>\n",
       "      <td>887</td>\n",
       "      <td>0</td>\n",
       "      <td>2</td>\n",
       "      <td>Montvila, Rev. Juozas</td>\n",
       "      <td>male</td>\n",
       "      <td>27.0</td>\n",
       "      <td>0</td>\n",
       "      <td>0</td>\n",
       "      <td>211536</td>\n",
       "      <td>13.0000</td>\n",
       "      <td>NaN</td>\n",
       "      <td>S</td>\n",
       "    </tr>\n",
       "    <tr>\n",
       "      <th>887</th>\n",
       "      <td>888</td>\n",
       "      <td>1</td>\n",
       "      <td>1</td>\n",
       "      <td>Graham, Miss. Margaret Edith</td>\n",
       "      <td>female</td>\n",
       "      <td>19.0</td>\n",
       "      <td>0</td>\n",
       "      <td>0</td>\n",
       "      <td>112053</td>\n",
       "      <td>30.0000</td>\n",
       "      <td>B42</td>\n",
       "      <td>S</td>\n",
       "    </tr>\n",
       "    <tr>\n",
       "      <th>888</th>\n",
       "      <td>889</td>\n",
       "      <td>0</td>\n",
       "      <td>3</td>\n",
       "      <td>Johnston, Miss. Catherine Helen \"Carrie\"</td>\n",
       "      <td>female</td>\n",
       "      <td>NaN</td>\n",
       "      <td>1</td>\n",
       "      <td>2</td>\n",
       "      <td>W./C. 6607</td>\n",
       "      <td>23.4500</td>\n",
       "      <td>NaN</td>\n",
       "      <td>S</td>\n",
       "    </tr>\n",
       "    <tr>\n",
       "      <th>889</th>\n",
       "      <td>890</td>\n",
       "      <td>1</td>\n",
       "      <td>1</td>\n",
       "      <td>Behr, Mr. Karl Howell</td>\n",
       "      <td>male</td>\n",
       "      <td>26.0</td>\n",
       "      <td>0</td>\n",
       "      <td>0</td>\n",
       "      <td>111369</td>\n",
       "      <td>30.0000</td>\n",
       "      <td>C148</td>\n",
       "      <td>C</td>\n",
       "    </tr>\n",
       "    <tr>\n",
       "      <th>890</th>\n",
       "      <td>891</td>\n",
       "      <td>0</td>\n",
       "      <td>3</td>\n",
       "      <td>Dooley, Mr. Patrick</td>\n",
       "      <td>male</td>\n",
       "      <td>32.0</td>\n",
       "      <td>0</td>\n",
       "      <td>0</td>\n",
       "      <td>370376</td>\n",
       "      <td>7.7500</td>\n",
       "      <td>NaN</td>\n",
       "      <td>Q</td>\n",
       "    </tr>\n",
       "  </tbody>\n",
       "</table>\n",
       "<p>891 rows × 12 columns</p>\n",
       "</div>"
      ],
      "text/plain": [
       "     PassengerId  Survived  Pclass  \\\n",
       "0              1         0       3   \n",
       "1              2         1       1   \n",
       "2              3         1       3   \n",
       "3              4         1       1   \n",
       "4              5         0       3   \n",
       "..           ...       ...     ...   \n",
       "886          887         0       2   \n",
       "887          888         1       1   \n",
       "888          889         0       3   \n",
       "889          890         1       1   \n",
       "890          891         0       3   \n",
       "\n",
       "                                                  Name     Sex   Age  SibSp  \\\n",
       "0                              Braund, Mr. Owen Harris    male  22.0      1   \n",
       "1    Cumings, Mrs. John Bradley (Florence Briggs Th...  female  38.0      1   \n",
       "2                               Heikkinen, Miss. Laina  female  26.0      0   \n",
       "3         Futrelle, Mrs. Jacques Heath (Lily May Peel)  female  35.0      1   \n",
       "4                             Allen, Mr. William Henry    male  35.0      0   \n",
       "..                                                 ...     ...   ...    ...   \n",
       "886                              Montvila, Rev. Juozas    male  27.0      0   \n",
       "887                       Graham, Miss. Margaret Edith  female  19.0      0   \n",
       "888           Johnston, Miss. Catherine Helen \"Carrie\"  female   NaN      1   \n",
       "889                              Behr, Mr. Karl Howell    male  26.0      0   \n",
       "890                                Dooley, Mr. Patrick    male  32.0      0   \n",
       "\n",
       "     Parch            Ticket     Fare Cabin Embarked  \n",
       "0        0         A/5 21171   7.2500   NaN        S  \n",
       "1        0          PC 17599  71.2833   C85        C  \n",
       "2        0  STON/O2. 3101282   7.9250   NaN        S  \n",
       "3        0            113803  53.1000  C123        S  \n",
       "4        0            373450   8.0500   NaN        S  \n",
       "..     ...               ...      ...   ...      ...  \n",
       "886      0            211536  13.0000   NaN        S  \n",
       "887      0            112053  30.0000   B42        S  \n",
       "888      2        W./C. 6607  23.4500   NaN        S  \n",
       "889      0            111369  30.0000  C148        C  \n",
       "890      0            370376   7.7500   NaN        Q  \n",
       "\n",
       "[891 rows x 12 columns]"
      ]
     },
     "metadata": {},
     "output_type": "display_data"
    }
   ],
   "source": [
    "display(df_train)\n",
    "# display(df_test_raw)"
   ]
  },
  {
   "cell_type": "code",
   "execution_count": 7,
   "metadata": {},
   "outputs": [],
   "source": [
    "# Show total of people onboard\n",
    "total = df_train['PassengerId'].count() # 891"
   ]
  },
  {
   "cell_type": "code",
   "execution_count": 8,
   "metadata": {},
   "outputs": [
    {
     "data": {
      "text/plain": [
       "male      577\n",
       "female    314\n",
       "Name: Sex, dtype: int64"
      ]
     },
     "execution_count": 8,
     "metadata": {},
     "output_type": "execute_result"
    }
   ],
   "source": [
    "# Show total number of male and female onboard of the ship\n",
    "df_train['Sex'].value_counts()"
   ]
  },
  {
   "cell_type": "code",
   "execution_count": 9,
   "metadata": {},
   "outputs": [
    {
     "data": {
      "text/plain": [
       "PassengerId      0\n",
       "Survived         0\n",
       "Pclass           0\n",
       "Name             0\n",
       "Sex              0\n",
       "Age            177\n",
       "SibSp            0\n",
       "Parch            0\n",
       "Ticket           0\n",
       "Fare             0\n",
       "Cabin          687\n",
       "Embarked         2\n",
       "dtype: int64"
      ]
     },
     "execution_count": 9,
     "metadata": {},
     "output_type": "execute_result"
    }
   ],
   "source": [
    "# Show null values per column\n",
    "df_train.isnull().sum()"
   ]
  },
  {
   "cell_type": "code",
   "execution_count": 10,
   "metadata": {},
   "outputs": [],
   "source": [
    "sex = df_train.groupby('Sex')\n",
    "\n",
    "male_pass = sex.get_group('male')\n",
    "female_pass = sex.get_group('female')"
   ]
  },
  {
   "cell_type": "code",
   "execution_count": 11,
   "metadata": {},
   "outputs": [
    {
     "data": {
      "text/plain": [
       "0    19.0\n",
       "1    25.0\n",
       "2    28.0\n",
       "Name: Age, dtype: float64"
      ]
     },
     "execution_count": 11,
     "metadata": {},
     "output_type": "execute_result"
    }
   ],
   "source": [
    "# Gives the age thats most common amongst men onboard\n",
    "male_pass.Age.mode()\n"
   ]
  },
  {
   "cell_type": "code",
   "execution_count": 12,
   "metadata": {},
   "outputs": [],
   "source": [
    "# Fill NaN values in the Age column\n",
    "df_train['Age'].fillna(df_train['Age'].mean(), inplace=True)\n",
    "# df_train.loc[(df_train['Sex'] == 'male') & (df_train['Age'] == ''), 'Age'] = male_pass.Age.mean()\n",
    "# df_train.loc[(df_train['Sex'] == 'female') & (df_train['Age'] == ''), 'Age'] = female_pass.Age.mean()\n",
    "# df_test_raw['Age'].fillna(df_test_raw['Age'].mean(), inplace=True)\n"
   ]
  },
  {
   "cell_type": "code",
   "execution_count": 13,
   "metadata": {},
   "outputs": [],
   "source": [
    "# Create bins to fit an age range to every passenger\n",
    "bins = [5, 10, 15, 20, 25, 30, 35, 40, 45, 50, 55, 60, 120]\n",
    "bin_labels = ['0-9', '10-14', '15-19', '20-24', '25-29', '30-34', '35-39', '40-44', '45-50', '50-54', '55-59', '60+']\n",
    "\n",
    "# Cut age into age groups so you can view it better\n",
    "df_train['Agerange'] = pd.cut(df_train.Age, bins, labels = bin_labels,include_lowest = True)\n",
    "df_test_raw['Agerange'] = pd.cut(df_test_raw.Age, bins, labels = bin_labels,include_lowest = True)\n"
   ]
  },
  {
   "cell_type": "code",
   "execution_count": 14,
   "metadata": {},
   "outputs": [],
   "source": [
    "# Shows how many male passengers did not survive\n",
    "not_surv_male_pass = male_pass[(male_pass['Survived'] == 0)]\n",
    "count_not_surv_male_pass = not_surv_male_pass.PassengerId.count() # 468\n"
   ]
  },
  {
   "cell_type": "code",
   "execution_count": 15,
   "metadata": {},
   "outputs": [],
   "source": [
    "# Shows how many male passengers did survive\n",
    "surv_male_pass = male_pass[(male_pass['Survived'] == 1)]\n",
    "count_surv_male_pass = surv_male_pass.PassengerId.count() # 109"
   ]
  },
  {
   "cell_type": "code",
   "execution_count": 16,
   "metadata": {},
   "outputs": [],
   "source": [
    "# Group male passengers by survived or not to plot the results\n",
    "male_pass_graph = male_pass.groupby('Survived').Survived.count()\n"
   ]
  },
  {
   "cell_type": "code",
   "execution_count": 17,
   "metadata": {},
   "outputs": [
    {
     "data": {
      "text/plain": [
       "27.915708812260537"
      ]
     },
     "execution_count": 17,
     "metadata": {},
     "output_type": "execute_result"
    }
   ],
   "source": [
    "# Gives the age thats most common amongst women onboard\n",
    "female_pass.Age.mean()"
   ]
  },
  {
   "cell_type": "code",
   "execution_count": 18,
   "metadata": {},
   "outputs": [],
   "source": [
    "# Shows how many female passengers did not survive\n",
    "not_surv_female_pass = female_pass[(female_pass['Survived'] == 0)]\n",
    "count_not_surv_female_pass = not_surv_female_pass.PassengerId.count() # 81"
   ]
  },
  {
   "cell_type": "code",
   "execution_count": 19,
   "metadata": {},
   "outputs": [],
   "source": [
    "# Shows how many female passengers did survive\n",
    "surv_female_pass = female_pass[(female_pass['Survived'] == 1)]\n",
    "count_surv_female_pass = surv_female_pass.PassengerId.count() # 233\n"
   ]
  },
  {
   "cell_type": "code",
   "execution_count": 20,
   "metadata": {},
   "outputs": [],
   "source": [
    "# Group female passengers by survived or not to plot the results\n",
    "female_pass_graph = female_pass.groupby('Survived').Survived.count()"
   ]
  },
  {
   "cell_type": "code",
   "execution_count": 21,
   "metadata": {},
   "outputs": [],
   "source": [
    "# Total of people who survived\n",
    "total_surv = df_train[(df_train['Survived'] == 1)]\n",
    "total_not_surv = df_train[(df_train['Survived'] == 0)]"
   ]
  },
  {
   "cell_type": "code",
   "execution_count": 22,
   "metadata": {},
   "outputs": [],
   "source": [
    "# Group survivers by sex\n",
    "groupby_sex_surv = total_surv.groupby('Sex').Survived.count()\n",
    "groupby_sex_not_surv = total_not_surv.groupby('Sex').Survived.count()"
   ]
  },
  {
   "cell_type": "code",
   "execution_count": 23,
   "metadata": {},
   "outputs": [
    {
     "data": {
      "image/png": "[encoded data removed]",
      "text/plain": [
       "<Figure size 576x576 with 2 Axes>"
      ]
     },
     "metadata": {},
     "output_type": "display_data"
    }
   ],
   "source": [
    "# Graphing surviving and non surviving females\n",
    "fig, ax = plt.subplots(1, 2, figsize=(8,8))\n",
    "\n",
    "ax[0].pie(male_pass_graph.values, labels=['Died', 'Survived'], autopct='%.2f%%')\n",
    "ax[0].set_title('Male passengers that died')\n",
    "ax[1].pie(female_pass_graph.values, labels=['Died', 'Survived'], autopct='%.2f%%')\n",
    "ax[1].set_title('Female passengers that died')\n",
    "ax[0].legend()\n",
    "ax[1].legend()\n",
    "plt.show()"
   ]
  },
  {
   "cell_type": "code",
   "execution_count": 24,
   "metadata": {},
   "outputs": [
    {
     "name": "stdout",
     "output_type": "stream",
     "text": [
      "Probability for surviving as a female: 26.15%\n",
      "Probability for not surviving as a female: 9.09%\n"
     ]
    }
   ],
   "source": [
    "# Probability for surviving as a female\n",
    "prob_surv_female = event_probability(count_surv_female_pass, total)\n",
    "print('Probability for surviving as a female: ' + str(prob_surv_female) + '%')\n",
    "\n",
    "# Probability for not surviving as a female\n",
    "prob_not_surv_female = event_probability(count_not_surv_female_pass, total)\n",
    "print('Probability for not surviving as a female: ' + str(prob_not_surv_female) + '%')\n"
   ]
  },
  {
   "cell_type": "code",
   "execution_count": 25,
   "metadata": {},
   "outputs": [
    {
     "name": "stdout",
     "output_type": "stream",
     "text": [
      "Probability for surviving as a male: 12.23%\n",
      "Probability for not surviving as male: 52.53%\n"
     ]
    }
   ],
   "source": [
    "# Probability for surviving as a male\n",
    "prob_surv_male = event_probability(count_surv_male_pass, total)\n",
    "print('Probability for surviving as a male: ' + str(prob_surv_male) + '%')\n",
    "\n",
    "# Probability for not surviving as male\n",
    "prob_not_surv_male = event_probability(count_not_surv_male_pass, total)\n",
    "print('Probability for not surviving as male: ' + str(prob_not_surv_male) + '%')"
   ]
  },
  {
   "cell_type": "code",
   "execution_count": 26,
   "metadata": {},
   "outputs": [
    {
     "data": {
      "image/png": "[encoded data removed]",
      "text/plain": [
       "<Figure size 432x288 with 1 Axes>"
      ]
     },
     "metadata": {
      "needs_background": "light"
     },
     "output_type": "display_data"
    }
   ],
   "source": [
    "plt.figure(figsize=(6,4))\n",
    "plt.hist(df_train.Pclass)\n",
    "plt.xticks(range(1,4,1))\n",
    "plt.yticks(range(100,550,50))\n",
    "plt.xlabel('Travel class', fontsize=15)\n",
    "plt.ylabel('Number of passengers', fontsize=15)\n",
    "plt.show()"
   ]
  },
  {
   "cell_type": "code",
   "execution_count": 27,
   "metadata": {},
   "outputs": [],
   "source": [
    "classes = df_train.groupby('Pclass')\n",
    "\n",
    "first = classes.get_group(1)\n",
    "second = classes.get_group(2)\n",
    "third = classes.get_group(3)"
   ]
  },
  {
   "cell_type": "code",
   "execution_count": 28,
   "metadata": {},
   "outputs": [
    {
     "name": "stderr",
     "output_type": "stream",
     "text": [
      "C:\\Users\\yorri\\AppData\\Local\\Temp\\ipykernel_15004\\1766721462.py:7: UserWarning: FixedFormatter should only be used together with FixedLocator\n",
      "  ax[0].set_xticklabels(xlabels)\n",
      "C:\\Users\\yorri\\AppData\\Local\\Temp\\ipykernel_15004\\1766721462.py:13: UserWarning: FixedFormatter should only be used together with FixedLocator\n",
      "  ax[1].set_xticklabels(xlabels)\n",
      "C:\\Users\\yorri\\AppData\\Local\\Temp\\ipykernel_15004\\1766721462.py:19: UserWarning: FixedFormatter should only be used together with FixedLocator\n",
      "  ax[2].set_xticklabels(xlabels)\n"
     ]
    },
    {
     "data": {
      "image/png": "[encoded data removed]",
      "text/plain": [
       "<Figure size 1440x288 with 3 Axes>"
      ]
     },
     "metadata": {
      "needs_background": "light"
     },
     "output_type": "display_data"
    }
   ],
   "source": [
    "fig, ax = plt.subplots(1,3, figsize=(20,4))\n",
    "xlabels = ['Died', 'Survived']\n",
    "\n",
    "ax[0].hist(first.Survived)\n",
    "ax[0].set_title(\"First class passangers\",fontsize = 20)\n",
    "ax[0].set_ylabel(\"Total numbers of passangers\",fontsize = 20)\n",
    "ax[0].set_xticklabels(xlabels)\n",
    "ax[0].set_xticks(range(0,2,1))\n",
    "\n",
    "ax[1].hist(second.Survived)\n",
    "ax[1].set_title(\"Second Class Passangers\",fontsize = 20)\n",
    "ax[1].set_ylabel(\"Total Numbers Of passangers\",fontsize = 20)\n",
    "ax[1].set_xticklabels(xlabels)\n",
    "ax[1].set_xticks(range(0,2,1))\n",
    "\n",
    "ax[2].hist(third.Survived)\n",
    "ax[2].set_title(\"Third Class Passangers\",fontsize = 20)\n",
    "ax[2].set_ylabel(\"Total Number Of Passangers\",fontsize = 20)\n",
    "ax[2].set_xticklabels(xlabels)\n",
    "ax[2].set_xticks(range(0,2,1))\n",
    "\n",
    "plt.show()"
   ]
  },
  {
   "cell_type": "code",
   "execution_count": 29,
   "metadata": {},
   "outputs": [],
   "source": [
    "# Group female passengers by class. This way we can plot them into histograms to see survival rate\n",
    "female_pass_class = female_pass.groupby('Pclass')\n",
    "\n",
    "female_first = female_pass_class.get_group(1)\n",
    "female_second = female_pass_class.get_group(2)\n",
    "female_third = female_pass_class.get_group(3)\n",
    "\n",
    "# Group male passengers by class. This way we can plot them into histograms to see survival rate\n",
    "male_pass_class = male_pass.groupby('Pclass')\n",
    "\n",
    "male_first = male_pass_class.get_group(1)\n",
    "male_second = male_pass_class.get_group(2)\n",
    "male_third = male_pass_class.get_group(3)"
   ]
  },
  {
   "cell_type": "code",
   "execution_count": 30,
   "metadata": {},
   "outputs": [
    {
     "name": "stderr",
     "output_type": "stream",
     "text": [
      "C:\\Users\\yorri\\AppData\\Local\\Temp\\ipykernel_15004\\668255093.py:7: UserWarning: FixedFormatter should only be used together with FixedLocator\n",
      "  ax[0].set_xticklabels(xlabels)\n",
      "C:\\Users\\yorri\\AppData\\Local\\Temp\\ipykernel_15004\\668255093.py:13: UserWarning: FixedFormatter should only be used together with FixedLocator\n",
      "  ax[1].set_xticklabels(xlabels)\n",
      "C:\\Users\\yorri\\AppData\\Local\\Temp\\ipykernel_15004\\668255093.py:19: UserWarning: FixedFormatter should only be used together with FixedLocator\n",
      "  ax[2].set_xticklabels(xlabels)\n"
     ]
    },
    {
     "data": {
      "image/png": "[encoded data removed]",
      "text/plain": [
       "<Figure size 1440x360 with 3 Axes>"
      ]
     },
     "metadata": {
      "needs_background": "light"
     },
     "output_type": "display_data"
    }
   ],
   "source": [
    "# Histogram of female passengers per class, this way we can conclude that most female passengers survived in the first and second class\n",
    "fig, ax = plt.subplots(1,3, figsize=(20,5))\n",
    "\n",
    "ax[0].hist(female_first.Survived)\n",
    "ax[0].set_title(\"First class female passangers\",fontsize = 20)\n",
    "ax[0].set_ylabel(\"Total number of female passangers\",fontsize = 15)\n",
    "ax[0].set_xticklabels(xlabels)\n",
    "ax[0].set_xticks(range(0,2,1))\n",
    "\n",
    "ax[1].hist(female_second.Survived)\n",
    "ax[1].set_title(\"Second class female passangers\",fontsize = 20)\n",
    "ax[1].set_ylabel(\"Total number of female passangers\",fontsize = 15)\n",
    "ax[1].set_xticklabels(xlabels)\n",
    "ax[1].set_xticks(range(0,2,1))\n",
    "\n",
    "ax[2].hist(female_third.Survived)\n",
    "ax[2].set_title(\"Third class female passangers\",fontsize = 20)\n",
    "ax[2].set_ylabel(\"Total number of female passangers\",fontsize = 15)\n",
    "ax[2].set_xticklabels(xlabels)\n",
    "ax[2].set_xticks(range(0,2,1))\n",
    "\n",
    "plt.show()"
   ]
  },
  {
   "cell_type": "code",
   "execution_count": 31,
   "metadata": {},
   "outputs": [
    {
     "name": "stderr",
     "output_type": "stream",
     "text": [
      "C:\\Users\\yorri\\AppData\\Local\\Temp\\ipykernel_15004\\427446361.py:7: UserWarning: FixedFormatter should only be used together with FixedLocator\n",
      "  ax[0].set_xticklabels(xlabels)\n",
      "C:\\Users\\yorri\\AppData\\Local\\Temp\\ipykernel_15004\\427446361.py:13: UserWarning: FixedFormatter should only be used together with FixedLocator\n",
      "  ax[1].set_xticklabels(xlabels)\n",
      "C:\\Users\\yorri\\AppData\\Local\\Temp\\ipykernel_15004\\427446361.py:19: UserWarning: FixedFormatter should only be used together with FixedLocator\n",
      "  ax[2].set_xticklabels(xlabels)\n"
     ]
    },
    {
     "data": {
      "image/png": "[encoded data removed]",
      "text/plain": [
       "<Figure size 1440x360 with 3 Axes>"
      ]
     },
     "metadata": {
      "needs_background": "light"
     },
     "output_type": "display_data"
    }
   ],
   "source": [
    "# Histogram of male passengers per class, most male passengers died in every class\n",
    "fig, ax = plt.subplots(1,3, figsize=(20,5))\n",
    "\n",
    "ax[0].hist(male_first.Survived)\n",
    "ax[0].set_title(\"First class male passangers\",fontsize = 20)\n",
    "ax[0].set_ylabel(\"Total number of male passangers\",fontsize = 15)\n",
    "ax[0].set_xticklabels(xlabels)\n",
    "ax[0].set_xticks(range(0,2,1))\n",
    "\n",
    "ax[1].hist(male_second.Survived)\n",
    "ax[1].set_title(\"Second class male passangers\",fontsize = 20)\n",
    "ax[1].set_ylabel(\"Total number of male passangers\",fontsize = 15)\n",
    "ax[1].set_xticklabels(xlabels)\n",
    "ax[1].set_xticks(range(0,2,1))\n",
    "\n",
    "ax[2].hist(male_third.Survived)\n",
    "ax[2].set_title(\"Third class male passangers\",fontsize = 20)\n",
    "ax[2].set_ylabel(\"Total number of male passangers\",fontsize = 15)\n",
    "ax[2].set_xticklabels(xlabels)\n",
    "ax[2].set_xticks(range(0,2,1))\n",
    "\n",
    "plt.show()"
   ]
  },
  {
   "cell_type": "code",
   "execution_count": 32,
   "metadata": {},
   "outputs": [],
   "source": [
    "#Create title feature from name\n",
    "df_train['Title'] = df_train.Name.str.split(', ').str[1]\n",
    "df_train['Title'] = df_train.Title.str.split('. ').str[0]\n",
    "\n",
    "df_test_raw['Title'] = df_test_raw.Name.str.split(', ').str[1]\n",
    "df_test_raw['Title'] = df_test_raw.Title.str.split('. ').str[0]\n"
   ]
  },
  {
   "cell_type": "code",
   "execution_count": 33,
   "metadata": {},
   "outputs": [],
   "source": [
    "# Create bins to fit an fare range to every passenger\n",
    "bins = [0, 10, 20, 30, 40, 50, 60, 70, 80, 90, 100, 150, 200]\n",
    "bin_labels_fare = ['0-9', '10-19', '20-29', '30-39', '40-49', '50-59', '60-69', '70-79', '80-89', '90-99', '100-149', '150+']\n",
    "\n",
    "# Cut age into age groups so you can view it better\n",
    "df_train['Farerange'] = pd.cut(df_train.Fare, bins, labels = bin_labels_fare,include_lowest = True)\n",
    "df_test_raw['Farerange'] = pd.cut(df_test_raw.Fare, bins, labels = bin_labels_fare,include_lowest = True)"
   ]
  },
  {
   "cell_type": "code",
   "execution_count": 34,
   "metadata": {},
   "outputs": [],
   "source": [
    "df_test_raw.loc[(df_test_raw['Sex'] == 'female') & (df_test_raw['Pclass'] == 1), 'Survived'] = 1\n",
    "df_test_raw.loc[(df_test_raw['Sex'] == 'female') & (df_test_raw['Pclass'] == 2), 'Survived'] = 1"
   ]
  },
  {
   "cell_type": "code",
   "execution_count": 35,
   "metadata": {},
   "outputs": [
    {
     "data": {
      "text/html": [
       "<div>\n",
       "<style scoped>\n",
       "    .dataframe tbody tr th:only-of-type {\n",
       "        vertical-align: middle;\n",
       "    }\n",
       "\n",
       "    .dataframe tbody tr th {\n",
       "        vertical-align: top;\n",
       "    }\n",
       "\n",
       "    .dataframe thead th {\n",
       "        text-align: right;\n",
       "    }\n",
       "</style>\n",
       "<table border=\"1\" class=\"dataframe\">\n",
       "  <thead>\n",
       "    <tr style=\"text-align: right;\">\n",
       "      <th></th>\n",
       "      <th>PassengerId</th>\n",
       "      <th>Survived</th>\n",
       "    </tr>\n",
       "  </thead>\n",
       "  <tbody>\n",
       "    <tr>\n",
       "      <th>0</th>\n",
       "      <td>892</td>\n",
       "      <td>0</td>\n",
       "    </tr>\n",
       "    <tr>\n",
       "      <th>1</th>\n",
       "      <td>893</td>\n",
       "      <td>0</td>\n",
       "    </tr>\n",
       "    <tr>\n",
       "      <th>2</th>\n",
       "      <td>894</td>\n",
       "      <td>0</td>\n",
       "    </tr>\n",
       "    <tr>\n",
       "      <th>3</th>\n",
       "      <td>895</td>\n",
       "      <td>0</td>\n",
       "    </tr>\n",
       "    <tr>\n",
       "      <th>4</th>\n",
       "      <td>896</td>\n",
       "      <td>0</td>\n",
       "    </tr>\n",
       "    <tr>\n",
       "      <th>...</th>\n",
       "      <td>...</td>\n",
       "      <td>...</td>\n",
       "    </tr>\n",
       "    <tr>\n",
       "      <th>413</th>\n",
       "      <td>1305</td>\n",
       "      <td>0</td>\n",
       "    </tr>\n",
       "    <tr>\n",
       "      <th>414</th>\n",
       "      <td>1306</td>\n",
       "      <td>1</td>\n",
       "    </tr>\n",
       "    <tr>\n",
       "      <th>415</th>\n",
       "      <td>1307</td>\n",
       "      <td>0</td>\n",
       "    </tr>\n",
       "    <tr>\n",
       "      <th>416</th>\n",
       "      <td>1308</td>\n",
       "      <td>0</td>\n",
       "    </tr>\n",
       "    <tr>\n",
       "      <th>417</th>\n",
       "      <td>1309</td>\n",
       "      <td>0</td>\n",
       "    </tr>\n",
       "  </tbody>\n",
       "</table>\n",
       "<p>418 rows × 2 columns</p>\n",
       "</div>"
      ],
      "text/plain": [
       "     PassengerId  Survived\n",
       "0            892         0\n",
       "1            893         0\n",
       "2            894         0\n",
       "3            895         0\n",
       "4            896         0\n",
       "..           ...       ...\n",
       "413         1305         0\n",
       "414         1306         1\n",
       "415         1307         0\n",
       "416         1308         0\n",
       "417         1309         0\n",
       "\n",
       "[418 rows x 2 columns]"
      ]
     },
     "metadata": {},
     "output_type": "display_data"
    }
   ],
   "source": [
    "# Create new dataframe that only contains de PassengerId and Survived columns\n",
    "data = df_test_raw[['PassengerId', 'Survived']]\n",
    "\n",
    "# Display the new dataframe\n",
    "display(data)\n",
    "\n",
    "# Create a csv file of the dataframe called result\n",
    "# data.to_csv('result.csv', index=False)"
   ]
  }
 ],
 "metadata": {
  "kernelspec": {
   "display_name": "Python 3",
   "language": "python",
   "name": "python3"
  },
  "language_info": {
   "codemirror_mode": {
    "name": "ipython",
    "version": 3
   },
   "file_extension": ".py",
   "mimetype": "text/x-python",
   "name": "python",
   "nbconvert_exporter": "python",
   "pygments_lexer": "ipython3",
   "version": "3.9.12"
  },
  "orig_nbformat": 4,
  "vscode": {
   "interpreter": {
    "hash": "f6d270715a5d2309d059873dc9af328f5945b720ca142ccee20c7dca5b005143"
   }
  }
 },
 "nbformat": 4,
 "nbformat_minor": 2
}
