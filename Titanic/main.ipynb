{
 "cells": [
  {
   "cell_type": "code",
   "execution_count": null,
   "metadata": {},
   "outputs": [],
   "source": [
    "import pandas as pd\n",
    "import numpy as np\n",
    "import matplotlib.pyplot as plt\n",
    "import seaborn as sns\n",
    "from sklearn.impute import SimpleImputer"
   ]
  },
  {
   "cell_type": "code",
   "execution_count": null,
   "metadata": {},
   "outputs": [],
   "source": [
    "# Load csv \n",
    "df_train = pd.read_csv('train.csv')\n",
    "df_test_raw = pd.read_csv('test.csv')\n",
    "\n",
    "# Create new column (Survived) in raw test data with a value of 0 on each row\n",
    "df_test_raw['Survived'] = 0"
   ]
  },
  {
   "cell_type": "code",
   "execution_count": null,
   "metadata": {},
   "outputs": [],
   "source": [
    "# Show the given row and columns in the datasets\n",
    "shape_train = df_train.shape\n",
    "shape_test = df_test_raw.shape\n",
    "print('Train dataset shape: ')\n",
    "print(shape_train)\n",
    "print('Test dataset shape: ')\n",
    "print(shape_test)"
   ]
  },
  {
   "cell_type": "code",
   "execution_count": null,
   "metadata": {},
   "outputs": [],
   "source": [
    "# Show all info of the datasets\n",
    "df_train.info()\n",
    "df_test_raw.info()\n"
   ]
  },
  {
   "cell_type": "code",
   "execution_count": null,
   "metadata": {},
   "outputs": [],
   "source": [
    "# Show total number of male and female onboard of the ship\n",
    "df_train['Sex'].value_counts()"
   ]
  },
  {
   "cell_type": "code",
   "execution_count": null,
   "metadata": {},
   "outputs": [],
   "source": [
    "# Show null values per column\n",
    "df_train.isnull().sum()"
   ]
  },
  {
   "cell_type": "code",
   "execution_count": null,
   "metadata": {},
   "outputs": [],
   "source": [
    "sex = df_train.groupby('Sex')\n",
    "\n",
    "male_pass = sex.get_group('male')\n",
    "female_pass = sex.get_group('female')"
   ]
  },
  {
   "cell_type": "code",
   "execution_count": null,
   "metadata": {},
   "outputs": [],
   "source": [
    "# Gives the age thats most common amongst men onboard\n",
    "male_pass.Age.mode()"
   ]
  },
  {
   "cell_type": "code",
   "execution_count": null,
   "metadata": {},
   "outputs": [],
   "source": [
    "# Shows how many male passengers did not survive\n",
    "not_surv_male_pass = male_pass[(male_pass['Survived'] == 0)]\n",
    "not_surv_male_pass.PassengerId.count() # 468\n"
   ]
  },
  {
   "cell_type": "code",
   "execution_count": null,
   "metadata": {},
   "outputs": [],
   "source": [
    "# Shows how many male passengers did survive\n",
    "surv_male_pass = male_pass[(male_pass['Survived'] == 1)]\n",
    "surv_male_pass.PassengerId.count() # 109"
   ]
  },
  {
   "cell_type": "code",
   "execution_count": null,
   "metadata": {},
   "outputs": [],
   "source": [
    "# Group male passengers by survived or not to plot the results\n",
    "male_pass_graph = male_pass.groupby('Survived').Survived.count()\n"
   ]
  },
  {
   "cell_type": "code",
   "execution_count": null,
   "metadata": {},
   "outputs": [],
   "source": [
    "# Gives the age thats most common amongst women onboard\n",
    "female_pass.Age.mode()"
   ]
  },
  {
   "cell_type": "code",
   "execution_count": null,
   "metadata": {},
   "outputs": [],
   "source": [
    "# Shows how many female passengers did not survive\n",
    "not_surv_female_pass = female_pass[(female_pass['Survived'] == 0)]\n",
    "not_surv_female_pass.PassengerId.count() # 81"
   ]
  },
  {
   "cell_type": "code",
   "execution_count": null,
   "metadata": {},
   "outputs": [],
   "source": [
    "# Shows how many female passengers did survive\n",
    "surv_female_pass = female_pass[(female_pass['Survived'] == 1)]\n",
    "surv_female_pass.PassengerId.count() # 233\n",
    "list_female_pass_surv = surv_female_pass.PassengerId\n",
    "array_female_pass_surv = np.array(list_female_pass_surv)\n",
    "print(array_female_pass_surv)"
   ]
  },
  {
   "cell_type": "code",
   "execution_count": null,
   "metadata": {},
   "outputs": [],
   "source": [
    "# Group female passengers by survived or not to plot the results\n",
    "female_pass_graph = female_pass.groupby('Survived').Survived.count()"
   ]
  },
  {
   "cell_type": "code",
   "execution_count": 109,
   "metadata": {},
   "outputs": [],
   "source": [
    "# Total of people who survived\n",
    "total_surv = df_train[(df_train['Survived'] == 1)]\n",
    "total_not_surv = df_train[(df_train['Survived'] == 0)]"
   ]
  },
  {
   "cell_type": "code",
   "execution_count": 111,
   "metadata": {},
   "outputs": [],
   "source": [
    "# Group survivers by sex\n",
    "groupby_sex_surv = total_surv.groupby('Sex').Survived.count()\n",
    "groupby_sex_not_surv = total_not_surv.groupby('Sex').Survived.count()"
   ]
  },
  {
   "cell_type": "code",
   "execution_count": 106,
   "metadata": {},
   "outputs": [
    {
     "data": {
      "image/png": "[encoded data removed]",
      "text/plain": [
       "<Figure size 432x288 with 1 Axes>"
      ]
     },
     "metadata": {},
     "output_type": "display_data"
    }
   ],
   "source": [
    "pie_labels = ['Female', 'Male']\n",
    "plt.pie(groupby_sex_surv, labels=pie_labels, autopct='%1.1f%%')\n",
    "plt.legend()\n",
    "plt.show()\n",
    "\n",
    "\n"
   ]
  },
  {
   "cell_type": "code",
   "execution_count": 112,
   "metadata": {},
   "outputs": [
    {
     "data": {
      "image/png": "[encoded data removed]",
      "text/plain": [
       "<Figure size 432x288 with 1 Axes>"
      ]
     },
     "metadata": {},
     "output_type": "display_data"
    }
   ],
   "source": [
    "pie_labels = ['Female', 'Male']\n",
    "plt.pie(groupby_sex_not_surv, labels=pie_labels, autopct='%1.1f%%')\n",
    "plt.legend()\n",
    "plt.show()"
   ]
  },
  {
   "cell_type": "code",
   "execution_count": null,
   "metadata": {},
   "outputs": [],
   "source": [
    "# Create new dataframe that only contains de PassengerId and Survived columns\n",
    "data = df_test_raw[['PassengerId', 'Survived']]\n",
    "\n",
    "# Display the new dataframe\n",
    "display(data)\n",
    "\n",
    "# Create a csv file of the dataframe called result\n",
    "data.to_csv('result.csv', index=False)"
   ]
  },
  {
   "attachments": {},
   "cell_type": "markdown",
   "metadata": {},
   "source": [
    "Hieronder code die mogelijk later gebruikt kan worden..."
   ]
  },
  {
   "cell_type": "code",
   "execution_count": null,
   "metadata": {},
   "outputs": [],
   "source": [
    "# newdf = df_train[(df_train['Sex'] == 'male') & (df_train['Pclass'] == 3)]\n",
    "# male_3 = newdf['Survived'].value_counts()\n",
    "# tot_male = male_3[0] + male_3[1]\n",
    "# male_3_lived = newdf[newdf['Survived'] == 1]\n",
    "# print(male_3_lived)"
   ]
  }
 ],
 "metadata": {
  "kernelspec": {
   "display_name": "Python 3",
   "language": "python",
   "name": "python3"
  },
  "language_info": {
   "codemirror_mode": {
    "name": "ipython",
    "version": 3
   },
   "file_extension": ".py",
   "mimetype": "text/x-python",
   "name": "python",
   "nbconvert_exporter": "python",
   "pygments_lexer": "ipython3",
   "version": "3.9.12"
  },
  "orig_nbformat": 4,
  "vscode": {
   "interpreter": {
    "hash": "f6d270715a5d2309d059873dc9af328f5945b720ca142ccee20c7dca5b005143"
   }
  }
 },
 "nbformat": 4,
 "nbformat_minor": 2
}
