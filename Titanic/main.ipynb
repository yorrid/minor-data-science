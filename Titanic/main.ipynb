{
 "cells": [
  {
   "cell_type": "code",
   "execution_count": 2,
   "metadata": {},
   "outputs": [],
   "source": [
    "import pandas as pd\n",
    "import numpy as np\n",
    "import matplotlib.pyplot as plt"
   ]
  },
  {
   "cell_type": "code",
   "execution_count": 17,
   "metadata": {},
   "outputs": [],
   "source": [
    "df_train = pd.read_csv('train.csv')\n",
    "\n",
    "df_test_raw = pd.read_csv('test.csv')\n",
    "\n",
    "df_test_raw['Survived'] = 0\n",
    "\n",
    "data = df_test_raw[['PassengerId', 'Survived']]\n",
    "\n",
    "df_survived = pd.DataFrame(data)\n",
    "\n",
    "df_survived.to_csv('result.csv', index=False)\n",
    "\n",
    "\n",
    "\n",
    "\n",
    "\n",
    "\n",
    "\n"
   ]
  }
 ],
 "metadata": {
  "kernelspec": {
   "display_name": "dev-env",
   "language": "python",
   "name": "python3"
  },
  "language_info": {
   "codemirror_mode": {
    "name": "ipython",
    "version": 3
   },
   "file_extension": ".py",
   "mimetype": "text/x-python",
   "name": "python",
   "nbconvert_exporter": "python",
   "pygments_lexer": "ipython3",
   "version": "3.10.9"
  },
  "orig_nbformat": 4,
  "vscode": {
   "interpreter": {
    "hash": "14337318d348e84ea79359f515714bbecfaf05d807827fdb32d3602e845b9c79"
   }
  }
 },
 "nbformat": 4,
 "nbformat_minor": 2
}
