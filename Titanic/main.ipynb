{
 "cells": [
  {
   "cell_type": "code",
   "execution_count": null,
   "metadata": {},
   "outputs": [],
   "source": [
    "import pandas as pd\n",
    "import numpy as np\n",
    "import matplotlib.pyplot as plt\n",
    "import seaborn as sns\n",
    "from functions import event_probability "
   ]
  },
  {
   "cell_type": "code",
   "execution_count": null,
   "metadata": {},
   "outputs": [],
   "source": [
    "# Load csv \n",
    "df_train = pd.read_csv('train.csv')\n",
    "df_test = pd.read_csv('test.csv')\n",
    "\n",
    "# Create new column (Survived) in raw test data with a value of 0 on each row\n",
    "df_test['Survived'] = 0"
   ]
  },
  {
   "cell_type": "code",
   "execution_count": null,
   "metadata": {},
   "outputs": [],
   "source": [
    "# Show the given row and columns in the datasets\n",
    "shape_train = df_train.shape\n",
    "shape_test = df_test.shape\n",
    "print('Train dataset shape: ')\n",
    "print(shape_train)\n",
    "print('Test dataset shape: ')\n",
    "print(shape_test)"
   ]
  },
  {
   "cell_type": "code",
   "execution_count": null,
   "metadata": {},
   "outputs": [],
   "source": [
    "# Show all info of the datasets\n",
    "df_train.info()\n",
    "df_test.info()"
   ]
  },
  {
   "cell_type": "code",
   "execution_count": null,
   "metadata": {},
   "outputs": [],
   "source": [
    "display(df_train)\n",
    "# display(df_test)"
   ]
  },
  {
   "cell_type": "code",
   "execution_count": null,
   "metadata": {},
   "outputs": [],
   "source": [
    "# Show total of people onboard\n",
    "total = df_train['PassengerId'].count() # 891"
   ]
  },
  {
   "cell_type": "code",
   "execution_count": null,
   "metadata": {},
   "outputs": [],
   "source": [
    "# Show total number of male and female onboard of the ship\n",
    "df_train['Sex'].value_counts()"
   ]
  },
  {
   "cell_type": "code",
   "execution_count": null,
   "metadata": {},
   "outputs": [],
   "source": [
    "# Show null values per column\n",
    "df_train.isnull().sum()"
   ]
  },
  {
   "cell_type": "code",
   "execution_count": null,
   "metadata": {},
   "outputs": [],
   "source": [
    "sex = df_train.groupby('Sex')\n",
    "\n",
    "male_pass = sex.get_group('male')\n",
    "female_pass = sex.get_group('female')"
   ]
  },
  {
   "cell_type": "code",
   "execution_count": null,
   "metadata": {},
   "outputs": [],
   "source": []
  },
  {
   "cell_type": "code",
   "execution_count": null,
   "metadata": {},
   "outputs": [],
   "source": [
    "# Gives the age thats most common amongst men onboard\n",
    "male_pass.Age.mode()\n"
   ]
  },
  {
   "cell_type": "code",
   "execution_count": null,
   "metadata": {},
   "outputs": [],
   "source": [
    "# Fill NaN values in the Age column\n",
    "df_train['Age'].fillna(df_train['Age'].mean(), inplace=True)"
   ]
  },
  {
   "cell_type": "code",
   "execution_count": null,
   "metadata": {},
   "outputs": [],
   "source": [
    "# Create bins to fit an age range to every passenger\n",
    "bins = [0, 5, 10, 15, 20, 25, 30, 35, 40, 45, 50, 55, 60, 65, 70, 75, 80]\n",
    "\n",
    "# Cut age into age groups so you can view it better\n",
    "df_train['Agerange'] = pd.cut(df_train.Age, bins,include_lowest = True)\n",
    "df_test['Agerange'] = pd.cut(df_test.Age, bins,include_lowest = True)\n",
    "\n"
   ]
  },
  {
   "cell_type": "code",
   "execution_count": null,
   "metadata": {},
   "outputs": [],
   "source": [
    "# Check most common age range among male passengers that survived in the first class\n",
    "male_surv_first_class = df_train[(df_train.Sex == 'male') & (df_train.Pclass == 1) & (df_train.Survived == 1)]\n",
    "print(male_surv_first_class.Agerange.mode())\n",
    "# display(male_surv_first_class)\n",
    "\n",
    "# Check most common age range among female passengers that survived in the first class\n",
    "female_surv_first_class = df_train[(df_train.Sex == 'female') & (df_train.Pclass == 1) & (df_train.Survived == 1)]\n",
    "print(female_surv_first_class.Agerange.mode())\n",
    "# display(male_surv_first_class)"
   ]
  },
  {
   "cell_type": "code",
   "execution_count": null,
   "metadata": {},
   "outputs": [],
   "source": [
    "# Check most common age range among male passengers that survived in the second class\n",
    "male_surv_second_class = df_train[(df_train.Sex == 'male') & (df_train.Pclass == 2) & (df_train.Survived == 1)]\n",
    "print(male_surv_second_class.Agerange.mode())\n",
    "# display(male_surv_second_class)\n",
    "\n",
    "# Check most common age range among female passengers that survived in the second class\n",
    "female_surv_second_class = df_train[(df_train.Sex == 'female') & (df_train.Pclass == 2) & (df_train.Survived == 1)]\n",
    "print(female_surv_second_class.Agerange.mode())\n",
    "# display(male_surv_second_class)"
   ]
  },
  {
   "cell_type": "code",
   "execution_count": null,
   "metadata": {},
   "outputs": [],
   "source": [
    "# Check most common age range among male passengers that survived in the third class\n",
    "male_surv_third_class = df_train[(df_train.Sex == 'male') & (df_train.Pclass == 3) & (df_train.Survived == 1)]\n",
    "print(male_surv_third_class.Agerange.mode())\n",
    "# display(male_surv_third_class)\n",
    "\n",
    "# Check most common age range among female passengers that survived in the third class\n",
    "female_surv_third_class = df_train[(df_train.Sex == 'female') & (df_train.Pclass == 3) & (df_train.Survived == 1)]\n",
    "print(female_surv_third_class.Agerange.mode())\n",
    "display(female_surv_third_class)"
   ]
  },
  {
   "cell_type": "code",
   "execution_count": null,
   "metadata": {},
   "outputs": [],
   "source": [
    "# Shows how many male passengers did not survive\n",
    "not_surv_male_pass = male_pass[(male_pass['Survived'] == 0)]\n",
    "count_not_surv_male_pass = not_surv_male_pass.PassengerId.count() # 468\n"
   ]
  },
  {
   "cell_type": "code",
   "execution_count": null,
   "metadata": {},
   "outputs": [],
   "source": [
    "# Shows how many male passengers did survive\n",
    "surv_male_pass = male_pass[(male_pass['Survived'] == 1)]\n",
    "count_surv_male_pass = surv_male_pass.PassengerId.count() # 109"
   ]
  },
  {
   "cell_type": "code",
   "execution_count": null,
   "metadata": {},
   "outputs": [],
   "source": [
    "# Group male passengers by survived or not to plot the results\n",
    "male_pass_graph = male_pass.groupby('Survived').Survived.count()\n"
   ]
  },
  {
   "cell_type": "code",
   "execution_count": null,
   "metadata": {},
   "outputs": [],
   "source": [
    "# Gives the age thats most common amongst women onboard\n",
    "female_pass.Age.mean()"
   ]
  },
  {
   "cell_type": "code",
   "execution_count": null,
   "metadata": {},
   "outputs": [],
   "source": [
    "# Shows how many female passengers did not survive\n",
    "not_surv_female_pass = female_pass[(female_pass['Survived'] == 0)]\n",
    "count_not_surv_female_pass = not_surv_female_pass.PassengerId.count() # 81"
   ]
  },
  {
   "cell_type": "code",
   "execution_count": null,
   "metadata": {},
   "outputs": [],
   "source": [
    "# Shows how many female passengers did survive\n",
    "surv_female_pass = female_pass[(female_pass['Survived'] == 1)]\n",
    "count_surv_female_pass = surv_female_pass.PassengerId.count() # 233\n"
   ]
  },
  {
   "cell_type": "code",
   "execution_count": null,
   "metadata": {},
   "outputs": [],
   "source": [
    "# Group female passengers by survived or not to plot the results\n",
    "female_pass_graph = female_pass.groupby('Survived').Survived.count()"
   ]
  },
  {
   "cell_type": "code",
   "execution_count": null,
   "metadata": {},
   "outputs": [],
   "source": [
    "# Total of people who survived\n",
    "total_surv = df_train[(df_train['Survived'] == 1)]\n",
    "total_not_surv = df_train[(df_train['Survived'] == 0)]"
   ]
  },
  {
   "cell_type": "code",
   "execution_count": null,
   "metadata": {},
   "outputs": [],
   "source": [
    "# Group survivers by sex\n",
    "groupby_sex_surv = total_surv.groupby('Sex').Survived.count()\n",
    "groupby_sex_not_surv = total_not_surv.groupby('Sex').Survived.count()"
   ]
  },
  {
   "cell_type": "code",
   "execution_count": null,
   "metadata": {},
   "outputs": [],
   "source": [
    "# Graphing surviving and non surviving females\n",
    "fig, ax = plt.subplots(1, 2, figsize=(8,8))\n",
    "\n",
    "ax[0].pie(male_pass_graph.values, labels=['Died', 'Survived'], autopct='%.2f%%')\n",
    "ax[0].set_title('Male passengers that died')\n",
    "ax[1].pie(female_pass_graph.values, labels=['Died', 'Survived'], autopct='%.2f%%')\n",
    "ax[1].set_title('Female passengers that died')\n",
    "ax[0].legend()\n",
    "ax[1].legend()\n",
    "plt.show()"
   ]
  },
  {
   "cell_type": "code",
   "execution_count": null,
   "metadata": {},
   "outputs": [],
   "source": [
    "# Probability for surviving as a female\n",
    "prob_surv_female = event_probability(count_surv_female_pass, total)\n",
    "print('Probability for surviving as a female: ' + str(prob_surv_female) + '%')\n",
    "\n",
    "# Probability for not surviving as a female\n",
    "prob_not_surv_female = event_probability(count_not_surv_female_pass, total)\n",
    "print('Probability for not surviving as a female: ' + str(prob_not_surv_female) + '%')\n"
   ]
  },
  {
   "cell_type": "code",
   "execution_count": null,
   "metadata": {},
   "outputs": [],
   "source": [
    "# Probability for surviving as a male\n",
    "prob_surv_male = event_probability(count_surv_male_pass, total)\n",
    "print('Probability for surviving as a male: ' + str(prob_surv_male) + '%')\n",
    "\n",
    "# Probability for not surviving as male\n",
    "prob_not_surv_male = event_probability(count_not_surv_male_pass, total)\n",
    "print('Probability for not surviving as male: ' + str(prob_not_surv_male) + '%')"
   ]
  },
  {
   "cell_type": "code",
   "execution_count": null,
   "metadata": {},
   "outputs": [],
   "source": [
    "plt.figure(figsize=(6,4))\n",
    "plt.hist(df_train.Pclass)\n",
    "plt.xticks(range(1,4,1))\n",
    "plt.yticks(range(100,550,50))\n",
    "plt.xlabel('Travel class', fontsize=15)\n",
    "plt.ylabel('Number of passengers', fontsize=15)\n",
    "plt.show()"
   ]
  },
  {
   "cell_type": "code",
   "execution_count": null,
   "metadata": {},
   "outputs": [],
   "source": [
    "# Group passengers by class\n",
    "classes = df_train.groupby('Pclass')\n",
    "\n",
    "# Get every class seperate from eachother to plot \n",
    "first = classes.get_group(1)\n",
    "second = classes.get_group(2)\n",
    "third = classes.get_group(3)"
   ]
  },
  {
   "cell_type": "code",
   "execution_count": null,
   "metadata": {},
   "outputs": [],
   "source": [
    "fig, ax = plt.subplots(1,3, figsize=(20,4))\n",
    "xlabels = ['Died', 'Survived']\n",
    "\n",
    "ax[0].hist(first.Survived)\n",
    "ax[0].set_title(\"First class passangers\",fontsize = 20)\n",
    "ax[0].set_ylabel(\"Total numbers of passangers\",fontsize = 20)\n",
    "ax[0].set_xticklabels(xlabels)\n",
    "ax[0].set_xticks(range(0,2,1))\n",
    "\n",
    "ax[1].hist(second.Survived)\n",
    "ax[1].set_title(\"Second Class Passangers\",fontsize = 20)\n",
    "ax[1].set_ylabel(\"Total Numbers Of passangers\",fontsize = 20)\n",
    "ax[1].set_xticklabels(xlabels)\n",
    "ax[1].set_xticks(range(0,2,1))\n",
    "\n",
    "ax[2].hist(third.Survived)\n",
    "ax[2].set_title(\"Third Class Passangers\",fontsize = 20)\n",
    "ax[2].set_ylabel(\"Total Number Of Passangers\",fontsize = 20)\n",
    "ax[2].set_xticklabels(xlabels)\n",
    "ax[2].set_xticks(range(0,2,1))\n",
    "\n",
    "plt.show()"
   ]
  },
  {
   "cell_type": "code",
   "execution_count": null,
   "metadata": {},
   "outputs": [],
   "source": [
    "# Group female passengers by class. This way we can plot them into histograms to see survival rate\n",
    "female_pass_class = female_pass.groupby('Pclass')\n",
    "\n",
    "female_first = female_pass_class.get_group(1)\n",
    "female_second = female_pass_class.get_group(2)\n",
    "female_third = female_pass_class.get_group(3)\n",
    "\n",
    "# Group male passengers by class. This way we can plot them into histograms to see survival rate\n",
    "male_pass_class = male_pass.groupby('Pclass')\n",
    "\n",
    "male_first = male_pass_class.get_group(1)\n",
    "male_second = male_pass_class.get_group(2)\n",
    "male_third = male_pass_class.get_group(3)"
   ]
  },
  {
   "cell_type": "code",
   "execution_count": null,
   "metadata": {},
   "outputs": [],
   "source": [
    "# Histogram of female passengers per class, this way we can conclude that most female passengers survived in the first and second class\n",
    "fig, ax = plt.subplots(1,3, figsize=(20,5))\n",
    "\n",
    "ax[0].hist(female_first.Survived)\n",
    "ax[0].set_title(\"First class female passangers\",fontsize = 20)\n",
    "ax[0].set_ylabel(\"Total number of female passangers\",fontsize = 15)\n",
    "ax[0].set_xticklabels(xlabels)\n",
    "ax[0].set_xticks(range(0,2,1))\n",
    "\n",
    "ax[1].hist(female_second.Survived)\n",
    "ax[1].set_title(\"Second class female passangers\",fontsize = 20)\n",
    "ax[1].set_ylabel(\"Total number of female passangers\",fontsize = 15)\n",
    "ax[1].set_xticklabels(xlabels)\n",
    "ax[1].set_xticks(range(0,2,1))\n",
    "\n",
    "ax[2].hist(female_third.Survived)\n",
    "ax[2].set_title(\"Third class female passangers\",fontsize = 20)\n",
    "ax[2].set_ylabel(\"Total number of female passangers\",fontsize = 15)\n",
    "ax[2].set_xticklabels(xlabels)\n",
    "ax[2].set_xticks(range(0,2,1))\n",
    "\n",
    "plt.show()"
   ]
  },
  {
   "cell_type": "code",
   "execution_count": null,
   "metadata": {},
   "outputs": [],
   "source": [
    "# Histogram of male passengers per class, most male passengers died in every class\n",
    "fig, ax = plt.subplots(1,3, figsize=(20,5))\n",
    "\n",
    "ax[0].hist(male_first.Survived)\n",
    "ax[0].set_title(\"First class male passangers\",fontsize = 20)\n",
    "ax[0].set_ylabel(\"Total number of male passangers\",fontsize = 15)\n",
    "ax[0].set_xticklabels(xlabels)\n",
    "ax[0].set_xticks(range(0,2,1))\n",
    "\n",
    "ax[1].hist(male_second.Survived)\n",
    "ax[1].set_title(\"Second class male passangers\",fontsize = 20)\n",
    "ax[1].set_ylabel(\"Total number of male passangers\",fontsize = 15)\n",
    "ax[1].set_xticklabels(xlabels)\n",
    "ax[1].set_xticks(range(0,2,1))\n",
    "\n",
    "ax[2].hist(male_third.Survived)\n",
    "ax[2].set_title(\"Third class male passangers\",fontsize = 20)\n",
    "ax[2].set_ylabel(\"Total number of male passangers\",fontsize = 15)\n",
    "ax[2].set_xticklabels(xlabels)\n",
    "ax[2].set_xticks(range(0,2,1))\n",
    "\n",
    "plt.show()"
   ]
  },
  {
   "cell_type": "code",
   "execution_count": null,
   "metadata": {},
   "outputs": [],
   "source": [
    "#Create title feature from name\n",
    "df_train['Title'] = df_train.Name.str.split(', ').str[1]\n",
    "df_train['Title'] = df_train.Title.str.split('. ').str[0]\n",
    "\n",
    "df_test['Title'] = df_test.Name.str.split(', ').str[1]\n",
    "df_test['Title'] = df_test.Title.str.split('. ').str[0]"
   ]
  },
  {
   "cell_type": "code",
   "execution_count": null,
   "metadata": {},
   "outputs": [],
   "source": [
    "# Create bins to fit an fare range to every passenger\n",
    "bins = [0, 10, 20, 30, 40, 50, 60, 70, 80, 90, 100, 150, 200]\n",
    "bin_labels_fare = ['0-9', '10-19', '20-29', '30-39', '40-49', '50-59', '60-69', '70-79', '80-89', '90-99', '100-149', '150+']\n",
    "\n",
    "# Cut age into age groups so you can view it better\n",
    "df_train['Farerange'] = pd.cut(df_train.Fare, bins, labels = bin_labels_fare,include_lowest = True)\n",
    "df_test['Farerange'] = pd.cut(df_test.Fare, bins, labels = bin_labels_fare,include_lowest = True)"
   ]
  },
  {
   "cell_type": "code",
   "execution_count": null,
   "metadata": {},
   "outputs": [],
   "source": [
    "# Check the most common fare range among surving male passengers in first class\n",
    "male_surv_first_class = df_train[(df_train.Sex == 'male') & (df_train.Pclass == 1) & (df_train.Survived == 1)]\n",
    "print(male_surv_first_class.Farerange.mode())\n",
    "# display(male_surv_first_class)\n",
    "\n",
    "# Check the most common fare range among surving female passengers in first class\n",
    "female_surv_first_class = df_train[(df_train.Sex == 'female') & (df_train.Pclass == 1) & (df_train.Survived == 1)]\n",
    "print(female_surv_first_class.Farerange.mode())\n",
    "# display(male_surv_first_class)"
   ]
  },
  {
   "cell_type": "code",
   "execution_count": null,
   "metadata": {},
   "outputs": [],
   "source": [
    "# Check the most common fare range among surving male passengers in second class\n",
    "male_surv_second_class = df_train[(df_train.Sex == 'male') & (df_train.Pclass == 2) & (df_train.Survived == 1)]\n",
    "print(male_surv_second_class.Farerange.mode())\n",
    "# display(male_surv_second_class)\n",
    "\n",
    "# Check the most common fare range among surving female passengers in second class\n",
    "female_surv_second_class = df_train[(df_train.Sex == 'female') & (df_train.Pclass == 2) & (df_train.Survived == 1)]\n",
    "print(female_surv_second_class.Farerange.mode())\n",
    "# display(male_surv_second_class)"
   ]
  },
  {
   "cell_type": "code",
   "execution_count": null,
   "metadata": {},
   "outputs": [],
   "source": [
    "# Check the most common fare range among surving male passengers in third class\n",
    "male_surv_third_class = df_train[(df_train.Sex == 'male') & (df_train.Pclass == 3) & (df_train.Survived == 1)]\n",
    "print(male_surv_third_class.Farerange.mode())\n",
    "# display(male_surv_third_class)\n",
    "\n",
    "# Check the most common fare range among surving female passengers in third class\n",
    "female_surv_third_class = df_train[(df_train.Sex == 'female') & (df_train.Pclass == 3) & (df_train.Survived == 1)]\n",
    "print(female_surv_third_class.Farerange.mode())\n",
    "# display(male_surv_third_class)"
   ]
  },
  {
   "cell_type": "code",
   "execution_count": null,
   "metadata": {},
   "outputs": [],
   "source": [
    "df_train['Comp'] = df_train['SibSp'] + df_train['Parch']\n",
    "df_test['Comp'] = df_test['SibSp'] + df_test['Parch']\n"
   ]
  },
  {
   "cell_type": "code",
   "execution_count": null,
   "metadata": {},
   "outputs": [],
   "source": [
    "sns.boxplot(data=df_train, x='Embarked', y='Fare', hue='Pclass')"
   ]
  },
  {
   "cell_type": "code",
   "execution_count": 806,
   "metadata": {},
   "outputs": [
    {
     "data": {
      "text/plain": [
       "8.05"
      ]
     },
     "execution_count": 806,
     "metadata": {},
     "output_type": "execute_result"
    }
   ],
   "source": [
    "df_train.loc[(df_train['Pclass'] == 3) & (df_train['Embarked'] == 'S')]['Fare'].median()\n"
   ]
  },
  {
   "cell_type": "code",
   "execution_count": null,
   "metadata": {},
   "outputs": [],
   "source": [
    "df_surv= df_train.loc[(df_train['Pclass'] == 1) & (df_train['Sex'] == 'female')]\n",
    "df_not_surv = df_train.loc[(df_train['Pclass'] == 2) & (df_train['Sex'] == 'male')  & (df_train['Survived'] == 0)]\n",
    "\n",
    "fig, ax = plt.subplots()\n",
    "\n",
    "sns.histplot(data=df_surv, x='Age', hue='Survived')\n",
    "\n",
    "plt.show()\n",
    "\n",
    "# ax[0].hist(df_surv.Age)\n",
    "# ax[0].set_title('Survived')\n",
    "\n",
    "# ax[1].hist(df_not_surv.Age)\n",
    "# ax[1].set_title('Not survived')\n",
    "# plt.show()\n",
    "\n",
    "\n",
    "\n"
   ]
  },
  {
   "attachments": {},
   "cell_type": "markdown",
   "metadata": {},
   "source": [
    "Hier onder wordt de test data aangepast en in een csv file opgeslagen om het resultaat te kunnen inleveren op Kaggle"
   ]
  },
  {
   "cell_type": "code",
   "execution_count": null,
   "metadata": {},
   "outputs": [],
   "source": [
    "# Male in first class\n",
    "df_test[(df_test['Sex'] == 'male') & (df_test['Pclass'] == 1) & (df_test['Comp'] == 3)]\n",
    "df_test.loc[(df_test['Sex'] == 'male') & (df_test['Pclass'] == 1) & (df_test['Age'] > 79) , 'Survived'] = 1\n",
    "\n",
    "# Male in second class\n",
    "df_test.loc[(df_test['Sex'] == 'male') & (df_test['Pclass'] == 2) & (df_test['Age'] < 10), 'Survived'] = 1\n",
    "\n",
    "# Male in third class\n",
    "df_test.loc[(df_test['Sex'] == 'male') & (df_test['Pclass'] == 3) & (df_test['Fare'] > 50) & (df_test['Fare'] < 60), 'Survived'] = 1\n",
    "\n",
    "# Female in first class\n",
    "df_test.loc[(df_test['Sex'] == 'female') & (df_test['Pclass'] == 1), 'Survived'] = 1\n",
    "df_test.loc[(df_test['Sex'] == 'female') & (df_test['Pclass'] == 1) & (df_test['Age'] < 9), 'Survived'] = 0\n",
    "\n",
    "# Female in second class\n",
    "df_test.loc[(df_test['Sex'] == 'female') & (df_test['Pclass'] == 2), 'Survived'] = 1\n",
    "\n",
    "# Female in third class\n",
    "df_test[(df_test['Sex'] == 'female') & (df_test['Pclass'] == 3) & (df_test['Comp'] == 3)]\n",
    "\n",
    "# Everyone that payed more than 500 survives\n",
    "df_test.loc[(df_test['Fare'] > 500), 'Survived'] = 1\n",
    "\n",
    "\n"
   ]
  },
  {
   "cell_type": "code",
   "execution_count": null,
   "metadata": {},
   "outputs": [],
   "source": [
    "# Create new dataframe that only contains de PassengerId and Survived columns\n",
    "data = df_test[['PassengerId', 'Survived']]\n",
    "\n",
    "# Display the new dataframe\n",
    "display(data)\n",
    "\n",
    "# Create a csv file of the dataframe called result\n",
    "data.to_csv('result.csv', index=False)"
   ]
  }
 ],
 "metadata": {
  "kernelspec": {
   "display_name": "dev-env",
   "language": "python",
   "name": "python3"
  },
  "language_info": {
   "codemirror_mode": {
    "name": "ipython",
    "version": 3
   },
   "file_extension": ".py",
   "mimetype": "text/x-python",
   "name": "python",
   "nbconvert_exporter": "python",
   "pygments_lexer": "ipython3",
   "version": "3.10.9"
  },
  "orig_nbformat": 4,
  "vscode": {
   "interpreter": {
    "hash": "14337318d348e84ea79359f515714bbecfaf05d807827fdb32d3602e845b9c79"
   }
  }
 },
 "nbformat": 4,
 "nbformat_minor": 2
}
