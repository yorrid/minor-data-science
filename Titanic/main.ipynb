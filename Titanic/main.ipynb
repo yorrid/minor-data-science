{
 "cells": [
  {
   "cell_type": "code",
   "execution_count": null,
   "metadata": {},
   "outputs": [],
   "source": [
    "import pandas as pd\n",
    "import numpy as np\n",
    "import matplotlib.pyplot as plt\n",
    "import seaborn as sns\n",
    "from statistics import mean\n",
    "from statistics import stdev\n",
    "from functions import event_probability "
   ]
  },
  {
   "cell_type": "code",
   "execution_count": null,
   "metadata": {},
   "outputs": [],
   "source": [
    "# Load csv \n",
    "df_train = pd.read_csv('train.csv')\n",
    "df_test_raw = pd.read_csv('test.csv')\n",
    "\n",
    "# Create new column (Survived) in raw test data with a value of 0 on each row\n",
    "df_test_raw['Survived'] = 0"
   ]
  },
  {
   "cell_type": "code",
   "execution_count": null,
   "metadata": {},
   "outputs": [],
   "source": [
    "# Show the given row and columns in the datasets\n",
    "shape_train = df_train.shape\n",
    "shape_test = df_test_raw.shape\n",
    "print('Train dataset shape: ')\n",
    "print(shape_train)\n",
    "print('Test dataset shape: ')\n",
    "print(shape_test)"
   ]
  },
  {
   "cell_type": "code",
   "execution_count": null,
   "metadata": {},
   "outputs": [],
   "source": [
    "# Show all info of the datasets\n",
    "df_train.info()\n",
    "df_test_raw.info()"
   ]
  },
  {
   "cell_type": "code",
   "execution_count": null,
   "metadata": {},
   "outputs": [],
   "source": [
    "display(df_train)"
   ]
  },
  {
   "cell_type": "code",
   "execution_count": null,
   "metadata": {},
   "outputs": [],
   "source": [
    "# Show total of people onboard\n",
    "total = df_train['PassengerId'].count() # 891"
   ]
  },
  {
   "cell_type": "code",
   "execution_count": null,
   "metadata": {},
   "outputs": [],
   "source": [
    "# Show total number of male and female onboard of the ship\n",
    "df_train['Sex'].value_counts()"
   ]
  },
  {
   "cell_type": "code",
   "execution_count": null,
   "metadata": {},
   "outputs": [],
   "source": [
    "# Show null values per column\n",
    "df_train.isnull().sum()"
   ]
  },
  {
   "cell_type": "code",
   "execution_count": null,
   "metadata": {},
   "outputs": [],
   "source": [
    "sex = df_train.groupby('Sex')\n",
    "\n",
    "male_pass = sex.get_group('male')\n",
    "female_pass = sex.get_group('female')"
   ]
  },
  {
   "cell_type": "code",
   "execution_count": null,
   "metadata": {},
   "outputs": [],
   "source": [
    "# Gives the age thats most common amongst men onboard\n",
    "male_pass.Age.mode()\n"
   ]
  },
  {
   "cell_type": "code",
   "execution_count": 276,
   "metadata": {},
   "outputs": [],
   "source": [
    "df_train['Age'].fillna(df_train['Age'].mean(), inplace=True)\n",
    "\n",
    "df_test_raw['Age'].fillna(df_test_raw['Age'].mean(), inplace=True)\n"
   ]
  },
  {
   "cell_type": "code",
   "execution_count": null,
   "metadata": {},
   "outputs": [],
   "source": [
    "# Create bins to fit an age range to every passenger\n",
    "bins = [5, 10, 15, 20, 25, 30, 35, 40, 45, 50, 55, 60, 120]\n",
    "bin_labels = ['0-9', '10-14', '15-19', '20-24', '25-29', '30-34', '35-39', '40-44', '45-50', '50-54', '55-59', '60+']\n",
    "\n",
    "# Cut age into age groups so you can view it better\n",
    "df_train['Agerange'] = pd.cut(df_train.Age, bins, labels = bin_labels,include_lowest = True)\n",
    "df_test_raw['Agerange'] = pd.cut(df_test_raw.Age, bins, labels = bin_labels,include_lowest = True)\n"
   ]
  },
  {
   "cell_type": "code",
   "execution_count": null,
   "metadata": {},
   "outputs": [],
   "source": [
    "# Shows how many male passengers did not survive\n",
    "not_surv_male_pass = male_pass[(male_pass['Survived'] == 0)]\n",
    "count_not_surv_male_pass = not_surv_male_pass.PassengerId.count() # 468\n"
   ]
  },
  {
   "cell_type": "code",
   "execution_count": null,
   "metadata": {},
   "outputs": [],
   "source": [
    "# Shows how many male passengers did survive\n",
    "surv_male_pass = male_pass[(male_pass['Survived'] == 1)]\n",
    "count_surv_male_pass = surv_male_pass.PassengerId.count() # 109"
   ]
  },
  {
   "cell_type": "code",
   "execution_count": null,
   "metadata": {},
   "outputs": [],
   "source": [
    "# Group male passengers by survived or not to plot the results\n",
    "male_pass_graph = male_pass.groupby('Survived').Survived.count()\n"
   ]
  },
  {
   "cell_type": "code",
   "execution_count": null,
   "metadata": {},
   "outputs": [],
   "source": [
    "# Gives the age thats most common amongst women onboard\n",
    "female_pass.Age.mean()"
   ]
  },
  {
   "cell_type": "code",
   "execution_count": null,
   "metadata": {},
   "outputs": [],
   "source": [
    "# Shows how many female passengers did not survive\n",
    "not_surv_female_pass = female_pass[(female_pass['Survived'] == 0)]\n",
    "count_not_surv_female_pass = not_surv_female_pass.PassengerId.count() # 81"
   ]
  },
  {
   "cell_type": "code",
   "execution_count": null,
   "metadata": {},
   "outputs": [],
   "source": [
    "# Shows how many female passengers did survive\n",
    "surv_female_pass = female_pass[(female_pass['Survived'] == 1)]\n",
    "count_surv_female_pass = surv_female_pass.PassengerId.count() # 233\n"
   ]
  },
  {
   "cell_type": "code",
   "execution_count": null,
   "metadata": {},
   "outputs": [],
   "source": [
    "# Group female passengers by survived or not to plot the results\n",
    "female_pass_graph = female_pass.groupby('Survived').Survived.count()"
   ]
  },
  {
   "cell_type": "code",
   "execution_count": null,
   "metadata": {},
   "outputs": [],
   "source": [
    "# Total of people who survived\n",
    "total_surv = df_train[(df_train['Survived'] == 1)]\n",
    "total_not_surv = df_train[(df_train['Survived'] == 0)]"
   ]
  },
  {
   "cell_type": "code",
   "execution_count": null,
   "metadata": {},
   "outputs": [],
   "source": [
    "# Group survivers by sex\n",
    "groupby_sex_surv = total_surv.groupby('Sex').Survived.count()\n",
    "groupby_sex_not_surv = total_not_surv.groupby('Sex').Survived.count()"
   ]
  },
  {
   "cell_type": "code",
   "execution_count": null,
   "metadata": {},
   "outputs": [],
   "source": [
    "# Graphing surviving and non surviving females\n",
    "fig, ax = plt.subplots(1, 2, figsize=(8,8))\n",
    "\n",
    "ax[0].pie(male_pass_graph.values, labels=['Died', 'Survived'], autopct='%.2f%%')\n",
    "ax[0].set_title('Male passengers that died')\n",
    "ax[1].pie(female_pass_graph.values, labels=['Died', 'Survived'], autopct='%.2f%%')\n",
    "ax[1].set_title('Female passengers that died')\n",
    "ax[0].legend()\n",
    "ax[1].legend()\n",
    "plt.show()"
   ]
  },
  {
   "cell_type": "code",
   "execution_count": null,
   "metadata": {},
   "outputs": [],
   "source": [
    "# Probability for surviving as a female\n",
    "prob_surv_female = event_probability(count_surv_female_pass, total)\n",
    "print('Probability for surviving as a female: ' + str(prob_surv_female) + '%')\n",
    "\n",
    "# Probability for not surviving as a female\n",
    "prob_not_surv_female = event_probability(count_not_surv_female_pass, total)\n",
    "print('Probability for not surviving as a female: ' + str(prob_not_surv_female) + '%')\n"
   ]
  },
  {
   "cell_type": "code",
   "execution_count": null,
   "metadata": {},
   "outputs": [],
   "source": [
    "# Probability for surviving as a male\n",
    "prob_surv_male = event_probability(count_surv_male_pass, total)\n",
    "print('Probability for surviving as a male: ' + str(prob_surv_male) + '%')\n",
    "\n",
    "# Probability for not surviving as male\n",
    "prob_not_surv_male = event_probability(count_not_surv_male_pass, total)\n",
    "print('Probability for not surviving as male: ' + str(prob_not_surv_male) + '%')"
   ]
  },
  {
   "cell_type": "code",
   "execution_count": null,
   "metadata": {},
   "outputs": [],
   "source": [
    "plt.figure(figsize=(6,4))\n",
    "plt.hist(df_train.Pclass)\n",
    "plt.xticks(range(1,4,1))\n",
    "plt.yticks(range(100,550,50))\n",
    "plt.xlabel('Travel class', fontsize=15)\n",
    "plt.ylabel('Number of passengers', fontsize=15)\n",
    "plt.show()"
   ]
  },
  {
   "cell_type": "code",
   "execution_count": null,
   "metadata": {},
   "outputs": [],
   "source": [
    "classes = df_train.groupby('Pclass')\n",
    "\n",
    "first = classes.get_group(1)\n",
    "second = classes.get_group(2)\n",
    "third = classes.get_group(3)"
   ]
  },
  {
   "cell_type": "code",
   "execution_count": null,
   "metadata": {},
   "outputs": [],
   "source": [
    "fig, ax = plt.subplots(1,3, figsize=(20,4))\n",
    "xlabels = ['Died', 'Survived']\n",
    "\n",
    "ax[0].hist(first.Survived)\n",
    "ax[0].set_title(\"First class passangers\",fontsize = 20)\n",
    "ax[0].set_ylabel(\"Total numbers of passangers\",fontsize = 20)\n",
    "ax[0].set_xticklabels(xlabels)\n",
    "ax[0].set_xticks(range(0,2,1))\n",
    "\n",
    "ax[1].hist(second.Survived)\n",
    "ax[1].set_title(\"Second Class Passangers\",fontsize = 20)\n",
    "ax[1].set_ylabel(\"Total Numbers Of passangers\",fontsize = 20)\n",
    "ax[1].set_xticklabels(xlabels)\n",
    "ax[1].set_xticks(range(0,2,1))\n",
    "\n",
    "ax[2].hist(third.Survived)\n",
    "ax[2].set_title(\"Third Class Passangers\",fontsize = 20)\n",
    "ax[2].set_ylabel(\"Total Number Of Passangers\",fontsize = 20)\n",
    "ax[2].set_xticklabels(xlabels)\n",
    "ax[2].set_xticks(range(0,2,1))\n",
    "\n",
    "plt.show()"
   ]
  },
  {
   "cell_type": "code",
   "execution_count": null,
   "metadata": {},
   "outputs": [],
   "source": [
    "female_pass_class = female_pass.groupby('Pclass')\n",
    "\n",
    "female_first = female_pass_class.get_group(1)\n",
    "female_second = female_pass_class.get_group(2)\n",
    "female_third = female_pass_class.get_group(3)"
   ]
  },
  {
   "cell_type": "code",
   "execution_count": null,
   "metadata": {},
   "outputs": [],
   "source": [
    "female_first_group = female_first.groupby('Survived')\n",
    "female_second_group = female_second.groupby('Survived')\n",
    "female_third_group = female_third.groupby('Survived')\n",
    "\n",
    "female_first_surv = female_first_group.get_group(1)\n",
    "female_first_not_surv = female_first_group.get_group(0)\n",
    "\n",
    "female_second_surv = female_second_group.get_group(1)\n",
    "female_second_not_surv = female_second_group.get_group(0)\n",
    "\n",
    "female_third_surv = female_third_group.get_group(1)\n",
    "female_third_not_surv = female_third_group.get_group(0)\n"
   ]
  },
  {
   "cell_type": "code",
   "execution_count": 274,
   "metadata": {},
   "outputs": [
    {
     "name": "stderr",
     "output_type": "stream",
     "text": [
      "/var/folders/0j/dnd5nn45099d8yt1603ysnm00000gn/T/ipykernel_87433/3409706471.py:6: UserWarning: FixedFormatter should only be used together with FixedLocator\n",
      "  ax[0].set_xticklabels(xlabels)\n",
      "/var/folders/0j/dnd5nn45099d8yt1603ysnm00000gn/T/ipykernel_87433/3409706471.py:12: UserWarning: FixedFormatter should only be used together with FixedLocator\n",
      "  ax[1].set_xticklabels(xlabels)\n",
      "/var/folders/0j/dnd5nn45099d8yt1603ysnm00000gn/T/ipykernel_87433/3409706471.py:18: UserWarning: FixedFormatter should only be used together with FixedLocator\n",
      "  ax[2].set_xticklabels(xlabels)\n"
     ]
    },
    {
     "data": {
      "image/png": "[encoded data removed]",
      "text/plain": [
       "<Figure size 2000x500 with 3 Axes>"
      ]
     },
     "metadata": {},
     "output_type": "display_data"
    }
   ],
   "source": [
    "fig, ax = plt.subplots(1,3, figsize=(20,5))\n",
    "\n",
    "ax[0].hist(female_first.Survived)\n",
    "ax[0].set_title(\"First class passangers\",fontsize = 20)\n",
    "ax[0].set_ylabel(\"Total number of passangers\",fontsize = 15)\n",
    "ax[0].set_xticklabels(xlabels)\n",
    "ax[0].set_xticks(range(0,2,1))\n",
    "\n",
    "ax[1].hist(female_second.Survived)\n",
    "ax[1].set_title(\"Second class passangers\",fontsize = 20)\n",
    "ax[1].set_ylabel(\"Total number of passangers\",fontsize = 15)\n",
    "ax[1].set_xticklabels(xlabels)\n",
    "ax[1].set_xticks(range(0,2,1))\n",
    "\n",
    "ax[2].hist(female_third.Survived)\n",
    "ax[2].set_title(\"Third class passangers\",fontsize = 20)\n",
    "ax[2].set_ylabel(\"Total number of passangers\",fontsize = 15)\n",
    "ax[2].set_xticklabels(xlabels)\n",
    "ax[2].set_xticks(range(0,2,1))\n",
    "\n",
    "plt.show()"
   ]
  },
  {
   "cell_type": "code",
   "execution_count": null,
   "metadata": {},
   "outputs": [],
   "source": [
    "#Create title feature from name\n",
    "df_train['Title'] = df_train.Name.str.split(', ').str[1]\n",
    "df_train['Title'] = df_train.Title.str.split('. ').str[0]\n",
    "\n",
    "df_test_raw['Title'] = df_test_raw.Name.str.split(', ').str[1]\n",
    "df_test_raw['Title'] = df_test_raw.Title.str.split('. ').str[0]\n",
    "df_train['Title'].value_counts()\n"
   ]
  },
  {
   "cell_type": "code",
   "execution_count": 286,
   "metadata": {},
   "outputs": [],
   "source": [
    "df_test_raw.loc[(df_test_raw['Sex'] == 'female') & (df_test_raw['Pclass'] == 1), 'Survived'] = 1\n",
    "df_test_raw.loc[(df_test_raw['Sex'] == 'female') & (df_test_raw['Pclass'] == 2), 'Survived'] = 1"
   ]
  },
  {
   "cell_type": "code",
   "execution_count": 287,
   "metadata": {},
   "outputs": [
    {
     "data": {
      "text/html": [
       "<div>\n",
       "<style scoped>\n",
       "    .dataframe tbody tr th:only-of-type {\n",
       "        vertical-align: middle;\n",
       "    }\n",
       "\n",
       "    .dataframe tbody tr th {\n",
       "        vertical-align: top;\n",
       "    }\n",
       "\n",
       "    .dataframe thead th {\n",
       "        text-align: right;\n",
       "    }\n",
       "</style>\n",
       "<table border=\"1\" class=\"dataframe\">\n",
       "  <thead>\n",
       "    <tr style=\"text-align: right;\">\n",
       "      <th></th>\n",
       "      <th>PassengerId</th>\n",
       "      <th>Survived</th>\n",
       "    </tr>\n",
       "  </thead>\n",
       "  <tbody>\n",
       "    <tr>\n",
       "      <th>0</th>\n",
       "      <td>892</td>\n",
       "      <td>0</td>\n",
       "    </tr>\n",
       "    <tr>\n",
       "      <th>1</th>\n",
       "      <td>893</td>\n",
       "      <td>0</td>\n",
       "    </tr>\n",
       "    <tr>\n",
       "      <th>2</th>\n",
       "      <td>894</td>\n",
       "      <td>0</td>\n",
       "    </tr>\n",
       "    <tr>\n",
       "      <th>3</th>\n",
       "      <td>895</td>\n",
       "      <td>0</td>\n",
       "    </tr>\n",
       "    <tr>\n",
       "      <th>4</th>\n",
       "      <td>896</td>\n",
       "      <td>0</td>\n",
       "    </tr>\n",
       "    <tr>\n",
       "      <th>...</th>\n",
       "      <td>...</td>\n",
       "      <td>...</td>\n",
       "    </tr>\n",
       "    <tr>\n",
       "      <th>413</th>\n",
       "      <td>1305</td>\n",
       "      <td>0</td>\n",
       "    </tr>\n",
       "    <tr>\n",
       "      <th>414</th>\n",
       "      <td>1306</td>\n",
       "      <td>1</td>\n",
       "    </tr>\n",
       "    <tr>\n",
       "      <th>415</th>\n",
       "      <td>1307</td>\n",
       "      <td>0</td>\n",
       "    </tr>\n",
       "    <tr>\n",
       "      <th>416</th>\n",
       "      <td>1308</td>\n",
       "      <td>0</td>\n",
       "    </tr>\n",
       "    <tr>\n",
       "      <th>417</th>\n",
       "      <td>1309</td>\n",
       "      <td>0</td>\n",
       "    </tr>\n",
       "  </tbody>\n",
       "</table>\n",
       "<p>418 rows × 2 columns</p>\n",
       "</div>"
      ],
      "text/plain": [
       "     PassengerId  Survived\n",
       "0            892         0\n",
       "1            893         0\n",
       "2            894         0\n",
       "3            895         0\n",
       "4            896         0\n",
       "..           ...       ...\n",
       "413         1305         0\n",
       "414         1306         1\n",
       "415         1307         0\n",
       "416         1308         0\n",
       "417         1309         0\n",
       "\n",
       "[418 rows x 2 columns]"
      ]
     },
     "metadata": {},
     "output_type": "display_data"
    }
   ],
   "source": [
    "# Create new dataframe that only contains de PassengerId and Survived columns\n",
    "data = df_test_raw[['PassengerId', 'Survived']]\n",
    "\n",
    "# Display the new dataframe\n",
    "display(data)\n",
    "\n",
    "# Create a csv file of the dataframe called result\n",
    "# data.to_csv('result.csv', index=False)"
   ]
  }
 ],
 "metadata": {
  "kernelspec": {
   "display_name": "dev-env",
   "language": "python",
   "name": "python3"
  },
  "language_info": {
   "codemirror_mode": {
    "name": "ipython",
    "version": 3
   },
   "file_extension": ".py",
   "mimetype": "text/x-python",
   "name": "python",
   "nbconvert_exporter": "python",
   "pygments_lexer": "ipython3",
   "version": "3.10.9"
  },
  "orig_nbformat": 4,
  "vscode": {
   "interpreter": {
    "hash": "14337318d348e84ea79359f515714bbecfaf05d807827fdb32d3602e845b9c79"
   }
  }
 },
 "nbformat": 4,
 "nbformat_minor": 2
}
