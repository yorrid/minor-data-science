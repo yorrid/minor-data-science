{
 "cells": [
  {
   "cell_type": "markdown",
   "id": "970ae3f5",
   "metadata": {},
   "source": [
    "# Project Title"
   ]
  },
  {
   "cell_type": "markdown",
   "id": "af92890d",
   "metadata": {},
   "source": [
    "Exploratory data analysis of Titanic survivors and casualties"
   ]
  },
  {
   "cell_type": "markdown",
   "id": "984b01fd",
   "metadata": {},
   "source": [
    "# 1. system setup"
   ]
  },
  {
   "cell_type": "code",
   "execution_count": 1,
   "id": "e09ba6e7",
   "metadata": {},
   "outputs": [],
   "source": [
    "import numpy as np\n",
    "import pandas as pd\n",
    "import matplotlib.pyplot as plt\n",
    "import os"
   ]
  },
  {
   "cell_type": "markdown",
   "id": "b24c0c02",
   "metadata": {},
   "source": [
    "**Working directory setup**\n",
    "* **/Data/** for all data related maps\n",
    "* **/Data/raw/** for all raw incoming data\n",
    "* **/Data/clean/** for all clean data to be used during analysis\n",
    "* **/Data/staging/** for all data save during cleaning \n",
    "* **/Data/temp/** for all tempral data saving \n",
    "* **/Figs/temp/** for all tempral data saving \n",
    "* **/Docs/** reference documentation\n",
    "* **/Results/** reference documentation\n",
    "* **/Code/** reference documentation\n",
    "\n",
    "\n",
    "**references:**\n",
    "https://docs.python-guide.org/writing/structure/\n",
    "\n"
   ]
  },
  {
   "cell_type": "markdown",
   "id": "e8f8e3b5",
   "metadata": {},
   "source": [
    "Set working directories"
   ]
  },
  {
   "cell_type": "code",
   "execution_count": 2,
   "id": "8f05eb9e",
   "metadata": {},
   "outputs": [
    {
     "name": "stdout",
     "output_type": "stream",
     "text": [
      "Current working directory: C:\\Users\\maxve\\OneDrive - HvA\\Minor Data Science data\\Titanic case\\Code\n"
     ]
    }
   ],
   "source": [
    "print(\"Current working directory: {0}\".format(os.getcwd()))\n"
   ]
  },
  {
   "cell_type": "markdown",
   "id": "19fd8df0",
   "metadata": {},
   "source": [
    "Create folder structure"
   ]
  },
  {
   "cell_type": "code",
   "execution_count": 3,
   "id": "f05fb87c",
   "metadata": {},
   "outputs": [
    {
     "data": {
      "text/plain": [
       "[None, None, None, None, None, None, None, None, None, None]"
      ]
     },
     "execution_count": 3,
     "metadata": {},
     "output_type": "execute_result"
    }
   ],
   "source": [
    "arr_map_structure  = [os.getcwd() + map for map in   ['/Data','/Data/raw','/Data/clean','/Data/staging',\n",
    "                      '/Data/temp','/Figs','/Figs/temp','/Docs','/Results','/Code'] ]\n",
    "\n",
    "[os.makedirs(map) for map in arr_map_structure if  not os.path.exists( map)]"
   ]
  },
  {
   "cell_type": "markdown",
   "id": "ee0b11c1",
   "metadata": {},
   "source": [
    "# 2. Import data"
   ]
  },
  {
   "cell_type": "code",
   "execution_count": 8,
   "id": "763f589b",
   "metadata": {},
   "outputs": [
    {
     "ename": "NameError",
     "evalue": "name 'working_dir' is not defined",
     "output_type": "error",
     "traceback": [
      "\u001b[1;31m---------------------------------------------------------------------------\u001b[0m",
      "\u001b[1;31mNameError\u001b[0m                                 Traceback (most recent call last)",
      "\u001b[1;32m~\\AppData\\Local\\Temp\\ipykernel_26396\\2642577773.py\u001b[0m in \u001b[0;36m<module>\u001b[1;34m\u001b[0m\n\u001b[1;32m----> 1\u001b[1;33m \u001b[0mos\u001b[0m\u001b[1;33m.\u001b[0m\u001b[0mlistdir\u001b[0m\u001b[1;33m(\u001b[0m\u001b[0mworking_dir\u001b[0m\u001b[1;33m)\u001b[0m\u001b[1;33m\u001b[0m\u001b[1;33m\u001b[0m\u001b[0m\n\u001b[0m",
      "\u001b[1;31mNameError\u001b[0m: name 'working_dir' is not defined"
     ]
    }
   ],
   "source": [
    "os.listdir(working_dir)"
   ]
  },
  {
   "cell_type": "code",
   "execution_count": null,
   "id": "ca37d192",
   "metadata": {},
   "outputs": [],
   "source": []
  },
  {
   "cell_type": "code",
   "execution_count": null,
   "id": "bab2e1f9",
   "metadata": {},
   "outputs": [],
   "source": []
  },
  {
   "cell_type": "code",
   "execution_count": 6,
   "id": "70aec9ed",
   "metadata": {},
   "outputs": [],
   "source": [
    "pass_manifest = pd.read_csv('train.csv', index_col = 'PassengerId')\n",
    "test_manifest = pd.read_csv('test.csv', index_col = 'PassengerId')"
   ]
  },
  {
   "cell_type": "code",
   "execution_count": null,
   "id": "cbc7168f",
   "metadata": {},
   "outputs": [],
   "source": [
    "pass_manifest.head()"
   ]
  },
  {
   "cell_type": "code",
   "execution_count": 6,
   "id": "fbbdb6cf",
   "metadata": {},
   "outputs": [
    {
     "data": {
      "text/html": [
       "<div>\n",
       "<style scoped>\n",
       "    .dataframe tbody tr th:only-of-type {\n",
       "        vertical-align: middle;\n",
       "    }\n",
       "\n",
       "    .dataframe tbody tr th {\n",
       "        vertical-align: top;\n",
       "    }\n",
       "\n",
       "    .dataframe thead th {\n",
       "        text-align: right;\n",
       "    }\n",
       "</style>\n",
       "<table border=\"1\" class=\"dataframe\">\n",
       "  <thead>\n",
       "    <tr style=\"text-align: right;\">\n",
       "      <th></th>\n",
       "      <th>Pclass</th>\n",
       "      <th>Name</th>\n",
       "      <th>Sex</th>\n",
       "      <th>Age</th>\n",
       "      <th>SibSp</th>\n",
       "      <th>Parch</th>\n",
       "      <th>Ticket</th>\n",
       "      <th>Fare</th>\n",
       "      <th>Cabin</th>\n",
       "      <th>Embarked</th>\n",
       "    </tr>\n",
       "    <tr>\n",
       "      <th>PassengerId</th>\n",
       "      <th></th>\n",
       "      <th></th>\n",
       "      <th></th>\n",
       "      <th></th>\n",
       "      <th></th>\n",
       "      <th></th>\n",
       "      <th></th>\n",
       "      <th></th>\n",
       "      <th></th>\n",
       "      <th></th>\n",
       "    </tr>\n",
       "  </thead>\n",
       "  <tbody>\n",
       "    <tr>\n",
       "      <th>892</th>\n",
       "      <td>3</td>\n",
       "      <td>Kelly, Mr. James</td>\n",
       "      <td>male</td>\n",
       "      <td>34.5</td>\n",
       "      <td>0</td>\n",
       "      <td>0</td>\n",
       "      <td>330911</td>\n",
       "      <td>7.8292</td>\n",
       "      <td>NaN</td>\n",
       "      <td>Q</td>\n",
       "    </tr>\n",
       "    <tr>\n",
       "      <th>893</th>\n",
       "      <td>3</td>\n",
       "      <td>Wilkes, Mrs. James (Ellen Needs)</td>\n",
       "      <td>female</td>\n",
       "      <td>47.0</td>\n",
       "      <td>1</td>\n",
       "      <td>0</td>\n",
       "      <td>363272</td>\n",
       "      <td>7.0000</td>\n",
       "      <td>NaN</td>\n",
       "      <td>S</td>\n",
       "    </tr>\n",
       "    <tr>\n",
       "      <th>894</th>\n",
       "      <td>2</td>\n",
       "      <td>Myles, Mr. Thomas Francis</td>\n",
       "      <td>male</td>\n",
       "      <td>62.0</td>\n",
       "      <td>0</td>\n",
       "      <td>0</td>\n",
       "      <td>240276</td>\n",
       "      <td>9.6875</td>\n",
       "      <td>NaN</td>\n",
       "      <td>Q</td>\n",
       "    </tr>\n",
       "    <tr>\n",
       "      <th>895</th>\n",
       "      <td>3</td>\n",
       "      <td>Wirz, Mr. Albert</td>\n",
       "      <td>male</td>\n",
       "      <td>27.0</td>\n",
       "      <td>0</td>\n",
       "      <td>0</td>\n",
       "      <td>315154</td>\n",
       "      <td>8.6625</td>\n",
       "      <td>NaN</td>\n",
       "      <td>S</td>\n",
       "    </tr>\n",
       "    <tr>\n",
       "      <th>896</th>\n",
       "      <td>3</td>\n",
       "      <td>Hirvonen, Mrs. Alexander (Helga E Lindqvist)</td>\n",
       "      <td>female</td>\n",
       "      <td>22.0</td>\n",
       "      <td>1</td>\n",
       "      <td>1</td>\n",
       "      <td>3101298</td>\n",
       "      <td>12.2875</td>\n",
       "      <td>NaN</td>\n",
       "      <td>S</td>\n",
       "    </tr>\n",
       "  </tbody>\n",
       "</table>\n",
       "</div>"
      ],
      "text/plain": [
       "             Pclass                                          Name     Sex  \\\n",
       "PassengerId                                                                 \n",
       "892               3                              Kelly, Mr. James    male   \n",
       "893               3              Wilkes, Mrs. James (Ellen Needs)  female   \n",
       "894               2                     Myles, Mr. Thomas Francis    male   \n",
       "895               3                              Wirz, Mr. Albert    male   \n",
       "896               3  Hirvonen, Mrs. Alexander (Helga E Lindqvist)  female   \n",
       "\n",
       "              Age  SibSp  Parch   Ticket     Fare Cabin Embarked  \n",
       "PassengerId                                                       \n",
       "892          34.5      0      0   330911   7.8292   NaN        Q  \n",
       "893          47.0      1      0   363272   7.0000   NaN        S  \n",
       "894          62.0      0      0   240276   9.6875   NaN        Q  \n",
       "895          27.0      0      0   315154   8.6625   NaN        S  \n",
       "896          22.0      1      1  3101298  12.2875   NaN        S  "
      ]
     },
     "execution_count": 6,
     "metadata": {},
     "output_type": "execute_result"
    }
   ],
   "source": [
    "test_manifest.head()"
   ]
  },
  {
   "cell_type": "markdown",
   "id": "088e7991",
   "metadata": {},
   "source": [
    "# 3. Exploratory Data Analysis"
   ]
  },
  {
   "cell_type": "code",
   "execution_count": null,
   "id": "a8934f32",
   "metadata": {},
   "outputs": [],
   "source": []
  },
  {
   "cell_type": "markdown",
   "id": "9a8d0061",
   "metadata": {},
   "source": [
    "## 3.1. Inspectie van variabelen"
   ]
  },
  {
   "cell_type": "code",
   "execution_count": null,
   "id": "33d4d0fd",
   "metadata": {},
   "outputs": [],
   "source": []
  },
  {
   "cell_type": "markdown",
   "id": "7b9c2fb2",
   "metadata": {},
   "source": [
    "## 3.2. EDA per dataframe"
   ]
  },
  {
   "cell_type": "code",
   "execution_count": 7,
   "id": "1ccdfbac",
   "metadata": {},
   "outputs": [
    {
     "data": {
      "text/plain": [
       "(891, 11)"
      ]
     },
     "execution_count": 7,
     "metadata": {},
     "output_type": "execute_result"
    }
   ],
   "source": [
    "pass_manifest.shape"
   ]
  },
  {
   "cell_type": "code",
   "execution_count": 8,
   "id": "1fbd47c7",
   "metadata": {},
   "outputs": [
    {
     "data": {
      "text/plain": [
       "Survived      int64\n",
       "Pclass        int64\n",
       "Name         object\n",
       "Sex          object\n",
       "Age         float64\n",
       "SibSp         int64\n",
       "Parch         int64\n",
       "Ticket       object\n",
       "Fare        float64\n",
       "Cabin        object\n",
       "Embarked     object\n",
       "dtype: object"
      ]
     },
     "execution_count": 8,
     "metadata": {},
     "output_type": "execute_result"
    }
   ],
   "source": [
    "pass_manifest.dtypes"
   ]
  },
  {
   "cell_type": "code",
   "execution_count": 9,
   "id": "515c2798",
   "metadata": {},
   "outputs": [
    {
     "name": "stdout",
     "output_type": "stream",
     "text": [
      "<class 'pandas.core.frame.DataFrame'>\n",
      "Int64Index: 891 entries, 1 to 891\n",
      "Data columns (total 11 columns):\n",
      " #   Column    Non-Null Count  Dtype  \n",
      "---  ------    --------------  -----  \n",
      " 0   Survived  891 non-null    int64  \n",
      " 1   Pclass    891 non-null    int64  \n",
      " 2   Name      891 non-null    object \n",
      " 3   Sex       891 non-null    object \n",
      " 4   Age       714 non-null    float64\n",
      " 5   SibSp     891 non-null    int64  \n",
      " 6   Parch     891 non-null    int64  \n",
      " 7   Ticket    891 non-null    object \n",
      " 8   Fare      891 non-null    float64\n",
      " 9   Cabin     204 non-null    object \n",
      " 10  Embarked  889 non-null    object \n",
      "dtypes: float64(2), int64(4), object(5)\n",
      "memory usage: 83.5+ KB\n"
     ]
    }
   ],
   "source": [
    "pass_manifest.info()"
   ]
  },
  {
   "cell_type": "code",
   "execution_count": 10,
   "id": "86292956",
   "metadata": {},
   "outputs": [
    {
     "data": {
      "text/plain": [
       "(418, 10)"
      ]
     },
     "execution_count": 10,
     "metadata": {},
     "output_type": "execute_result"
    }
   ],
   "source": [
    "test_manifest.shape"
   ]
  },
  {
   "cell_type": "code",
   "execution_count": 11,
   "id": "f55b7f19",
   "metadata": {},
   "outputs": [
    {
     "name": "stdout",
     "output_type": "stream",
     "text": [
      "<class 'pandas.core.frame.DataFrame'>\n",
      "Int64Index: 418 entries, 892 to 1309\n",
      "Data columns (total 10 columns):\n",
      " #   Column    Non-Null Count  Dtype  \n",
      "---  ------    --------------  -----  \n",
      " 0   Pclass    418 non-null    int64  \n",
      " 1   Name      418 non-null    object \n",
      " 2   Sex       418 non-null    object \n",
      " 3   Age       332 non-null    float64\n",
      " 4   SibSp     418 non-null    int64  \n",
      " 5   Parch     418 non-null    int64  \n",
      " 6   Ticket    418 non-null    object \n",
      " 7   Fare      417 non-null    float64\n",
      " 8   Cabin     91 non-null     object \n",
      " 9   Embarked  418 non-null    object \n",
      "dtypes: float64(2), int64(3), object(5)\n",
      "memory usage: 35.9+ KB\n"
     ]
    }
   ],
   "source": [
    "test_manifest.info()"
   ]
  },
  {
   "cell_type": "markdown",
   "id": "463bf852",
   "metadata": {},
   "source": [
    "pass_manifest en test_manifest hebben identieke kolommen. Te zien is dat kolommen Cabin en Age veel waardes missen. Van de kolommen Fare en Embarked zijn er maar een paar waardes vermist."
   ]
  },
  {
   "cell_type": "markdown",
   "id": "f36c42c9",
   "metadata": {},
   "source": [
    "### 3.2.1 Kolommen splitsen / verwijderen / hernoemen"
   ]
  },
  {
   "cell_type": "markdown",
   "id": "903afb68",
   "metadata": {},
   "source": [
    "Nieuwe kolom aangemaakt waarin de 'SibSp' en 'Parch' kolom is opgeteld om de totale familie grootte weer te geven"
   ]
  },
  {
   "cell_type": "code",
   "execution_count": 17,
   "id": "0894d367",
   "metadata": {},
   "outputs": [],
   "source": [
    "pass_manifest['FamSize'] = pass_manifest['SibSp'] + pass_manifest['Parch'] + 1\n",
    "test_manifest['FamSize'] = test_manifest['SibSp'] + test_manifest['Parch'] + 1"
   ]
  },
  {
   "cell_type": "markdown",
   "id": "ce5572c3",
   "metadata": {},
   "source": [
    "Nieuwe kolom aangemaakt om passagiers te groeperen gebaseerd op leeftijdsgroep. Hierbij is gesplitst in baby voor passagiers tussen de 0 en 5 jaar oud, child voor passagiers tussen 5 en 15 jaar oud, adult voor passagiers tussen 15 en 30 jaar oud, en senior voor passagiers ouder dan 30 jaar."
   ]
  },
  {
   "cell_type": "code",
   "execution_count": 18,
   "id": "a53f77bd",
   "metadata": {},
   "outputs": [],
   "source": [
    "pass_manifest['AgeGroup'] = pd.cut(pass_manifest['Age'], [0, 5, 15, 30, 90], labels=['Baby', 'Child', 'Adult', 'Senior'])\n",
    "test_manifest['AgeGroup'] = pd.cut(test_manifest['Age'], [0, 5, 15, 30, 90], labels=['Baby', 'Child', 'Adult', 'Senior'])"
   ]
  },
  {
   "cell_type": "markdown",
   "id": "a4094047",
   "metadata": {},
   "source": [
    "### 3.2.2 Datatypes rechtzetten"
   ]
  },
  {
   "cell_type": "markdown",
   "id": "8e9c88b5",
   "metadata": {},
   "source": [
    "### 3.2.3 Duplicates verwijderen"
   ]
  },
  {
   "cell_type": "markdown",
   "id": "f830d957",
   "metadata": {},
   "source": [
    "### 3.2.4 Generieke verkenning"
   ]
  },
  {
   "cell_type": "markdown",
   "id": "ff53d8e7",
   "metadata": {},
   "source": [
    "## 3.3 Univariate data analyse"
   ]
  },
  {
   "cell_type": "markdown",
   "id": "c9c9a1c7",
   "metadata": {},
   "source": [
    "## 3.4 Multivariate data analyse"
   ]
  },
  {
   "cell_type": "markdown",
   "id": "d4059e69",
   "metadata": {},
   "source": [
    "## Conclusies EDA"
   ]
  },
  {
   "cell_type": "markdown",
   "id": "f981d2c7",
   "metadata": {},
   "source": [
    "# 4. Opschonen van dataset"
   ]
  },
  {
   "cell_type": "markdown",
   "id": "43b91e15",
   "metadata": {},
   "source": [
    "## 4.1 Overbodige kolommen en outliers verwijderen"
   ]
  },
  {
   "cell_type": "markdown",
   "id": "8c2af53e",
   "metadata": {},
   "source": [
    "### 4.1.1 Duplicates verwijderen"
   ]
  },
  {
   "cell_type": "markdown",
   "id": "6fd38136",
   "metadata": {},
   "source": [
    "### 4.1.2 Outliers verwijderen"
   ]
  },
  {
   "cell_type": "markdown",
   "id": "2421533b",
   "metadata": {},
   "source": [
    "## 4.2 Corrigeren van technisch onmogelijke waardes"
   ]
  },
  {
   "cell_type": "markdown",
   "id": "d90258de",
   "metadata": {},
   "source": [
    "### 4.2.1 Missende waardes aanvullen"
   ]
  },
  {
   "cell_type": "markdown",
   "id": "6b5196f8",
   "metadata": {},
   "source": [
    "# 5. Feature engineering"
   ]
  },
  {
   "cell_type": "markdown",
   "id": "d9b8722e",
   "metadata": {},
   "source": [
    "# 6. Building a model"
   ]
  },
  {
   "cell_type": "markdown",
   "id": "8484a5ab",
   "metadata": {},
   "source": [
    "# 7. Model test"
   ]
  },
  {
   "cell_type": "markdown",
   "id": "af26a93a",
   "metadata": {},
   "source": [
    "# 8. Model toepassen"
   ]
  },
  {
   "cell_type": "code",
   "execution_count": 5,
   "id": "6e00a23c",
   "metadata": {},
   "outputs": [
    {
     "data": {
      "text/html": [
       "<div>\n",
       "<style scoped>\n",
       "    .dataframe tbody tr th:only-of-type {\n",
       "        vertical-align: middle;\n",
       "    }\n",
       "\n",
       "    .dataframe tbody tr th {\n",
       "        vertical-align: top;\n",
       "    }\n",
       "\n",
       "    .dataframe thead th {\n",
       "        text-align: right;\n",
       "    }\n",
       "</style>\n",
       "<table border=\"1\" class=\"dataframe\">\n",
       "  <thead>\n",
       "    <tr style=\"text-align: right;\">\n",
       "      <th>Survived</th>\n",
       "      <th>0</th>\n",
       "      <th>1</th>\n",
       "    </tr>\n",
       "    <tr>\n",
       "      <th>Sex</th>\n",
       "      <th></th>\n",
       "      <th></th>\n",
       "    </tr>\n",
       "  </thead>\n",
       "  <tbody>\n",
       "    <tr>\n",
       "      <th>female</th>\n",
       "      <td>25.8</td>\n",
       "      <td>74.2</td>\n",
       "    </tr>\n",
       "    <tr>\n",
       "      <th>male</th>\n",
       "      <td>81.1</td>\n",
       "      <td>18.9</td>\n",
       "    </tr>\n",
       "  </tbody>\n",
       "</table>\n",
       "</div>"
      ],
      "text/plain": [
       "Survived     0     1\n",
       "Sex                 \n",
       "female    25.8  74.2\n",
       "male      81.1  18.9"
      ]
     },
     "execution_count": 5,
     "metadata": {},
     "output_type": "execute_result"
    }
   ],
   "source": [
    "pd.crosstab(pass_manifest['Sex'], pass_manifest['Survived'], normalize = 'index').round(3)*100 \n",
    "# 72.4% of women survived compared to only 18.9% of men "
   ]
  },
  {
   "cell_type": "code",
   "execution_count": 6,
   "id": "29398366",
   "metadata": {},
   "outputs": [
    {
     "data": {
      "image/png": "[encoded data removed]",
      "text/plain": [
       "<Figure size 640x480 with 1 Axes>"
      ]
     },
     "metadata": {},
     "output_type": "display_data"
    }
   ],
   "source": [
    "pass_male = pass_manifest[pass_manifest['Sex'] == 'male'].reset_index()\n",
    "male_age_surv = pd.crosstab(pass_male['Age'], pass_male['Survived'])\n",
    "fig, ax = plt.subplots()\n",
    "\n",
    "ax.bar(male_age_surv.index, male_age_surv[0], label='Died')\n",
    "ax.bar(male_age_surv.index, male_age_surv[1], bottom=male_age_surv[0], label='Survived')\n",
    "ax.set_title('Amount of survivors and deaths of male passengers per age')\n",
    "ax.set_xlabel('Age')\n",
    "ax.set_ylabel('Count')\n",
    "ax.legend()\n",
    "plt.show() #It seems middle aged men are more likely to die, kids are often prioritized for lifeboats with women"
   ]
  },
  {
   "cell_type": "code",
   "execution_count": 7,
   "id": "9a19a157",
   "metadata": {},
   "outputs": [
    {
     "data": {
      "image/png": "[encoded data removed]",
      "text/plain": [
       "<Figure size 640x480 with 1 Axes>"
      ]
     },
     "metadata": {},
     "output_type": "display_data"
    }
   ],
   "source": [
    "class_surv = pd.crosstab(pass_manifest['Pclass'], pass_manifest['Survived'])\n",
    "fig, ax = plt.subplots()\n",
    "\n",
    "ax.bar(class_surv.index, class_surv[0], label='Died')\n",
    "ax.bar(class_surv.index, class_surv[1], bottom=class_surv[0], label='Survived')\n",
    "ax.set_title('Outcome per class')\n",
    "ax.set_xlabel('Class')\n",
    "ax.set_ylabel('Count')\n",
    "ax.legend()\n",
    "plt.show() #The higher class travellers were less likely to die"
   ]
  },
  {
   "cell_type": "code",
   "execution_count": 8,
   "id": "387de775",
   "metadata": {
    "scrolled": false
   },
   "outputs": [
    {
     "name": "stderr",
     "output_type": "stream",
     "text": [
      "C:\\Users\\maxve\\AppData\\Local\\Temp\\ipykernel_29612\\2293561264.py:8: UserWarning: FixedFormatter should only be used together with FixedLocator\n",
      "  ax.set_xticklabels(['Cherbourg', 'Queenstown', 'Southampton'])\n"
     ]
    },
    {
     "data": {
      "image/png": "[encoded data removed]",
      "text/plain": [
       "<Figure size 640x480 with 1 Axes>"
      ]
     },
     "metadata": {},
     "output_type": "display_data"
    }
   ],
   "source": [
    "embarked_surv = pd.crosstab(pass_manifest['Embarked'], pass_manifest['Survived'])\n",
    "fig, ax = plt.subplots()\n",
    "\n",
    "ax.bar(embarked_surv.index, embarked_surv[0], label='Died')\n",
    "ax.bar(embarked_surv.index, embarked_surv[1], bottom=embarked_surv[0], label='Survived')\n",
    "ax.set_title('Outcome of passengers based on location of embarkment')\n",
    "ax.set_xlabel('Location')\n",
    "ax.set_xticklabels(['Cherbourg', 'Queenstown', 'Southampton'])\n",
    "ax.set_ylabel('Count')\n",
    "ax.legend()\n",
    "plt.show() #The higher class travellers were less likely to die"
   ]
  },
  {
   "cell_type": "code",
   "execution_count": 9,
   "id": "dd9b21d3",
   "metadata": {},
   "outputs": [
    {
     "data": {
      "image/png": "[encoded data removed]",
      "text/plain": [
       "<Figure size 640x480 with 1 Axes>"
      ]
     },
     "metadata": {},
     "output_type": "display_data"
    }
   ],
   "source": [
    "companions_surv = pd.crosstab((pass_manifest['SibSp'] + pass_manifest['Parch']), pass_manifest['Survived'])\n",
    "fig, ax = plt.subplots()\n",
    "\n",
    "ax.bar(companions_surv.index, companions_surv[0], label='Died')\n",
    "ax.bar(companions_surv.index, companions_surv[1], bottom=companions_surv[0], label='Survived')\n",
    "ax.set_title('Outcome of passengers based on amount of travel companions')\n",
    "ax.set_xlabel('Amount of travel companions')\n",
    "ax.set_ylabel('Count')\n",
    "ax.legend()\n",
    "plt.show() #Fewer travel companions often led to better outcomes, best odds with 1, 2, and 3 companions"
   ]
  },
  {
   "cell_type": "code",
   "execution_count": 10,
   "id": "3a5f6ff7",
   "metadata": {},
   "outputs": [],
   "source": [
    "pass_manifest['Fare'] = pass_manifest['Fare'].fillna(pass_manifest['Fare'].median())\n",
    "test_manifest['Fare'] = test_manifest['Fare'].fillna(test_manifest['Fare'].median())"
   ]
  },
  {
   "cell_type": "code",
   "execution_count": 7,
   "id": "7c86fc2d",
   "metadata": {},
   "outputs": [
    {
     "name": "stdout",
     "output_type": "stream",
     "text": [
      "             Survived  Pclass                                Name     Sex  \\\n",
      "PassengerId                                                                 \n",
      "259                 1       1                    Ward, Miss. Anna  female   \n",
      "680                 1       1  Cardeza, Mr. Thomas Drake Martinez    male   \n",
      "738                 1       1              Lesurer, Mr. Gustave J    male   \n",
      "\n",
      "              Age  SibSp  Parch    Ticket      Fare        Cabin Embarked  \n",
      "PassengerId                                                                \n",
      "259          35.0      0      0  PC 17755  512.3292          NaN        C  \n",
      "680          36.0      0      1  PC 17755  512.3292  B51 B53 B55        C  \n",
      "738          35.0      0      0  PC 17755  512.3292         B101        C  \n"
     ]
    }
   ],
   "source": [
    "pass_manifest['Age'] = pass_manifest['Age'].fillna(pass_manifest['Age'].median())\n",
    "test_manifest['Age'] = test_manifest['Age'].fillna(test_manifest['Age'].median())\n",
    "print(pass_manifest[pass_manifest['Fare'] > 300])"
   ]
  },
  {
   "cell_type": "code",
   "execution_count": 25,
   "id": "70c3c89b",
   "metadata": {},
   "outputs": [
    {
     "name": "stdout",
     "output_type": "stream",
     "text": [
      "Your submission was successfully saved!\n"
     ]
    }
   ],
   "source": [
    "from sklearn.ensemble import RandomForestClassifier\n",
    "\n",
    "y = pass_manifest[\"Survived\"]\n",
    "\n",
    "features = [\"Pclass\", \"Sex\", 'AgeGroup', \"FamSize\", 'Fare']\n",
    "X = pd.get_dummies(pass_manifest[features])\n",
    "X_test = pd.get_dummies(test_manifest[features])\n",
    "\n",
    "model = RandomForestClassifier(n_estimators=100, max_depth=7, random_state=1)\n",
    "model.fit(X, y)\n",
    "predictions = model.predict(X_test)\n",
    "\n",
    "output = pd.DataFrame({'PassengerId': test_manifest.index, 'Survived': predictions})\n",
    "output.to_csv('submission2.csv', index=False)\n",
    "print(\"Your submission was successfully saved!\")"
   ]
  },
  {
   "cell_type": "code",
   "execution_count": null,
   "id": "90521202",
   "metadata": {},
   "outputs": [],
   "source": []
  }
 ],
 "metadata": {
  "kernelspec": {
   "display_name": "Python 3 (ipykernel)",
   "language": "python",
   "name": "python3"
  },
  "language_info": {
   "codemirror_mode": {
    "name": "ipython",
    "version": 3
   },
   "file_extension": ".py",
   "mimetype": "text/x-python",
   "name": "python",
   "nbconvert_exporter": "python",
   "pygments_lexer": "ipython3",
   "version": "3.9.13"
  }
 },
 "nbformat": 4,
 "nbformat_minor": 5
}
