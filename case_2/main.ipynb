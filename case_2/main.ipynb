{
 "cells": [
  {
   "cell_type": "code",
   "execution_count": 44,
   "metadata": {},
   "outputs": [],
   "source": [
    "import requests\n",
    "import json\n",
    "import pandas as pd\n",
    "import numpy as np\n",
    "import plotly.express as px\n",
    "import kaggle"
   ]
  },
  {
   "attachments": {},
   "cell_type": "markdown",
   "metadata": {},
   "source": [
    "Import dataset via kaggle api"
   ]
  },
  {
   "cell_type": "code",
   "execution_count": 45,
   "metadata": {},
   "outputs": [
    {
     "data": {
      "text/plain": [
       "'yorridvangroningen'"
      ]
     },
     "execution_count": 45,
     "metadata": {},
     "output_type": "execute_result"
    }
   ],
   "source": [
    "api = kaggle.api\n",
    "api.get_config_value('username')\n",
    "\n",
    "# Below paste the of the code to download the dataset from Kaggle\n",
    "\n",
    "# import main dataset\n",
    "# !kaggle datasets download -d equilibriumm/sleep-efficiency\n",
    "# !unzip sleep-efficiency.zip\n",
    "\n",
    "# import sleep study pilot dataset\n",
    "# !kaggle datasets download -d mlomuscio/sleepstudypilot\n",
    "# !unzip sleepstudypilot.zip\n",
    "\n",
    "# import sleep study US dataset\n",
    "# !kaggle datasets download -d thedevastator/how-much-sleep-do-americans-really-get\n",
    "# !unzip how-much-sleep-do-americans-really-get.zip"
   ]
  },
  {
   "cell_type": "code",
   "execution_count": 46,
   "metadata": {},
   "outputs": [
    {
     "data": {
      "text/html": [
       "<div>\n",
       "<style scoped>\n",
       "    .dataframe tbody tr th:only-of-type {\n",
       "        vertical-align: middle;\n",
       "    }\n",
       "\n",
       "    .dataframe tbody tr th {\n",
       "        vertical-align: top;\n",
       "    }\n",
       "\n",
       "    .dataframe thead th {\n",
       "        text-align: right;\n",
       "    }\n",
       "</style>\n",
       "<table border=\"1\" class=\"dataframe\">\n",
       "  <thead>\n",
       "    <tr style=\"text-align: right;\">\n",
       "      <th></th>\n",
       "      <th>ID</th>\n",
       "      <th>Age</th>\n",
       "      <th>Gender</th>\n",
       "      <th>Bedtime</th>\n",
       "      <th>Wakeup time</th>\n",
       "      <th>Sleep duration</th>\n",
       "      <th>Sleep efficiency</th>\n",
       "      <th>REM sleep percentage</th>\n",
       "      <th>Deep sleep percentage</th>\n",
       "      <th>Light sleep percentage</th>\n",
       "      <th>Awakenings</th>\n",
       "      <th>Caffeine consumption</th>\n",
       "      <th>Alcohol consumption</th>\n",
       "      <th>Smoking status</th>\n",
       "      <th>Exercise frequency</th>\n",
       "    </tr>\n",
       "  </thead>\n",
       "  <tbody>\n",
       "    <tr>\n",
       "      <th>0</th>\n",
       "      <td>1</td>\n",
       "      <td>65</td>\n",
       "      <td>Female</td>\n",
       "      <td>2021-03-06 01:00:00</td>\n",
       "      <td>2021-03-06 07:00:00</td>\n",
       "      <td>6.0</td>\n",
       "      <td>0.88</td>\n",
       "      <td>18</td>\n",
       "      <td>70</td>\n",
       "      <td>12</td>\n",
       "      <td>0.0</td>\n",
       "      <td>0.0</td>\n",
       "      <td>0.0</td>\n",
       "      <td>Yes</td>\n",
       "      <td>3.0</td>\n",
       "    </tr>\n",
       "    <tr>\n",
       "      <th>1</th>\n",
       "      <td>2</td>\n",
       "      <td>69</td>\n",
       "      <td>Male</td>\n",
       "      <td>2021-12-05 02:00:00</td>\n",
       "      <td>2021-12-05 09:00:00</td>\n",
       "      <td>7.0</td>\n",
       "      <td>0.66</td>\n",
       "      <td>19</td>\n",
       "      <td>28</td>\n",
       "      <td>53</td>\n",
       "      <td>3.0</td>\n",
       "      <td>0.0</td>\n",
       "      <td>3.0</td>\n",
       "      <td>Yes</td>\n",
       "      <td>3.0</td>\n",
       "    </tr>\n",
       "    <tr>\n",
       "      <th>2</th>\n",
       "      <td>3</td>\n",
       "      <td>40</td>\n",
       "      <td>Female</td>\n",
       "      <td>2021-05-25 21:30:00</td>\n",
       "      <td>2021-05-25 05:30:00</td>\n",
       "      <td>8.0</td>\n",
       "      <td>0.89</td>\n",
       "      <td>20</td>\n",
       "      <td>70</td>\n",
       "      <td>10</td>\n",
       "      <td>1.0</td>\n",
       "      <td>0.0</td>\n",
       "      <td>0.0</td>\n",
       "      <td>No</td>\n",
       "      <td>3.0</td>\n",
       "    </tr>\n",
       "    <tr>\n",
       "      <th>3</th>\n",
       "      <td>4</td>\n",
       "      <td>40</td>\n",
       "      <td>Female</td>\n",
       "      <td>2021-11-03 02:30:00</td>\n",
       "      <td>2021-11-03 08:30:00</td>\n",
       "      <td>6.0</td>\n",
       "      <td>0.51</td>\n",
       "      <td>23</td>\n",
       "      <td>25</td>\n",
       "      <td>52</td>\n",
       "      <td>3.0</td>\n",
       "      <td>50.0</td>\n",
       "      <td>5.0</td>\n",
       "      <td>Yes</td>\n",
       "      <td>1.0</td>\n",
       "    </tr>\n",
       "    <tr>\n",
       "      <th>4</th>\n",
       "      <td>5</td>\n",
       "      <td>57</td>\n",
       "      <td>Male</td>\n",
       "      <td>2021-03-13 01:00:00</td>\n",
       "      <td>2021-03-13 09:00:00</td>\n",
       "      <td>8.0</td>\n",
       "      <td>0.76</td>\n",
       "      <td>27</td>\n",
       "      <td>55</td>\n",
       "      <td>18</td>\n",
       "      <td>3.0</td>\n",
       "      <td>0.0</td>\n",
       "      <td>3.0</td>\n",
       "      <td>No</td>\n",
       "      <td>3.0</td>\n",
       "    </tr>\n",
       "  </tbody>\n",
       "</table>\n",
       "</div>"
      ],
      "text/plain": [
       "   ID  Age  Gender              Bedtime          Wakeup time  Sleep duration  \\\n",
       "0   1   65  Female  2021-03-06 01:00:00  2021-03-06 07:00:00             6.0   \n",
       "1   2   69    Male  2021-12-05 02:00:00  2021-12-05 09:00:00             7.0   \n",
       "2   3   40  Female  2021-05-25 21:30:00  2021-05-25 05:30:00             8.0   \n",
       "3   4   40  Female  2021-11-03 02:30:00  2021-11-03 08:30:00             6.0   \n",
       "4   5   57    Male  2021-03-13 01:00:00  2021-03-13 09:00:00             8.0   \n",
       "\n",
       "   Sleep efficiency  REM sleep percentage  Deep sleep percentage  \\\n",
       "0              0.88                    18                     70   \n",
       "1              0.66                    19                     28   \n",
       "2              0.89                    20                     70   \n",
       "3              0.51                    23                     25   \n",
       "4              0.76                    27                     55   \n",
       "\n",
       "   Light sleep percentage  Awakenings  Caffeine consumption  \\\n",
       "0                      12         0.0                   0.0   \n",
       "1                      53         3.0                   0.0   \n",
       "2                      10         1.0                   0.0   \n",
       "3                      52         3.0                  50.0   \n",
       "4                      18         3.0                   0.0   \n",
       "\n",
       "   Alcohol consumption Smoking status  Exercise frequency  \n",
       "0                  0.0            Yes                 3.0  \n",
       "1                  3.0            Yes                 3.0  \n",
       "2                  0.0             No                 3.0  \n",
       "3                  5.0            Yes                 1.0  \n",
       "4                  3.0             No                 3.0  "
      ]
     },
     "execution_count": 46,
     "metadata": {},
     "output_type": "execute_result"
    }
   ],
   "source": [
    "df = pd.read_csv('Sleep_Efficiency.csv')\n",
    "\n",
    "df.head()"
   ]
  },
  {
   "cell_type": "code",
   "execution_count": 47,
   "metadata": {},
   "outputs": [
    {
     "data": {
      "text/plain": [
       "(452, 15)"
      ]
     },
     "execution_count": 47,
     "metadata": {},
     "output_type": "execute_result"
    }
   ],
   "source": [
    "df.shape"
   ]
  },
  {
   "cell_type": "code",
   "execution_count": 48,
   "metadata": {},
   "outputs": [
    {
     "name": "stdout",
     "output_type": "stream",
     "text": [
      "<class 'pandas.core.frame.DataFrame'>\n",
      "RangeIndex: 452 entries, 0 to 451\n",
      "Data columns (total 15 columns):\n",
      " #   Column                  Non-Null Count  Dtype  \n",
      "---  ------                  --------------  -----  \n",
      " 0   ID                      452 non-null    int64  \n",
      " 1   Age                     452 non-null    int64  \n",
      " 2   Gender                  452 non-null    object \n",
      " 3   Bedtime                 452 non-null    object \n",
      " 4   Wakeup time             452 non-null    object \n",
      " 5   Sleep duration          452 non-null    float64\n",
      " 6   Sleep efficiency        452 non-null    float64\n",
      " 7   REM sleep percentage    452 non-null    int64  \n",
      " 8   Deep sleep percentage   452 non-null    int64  \n",
      " 9   Light sleep percentage  452 non-null    int64  \n",
      " 10  Awakenings              432 non-null    float64\n",
      " 11  Caffeine consumption    427 non-null    float64\n",
      " 12  Alcohol consumption     438 non-null    float64\n",
      " 13  Smoking status          452 non-null    object \n",
      " 14  Exercise frequency      446 non-null    float64\n",
      "dtypes: float64(6), int64(5), object(4)\n",
      "memory usage: 53.1+ KB\n"
     ]
    }
   ],
   "source": [
    "df.info()"
   ]
  },
  {
   "cell_type": "code",
   "execution_count": 49,
   "metadata": {},
   "outputs": [],
   "source": [
    "df.rename(columns = {'Wakeup time':'Wakeup_time', 'Sleep duration':'Sleep_duration ',\"Sleep efficiency\":\"Sleep_efficiency\",\n",
    "                     \"REM sleep percentage\":\"REM_sleep_percentage\",\"Deep sleep percentage\":\"Deep_sleep_percentage\",\n",
    "                     \"Light sleep percentage\":\"Light_sleep_percentage\",\"Caffeine consumption\":\"Caffeine_consumption\",\n",
    "                     \"Alcohol consumption\":\"Alcohol_consumption\",\"Smoking status\":\"Smoking_status\",\"Exercise frequency\":\"Exercise_frequency\"}, inplace = True)"
   ]
  },
  {
   "cell_type": "code",
   "execution_count": 50,
   "metadata": {},
   "outputs": [
    {
     "name": "stdout",
     "output_type": "stream",
     "text": [
      "<class 'pandas.core.frame.DataFrame'>\n",
      "RangeIndex: 452 entries, 0 to 451\n",
      "Data columns (total 15 columns):\n",
      " #   Column                  Non-Null Count  Dtype  \n",
      "---  ------                  --------------  -----  \n",
      " 0   ID                      452 non-null    int64  \n",
      " 1   Age                     452 non-null    int64  \n",
      " 2   Gender                  452 non-null    object \n",
      " 3   Bedtime                 452 non-null    object \n",
      " 4   Wakeup_time             452 non-null    object \n",
      " 5   Sleep_duration          452 non-null    float64\n",
      " 6   Sleep_efficiency        452 non-null    float64\n",
      " 7   REM_sleep_percentage    452 non-null    int64  \n",
      " 8   Deep_sleep_percentage   452 non-null    int64  \n",
      " 9   Light_sleep_percentage  452 non-null    int64  \n",
      " 10  Awakenings              432 non-null    float64\n",
      " 11  Caffeine_consumption    427 non-null    float64\n",
      " 12  Alcohol_consumption     438 non-null    float64\n",
      " 13  Smoking_status          452 non-null    object \n",
      " 14  Exercise_frequency      446 non-null    float64\n",
      "dtypes: float64(6), int64(5), object(4)\n",
      "memory usage: 53.1+ KB\n"
     ]
    }
   ],
   "source": [
    "df.info()"
   ]
  },
  {
   "cell_type": "code",
   "execution_count": 51,
   "metadata": {},
   "outputs": [
    {
     "data": {
      "text/plain": [
       "ID                         0\n",
       "Age                        0\n",
       "Gender                     0\n",
       "Bedtime                    0\n",
       "Wakeup_time                0\n",
       "Sleep_duration             0\n",
       "Sleep_efficiency           0\n",
       "REM_sleep_percentage       0\n",
       "Deep_sleep_percentage      0\n",
       "Light_sleep_percentage     0\n",
       "Awakenings                20\n",
       "Caffeine_consumption      25\n",
       "Alcohol_consumption       14\n",
       "Smoking_status             0\n",
       "Exercise_frequency         6\n",
       "dtype: int64"
      ]
     },
     "execution_count": 51,
     "metadata": {},
     "output_type": "execute_result"
    }
   ],
   "source": [
    "# Check for missing values\n",
    "df.isnull().sum()"
   ]
  },
  {
   "attachments": {},
   "cell_type": "markdown",
   "metadata": {},
   "source": [
    "Fill in all missing values with the average of that column"
   ]
  },
  {
   "cell_type": "code",
   "execution_count": 52,
   "metadata": {},
   "outputs": [],
   "source": [
    "avg_awake = df['Awakenings'].mean()\n",
    "round(avg_awake, 0)\n",
    "\n",
    "df['Awakenings'].fillna(round(avg_awake, 0), inplace = True)"
   ]
  },
  {
   "cell_type": "code",
   "execution_count": 53,
   "metadata": {},
   "outputs": [],
   "source": [
    "# fill in null values in Caffeine_consumption with the mean of Caffeine_consumption\n",
    "avg_caffeine = df['Caffeine_consumption'].mean()\n",
    "round(avg_caffeine, 0)\n",
    "\n",
    "df['Caffeine_consumption'].fillna(round(avg_caffeine, 0), inplace = True)"
   ]
  },
  {
   "cell_type": "code",
   "execution_count": 54,
   "metadata": {},
   "outputs": [],
   "source": [
    "# fill in null values in Alcohol_consumption with the mean of Alcohol_consumption\n",
    "avg_alc = df['Alcohol_consumption'].mean()\n",
    "round(avg_alc, 0)\n",
    "\n",
    "df['Alcohol_consumption'].fillna(round(avg_alc, 0), inplace = True)"
   ]
  },
  {
   "cell_type": "code",
   "execution_count": 55,
   "metadata": {},
   "outputs": [],
   "source": [
    "# fill in null values in Exercise_frequency with the mean of Exercise_frequency\n",
    "avg_exercise = df['Exercise_frequency'].mean()\n",
    "round(avg_exercise, 0)\n",
    "\n",
    "df['Exercise_frequency'].fillna(round(avg_exercise, 0), inplace = True)"
   ]
  },
  {
   "attachments": {},
   "cell_type": "markdown",
   "metadata": {},
   "source": [
    "LET'S START PLOTTING\n",
    "\n",
    "Below there is a pie chart plotted to show the ratio between male and female participants."
   ]
  },
  {
   "cell_type": "code",
   "execution_count": 56,
   "metadata": {},
   "outputs": [
    {
     "data": {
      "application/vnd.plotly.v1+json": {
       "config": {
        "plotlyServerURL": "https://plot.ly"
       },
       "data": [
        {
         "domain": {
          "x": [
           0,
           1
          ],
          "y": [
           0,
           1
          ]
         },
         "hovertemplate": "Gender=%{label}<br>ID=%{value}<extra></extra>",
         "labels": [
          "Female",
          "Male",
          "Female",
          "Female",
          "Male",
          "Female",
          "Female",
          "Male",
          "Female",
          "Female",
          "Male",
          "Male",
          "Female",
          "Male",
          "Female",
          "Female",
          "Female",
          "Female",
          "Female",
          "Male",
          "Male",
          "Male",
          "Female",
          "Female",
          "Male",
          "Male",
          "Female",
          "Male",
          "Male",
          "Female",
          "Male",
          "Male",
          "Male",
          "Female",
          "Female",
          "Female",
          "Male",
          "Female",
          "Female",
          "Female",
          "Male",
          "Male",
          "Female",
          "Female",
          "Female",
          "Female",
          "Male",
          "Female",
          "Female",
          "Female",
          "Female",
          "Male",
          "Female",
          "Female",
          "Male",
          "Male",
          "Male",
          "Male",
          "Female",
          "Female",
          "Female",
          "Male",
          "Male",
          "Female",
          "Male",
          "Male",
          "Male",
          "Male",
          "Male",
          "Male",
          "Female",
          "Female",
          "Male",
          "Male",
          "Male",
          "Male",
          "Female",
          "Male",
          "Male",
          "Male",
          "Male",
          "Male",
          "Male",
          "Female",
          "Male",
          "Male",
          "Male",
          "Male",
          "Male",
          "Female",
          "Male",
          "Male",
          "Male",
          "Male",
          "Male",
          "Female",
          "Male",
          "Male",
          "Female",
          "Male",
          "Female",
          "Male",
          "Female",
          "Female",
          "Female",
          "Female",
          "Male",
          "Male",
          "Female",
          "Male",
          "Male",
          "Male",
          "Male",
          "Male",
          "Male",
          "Male",
          "Male",
          "Male",
          "Male",
          "Male",
          "Male",
          "Female",
          "Male",
          "Male",
          "Male",
          "Male",
          "Male",
          "Female",
          "Female",
          "Male",
          "Female",
          "Female",
          "Female",
          "Male",
          "Male",
          "Female",
          "Male",
          "Male",
          "Male",
          "Female",
          "Female",
          "Female",
          "Male",
          "Male",
          "Female",
          "Female",
          "Male",
          "Female",
          "Female",
          "Female",
          "Male",
          "Female",
          "Male",
          "Male",
          "Male",
          "Male",
          "Female",
          "Female",
          "Female",
          "Male",
          "Male",
          "Male",
          "Male",
          "Female",
          "Male",
          "Female",
          "Female",
          "Female",
          "Male",
          "Female",
          "Male",
          "Female",
          "Male",
          "Female",
          "Female",
          "Male",
          "Female",
          "Female",
          "Female",
          "Male",
          "Male",
          "Female",
          "Female",
          "Female",
          "Female",
          "Female",
          "Female",
          "Male",
          "Male",
          "Female",
          "Male",
          "Female",
          "Male",
          "Female",
          "Female",
          "Female",
          "Female",
          "Male",
          "Female",
          "Male",
          "Male",
          "Female",
          "Female",
          "Male",
          "Female",
          "Female",
          "Female",
          "Female",
          "Female",
          "Male",
          "Male",
          "Female",
          "Female",
          "Female",
          "Male",
          "Female",
          "Male",
          "Female",
          "Female",
          "Female",
          "Female",
          "Female",
          "Male",
          "Female",
          "Male",
          "Male",
          "Female",
          "Female",
          "Female",
          "Male",
          "Male",
          "Male",
          "Female",
          "Male",
          "Female",
          "Female",
          "Male",
          "Male",
          "Female",
          "Male",
          "Male",
          "Male",
          "Female",
          "Male",
          "Female",
          "Male",
          "Female",
          "Female",
          "Male",
          "Male",
          "Female",
          "Male",
          "Female",
          "Female",
          "Female",
          "Female",
          "Female",
          "Female",
          "Male",
          "Female",
          "Male",
          "Female",
          "Female",
          "Female",
          "Female",
          "Male",
          "Male",
          "Female",
          "Male",
          "Male",
          "Female",
          "Female",
          "Male",
          "Male",
          "Male",
          "Female",
          "Female",
          "Female",
          "Female",
          "Female",
          "Female",
          "Male",
          "Male",
          "Female",
          "Female",
          "Male",
          "Male",
          "Female",
          "Female",
          "Female",
          "Male",
          "Female",
          "Female",
          "Female",
          "Male",
          "Female",
          "Male",
          "Female",
          "Female",
          "Male",
          "Female",
          "Female",
          "Male",
          "Male",
          "Male",
          "Male",
          "Male",
          "Female",
          "Female",
          "Female",
          "Female",
          "Female",
          "Male",
          "Male",
          "Male",
          "Female",
          "Male",
          "Male",
          "Male",
          "Male",
          "Male",
          "Male",
          "Female",
          "Male",
          "Female",
          "Female",
          "Female",
          "Female",
          "Female",
          "Female",
          "Male",
          "Male",
          "Female",
          "Female",
          "Female",
          "Female",
          "Female",
          "Male",
          "Male",
          "Male",
          "Male",
          "Female",
          "Female",
          "Female",
          "Male",
          "Male",
          "Male",
          "Male",
          "Male",
          "Female",
          "Male",
          "Female",
          "Male",
          "Male",
          "Female",
          "Male",
          "Male",
          "Female",
          "Male",
          "Female",
          "Female",
          "Female",
          "Male",
          "Female",
          "Male",
          "Female",
          "Male",
          "Male",
          "Male",
          "Male",
          "Female",
          "Female",
          "Female",
          "Male",
          "Male",
          "Female",
          "Male",
          "Female",
          "Male",
          "Male",
          "Female",
          "Male",
          "Male",
          "Male",
          "Male",
          "Female",
          "Female",
          "Female",
          "Female",
          "Female",
          "Male",
          "Female",
          "Female",
          "Male",
          "Female",
          "Male",
          "Female",
          "Female",
          "Female",
          "Female",
          "Female",
          "Male",
          "Male",
          "Male",
          "Male",
          "Male",
          "Male",
          "Female",
          "Female",
          "Female",
          "Male",
          "Male",
          "Female",
          "Male",
          "Female",
          "Male",
          "Female",
          "Male",
          "Male",
          "Male",
          "Male",
          "Male",
          "Female",
          "Female",
          "Male",
          "Female",
          "Male",
          "Male",
          "Male",
          "Male",
          "Female",
          "Female",
          "Male",
          "Female",
          "Female",
          "Female",
          "Male",
          "Male",
          "Male",
          "Male",
          "Female",
          "Male",
          "Female",
          "Female",
          "Male",
          "Female",
          "Male",
          "Female",
          "Male",
          "Female",
          "Male",
          "Male"
         ],
         "legendgroup": "",
         "name": "",
         "showlegend": true,
         "type": "pie",
         "values": [
          1,
          2,
          3,
          4,
          5,
          6,
          7,
          8,
          9,
          10,
          11,
          12,
          13,
          14,
          15,
          16,
          17,
          18,
          19,
          20,
          21,
          22,
          23,
          24,
          25,
          26,
          27,
          28,
          29,
          30,
          31,
          32,
          33,
          34,
          35,
          36,
          37,
          38,
          39,
          40,
          41,
          42,
          43,
          44,
          45,
          46,
          47,
          48,
          49,
          50,
          51,
          52,
          53,
          54,
          55,
          56,
          57,
          58,
          59,
          60,
          61,
          62,
          63,
          64,
          65,
          66,
          67,
          68,
          69,
          70,
          71,
          72,
          73,
          74,
          75,
          76,
          77,
          78,
          79,
          80,
          81,
          82,
          83,
          84,
          85,
          86,
          87,
          88,
          89,
          90,
          91,
          92,
          93,
          94,
          95,
          96,
          97,
          98,
          99,
          100,
          101,
          102,
          103,
          104,
          105,
          106,
          107,
          108,
          109,
          110,
          111,
          112,
          113,
          114,
          115,
          116,
          117,
          118,
          119,
          120,
          121,
          122,
          123,
          124,
          125,
          126,
          127,
          128,
          129,
          130,
          131,
          132,
          133,
          134,
          135,
          136,
          137,
          138,
          139,
          140,
          141,
          142,
          143,
          144,
          145,
          146,
          147,
          148,
          149,
          150,
          151,
          152,
          153,
          154,
          155,
          156,
          157,
          158,
          159,
          160,
          161,
          162,
          163,
          164,
          165,
          166,
          167,
          168,
          169,
          170,
          171,
          172,
          173,
          174,
          175,
          176,
          177,
          178,
          179,
          180,
          181,
          182,
          183,
          184,
          185,
          186,
          187,
          188,
          189,
          190,
          191,
          192,
          193,
          194,
          195,
          196,
          197,
          198,
          199,
          200,
          201,
          202,
          203,
          204,
          205,
          206,
          207,
          208,
          209,
          210,
          211,
          212,
          213,
          214,
          215,
          216,
          217,
          218,
          219,
          220,
          221,
          222,
          223,
          224,
          225,
          226,
          227,
          228,
          229,
          230,
          231,
          232,
          233,
          234,
          235,
          236,
          237,
          238,
          239,
          240,
          241,
          242,
          243,
          244,
          245,
          246,
          247,
          248,
          249,
          250,
          251,
          252,
          253,
          254,
          255,
          256,
          257,
          258,
          259,
          260,
          261,
          262,
          263,
          264,
          265,
          266,
          267,
          268,
          269,
          270,
          271,
          272,
          273,
          274,
          275,
          276,
          277,
          278,
          279,
          280,
          281,
          282,
          283,
          284,
          285,
          286,
          287,
          288,
          289,
          290,
          291,
          292,
          293,
          294,
          295,
          296,
          297,
          298,
          299,
          300,
          301,
          302,
          303,
          304,
          305,
          306,
          307,
          308,
          309,
          310,
          311,
          312,
          313,
          314,
          315,
          316,
          317,
          318,
          319,
          320,
          321,
          322,
          323,
          324,
          325,
          326,
          327,
          328,
          329,
          330,
          331,
          332,
          333,
          334,
          335,
          336,
          337,
          338,
          339,
          340,
          341,
          342,
          343,
          344,
          345,
          346,
          347,
          348,
          349,
          350,
          351,
          352,
          353,
          354,
          355,
          356,
          357,
          358,
          359,
          360,
          361,
          362,
          363,
          364,
          365,
          366,
          367,
          368,
          369,
          370,
          371,
          372,
          373,
          374,
          375,
          376,
          377,
          378,
          379,
          380,
          381,
          382,
          383,
          384,
          385,
          386,
          387,
          388,
          389,
          390,
          391,
          392,
          393,
          394,
          395,
          396,
          397,
          398,
          399,
          400,
          401,
          402,
          403,
          404,
          405,
          406,
          407,
          408,
          409,
          410,
          411,
          412,
          413,
          414,
          415,
          416,
          417,
          418,
          419,
          420,
          421,
          422,
          423,
          424,
          425,
          426,
          427,
          428,
          429,
          430,
          431,
          432,
          433,
          434,
          435,
          436,
          437,
          438,
          439,
          440,
          441,
          442,
          443,
          444,
          445,
          446,
          447,
          448,
          449,
          450,
          451,
          452
         ]
        }
       ],
       "layout": {
        "legend": {
         "title": {
          "text": "Gender"
         },
         "tracegroupgap": 0
        },
        "margin": {
         "t": 60
        },
        "template": {
         "data": {
          "bar": [
           {
            "error_x": {
             "color": "#2a3f5f"
            },
            "error_y": {
             "color": "#2a3f5f"
            },
            "marker": {
             "line": {
              "color": "#E5ECF6",
              "width": 0.5
             },
             "pattern": {
              "fillmode": "overlay",
              "size": 10,
              "solidity": 0.2
             }
            },
            "type": "bar"
           }
          ],
          "barpolar": [
           {
            "marker": {
             "line": {
              "color": "#E5ECF6",
              "width": 0.5
             },
             "pattern": {
              "fillmode": "overlay",
              "size": 10,
              "solidity": 0.2
             }
            },
            "type": "barpolar"
           }
          ],
          "carpet": [
           {
            "aaxis": {
             "endlinecolor": "#2a3f5f",
             "gridcolor": "white",
             "linecolor": "white",
             "minorgridcolor": "white",
             "startlinecolor": "#2a3f5f"
            },
            "baxis": {
             "endlinecolor": "#2a3f5f",
             "gridcolor": "white",
             "linecolor": "white",
             "minorgridcolor": "white",
             "startlinecolor": "#2a3f5f"
            },
            "type": "carpet"
           }
          ],
          "choropleth": [
           {
            "colorbar": {
             "outlinewidth": 0,
             "ticks": ""
            },
            "type": "choropleth"
           }
          ],
          "contour": [
           {
            "colorbar": {
             "outlinewidth": 0,
             "ticks": ""
            },
            "colorscale": [
             [
              0,
              "#0d0887"
             ],
             [
              0.1111111111111111,
              "#46039f"
             ],
             [
              0.2222222222222222,
              "#7201a8"
             ],
             [
              0.3333333333333333,
              "#9c179e"
             ],
             [
              0.4444444444444444,
              "#bd3786"
             ],
             [
              0.5555555555555556,
              "#d8576b"
             ],
             [
              0.6666666666666666,
              "#ed7953"
             ],
             [
              0.7777777777777778,
              "#fb9f3a"
             ],
             [
              0.8888888888888888,
              "#fdca26"
             ],
             [
              1,
              "#f0f921"
             ]
            ],
            "type": "contour"
           }
          ],
          "contourcarpet": [
           {
            "colorbar": {
             "outlinewidth": 0,
             "ticks": ""
            },
            "type": "contourcarpet"
           }
          ],
          "heatmap": [
           {
            "colorbar": {
             "outlinewidth": 0,
             "ticks": ""
            },
            "colorscale": [
             [
              0,
              "#0d0887"
             ],
             [
              0.1111111111111111,
              "#46039f"
             ],
             [
              0.2222222222222222,
              "#7201a8"
             ],
             [
              0.3333333333333333,
              "#9c179e"
             ],
             [
              0.4444444444444444,
              "#bd3786"
             ],
             [
              0.5555555555555556,
              "#d8576b"
             ],
             [
              0.6666666666666666,
              "#ed7953"
             ],
             [
              0.7777777777777778,
              "#fb9f3a"
             ],
             [
              0.8888888888888888,
              "#fdca26"
             ],
             [
              1,
              "#f0f921"
             ]
            ],
            "type": "heatmap"
           }
          ],
          "heatmapgl": [
           {
            "colorbar": {
             "outlinewidth": 0,
             "ticks": ""
            },
            "colorscale": [
             [
              0,
              "#0d0887"
             ],
             [
              0.1111111111111111,
              "#46039f"
             ],
             [
              0.2222222222222222,
              "#7201a8"
             ],
             [
              0.3333333333333333,
              "#9c179e"
             ],
             [
              0.4444444444444444,
              "#bd3786"
             ],
             [
              0.5555555555555556,
              "#d8576b"
             ],
             [
              0.6666666666666666,
              "#ed7953"
             ],
             [
              0.7777777777777778,
              "#fb9f3a"
             ],
             [
              0.8888888888888888,
              "#fdca26"
             ],
             [
              1,
              "#f0f921"
             ]
            ],
            "type": "heatmapgl"
           }
          ],
          "histogram": [
           {
            "marker": {
             "pattern": {
              "fillmode": "overlay",
              "size": 10,
              "solidity": 0.2
             }
            },
            "type": "histogram"
           }
          ],
          "histogram2d": [
           {
            "colorbar": {
             "outlinewidth": 0,
             "ticks": ""
            },
            "colorscale": [
             [
              0,
              "#0d0887"
             ],
             [
              0.1111111111111111,
              "#46039f"
             ],
             [
              0.2222222222222222,
              "#7201a8"
             ],
             [
              0.3333333333333333,
              "#9c179e"
             ],
             [
              0.4444444444444444,
              "#bd3786"
             ],
             [
              0.5555555555555556,
              "#d8576b"
             ],
             [
              0.6666666666666666,
              "#ed7953"
             ],
             [
              0.7777777777777778,
              "#fb9f3a"
             ],
             [
              0.8888888888888888,
              "#fdca26"
             ],
             [
              1,
              "#f0f921"
             ]
            ],
            "type": "histogram2d"
           }
          ],
          "histogram2dcontour": [
           {
            "colorbar": {
             "outlinewidth": 0,
             "ticks": ""
            },
            "colorscale": [
             [
              0,
              "#0d0887"
             ],
             [
              0.1111111111111111,
              "#46039f"
             ],
             [
              0.2222222222222222,
              "#7201a8"
             ],
             [
              0.3333333333333333,
              "#9c179e"
             ],
             [
              0.4444444444444444,
              "#bd3786"
             ],
             [
              0.5555555555555556,
              "#d8576b"
             ],
             [
              0.6666666666666666,
              "#ed7953"
             ],
             [
              0.7777777777777778,
              "#fb9f3a"
             ],
             [
              0.8888888888888888,
              "#fdca26"
             ],
             [
              1,
              "#f0f921"
             ]
            ],
            "type": "histogram2dcontour"
           }
          ],
          "mesh3d": [
           {
            "colorbar": {
             "outlinewidth": 0,
             "ticks": ""
            },
            "type": "mesh3d"
           }
          ],
          "parcoords": [
           {
            "line": {
             "colorbar": {
              "outlinewidth": 0,
              "ticks": ""
             }
            },
            "type": "parcoords"
           }
          ],
          "pie": [
           {
            "automargin": true,
            "type": "pie"
           }
          ],
          "scatter": [
           {
            "fillpattern": {
             "fillmode": "overlay",
             "size": 10,
             "solidity": 0.2
            },
            "type": "scatter"
           }
          ],
          "scatter3d": [
           {
            "line": {
             "colorbar": {
              "outlinewidth": 0,
              "ticks": ""
             }
            },
            "marker": {
             "colorbar": {
              "outlinewidth": 0,
              "ticks": ""
             }
            },
            "type": "scatter3d"
           }
          ],
          "scattercarpet": [
           {
            "marker": {
             "colorbar": {
              "outlinewidth": 0,
              "ticks": ""
             }
            },
            "type": "scattercarpet"
           }
          ],
          "scattergeo": [
           {
            "marker": {
             "colorbar": {
              "outlinewidth": 0,
              "ticks": ""
             }
            },
            "type": "scattergeo"
           }
          ],
          "scattergl": [
           {
            "marker": {
             "colorbar": {
              "outlinewidth": 0,
              "ticks": ""
             }
            },
            "type": "scattergl"
           }
          ],
          "scattermapbox": [
           {
            "marker": {
             "colorbar": {
              "outlinewidth": 0,
              "ticks": ""
             }
            },
            "type": "scattermapbox"
           }
          ],
          "scatterpolar": [
           {
            "marker": {
             "colorbar": {
              "outlinewidth": 0,
              "ticks": ""
             }
            },
            "type": "scatterpolar"
           }
          ],
          "scatterpolargl": [
           {
            "marker": {
             "colorbar": {
              "outlinewidth": 0,
              "ticks": ""
             }
            },
            "type": "scatterpolargl"
           }
          ],
          "scatterternary": [
           {
            "marker": {
             "colorbar": {
              "outlinewidth": 0,
              "ticks": ""
             }
            },
            "type": "scatterternary"
           }
          ],
          "surface": [
           {
            "colorbar": {
             "outlinewidth": 0,
             "ticks": ""
            },
            "colorscale": [
             [
              0,
              "#0d0887"
             ],
             [
              0.1111111111111111,
              "#46039f"
             ],
             [
              0.2222222222222222,
              "#7201a8"
             ],
             [
              0.3333333333333333,
              "#9c179e"
             ],
             [
              0.4444444444444444,
              "#bd3786"
             ],
             [
              0.5555555555555556,
              "#d8576b"
             ],
             [
              0.6666666666666666,
              "#ed7953"
             ],
             [
              0.7777777777777778,
              "#fb9f3a"
             ],
             [
              0.8888888888888888,
              "#fdca26"
             ],
             [
              1,
              "#f0f921"
             ]
            ],
            "type": "surface"
           }
          ],
          "table": [
           {
            "cells": {
             "fill": {
              "color": "#EBF0F8"
             },
             "line": {
              "color": "white"
             }
            },
            "header": {
             "fill": {
              "color": "#C8D4E3"
             },
             "line": {
              "color": "white"
             }
            },
            "type": "table"
           }
          ]
         },
         "layout": {
          "annotationdefaults": {
           "arrowcolor": "#2a3f5f",
           "arrowhead": 0,
           "arrowwidth": 1
          },
          "autotypenumbers": "strict",
          "coloraxis": {
           "colorbar": {
            "outlinewidth": 0,
            "ticks": ""
           }
          },
          "colorscale": {
           "diverging": [
            [
             0,
             "#8e0152"
            ],
            [
             0.1,
             "#c51b7d"
            ],
            [
             0.2,
             "#de77ae"
            ],
            [
             0.3,
             "#f1b6da"
            ],
            [
             0.4,
             "#fde0ef"
            ],
            [
             0.5,
             "#f7f7f7"
            ],
            [
             0.6,
             "#e6f5d0"
            ],
            [
             0.7,
             "#b8e186"
            ],
            [
             0.8,
             "#7fbc41"
            ],
            [
             0.9,
             "#4d9221"
            ],
            [
             1,
             "#276419"
            ]
           ],
           "sequential": [
            [
             0,
             "#0d0887"
            ],
            [
             0.1111111111111111,
             "#46039f"
            ],
            [
             0.2222222222222222,
             "#7201a8"
            ],
            [
             0.3333333333333333,
             "#9c179e"
            ],
            [
             0.4444444444444444,
             "#bd3786"
            ],
            [
             0.5555555555555556,
             "#d8576b"
            ],
            [
             0.6666666666666666,
             "#ed7953"
            ],
            [
             0.7777777777777778,
             "#fb9f3a"
            ],
            [
             0.8888888888888888,
             "#fdca26"
            ],
            [
             1,
             "#f0f921"
            ]
           ],
           "sequentialminus": [
            [
             0,
             "#0d0887"
            ],
            [
             0.1111111111111111,
             "#46039f"
            ],
            [
             0.2222222222222222,
             "#7201a8"
            ],
            [
             0.3333333333333333,
             "#9c179e"
            ],
            [
             0.4444444444444444,
             "#bd3786"
            ],
            [
             0.5555555555555556,
             "#d8576b"
            ],
            [
             0.6666666666666666,
             "#ed7953"
            ],
            [
             0.7777777777777778,
             "#fb9f3a"
            ],
            [
             0.8888888888888888,
             "#fdca26"
            ],
            [
             1,
             "#f0f921"
            ]
           ]
          },
          "colorway": [
           "#636efa",
           "#EF553B",
           "#00cc96",
           "#ab63fa",
           "#FFA15A",
           "#19d3f3",
           "#FF6692",
           "#B6E880",
           "#FF97FF",
           "#FECB52"
          ],
          "font": {
           "color": "#2a3f5f"
          },
          "geo": {
           "bgcolor": "white",
           "lakecolor": "white",
           "landcolor": "#E5ECF6",
           "showlakes": true,
           "showland": true,
           "subunitcolor": "white"
          },
          "hoverlabel": {
           "align": "left"
          },
          "hovermode": "closest",
          "mapbox": {
           "style": "light"
          },
          "paper_bgcolor": "white",
          "plot_bgcolor": "#E5ECF6",
          "polar": {
           "angularaxis": {
            "gridcolor": "white",
            "linecolor": "white",
            "ticks": ""
           },
           "bgcolor": "#E5ECF6",
           "radialaxis": {
            "gridcolor": "white",
            "linecolor": "white",
            "ticks": ""
           }
          },
          "scene": {
           "xaxis": {
            "backgroundcolor": "#E5ECF6",
            "gridcolor": "white",
            "gridwidth": 2,
            "linecolor": "white",
            "showbackground": true,
            "ticks": "",
            "zerolinecolor": "white"
           },
           "yaxis": {
            "backgroundcolor": "#E5ECF6",
            "gridcolor": "white",
            "gridwidth": 2,
            "linecolor": "white",
            "showbackground": true,
            "ticks": "",
            "zerolinecolor": "white"
           },
           "zaxis": {
            "backgroundcolor": "#E5ECF6",
            "gridcolor": "white",
            "gridwidth": 2,
            "linecolor": "white",
            "showbackground": true,
            "ticks": "",
            "zerolinecolor": "white"
           }
          },
          "shapedefaults": {
           "line": {
            "color": "#2a3f5f"
           }
          },
          "ternary": {
           "aaxis": {
            "gridcolor": "white",
            "linecolor": "white",
            "ticks": ""
           },
           "baxis": {
            "gridcolor": "white",
            "linecolor": "white",
            "ticks": ""
           },
           "bgcolor": "#E5ECF6",
           "caxis": {
            "gridcolor": "white",
            "linecolor": "white",
            "ticks": ""
           }
          },
          "title": {
           "x": 0.05
          },
          "xaxis": {
           "automargin": true,
           "gridcolor": "white",
           "linecolor": "white",
           "ticks": "",
           "title": {
            "standoff": 15
           },
           "zerolinecolor": "white",
           "zerolinewidth": 2
          },
          "yaxis": {
           "automargin": true,
           "gridcolor": "white",
           "linecolor": "white",
           "ticks": "",
           "title": {
            "standoff": 15
           },
           "zerolinecolor": "white",
           "zerolinewidth": 2
          }
         }
        },
        "title": {
         "text": "Ratio of male and female"
        }
       }
      }
     },
     "metadata": {},
     "output_type": "display_data"
    }
   ],
   "source": [
    "fig = px.pie(df, values='ID', names='Gender')\n",
    "fig.update_layout(title='Ratio of male and female', legend_title='Gender')\n",
    "fig.show()"
   ]
  },
  {
   "cell_type": "code",
   "execution_count": 57,
   "metadata": {},
   "outputs": [
    {
     "data": {
      "application/vnd.plotly.v1+json": {
       "config": {
        "plotlyServerURL": "https://plot.ly"
       },
       "data": [
        {
         "alignmentgroup": "True",
         "hovertemplate": "Age (years)=%{x}<extra></extra>",
         "legendgroup": "",
         "marker": {
          "color": "green"
         },
         "name": "",
         "notched": false,
         "offsetgroup": "",
         "orientation": "h",
         "showlegend": false,
         "type": "box",
         "x": [
          65,
          69,
          40,
          40,
          57,
          36,
          27,
          53,
          41,
          11,
          50,
          55,
          30,
          28,
          36,
          32,
          21,
          40,
          43,
          52,
          24,
          32,
          29,
          63,
          24,
          52,
          36,
          35,
          23,
          47,
          24,
          18,
          26,
          37,
          46,
          61,
          38,
          20,
          28,
          58,
          46,
          52,
          29,
          31,
          34,
          40,
          55,
          27,
          21,
          37,
          29,
          65,
          9,
          16,
          18,
          37,
          54,
          43,
          34,
          34,
          32,
          56,
          29,
          35,
          30,
          21,
          25,
          52,
          46,
          40,
          30,
          32,
          55,
          58,
          47,
          44,
          47,
          46,
          43,
          54,
          55,
          29,
          66,
          40,
          50,
          53,
          50,
          50,
          48,
          24,
          45,
          57,
          39,
          43,
          51,
          61,
          41,
          53,
          32,
          65,
          38,
          53,
          55,
          44,
          38,
          40,
          53,
          24,
          39,
          47,
          51,
          25,
          23,
          54,
          32,
          22,
          50,
          30,
          52,
          52,
          51,
          15,
          48,
          19,
          56,
          25,
          54,
          37,
          33,
          25,
          29,
          36,
          32,
          37,
          27,
          48,
          52,
          36,
          55,
          52,
          37,
          28,
          48,
          25,
          65,
          31,
          42,
          40,
          26,
          33,
          65,
          50,
          22,
          41,
          68,
          61,
          23,
          45,
          14,
          30,
          42,
          42,
          53,
          49,
          48,
          48,
          40,
          48,
          35,
          55,
          24,
          33,
          27,
          24,
          48,
          42,
          62,
          44,
          39,
          53,
          37,
          29,
          49,
          24,
          48,
          36,
          37,
          27,
          21,
          52,
          53,
          27,
          24,
          18,
          44,
          61,
          30,
          48,
          32,
          52,
          61,
          64,
          59,
          38,
          31,
          32,
          31,
          41,
          32,
          61,
          61,
          10,
          36,
          29,
          27,
          22,
          22,
          40,
          56,
          13,
          37,
          41,
          52,
          63,
          38,
          60,
          29,
          29,
          30,
          26,
          32,
          55,
          36,
          53,
          18,
          28,
          58,
          51,
          37,
          41,
          32,
          56,
          43,
          52,
          37,
          67,
          36,
          29,
          25,
          61,
          29,
          31,
          23,
          46,
          47,
          65,
          35,
          27,
          54,
          48,
          46,
          37,
          31,
          23,
          48,
          44,
          24,
          30,
          45,
          27,
          44,
          50,
          58,
          49,
          46,
          27,
          37,
          48,
          42,
          48,
          25,
          64,
          53,
          38,
          17,
          27,
          50,
          40,
          34,
          26,
          54,
          46,
          38,
          24,
          38,
          29,
          51,
          27,
          35,
          22,
          47,
          25,
          25,
          51,
          25,
          65,
          27,
          41,
          56,
          28,
          33,
          22,
          50,
          25,
          54,
          40,
          58,
          45,
          55,
          54,
          60,
          25,
          30,
          41,
          44,
          52,
          29,
          44,
          42,
          26,
          49,
          46,
          12,
          27,
          39,
          44,
          50,
          52,
          44,
          57,
          53,
          65,
          41,
          52,
          53,
          25,
          51,
          30,
          57,
          24,
          24,
          19,
          52,
          45,
          29,
          39,
          51,
          27,
          41,
          65,
          56,
          27,
          28,
          30,
          37,
          22,
          52,
          56,
          56,
          41,
          40,
          32,
          29,
          39,
          65,
          60,
          48,
          21,
          25,
          61,
          35,
          22,
          40,
          39,
          40,
          32,
          62,
          48,
          22,
          36,
          21,
          37,
          37,
          56,
          55,
          56,
          57,
          59,
          30,
          32,
          37,
          48,
          38,
          58,
          24,
          56,
          53,
          35,
          61,
          32,
          58,
          53,
          27,
          51,
          28,
          49,
          49,
          44,
          51,
          21,
          55,
          44,
          41,
          41,
          19,
          26,
          26,
          54,
          23,
          52,
          38,
          37,
          55,
          29,
          28,
          40,
          59,
          56,
          55,
          25,
          28,
          46,
          27,
          65,
          24,
          30,
          23,
          27,
          52,
          40,
          45,
          18
         ],
         "x0": " ",
         "xaxis": "x",
         "y0": " ",
         "yaxis": "y"
        }
       ],
       "layout": {
        "boxmode": "group",
        "legend": {
         "tracegroupgap": 0
        },
        "margin": {
         "t": 60
        },
        "template": {
         "data": {
          "bar": [
           {
            "error_x": {
             "color": "#2a3f5f"
            },
            "error_y": {
             "color": "#2a3f5f"
            },
            "marker": {
             "line": {
              "color": "#E5ECF6",
              "width": 0.5
             },
             "pattern": {
              "fillmode": "overlay",
              "size": 10,
              "solidity": 0.2
             }
            },
            "type": "bar"
           }
          ],
          "barpolar": [
           {
            "marker": {
             "line": {
              "color": "#E5ECF6",
              "width": 0.5
             },
             "pattern": {
              "fillmode": "overlay",
              "size": 10,
              "solidity": 0.2
             }
            },
            "type": "barpolar"
           }
          ],
          "carpet": [
           {
            "aaxis": {
             "endlinecolor": "#2a3f5f",
             "gridcolor": "white",
             "linecolor": "white",
             "minorgridcolor": "white",
             "startlinecolor": "#2a3f5f"
            },
            "baxis": {
             "endlinecolor": "#2a3f5f",
             "gridcolor": "white",
             "linecolor": "white",
             "minorgridcolor": "white",
             "startlinecolor": "#2a3f5f"
            },
            "type": "carpet"
           }
          ],
          "choropleth": [
           {
            "colorbar": {
             "outlinewidth": 0,
             "ticks": ""
            },
            "type": "choropleth"
           }
          ],
          "contour": [
           {
            "colorbar": {
             "outlinewidth": 0,
             "ticks": ""
            },
            "colorscale": [
             [
              0,
              "#0d0887"
             ],
             [
              0.1111111111111111,
              "#46039f"
             ],
             [
              0.2222222222222222,
              "#7201a8"
             ],
             [
              0.3333333333333333,
              "#9c179e"
             ],
             [
              0.4444444444444444,
              "#bd3786"
             ],
             [
              0.5555555555555556,
              "#d8576b"
             ],
             [
              0.6666666666666666,
              "#ed7953"
             ],
             [
              0.7777777777777778,
              "#fb9f3a"
             ],
             [
              0.8888888888888888,
              "#fdca26"
             ],
             [
              1,
              "#f0f921"
             ]
            ],
            "type": "contour"
           }
          ],
          "contourcarpet": [
           {
            "colorbar": {
             "outlinewidth": 0,
             "ticks": ""
            },
            "type": "contourcarpet"
           }
          ],
          "heatmap": [
           {
            "colorbar": {
             "outlinewidth": 0,
             "ticks": ""
            },
            "colorscale": [
             [
              0,
              "#0d0887"
             ],
             [
              0.1111111111111111,
              "#46039f"
             ],
             [
              0.2222222222222222,
              "#7201a8"
             ],
             [
              0.3333333333333333,
              "#9c179e"
             ],
             [
              0.4444444444444444,
              "#bd3786"
             ],
             [
              0.5555555555555556,
              "#d8576b"
             ],
             [
              0.6666666666666666,
              "#ed7953"
             ],
             [
              0.7777777777777778,
              "#fb9f3a"
             ],
             [
              0.8888888888888888,
              "#fdca26"
             ],
             [
              1,
              "#f0f921"
             ]
            ],
            "type": "heatmap"
           }
          ],
          "heatmapgl": [
           {
            "colorbar": {
             "outlinewidth": 0,
             "ticks": ""
            },
            "colorscale": [
             [
              0,
              "#0d0887"
             ],
             [
              0.1111111111111111,
              "#46039f"
             ],
             [
              0.2222222222222222,
              "#7201a8"
             ],
             [
              0.3333333333333333,
              "#9c179e"
             ],
             [
              0.4444444444444444,
              "#bd3786"
             ],
             [
              0.5555555555555556,
              "#d8576b"
             ],
             [
              0.6666666666666666,
              "#ed7953"
             ],
             [
              0.7777777777777778,
              "#fb9f3a"
             ],
             [
              0.8888888888888888,
              "#fdca26"
             ],
             [
              1,
              "#f0f921"
             ]
            ],
            "type": "heatmapgl"
           }
          ],
          "histogram": [
           {
            "marker": {
             "pattern": {
              "fillmode": "overlay",
              "size": 10,
              "solidity": 0.2
             }
            },
            "type": "histogram"
           }
          ],
          "histogram2d": [
           {
            "colorbar": {
             "outlinewidth": 0,
             "ticks": ""
            },
            "colorscale": [
             [
              0,
              "#0d0887"
             ],
             [
              0.1111111111111111,
              "#46039f"
             ],
             [
              0.2222222222222222,
              "#7201a8"
             ],
             [
              0.3333333333333333,
              "#9c179e"
             ],
             [
              0.4444444444444444,
              "#bd3786"
             ],
             [
              0.5555555555555556,
              "#d8576b"
             ],
             [
              0.6666666666666666,
              "#ed7953"
             ],
             [
              0.7777777777777778,
              "#fb9f3a"
             ],
             [
              0.8888888888888888,
              "#fdca26"
             ],
             [
              1,
              "#f0f921"
             ]
            ],
            "type": "histogram2d"
           }
          ],
          "histogram2dcontour": [
           {
            "colorbar": {
             "outlinewidth": 0,
             "ticks": ""
            },
            "colorscale": [
             [
              0,
              "#0d0887"
             ],
             [
              0.1111111111111111,
              "#46039f"
             ],
             [
              0.2222222222222222,
              "#7201a8"
             ],
             [
              0.3333333333333333,
              "#9c179e"
             ],
             [
              0.4444444444444444,
              "#bd3786"
             ],
             [
              0.5555555555555556,
              "#d8576b"
             ],
             [
              0.6666666666666666,
              "#ed7953"
             ],
             [
              0.7777777777777778,
              "#fb9f3a"
             ],
             [
              0.8888888888888888,
              "#fdca26"
             ],
             [
              1,
              "#f0f921"
             ]
            ],
            "type": "histogram2dcontour"
           }
          ],
          "mesh3d": [
           {
            "colorbar": {
             "outlinewidth": 0,
             "ticks": ""
            },
            "type": "mesh3d"
           }
          ],
          "parcoords": [
           {
            "line": {
             "colorbar": {
              "outlinewidth": 0,
              "ticks": ""
             }
            },
            "type": "parcoords"
           }
          ],
          "pie": [
           {
            "automargin": true,
            "type": "pie"
           }
          ],
          "scatter": [
           {
            "fillpattern": {
             "fillmode": "overlay",
             "size": 10,
             "solidity": 0.2
            },
            "type": "scatter"
           }
          ],
          "scatter3d": [
           {
            "line": {
             "colorbar": {
              "outlinewidth": 0,
              "ticks": ""
             }
            },
            "marker": {
             "colorbar": {
              "outlinewidth": 0,
              "ticks": ""
             }
            },
            "type": "scatter3d"
           }
          ],
          "scattercarpet": [
           {
            "marker": {
             "colorbar": {
              "outlinewidth": 0,
              "ticks": ""
             }
            },
            "type": "scattercarpet"
           }
          ],
          "scattergeo": [
           {
            "marker": {
             "colorbar": {
              "outlinewidth": 0,
              "ticks": ""
             }
            },
            "type": "scattergeo"
           }
          ],
          "scattergl": [
           {
            "marker": {
             "colorbar": {
              "outlinewidth": 0,
              "ticks": ""
             }
            },
            "type": "scattergl"
           }
          ],
          "scattermapbox": [
           {
            "marker": {
             "colorbar": {
              "outlinewidth": 0,
              "ticks": ""
             }
            },
            "type": "scattermapbox"
           }
          ],
          "scatterpolar": [
           {
            "marker": {
             "colorbar": {
              "outlinewidth": 0,
              "ticks": ""
             }
            },
            "type": "scatterpolar"
           }
          ],
          "scatterpolargl": [
           {
            "marker": {
             "colorbar": {
              "outlinewidth": 0,
              "ticks": ""
             }
            },
            "type": "scatterpolargl"
           }
          ],
          "scatterternary": [
           {
            "marker": {
             "colorbar": {
              "outlinewidth": 0,
              "ticks": ""
             }
            },
            "type": "scatterternary"
           }
          ],
          "surface": [
           {
            "colorbar": {
             "outlinewidth": 0,
             "ticks": ""
            },
            "colorscale": [
             [
              0,
              "#0d0887"
             ],
             [
              0.1111111111111111,
              "#46039f"
             ],
             [
              0.2222222222222222,
              "#7201a8"
             ],
             [
              0.3333333333333333,
              "#9c179e"
             ],
             [
              0.4444444444444444,
              "#bd3786"
             ],
             [
              0.5555555555555556,
              "#d8576b"
             ],
             [
              0.6666666666666666,
              "#ed7953"
             ],
             [
              0.7777777777777778,
              "#fb9f3a"
             ],
             [
              0.8888888888888888,
              "#fdca26"
             ],
             [
              1,
              "#f0f921"
             ]
            ],
            "type": "surface"
           }
          ],
          "table": [
           {
            "cells": {
             "fill": {
              "color": "#EBF0F8"
             },
             "line": {
              "color": "white"
             }
            },
            "header": {
             "fill": {
              "color": "#C8D4E3"
             },
             "line": {
              "color": "white"
             }
            },
            "type": "table"
           }
          ]
         },
         "layout": {
          "annotationdefaults": {
           "arrowcolor": "#2a3f5f",
           "arrowhead": 0,
           "arrowwidth": 1
          },
          "autotypenumbers": "strict",
          "coloraxis": {
           "colorbar": {
            "outlinewidth": 0,
            "ticks": ""
           }
          },
          "colorscale": {
           "diverging": [
            [
             0,
             "#8e0152"
            ],
            [
             0.1,
             "#c51b7d"
            ],
            [
             0.2,
             "#de77ae"
            ],
            [
             0.3,
             "#f1b6da"
            ],
            [
             0.4,
             "#fde0ef"
            ],
            [
             0.5,
             "#f7f7f7"
            ],
            [
             0.6,
             "#e6f5d0"
            ],
            [
             0.7,
             "#b8e186"
            ],
            [
             0.8,
             "#7fbc41"
            ],
            [
             0.9,
             "#4d9221"
            ],
            [
             1,
             "#276419"
            ]
           ],
           "sequential": [
            [
             0,
             "#0d0887"
            ],
            [
             0.1111111111111111,
             "#46039f"
            ],
            [
             0.2222222222222222,
             "#7201a8"
            ],
            [
             0.3333333333333333,
             "#9c179e"
            ],
            [
             0.4444444444444444,
             "#bd3786"
            ],
            [
             0.5555555555555556,
             "#d8576b"
            ],
            [
             0.6666666666666666,
             "#ed7953"
            ],
            [
             0.7777777777777778,
             "#fb9f3a"
            ],
            [
             0.8888888888888888,
             "#fdca26"
            ],
            [
             1,
             "#f0f921"
            ]
           ],
           "sequentialminus": [
            [
             0,
             "#0d0887"
            ],
            [
             0.1111111111111111,
             "#46039f"
            ],
            [
             0.2222222222222222,
             "#7201a8"
            ],
            [
             0.3333333333333333,
             "#9c179e"
            ],
            [
             0.4444444444444444,
             "#bd3786"
            ],
            [
             0.5555555555555556,
             "#d8576b"
            ],
            [
             0.6666666666666666,
             "#ed7953"
            ],
            [
             0.7777777777777778,
             "#fb9f3a"
            ],
            [
             0.8888888888888888,
             "#fdca26"
            ],
            [
             1,
             "#f0f921"
            ]
           ]
          },
          "colorway": [
           "#636efa",
           "#EF553B",
           "#00cc96",
           "#ab63fa",
           "#FFA15A",
           "#19d3f3",
           "#FF6692",
           "#B6E880",
           "#FF97FF",
           "#FECB52"
          ],
          "font": {
           "color": "#2a3f5f"
          },
          "geo": {
           "bgcolor": "white",
           "lakecolor": "white",
           "landcolor": "#E5ECF6",
           "showlakes": true,
           "showland": true,
           "subunitcolor": "white"
          },
          "hoverlabel": {
           "align": "left"
          },
          "hovermode": "closest",
          "mapbox": {
           "style": "light"
          },
          "paper_bgcolor": "white",
          "plot_bgcolor": "#E5ECF6",
          "polar": {
           "angularaxis": {
            "gridcolor": "white",
            "linecolor": "white",
            "ticks": ""
           },
           "bgcolor": "#E5ECF6",
           "radialaxis": {
            "gridcolor": "white",
            "linecolor": "white",
            "ticks": ""
           }
          },
          "scene": {
           "xaxis": {
            "backgroundcolor": "#E5ECF6",
            "gridcolor": "white",
            "gridwidth": 2,
            "linecolor": "white",
            "showbackground": true,
            "ticks": "",
            "zerolinecolor": "white"
           },
           "yaxis": {
            "backgroundcolor": "#E5ECF6",
            "gridcolor": "white",
            "gridwidth": 2,
            "linecolor": "white",
            "showbackground": true,
            "ticks": "",
            "zerolinecolor": "white"
           },
           "zaxis": {
            "backgroundcolor": "#E5ECF6",
            "gridcolor": "white",
            "gridwidth": 2,
            "linecolor": "white",
            "showbackground": true,
            "ticks": "",
            "zerolinecolor": "white"
           }
          },
          "shapedefaults": {
           "line": {
            "color": "#2a3f5f"
           }
          },
          "ternary": {
           "aaxis": {
            "gridcolor": "white",
            "linecolor": "white",
            "ticks": ""
           },
           "baxis": {
            "gridcolor": "white",
            "linecolor": "white",
            "ticks": ""
           },
           "bgcolor": "#E5ECF6",
           "caxis": {
            "gridcolor": "white",
            "linecolor": "white",
            "ticks": ""
           }
          },
          "title": {
           "x": 0.05
          },
          "xaxis": {
           "automargin": true,
           "gridcolor": "white",
           "linecolor": "white",
           "ticks": "",
           "title": {
            "standoff": 15
           },
           "zerolinecolor": "white",
           "zerolinewidth": 2
          },
          "yaxis": {
           "automargin": true,
           "gridcolor": "white",
           "linecolor": "white",
           "ticks": "",
           "title": {
            "standoff": 15
           },
           "zerolinecolor": "white",
           "zerolinewidth": 2
          }
         }
        },
        "title": {
         "text": "Age distribution"
        },
        "xaxis": {
         "anchor": "y",
         "domain": [
          0,
          1
         ],
         "title": {
          "text": "Age (years)"
         }
        },
        "yaxis": {
         "anchor": "x",
         "domain": [
          0,
          1
         ]
        }
       }
      }
     },
     "metadata": {},
     "output_type": "display_data"
    }
   ],
   "source": [
    "fig = px.box(df, x='Age', color_discrete_sequence=['green'], labels={'Age':'Age (years)'})\n",
    "fig.update_layout(title='Age distribution')\n",
    "fig.show()"
   ]
  },
  {
   "cell_type": "code",
   "execution_count": 58,
   "metadata": {},
   "outputs": [
    {
     "data": {
      "application/vnd.plotly.v1+json": {
       "config": {
        "plotlyServerURL": "https://plot.ly"
       },
       "data": [
        {
         "hovertemplate": "Age=%{marker.color}<br>index=%{y}<extra></extra>",
         "legendgroup": "",
         "marker": {
          "color": [
           65,
           69,
           40,
           40,
           57,
           36,
           27,
           53,
           41,
           11,
           50,
           55,
           30,
           28,
           36,
           32,
           21,
           40,
           43,
           52,
           24,
           32,
           29,
           63,
           24,
           52,
           36,
           35,
           23,
           47,
           24,
           18,
           26,
           37,
           46,
           61,
           38,
           20,
           28,
           58,
           46,
           52,
           29,
           31,
           34,
           40,
           55,
           27,
           21,
           37,
           29,
           65,
           9,
           16,
           18,
           37,
           54,
           43,
           34,
           34,
           32,
           56,
           29,
           35,
           30,
           21,
           25,
           52,
           46,
           40,
           30,
           32,
           55,
           58,
           47,
           44,
           47,
           46,
           43,
           54,
           55,
           29,
           66,
           40,
           50,
           53,
           50,
           50,
           48,
           24,
           45,
           57,
           39,
           43,
           51,
           61,
           41,
           53,
           32,
           65,
           38,
           53,
           55,
           44,
           38,
           40,
           53,
           24,
           39,
           47,
           51,
           25,
           23,
           54,
           32,
           22,
           50,
           30,
           52,
           52,
           51,
           15,
           48,
           19,
           56,
           25,
           54,
           37,
           33,
           25,
           29,
           36,
           32,
           37,
           27,
           48,
           52,
           36,
           55,
           52,
           37,
           28,
           48,
           25,
           65,
           31,
           42,
           40,
           26,
           33,
           65,
           50,
           22,
           41,
           68,
           61,
           23,
           45,
           14,
           30,
           42,
           42,
           53,
           49,
           48,
           48,
           40,
           48,
           35,
           55,
           24,
           33,
           27,
           24,
           48,
           42,
           62,
           44,
           39,
           53,
           37,
           29,
           49,
           24,
           48,
           36,
           37,
           27,
           21,
           52,
           53,
           27,
           24,
           18,
           44,
           61,
           30,
           48,
           32,
           52,
           61,
           64,
           59,
           38,
           31,
           32,
           31,
           41,
           32,
           61,
           61,
           10,
           36,
           29,
           27,
           22,
           22,
           40,
           56,
           13,
           37,
           41,
           52,
           63,
           38,
           60,
           29,
           29,
           30,
           26,
           32,
           55,
           36,
           53,
           18,
           28,
           58,
           51,
           37,
           41,
           32,
           56,
           43,
           52,
           37,
           67,
           36,
           29,
           25,
           61,
           29,
           31,
           23,
           46,
           47,
           65,
           35,
           27,
           54,
           48,
           46,
           37,
           31,
           23,
           48,
           44,
           24,
           30,
           45,
           27,
           44,
           50,
           58,
           49,
           46,
           27,
           37,
           48,
           42,
           48,
           25,
           64,
           53,
           38,
           17,
           27,
           50,
           40,
           34,
           26,
           54,
           46,
           38,
           24,
           38,
           29,
           51,
           27,
           35,
           22,
           47,
           25,
           25,
           51,
           25,
           65,
           27,
           41,
           56,
           28,
           33,
           22,
           50,
           25,
           54,
           40,
           58,
           45,
           55,
           54,
           60,
           25,
           30,
           41,
           44,
           52,
           29,
           44,
           42,
           26,
           49,
           46,
           12,
           27,
           39,
           44,
           50,
           52,
           44,
           57,
           53,
           65,
           41,
           52,
           53,
           25,
           51,
           30,
           57,
           24,
           24,
           19,
           52,
           45,
           29,
           39,
           51,
           27,
           41,
           65,
           56,
           27,
           28,
           30,
           37,
           22,
           52,
           56,
           56,
           41,
           40,
           32,
           29,
           39,
           65,
           60,
           48,
           21,
           25,
           61,
           35,
           22,
           40,
           39,
           40,
           32,
           62,
           48,
           22,
           36,
           21,
           37,
           37,
           56,
           55,
           56,
           57,
           59,
           30,
           32,
           37,
           48,
           38,
           58,
           24,
           56,
           53,
           35,
           61,
           32,
           58,
           53,
           27,
           51,
           28,
           49,
           49,
           44,
           51,
           21,
           55,
           44,
           41,
           41,
           19,
           26,
           26,
           54,
           23,
           52,
           38,
           37,
           55,
           29,
           28,
           40,
           59,
           56,
           55,
           25,
           28,
           46,
           27,
           65,
           24,
           30,
           23,
           27,
           52,
           40,
           45,
           18
          ],
          "coloraxis": "coloraxis",
          "size": [
           65,
           69,
           40,
           40,
           57,
           36,
           27,
           53,
           41,
           11,
           50,
           55,
           30,
           28,
           36,
           32,
           21,
           40,
           43,
           52,
           24,
           32,
           29,
           63,
           24,
           52,
           36,
           35,
           23,
           47,
           24,
           18,
           26,
           37,
           46,
           61,
           38,
           20,
           28,
           58,
           46,
           52,
           29,
           31,
           34,
           40,
           55,
           27,
           21,
           37,
           29,
           65,
           9,
           16,
           18,
           37,
           54,
           43,
           34,
           34,
           32,
           56,
           29,
           35,
           30,
           21,
           25,
           52,
           46,
           40,
           30,
           32,
           55,
           58,
           47,
           44,
           47,
           46,
           43,
           54,
           55,
           29,
           66,
           40,
           50,
           53,
           50,
           50,
           48,
           24,
           45,
           57,
           39,
           43,
           51,
           61,
           41,
           53,
           32,
           65,
           38,
           53,
           55,
           44,
           38,
           40,
           53,
           24,
           39,
           47,
           51,
           25,
           23,
           54,
           32,
           22,
           50,
           30,
           52,
           52,
           51,
           15,
           48,
           19,
           56,
           25,
           54,
           37,
           33,
           25,
           29,
           36,
           32,
           37,
           27,
           48,
           52,
           36,
           55,
           52,
           37,
           28,
           48,
           25,
           65,
           31,
           42,
           40,
           26,
           33,
           65,
           50,
           22,
           41,
           68,
           61,
           23,
           45,
           14,
           30,
           42,
           42,
           53,
           49,
           48,
           48,
           40,
           48,
           35,
           55,
           24,
           33,
           27,
           24,
           48,
           42,
           62,
           44,
           39,
           53,
           37,
           29,
           49,
           24,
           48,
           36,
           37,
           27,
           21,
           52,
           53,
           27,
           24,
           18,
           44,
           61,
           30,
           48,
           32,
           52,
           61,
           64,
           59,
           38,
           31,
           32,
           31,
           41,
           32,
           61,
           61,
           10,
           36,
           29,
           27,
           22,
           22,
           40,
           56,
           13,
           37,
           41,
           52,
           63,
           38,
           60,
           29,
           29,
           30,
           26,
           32,
           55,
           36,
           53,
           18,
           28,
           58,
           51,
           37,
           41,
           32,
           56,
           43,
           52,
           37,
           67,
           36,
           29,
           25,
           61,
           29,
           31,
           23,
           46,
           47,
           65,
           35,
           27,
           54,
           48,
           46,
           37,
           31,
           23,
           48,
           44,
           24,
           30,
           45,
           27,
           44,
           50,
           58,
           49,
           46,
           27,
           37,
           48,
           42,
           48,
           25,
           64,
           53,
           38,
           17,
           27,
           50,
           40,
           34,
           26,
           54,
           46,
           38,
           24,
           38,
           29,
           51,
           27,
           35,
           22,
           47,
           25,
           25,
           51,
           25,
           65,
           27,
           41,
           56,
           28,
           33,
           22,
           50,
           25,
           54,
           40,
           58,
           45,
           55,
           54,
           60,
           25,
           30,
           41,
           44,
           52,
           29,
           44,
           42,
           26,
           49,
           46,
           12,
           27,
           39,
           44,
           50,
           52,
           44,
           57,
           53,
           65,
           41,
           52,
           53,
           25,
           51,
           30,
           57,
           24,
           24,
           19,
           52,
           45,
           29,
           39,
           51,
           27,
           41,
           65,
           56,
           27,
           28,
           30,
           37,
           22,
           52,
           56,
           56,
           41,
           40,
           32,
           29,
           39,
           65,
           60,
           48,
           21,
           25,
           61,
           35,
           22,
           40,
           39,
           40,
           32,
           62,
           48,
           22,
           36,
           21,
           37,
           37,
           56,
           55,
           56,
           57,
           59,
           30,
           32,
           37,
           48,
           38,
           58,
           24,
           56,
           53,
           35,
           61,
           32,
           58,
           53,
           27,
           51,
           28,
           49,
           49,
           44,
           51,
           21,
           55,
           44,
           41,
           41,
           19,
           26,
           26,
           54,
           23,
           52,
           38,
           37,
           55,
           29,
           28,
           40,
           59,
           56,
           55,
           25,
           28,
           46,
           27,
           65,
           24,
           30,
           23,
           27,
           52,
           40,
           45,
           18
          ],
          "sizemode": "area",
          "sizeref": 0.1725,
          "symbol": "circle"
         },
         "mode": "markers",
         "name": "",
         "orientation": "h",
         "showlegend": false,
         "type": "scatter",
         "x": [
          65,
          69,
          40,
          40,
          57,
          36,
          27,
          53,
          41,
          11,
          50,
          55,
          30,
          28,
          36,
          32,
          21,
          40,
          43,
          52,
          24,
          32,
          29,
          63,
          24,
          52,
          36,
          35,
          23,
          47,
          24,
          18,
          26,
          37,
          46,
          61,
          38,
          20,
          28,
          58,
          46,
          52,
          29,
          31,
          34,
          40,
          55,
          27,
          21,
          37,
          29,
          65,
          9,
          16,
          18,
          37,
          54,
          43,
          34,
          34,
          32,
          56,
          29,
          35,
          30,
          21,
          25,
          52,
          46,
          40,
          30,
          32,
          55,
          58,
          47,
          44,
          47,
          46,
          43,
          54,
          55,
          29,
          66,
          40,
          50,
          53,
          50,
          50,
          48,
          24,
          45,
          57,
          39,
          43,
          51,
          61,
          41,
          53,
          32,
          65,
          38,
          53,
          55,
          44,
          38,
          40,
          53,
          24,
          39,
          47,
          51,
          25,
          23,
          54,
          32,
          22,
          50,
          30,
          52,
          52,
          51,
          15,
          48,
          19,
          56,
          25,
          54,
          37,
          33,
          25,
          29,
          36,
          32,
          37,
          27,
          48,
          52,
          36,
          55,
          52,
          37,
          28,
          48,
          25,
          65,
          31,
          42,
          40,
          26,
          33,
          65,
          50,
          22,
          41,
          68,
          61,
          23,
          45,
          14,
          30,
          42,
          42,
          53,
          49,
          48,
          48,
          40,
          48,
          35,
          55,
          24,
          33,
          27,
          24,
          48,
          42,
          62,
          44,
          39,
          53,
          37,
          29,
          49,
          24,
          48,
          36,
          37,
          27,
          21,
          52,
          53,
          27,
          24,
          18,
          44,
          61,
          30,
          48,
          32,
          52,
          61,
          64,
          59,
          38,
          31,
          32,
          31,
          41,
          32,
          61,
          61,
          10,
          36,
          29,
          27,
          22,
          22,
          40,
          56,
          13,
          37,
          41,
          52,
          63,
          38,
          60,
          29,
          29,
          30,
          26,
          32,
          55,
          36,
          53,
          18,
          28,
          58,
          51,
          37,
          41,
          32,
          56,
          43,
          52,
          37,
          67,
          36,
          29,
          25,
          61,
          29,
          31,
          23,
          46,
          47,
          65,
          35,
          27,
          54,
          48,
          46,
          37,
          31,
          23,
          48,
          44,
          24,
          30,
          45,
          27,
          44,
          50,
          58,
          49,
          46,
          27,
          37,
          48,
          42,
          48,
          25,
          64,
          53,
          38,
          17,
          27,
          50,
          40,
          34,
          26,
          54,
          46,
          38,
          24,
          38,
          29,
          51,
          27,
          35,
          22,
          47,
          25,
          25,
          51,
          25,
          65,
          27,
          41,
          56,
          28,
          33,
          22,
          50,
          25,
          54,
          40,
          58,
          45,
          55,
          54,
          60,
          25,
          30,
          41,
          44,
          52,
          29,
          44,
          42,
          26,
          49,
          46,
          12,
          27,
          39,
          44,
          50,
          52,
          44,
          57,
          53,
          65,
          41,
          52,
          53,
          25,
          51,
          30,
          57,
          24,
          24,
          19,
          52,
          45,
          29,
          39,
          51,
          27,
          41,
          65,
          56,
          27,
          28,
          30,
          37,
          22,
          52,
          56,
          56,
          41,
          40,
          32,
          29,
          39,
          65,
          60,
          48,
          21,
          25,
          61,
          35,
          22,
          40,
          39,
          40,
          32,
          62,
          48,
          22,
          36,
          21,
          37,
          37,
          56,
          55,
          56,
          57,
          59,
          30,
          32,
          37,
          48,
          38,
          58,
          24,
          56,
          53,
          35,
          61,
          32,
          58,
          53,
          27,
          51,
          28,
          49,
          49,
          44,
          51,
          21,
          55,
          44,
          41,
          41,
          19,
          26,
          26,
          54,
          23,
          52,
          38,
          37,
          55,
          29,
          28,
          40,
          59,
          56,
          55,
          25,
          28,
          46,
          27,
          65,
          24,
          30,
          23,
          27,
          52,
          40,
          45,
          18
         ],
         "xaxis": "x",
         "y": [
          0,
          1,
          2,
          3,
          4,
          5,
          6,
          7,
          8,
          9,
          10,
          11,
          12,
          13,
          14,
          15,
          16,
          17,
          18,
          19,
          20,
          21,
          22,
          23,
          24,
          25,
          26,
          27,
          28,
          29,
          30,
          31,
          32,
          33,
          34,
          35,
          36,
          37,
          38,
          39,
          40,
          41,
          42,
          43,
          44,
          45,
          46,
          47,
          48,
          49,
          50,
          51,
          52,
          53,
          54,
          55,
          56,
          57,
          58,
          59,
          60,
          61,
          62,
          63,
          64,
          65,
          66,
          67,
          68,
          69,
          70,
          71,
          72,
          73,
          74,
          75,
          76,
          77,
          78,
          79,
          80,
          81,
          82,
          83,
          84,
          85,
          86,
          87,
          88,
          89,
          90,
          91,
          92,
          93,
          94,
          95,
          96,
          97,
          98,
          99,
          100,
          101,
          102,
          103,
          104,
          105,
          106,
          107,
          108,
          109,
          110,
          111,
          112,
          113,
          114,
          115,
          116,
          117,
          118,
          119,
          120,
          121,
          122,
          123,
          124,
          125,
          126,
          127,
          128,
          129,
          130,
          131,
          132,
          133,
          134,
          135,
          136,
          137,
          138,
          139,
          140,
          141,
          142,
          143,
          144,
          145,
          146,
          147,
          148,
          149,
          150,
          151,
          152,
          153,
          154,
          155,
          156,
          157,
          158,
          159,
          160,
          161,
          162,
          163,
          164,
          165,
          166,
          167,
          168,
          169,
          170,
          171,
          172,
          173,
          174,
          175,
          176,
          177,
          178,
          179,
          180,
          181,
          182,
          183,
          184,
          185,
          186,
          187,
          188,
          189,
          190,
          191,
          192,
          193,
          194,
          195,
          196,
          197,
          198,
          199,
          200,
          201,
          202,
          203,
          204,
          205,
          206,
          207,
          208,
          209,
          210,
          211,
          212,
          213,
          214,
          215,
          216,
          217,
          218,
          219,
          220,
          221,
          222,
          223,
          224,
          225,
          226,
          227,
          228,
          229,
          230,
          231,
          232,
          233,
          234,
          235,
          236,
          237,
          238,
          239,
          240,
          241,
          242,
          243,
          244,
          245,
          246,
          247,
          248,
          249,
          250,
          251,
          252,
          253,
          254,
          255,
          256,
          257,
          258,
          259,
          260,
          261,
          262,
          263,
          264,
          265,
          266,
          267,
          268,
          269,
          270,
          271,
          272,
          273,
          274,
          275,
          276,
          277,
          278,
          279,
          280,
          281,
          282,
          283,
          284,
          285,
          286,
          287,
          288,
          289,
          290,
          291,
          292,
          293,
          294,
          295,
          296,
          297,
          298,
          299,
          300,
          301,
          302,
          303,
          304,
          305,
          306,
          307,
          308,
          309,
          310,
          311,
          312,
          313,
          314,
          315,
          316,
          317,
          318,
          319,
          320,
          321,
          322,
          323,
          324,
          325,
          326,
          327,
          328,
          329,
          330,
          331,
          332,
          333,
          334,
          335,
          336,
          337,
          338,
          339,
          340,
          341,
          342,
          343,
          344,
          345,
          346,
          347,
          348,
          349,
          350,
          351,
          352,
          353,
          354,
          355,
          356,
          357,
          358,
          359,
          360,
          361,
          362,
          363,
          364,
          365,
          366,
          367,
          368,
          369,
          370,
          371,
          372,
          373,
          374,
          375,
          376,
          377,
          378,
          379,
          380,
          381,
          382,
          383,
          384,
          385,
          386,
          387,
          388,
          389,
          390,
          391,
          392,
          393,
          394,
          395,
          396,
          397,
          398,
          399,
          400,
          401,
          402,
          403,
          404,
          405,
          406,
          407,
          408,
          409,
          410,
          411,
          412,
          413,
          414,
          415,
          416,
          417,
          418,
          419,
          420,
          421,
          422,
          423,
          424,
          425,
          426,
          427,
          428,
          429,
          430,
          431,
          432,
          433,
          434,
          435,
          436,
          437,
          438,
          439,
          440,
          441,
          442,
          443,
          444,
          445,
          446,
          447,
          448,
          449,
          450,
          451
         ],
         "yaxis": "y"
        }
       ],
       "layout": {
        "coloraxis": {
         "colorbar": {
          "title": {
           "text": "Age"
          }
         },
         "colorscale": [
          [
           0,
           "rgb(0,0,131)"
          ],
          [
           0.2,
           "rgb(0,60,170)"
          ],
          [
           0.4,
           "rgb(5,255,255)"
          ],
          [
           0.6,
           "rgb(255,255,0)"
          ],
          [
           0.8,
           "rgb(250,0,0)"
          ],
          [
           1,
           "rgb(128,0,0)"
          ]
         ]
        },
        "legend": {
         "itemsizing": "constant",
         "tracegroupgap": 0
        },
        "margin": {
         "t": 60
        },
        "template": {
         "data": {
          "bar": [
           {
            "error_x": {
             "color": "#2a3f5f"
            },
            "error_y": {
             "color": "#2a3f5f"
            },
            "marker": {
             "line": {
              "color": "#E5ECF6",
              "width": 0.5
             },
             "pattern": {
              "fillmode": "overlay",
              "size": 10,
              "solidity": 0.2
             }
            },
            "type": "bar"
           }
          ],
          "barpolar": [
           {
            "marker": {
             "line": {
              "color": "#E5ECF6",
              "width": 0.5
             },
             "pattern": {
              "fillmode": "overlay",
              "size": 10,
              "solidity": 0.2
             }
            },
            "type": "barpolar"
           }
          ],
          "carpet": [
           {
            "aaxis": {
             "endlinecolor": "#2a3f5f",
             "gridcolor": "white",
             "linecolor": "white",
             "minorgridcolor": "white",
             "startlinecolor": "#2a3f5f"
            },
            "baxis": {
             "endlinecolor": "#2a3f5f",
             "gridcolor": "white",
             "linecolor": "white",
             "minorgridcolor": "white",
             "startlinecolor": "#2a3f5f"
            },
            "type": "carpet"
           }
          ],
          "choropleth": [
           {
            "colorbar": {
             "outlinewidth": 0,
             "ticks": ""
            },
            "type": "choropleth"
           }
          ],
          "contour": [
           {
            "colorbar": {
             "outlinewidth": 0,
             "ticks": ""
            },
            "colorscale": [
             [
              0,
              "#0d0887"
             ],
             [
              0.1111111111111111,
              "#46039f"
             ],
             [
              0.2222222222222222,
              "#7201a8"
             ],
             [
              0.3333333333333333,
              "#9c179e"
             ],
             [
              0.4444444444444444,
              "#bd3786"
             ],
             [
              0.5555555555555556,
              "#d8576b"
             ],
             [
              0.6666666666666666,
              "#ed7953"
             ],
             [
              0.7777777777777778,
              "#fb9f3a"
             ],
             [
              0.8888888888888888,
              "#fdca26"
             ],
             [
              1,
              "#f0f921"
             ]
            ],
            "type": "contour"
           }
          ],
          "contourcarpet": [
           {
            "colorbar": {
             "outlinewidth": 0,
             "ticks": ""
            },
            "type": "contourcarpet"
           }
          ],
          "heatmap": [
           {
            "colorbar": {
             "outlinewidth": 0,
             "ticks": ""
            },
            "colorscale": [
             [
              0,
              "#0d0887"
             ],
             [
              0.1111111111111111,
              "#46039f"
             ],
             [
              0.2222222222222222,
              "#7201a8"
             ],
             [
              0.3333333333333333,
              "#9c179e"
             ],
             [
              0.4444444444444444,
              "#bd3786"
             ],
             [
              0.5555555555555556,
              "#d8576b"
             ],
             [
              0.6666666666666666,
              "#ed7953"
             ],
             [
              0.7777777777777778,
              "#fb9f3a"
             ],
             [
              0.8888888888888888,
              "#fdca26"
             ],
             [
              1,
              "#f0f921"
             ]
            ],
            "type": "heatmap"
           }
          ],
          "heatmapgl": [
           {
            "colorbar": {
             "outlinewidth": 0,
             "ticks": ""
            },
            "colorscale": [
             [
              0,
              "#0d0887"
             ],
             [
              0.1111111111111111,
              "#46039f"
             ],
             [
              0.2222222222222222,
              "#7201a8"
             ],
             [
              0.3333333333333333,
              "#9c179e"
             ],
             [
              0.4444444444444444,
              "#bd3786"
             ],
             [
              0.5555555555555556,
              "#d8576b"
             ],
             [
              0.6666666666666666,
              "#ed7953"
             ],
             [
              0.7777777777777778,
              "#fb9f3a"
             ],
             [
              0.8888888888888888,
              "#fdca26"
             ],
             [
              1,
              "#f0f921"
             ]
            ],
            "type": "heatmapgl"
           }
          ],
          "histogram": [
           {
            "marker": {
             "pattern": {
              "fillmode": "overlay",
              "size": 10,
              "solidity": 0.2
             }
            },
            "type": "histogram"
           }
          ],
          "histogram2d": [
           {
            "colorbar": {
             "outlinewidth": 0,
             "ticks": ""
            },
            "colorscale": [
             [
              0,
              "#0d0887"
             ],
             [
              0.1111111111111111,
              "#46039f"
             ],
             [
              0.2222222222222222,
              "#7201a8"
             ],
             [
              0.3333333333333333,
              "#9c179e"
             ],
             [
              0.4444444444444444,
              "#bd3786"
             ],
             [
              0.5555555555555556,
              "#d8576b"
             ],
             [
              0.6666666666666666,
              "#ed7953"
             ],
             [
              0.7777777777777778,
              "#fb9f3a"
             ],
             [
              0.8888888888888888,
              "#fdca26"
             ],
             [
              1,
              "#f0f921"
             ]
            ],
            "type": "histogram2d"
           }
          ],
          "histogram2dcontour": [
           {
            "colorbar": {
             "outlinewidth": 0,
             "ticks": ""
            },
            "colorscale": [
             [
              0,
              "#0d0887"
             ],
             [
              0.1111111111111111,
              "#46039f"
             ],
             [
              0.2222222222222222,
              "#7201a8"
             ],
             [
              0.3333333333333333,
              "#9c179e"
             ],
             [
              0.4444444444444444,
              "#bd3786"
             ],
             [
              0.5555555555555556,
              "#d8576b"
             ],
             [
              0.6666666666666666,
              "#ed7953"
             ],
             [
              0.7777777777777778,
              "#fb9f3a"
             ],
             [
              0.8888888888888888,
              "#fdca26"
             ],
             [
              1,
              "#f0f921"
             ]
            ],
            "type": "histogram2dcontour"
           }
          ],
          "mesh3d": [
           {
            "colorbar": {
             "outlinewidth": 0,
             "ticks": ""
            },
            "type": "mesh3d"
           }
          ],
          "parcoords": [
           {
            "line": {
             "colorbar": {
              "outlinewidth": 0,
              "ticks": ""
             }
            },
            "type": "parcoords"
           }
          ],
          "pie": [
           {
            "automargin": true,
            "type": "pie"
           }
          ],
          "scatter": [
           {
            "fillpattern": {
             "fillmode": "overlay",
             "size": 10,
             "solidity": 0.2
            },
            "type": "scatter"
           }
          ],
          "scatter3d": [
           {
            "line": {
             "colorbar": {
              "outlinewidth": 0,
              "ticks": ""
             }
            },
            "marker": {
             "colorbar": {
              "outlinewidth": 0,
              "ticks": ""
             }
            },
            "type": "scatter3d"
           }
          ],
          "scattercarpet": [
           {
            "marker": {
             "colorbar": {
              "outlinewidth": 0,
              "ticks": ""
             }
            },
            "type": "scattercarpet"
           }
          ],
          "scattergeo": [
           {
            "marker": {
             "colorbar": {
              "outlinewidth": 0,
              "ticks": ""
             }
            },
            "type": "scattergeo"
           }
          ],
          "scattergl": [
           {
            "marker": {
             "colorbar": {
              "outlinewidth": 0,
              "ticks": ""
             }
            },
            "type": "scattergl"
           }
          ],
          "scattermapbox": [
           {
            "marker": {
             "colorbar": {
              "outlinewidth": 0,
              "ticks": ""
             }
            },
            "type": "scattermapbox"
           }
          ],
          "scatterpolar": [
           {
            "marker": {
             "colorbar": {
              "outlinewidth": 0,
              "ticks": ""
             }
            },
            "type": "scatterpolar"
           }
          ],
          "scatterpolargl": [
           {
            "marker": {
             "colorbar": {
              "outlinewidth": 0,
              "ticks": ""
             }
            },
            "type": "scatterpolargl"
           }
          ],
          "scatterternary": [
           {
            "marker": {
             "colorbar": {
              "outlinewidth": 0,
              "ticks": ""
             }
            },
            "type": "scatterternary"
           }
          ],
          "surface": [
           {
            "colorbar": {
             "outlinewidth": 0,
             "ticks": ""
            },
            "colorscale": [
             [
              0,
              "#0d0887"
             ],
             [
              0.1111111111111111,
              "#46039f"
             ],
             [
              0.2222222222222222,
              "#7201a8"
             ],
             [
              0.3333333333333333,
              "#9c179e"
             ],
             [
              0.4444444444444444,
              "#bd3786"
             ],
             [
              0.5555555555555556,
              "#d8576b"
             ],
             [
              0.6666666666666666,
              "#ed7953"
             ],
             [
              0.7777777777777778,
              "#fb9f3a"
             ],
             [
              0.8888888888888888,
              "#fdca26"
             ],
             [
              1,
              "#f0f921"
             ]
            ],
            "type": "surface"
           }
          ],
          "table": [
           {
            "cells": {
             "fill": {
              "color": "#EBF0F8"
             },
             "line": {
              "color": "white"
             }
            },
            "header": {
             "fill": {
              "color": "#C8D4E3"
             },
             "line": {
              "color": "white"
             }
            },
            "type": "table"
           }
          ]
         },
         "layout": {
          "annotationdefaults": {
           "arrowcolor": "#2a3f5f",
           "arrowhead": 0,
           "arrowwidth": 1
          },
          "autotypenumbers": "strict",
          "coloraxis": {
           "colorbar": {
            "outlinewidth": 0,
            "ticks": ""
           }
          },
          "colorscale": {
           "diverging": [
            [
             0,
             "#8e0152"
            ],
            [
             0.1,
             "#c51b7d"
            ],
            [
             0.2,
             "#de77ae"
            ],
            [
             0.3,
             "#f1b6da"
            ],
            [
             0.4,
             "#fde0ef"
            ],
            [
             0.5,
             "#f7f7f7"
            ],
            [
             0.6,
             "#e6f5d0"
            ],
            [
             0.7,
             "#b8e186"
            ],
            [
             0.8,
             "#7fbc41"
            ],
            [
             0.9,
             "#4d9221"
            ],
            [
             1,
             "#276419"
            ]
           ],
           "sequential": [
            [
             0,
             "#0d0887"
            ],
            [
             0.1111111111111111,
             "#46039f"
            ],
            [
             0.2222222222222222,
             "#7201a8"
            ],
            [
             0.3333333333333333,
             "#9c179e"
            ],
            [
             0.4444444444444444,
             "#bd3786"
            ],
            [
             0.5555555555555556,
             "#d8576b"
            ],
            [
             0.6666666666666666,
             "#ed7953"
            ],
            [
             0.7777777777777778,
             "#fb9f3a"
            ],
            [
             0.8888888888888888,
             "#fdca26"
            ],
            [
             1,
             "#f0f921"
            ]
           ],
           "sequentialminus": [
            [
             0,
             "#0d0887"
            ],
            [
             0.1111111111111111,
             "#46039f"
            ],
            [
             0.2222222222222222,
             "#7201a8"
            ],
            [
             0.3333333333333333,
             "#9c179e"
            ],
            [
             0.4444444444444444,
             "#bd3786"
            ],
            [
             0.5555555555555556,
             "#d8576b"
            ],
            [
             0.6666666666666666,
             "#ed7953"
            ],
            [
             0.7777777777777778,
             "#fb9f3a"
            ],
            [
             0.8888888888888888,
             "#fdca26"
            ],
            [
             1,
             "#f0f921"
            ]
           ]
          },
          "colorway": [
           "#636efa",
           "#EF553B",
           "#00cc96",
           "#ab63fa",
           "#FFA15A",
           "#19d3f3",
           "#FF6692",
           "#B6E880",
           "#FF97FF",
           "#FECB52"
          ],
          "font": {
           "color": "#2a3f5f"
          },
          "geo": {
           "bgcolor": "white",
           "lakecolor": "white",
           "landcolor": "#E5ECF6",
           "showlakes": true,
           "showland": true,
           "subunitcolor": "white"
          },
          "hoverlabel": {
           "align": "left"
          },
          "hovermode": "closest",
          "mapbox": {
           "style": "light"
          },
          "paper_bgcolor": "white",
          "plot_bgcolor": "#E5ECF6",
          "polar": {
           "angularaxis": {
            "gridcolor": "white",
            "linecolor": "white",
            "ticks": ""
           },
           "bgcolor": "#E5ECF6",
           "radialaxis": {
            "gridcolor": "white",
            "linecolor": "white",
            "ticks": ""
           }
          },
          "scene": {
           "xaxis": {
            "backgroundcolor": "#E5ECF6",
            "gridcolor": "white",
            "gridwidth": 2,
            "linecolor": "white",
            "showbackground": true,
            "ticks": "",
            "zerolinecolor": "white"
           },
           "yaxis": {
            "backgroundcolor": "#E5ECF6",
            "gridcolor": "white",
            "gridwidth": 2,
            "linecolor": "white",
            "showbackground": true,
            "ticks": "",
            "zerolinecolor": "white"
           },
           "zaxis": {
            "backgroundcolor": "#E5ECF6",
            "gridcolor": "white",
            "gridwidth": 2,
            "linecolor": "white",
            "showbackground": true,
            "ticks": "",
            "zerolinecolor": "white"
           }
          },
          "shapedefaults": {
           "line": {
            "color": "#2a3f5f"
           }
          },
          "ternary": {
           "aaxis": {
            "gridcolor": "white",
            "linecolor": "white",
            "ticks": ""
           },
           "baxis": {
            "gridcolor": "white",
            "linecolor": "white",
            "ticks": ""
           },
           "bgcolor": "#E5ECF6",
           "caxis": {
            "gridcolor": "white",
            "linecolor": "white",
            "ticks": ""
           }
          },
          "title": {
           "x": 0.05
          },
          "xaxis": {
           "automargin": true,
           "gridcolor": "white",
           "linecolor": "white",
           "ticks": "",
           "title": {
            "standoff": 15
           },
           "zerolinecolor": "white",
           "zerolinewidth": 2
          },
          "yaxis": {
           "automargin": true,
           "gridcolor": "white",
           "linecolor": "white",
           "ticks": "",
           "title": {
            "standoff": 15
           },
           "zerolinecolor": "white",
           "zerolinewidth": 2
          }
         }
        },
        "title": {
         "text": "Age distribution"
        },
        "xaxis": {
         "anchor": "y",
         "domain": [
          0,
          1
         ],
         "title": {
          "text": "Age"
         }
        },
        "yaxis": {
         "anchor": "x",
         "domain": [
          0,
          1
         ],
         "title": {
          "text": "index"
         }
        }
       }
      }
     },
     "metadata": {},
     "output_type": "display_data"
    }
   ],
   "source": [
    "fig = px.scatter(df, x='Age', color='Age', color_continuous_scale='jet', size='Age', hover_data=['Age'])\n",
    "fig.update_layout(title='Age distribution')\n",
    "fig.show()"
   ]
  },
  {
   "attachments": {},
   "cell_type": "markdown",
   "metadata": {},
   "source": [
    "Below you see a histogram that shows the ages of the people in the dataset, categorized by gender. This shows the ratio between male and female participants of every age."
   ]
  },
  {
   "cell_type": "code",
   "execution_count": 59,
   "metadata": {},
   "outputs": [
    {
     "data": {
      "application/vnd.plotly.v1+json": {
       "config": {
        "plotlyServerURL": "https://plot.ly"
       },
       "data": [
        {
         "alignmentgroup": "True",
         "bingroup": "x",
         "hovertemplate": "Gender=Female<br>Age (years)=%{x}<br>count=%{y}<extra></extra>",
         "legendgroup": "Female",
         "marker": {
          "color": "#636efa",
          "opacity": 0.5,
          "pattern": {
           "shape": ""
          }
         },
         "name": "Female",
         "offsetgroup": "Female",
         "orientation": "v",
         "showlegend": true,
         "type": "histogram",
         "x": [
          65,
          40,
          40,
          36,
          27,
          41,
          11,
          30,
          36,
          32,
          21,
          40,
          43,
          29,
          63,
          36,
          47,
          37,
          46,
          61,
          20,
          28,
          58,
          29,
          31,
          34,
          40,
          27,
          21,
          37,
          29,
          9,
          16,
          34,
          34,
          32,
          35,
          30,
          32,
          47,
          40,
          24,
          61,
          32,
          38,
          55,
          44,
          38,
          40,
          39,
          15,
          37,
          33,
          29,
          36,
          32,
          48,
          52,
          37,
          28,
          65,
          31,
          40,
          26,
          33,
          50,
          23,
          45,
          14,
          49,
          48,
          40,
          48,
          55,
          33,
          24,
          48,
          62,
          44,
          39,
          29,
          49,
          24,
          48,
          36,
          37,
          52,
          27,
          18,
          44,
          61,
          30,
          32,
          64,
          59,
          31,
          32,
          31,
          41,
          32,
          10,
          36,
          29,
          22,
          40,
          56,
          13,
          37,
          41,
          63,
          29,
          29,
          30,
          36,
          18,
          28,
          37,
          43,
          37,
          36,
          29,
          29,
          23,
          46,
          47,
          65,
          35,
          27,
          48,
          37,
          31,
          23,
          48,
          30,
          44,
          50,
          27,
          37,
          48,
          42,
          48,
          25,
          38,
          17,
          40,
          34,
          26,
          46,
          38,
          24,
          29,
          27,
          35,
          47,
          25,
          41,
          56,
          28,
          33,
          22,
          40,
          30,
          44,
          52,
          29,
          44,
          42,
          26,
          12,
          27,
          39,
          44,
          50,
          65,
          41,
          52,
          24,
          19,
          29,
          27,
          65,
          56,
          27,
          30,
          22,
          40,
          32,
          29,
          60,
          21,
          35,
          32,
          62,
          48,
          22,
          36,
          37,
          37,
          55,
          57,
          59,
          30,
          32,
          37,
          35,
          61,
          32,
          27,
          28,
          49,
          41,
          41,
          26,
          38,
          37,
          29,
          28,
          40,
          28,
          27,
          65,
          30,
          27,
          40
         ],
         "xaxis": "x",
         "yaxis": "y"
        },
        {
         "alignmentgroup": "True",
         "bingroup": "x",
         "hovertemplate": "Gender=Male<br>Age (years)=%{x}<br>count=%{y}<extra></extra>",
         "legendgroup": "Male",
         "marker": {
          "color": "#EF553B",
          "opacity": 0.5,
          "pattern": {
           "shape": ""
          }
         },
         "name": "Male",
         "offsetgroup": "Male",
         "orientation": "v",
         "showlegend": true,
         "type": "histogram",
         "x": [
          69,
          57,
          53,
          50,
          55,
          28,
          52,
          24,
          32,
          24,
          52,
          35,
          23,
          24,
          18,
          26,
          38,
          46,
          52,
          55,
          65,
          18,
          37,
          54,
          43,
          56,
          29,
          30,
          21,
          25,
          52,
          46,
          40,
          55,
          58,
          47,
          44,
          46,
          43,
          54,
          55,
          29,
          66,
          50,
          53,
          50,
          50,
          48,
          45,
          57,
          39,
          43,
          51,
          41,
          53,
          65,
          53,
          53,
          24,
          47,
          51,
          25,
          23,
          54,
          32,
          22,
          50,
          30,
          52,
          52,
          51,
          48,
          19,
          56,
          25,
          54,
          25,
          37,
          27,
          52,
          36,
          55,
          48,
          25,
          42,
          65,
          22,
          41,
          68,
          61,
          30,
          42,
          42,
          53,
          48,
          35,
          24,
          27,
          42,
          53,
          37,
          27,
          21,
          53,
          24,
          48,
          52,
          61,
          38,
          61,
          61,
          27,
          22,
          52,
          38,
          60,
          26,
          32,
          55,
          53,
          58,
          51,
          41,
          32,
          56,
          52,
          67,
          25,
          61,
          31,
          54,
          46,
          44,
          24,
          45,
          27,
          58,
          49,
          46,
          64,
          53,
          27,
          50,
          54,
          38,
          51,
          22,
          25,
          51,
          25,
          65,
          27,
          50,
          25,
          54,
          58,
          45,
          55,
          54,
          60,
          25,
          41,
          49,
          46,
          52,
          44,
          57,
          53,
          53,
          25,
          51,
          30,
          57,
          24,
          52,
          45,
          39,
          51,
          41,
          28,
          37,
          52,
          56,
          56,
          41,
          39,
          65,
          48,
          25,
          61,
          22,
          40,
          39,
          40,
          21,
          56,
          56,
          48,
          38,
          58,
          24,
          56,
          53,
          58,
          53,
          51,
          49,
          44,
          51,
          21,
          55,
          44,
          19,
          26,
          54,
          23,
          52,
          55,
          59,
          56,
          55,
          25,
          46,
          24,
          23,
          52,
          45,
          18
         ],
         "xaxis": "x",
         "yaxis": "y"
        }
       ],
       "layout": {
        "barmode": "overlay",
        "legend": {
         "title": {
          "text": "Gender"
         },
         "tracegroupgap": 0
        },
        "margin": {
         "t": 60
        },
        "template": {
         "data": {
          "bar": [
           {
            "error_x": {
             "color": "#2a3f5f"
            },
            "error_y": {
             "color": "#2a3f5f"
            },
            "marker": {
             "line": {
              "color": "#E5ECF6",
              "width": 0.5
             },
             "pattern": {
              "fillmode": "overlay",
              "size": 10,
              "solidity": 0.2
             }
            },
            "type": "bar"
           }
          ],
          "barpolar": [
           {
            "marker": {
             "line": {
              "color": "#E5ECF6",
              "width": 0.5
             },
             "pattern": {
              "fillmode": "overlay",
              "size": 10,
              "solidity": 0.2
             }
            },
            "type": "barpolar"
           }
          ],
          "carpet": [
           {
            "aaxis": {
             "endlinecolor": "#2a3f5f",
             "gridcolor": "white",
             "linecolor": "white",
             "minorgridcolor": "white",
             "startlinecolor": "#2a3f5f"
            },
            "baxis": {
             "endlinecolor": "#2a3f5f",
             "gridcolor": "white",
             "linecolor": "white",
             "minorgridcolor": "white",
             "startlinecolor": "#2a3f5f"
            },
            "type": "carpet"
           }
          ],
          "choropleth": [
           {
            "colorbar": {
             "outlinewidth": 0,
             "ticks": ""
            },
            "type": "choropleth"
           }
          ],
          "contour": [
           {
            "colorbar": {
             "outlinewidth": 0,
             "ticks": ""
            },
            "colorscale": [
             [
              0,
              "#0d0887"
             ],
             [
              0.1111111111111111,
              "#46039f"
             ],
             [
              0.2222222222222222,
              "#7201a8"
             ],
             [
              0.3333333333333333,
              "#9c179e"
             ],
             [
              0.4444444444444444,
              "#bd3786"
             ],
             [
              0.5555555555555556,
              "#d8576b"
             ],
             [
              0.6666666666666666,
              "#ed7953"
             ],
             [
              0.7777777777777778,
              "#fb9f3a"
             ],
             [
              0.8888888888888888,
              "#fdca26"
             ],
             [
              1,
              "#f0f921"
             ]
            ],
            "type": "contour"
           }
          ],
          "contourcarpet": [
           {
            "colorbar": {
             "outlinewidth": 0,
             "ticks": ""
            },
            "type": "contourcarpet"
           }
          ],
          "heatmap": [
           {
            "colorbar": {
             "outlinewidth": 0,
             "ticks": ""
            },
            "colorscale": [
             [
              0,
              "#0d0887"
             ],
             [
              0.1111111111111111,
              "#46039f"
             ],
             [
              0.2222222222222222,
              "#7201a8"
             ],
             [
              0.3333333333333333,
              "#9c179e"
             ],
             [
              0.4444444444444444,
              "#bd3786"
             ],
             [
              0.5555555555555556,
              "#d8576b"
             ],
             [
              0.6666666666666666,
              "#ed7953"
             ],
             [
              0.7777777777777778,
              "#fb9f3a"
             ],
             [
              0.8888888888888888,
              "#fdca26"
             ],
             [
              1,
              "#f0f921"
             ]
            ],
            "type": "heatmap"
           }
          ],
          "heatmapgl": [
           {
            "colorbar": {
             "outlinewidth": 0,
             "ticks": ""
            },
            "colorscale": [
             [
              0,
              "#0d0887"
             ],
             [
              0.1111111111111111,
              "#46039f"
             ],
             [
              0.2222222222222222,
              "#7201a8"
             ],
             [
              0.3333333333333333,
              "#9c179e"
             ],
             [
              0.4444444444444444,
              "#bd3786"
             ],
             [
              0.5555555555555556,
              "#d8576b"
             ],
             [
              0.6666666666666666,
              "#ed7953"
             ],
             [
              0.7777777777777778,
              "#fb9f3a"
             ],
             [
              0.8888888888888888,
              "#fdca26"
             ],
             [
              1,
              "#f0f921"
             ]
            ],
            "type": "heatmapgl"
           }
          ],
          "histogram": [
           {
            "marker": {
             "pattern": {
              "fillmode": "overlay",
              "size": 10,
              "solidity": 0.2
             }
            },
            "type": "histogram"
           }
          ],
          "histogram2d": [
           {
            "colorbar": {
             "outlinewidth": 0,
             "ticks": ""
            },
            "colorscale": [
             [
              0,
              "#0d0887"
             ],
             [
              0.1111111111111111,
              "#46039f"
             ],
             [
              0.2222222222222222,
              "#7201a8"
             ],
             [
              0.3333333333333333,
              "#9c179e"
             ],
             [
              0.4444444444444444,
              "#bd3786"
             ],
             [
              0.5555555555555556,
              "#d8576b"
             ],
             [
              0.6666666666666666,
              "#ed7953"
             ],
             [
              0.7777777777777778,
              "#fb9f3a"
             ],
             [
              0.8888888888888888,
              "#fdca26"
             ],
             [
              1,
              "#f0f921"
             ]
            ],
            "type": "histogram2d"
           }
          ],
          "histogram2dcontour": [
           {
            "colorbar": {
             "outlinewidth": 0,
             "ticks": ""
            },
            "colorscale": [
             [
              0,
              "#0d0887"
             ],
             [
              0.1111111111111111,
              "#46039f"
             ],
             [
              0.2222222222222222,
              "#7201a8"
             ],
             [
              0.3333333333333333,
              "#9c179e"
             ],
             [
              0.4444444444444444,
              "#bd3786"
             ],
             [
              0.5555555555555556,
              "#d8576b"
             ],
             [
              0.6666666666666666,
              "#ed7953"
             ],
             [
              0.7777777777777778,
              "#fb9f3a"
             ],
             [
              0.8888888888888888,
              "#fdca26"
             ],
             [
              1,
              "#f0f921"
             ]
            ],
            "type": "histogram2dcontour"
           }
          ],
          "mesh3d": [
           {
            "colorbar": {
             "outlinewidth": 0,
             "ticks": ""
            },
            "type": "mesh3d"
           }
          ],
          "parcoords": [
           {
            "line": {
             "colorbar": {
              "outlinewidth": 0,
              "ticks": ""
             }
            },
            "type": "parcoords"
           }
          ],
          "pie": [
           {
            "automargin": true,
            "type": "pie"
           }
          ],
          "scatter": [
           {
            "fillpattern": {
             "fillmode": "overlay",
             "size": 10,
             "solidity": 0.2
            },
            "type": "scatter"
           }
          ],
          "scatter3d": [
           {
            "line": {
             "colorbar": {
              "outlinewidth": 0,
              "ticks": ""
             }
            },
            "marker": {
             "colorbar": {
              "outlinewidth": 0,
              "ticks": ""
             }
            },
            "type": "scatter3d"
           }
          ],
          "scattercarpet": [
           {
            "marker": {
             "colorbar": {
              "outlinewidth": 0,
              "ticks": ""
             }
            },
            "type": "scattercarpet"
           }
          ],
          "scattergeo": [
           {
            "marker": {
             "colorbar": {
              "outlinewidth": 0,
              "ticks": ""
             }
            },
            "type": "scattergeo"
           }
          ],
          "scattergl": [
           {
            "marker": {
             "colorbar": {
              "outlinewidth": 0,
              "ticks": ""
             }
            },
            "type": "scattergl"
           }
          ],
          "scattermapbox": [
           {
            "marker": {
             "colorbar": {
              "outlinewidth": 0,
              "ticks": ""
             }
            },
            "type": "scattermapbox"
           }
          ],
          "scatterpolar": [
           {
            "marker": {
             "colorbar": {
              "outlinewidth": 0,
              "ticks": ""
             }
            },
            "type": "scatterpolar"
           }
          ],
          "scatterpolargl": [
           {
            "marker": {
             "colorbar": {
              "outlinewidth": 0,
              "ticks": ""
             }
            },
            "type": "scatterpolargl"
           }
          ],
          "scatterternary": [
           {
            "marker": {
             "colorbar": {
              "outlinewidth": 0,
              "ticks": ""
             }
            },
            "type": "scatterternary"
           }
          ],
          "surface": [
           {
            "colorbar": {
             "outlinewidth": 0,
             "ticks": ""
            },
            "colorscale": [
             [
              0,
              "#0d0887"
             ],
             [
              0.1111111111111111,
              "#46039f"
             ],
             [
              0.2222222222222222,
              "#7201a8"
             ],
             [
              0.3333333333333333,
              "#9c179e"
             ],
             [
              0.4444444444444444,
              "#bd3786"
             ],
             [
              0.5555555555555556,
              "#d8576b"
             ],
             [
              0.6666666666666666,
              "#ed7953"
             ],
             [
              0.7777777777777778,
              "#fb9f3a"
             ],
             [
              0.8888888888888888,
              "#fdca26"
             ],
             [
              1,
              "#f0f921"
             ]
            ],
            "type": "surface"
           }
          ],
          "table": [
           {
            "cells": {
             "fill": {
              "color": "#EBF0F8"
             },
             "line": {
              "color": "white"
             }
            },
            "header": {
             "fill": {
              "color": "#C8D4E3"
             },
             "line": {
              "color": "white"
             }
            },
            "type": "table"
           }
          ]
         },
         "layout": {
          "annotationdefaults": {
           "arrowcolor": "#2a3f5f",
           "arrowhead": 0,
           "arrowwidth": 1
          },
          "autotypenumbers": "strict",
          "coloraxis": {
           "colorbar": {
            "outlinewidth": 0,
            "ticks": ""
           }
          },
          "colorscale": {
           "diverging": [
            [
             0,
             "#8e0152"
            ],
            [
             0.1,
             "#c51b7d"
            ],
            [
             0.2,
             "#de77ae"
            ],
            [
             0.3,
             "#f1b6da"
            ],
            [
             0.4,
             "#fde0ef"
            ],
            [
             0.5,
             "#f7f7f7"
            ],
            [
             0.6,
             "#e6f5d0"
            ],
            [
             0.7,
             "#b8e186"
            ],
            [
             0.8,
             "#7fbc41"
            ],
            [
             0.9,
             "#4d9221"
            ],
            [
             1,
             "#276419"
            ]
           ],
           "sequential": [
            [
             0,
             "#0d0887"
            ],
            [
             0.1111111111111111,
             "#46039f"
            ],
            [
             0.2222222222222222,
             "#7201a8"
            ],
            [
             0.3333333333333333,
             "#9c179e"
            ],
            [
             0.4444444444444444,
             "#bd3786"
            ],
            [
             0.5555555555555556,
             "#d8576b"
            ],
            [
             0.6666666666666666,
             "#ed7953"
            ],
            [
             0.7777777777777778,
             "#fb9f3a"
            ],
            [
             0.8888888888888888,
             "#fdca26"
            ],
            [
             1,
             "#f0f921"
            ]
           ],
           "sequentialminus": [
            [
             0,
             "#0d0887"
            ],
            [
             0.1111111111111111,
             "#46039f"
            ],
            [
             0.2222222222222222,
             "#7201a8"
            ],
            [
             0.3333333333333333,
             "#9c179e"
            ],
            [
             0.4444444444444444,
             "#bd3786"
            ],
            [
             0.5555555555555556,
             "#d8576b"
            ],
            [
             0.6666666666666666,
             "#ed7953"
            ],
            [
             0.7777777777777778,
             "#fb9f3a"
            ],
            [
             0.8888888888888888,
             "#fdca26"
            ],
            [
             1,
             "#f0f921"
            ]
           ]
          },
          "colorway": [
           "#636efa",
           "#EF553B",
           "#00cc96",
           "#ab63fa",
           "#FFA15A",
           "#19d3f3",
           "#FF6692",
           "#B6E880",
           "#FF97FF",
           "#FECB52"
          ],
          "font": {
           "color": "#2a3f5f"
          },
          "geo": {
           "bgcolor": "white",
           "lakecolor": "white",
           "landcolor": "#E5ECF6",
           "showlakes": true,
           "showland": true,
           "subunitcolor": "white"
          },
          "hoverlabel": {
           "align": "left"
          },
          "hovermode": "closest",
          "mapbox": {
           "style": "light"
          },
          "paper_bgcolor": "white",
          "plot_bgcolor": "#E5ECF6",
          "polar": {
           "angularaxis": {
            "gridcolor": "white",
            "linecolor": "white",
            "ticks": ""
           },
           "bgcolor": "#E5ECF6",
           "radialaxis": {
            "gridcolor": "white",
            "linecolor": "white",
            "ticks": ""
           }
          },
          "scene": {
           "xaxis": {
            "backgroundcolor": "#E5ECF6",
            "gridcolor": "white",
            "gridwidth": 2,
            "linecolor": "white",
            "showbackground": true,
            "ticks": "",
            "zerolinecolor": "white"
           },
           "yaxis": {
            "backgroundcolor": "#E5ECF6",
            "gridcolor": "white",
            "gridwidth": 2,
            "linecolor": "white",
            "showbackground": true,
            "ticks": "",
            "zerolinecolor": "white"
           },
           "zaxis": {
            "backgroundcolor": "#E5ECF6",
            "gridcolor": "white",
            "gridwidth": 2,
            "linecolor": "white",
            "showbackground": true,
            "ticks": "",
            "zerolinecolor": "white"
           }
          },
          "shapedefaults": {
           "line": {
            "color": "#2a3f5f"
           }
          },
          "ternary": {
           "aaxis": {
            "gridcolor": "white",
            "linecolor": "white",
            "ticks": ""
           },
           "baxis": {
            "gridcolor": "white",
            "linecolor": "white",
            "ticks": ""
           },
           "bgcolor": "#E5ECF6",
           "caxis": {
            "gridcolor": "white",
            "linecolor": "white",
            "ticks": ""
           }
          },
          "title": {
           "x": 0.05
          },
          "xaxis": {
           "automargin": true,
           "gridcolor": "white",
           "linecolor": "white",
           "ticks": "",
           "title": {
            "standoff": 15
           },
           "zerolinecolor": "white",
           "zerolinewidth": 2
          },
          "yaxis": {
           "automargin": true,
           "gridcolor": "white",
           "linecolor": "white",
           "ticks": "",
           "title": {
            "standoff": 15
           },
           "zerolinecolor": "white",
           "zerolinewidth": 2
          }
         }
        },
        "title": {
         "text": "Male and Females age distribution"
        },
        "xaxis": {
         "anchor": "y",
         "domain": [
          0,
          1
         ],
         "title": {
          "text": "Age (years)"
         }
        },
        "yaxis": {
         "anchor": "x",
         "domain": [
          0,
          1
         ],
         "title": {
          "text": "count"
         }
        }
       }
      }
     },
     "metadata": {},
     "output_type": "display_data"
    }
   ],
   "source": [
    "fig = px.histogram(df, x='Age', color='Gender', barmode='overlay', labels={'Age':'Age (years)'})\n",
    "fig.update_layout(title='Male and Females age distribution')\n",
    "fig.show()"
   ]
  },
  {
   "attachments": {},
   "cell_type": "markdown",
   "metadata": {},
   "source": [
    "Below an extra visual to display the age distribution and the gender distribution"
   ]
  },
  {
   "cell_type": "code",
   "execution_count": 60,
   "metadata": {},
   "outputs": [
    {
     "data": {
      "application/vnd.plotly.v1+json": {
       "config": {
        "plotlyServerURL": "https://plot.ly"
       },
       "data": [
        {
         "hovertemplate": "Gender=Female<br>Age=%{marker.size}<br>index=%{y}<extra></extra>",
         "legendgroup": "Female",
         "marker": {
          "color": "#636efa",
          "size": [
           65,
           40,
           40,
           36,
           27,
           41,
           11,
           30,
           36,
           32,
           21,
           40,
           43,
           29,
           63,
           36,
           47,
           37,
           46,
           61,
           20,
           28,
           58,
           29,
           31,
           34,
           40,
           27,
           21,
           37,
           29,
           9,
           16,
           34,
           34,
           32,
           35,
           30,
           32,
           47,
           40,
           24,
           61,
           32,
           38,
           55,
           44,
           38,
           40,
           39,
           15,
           37,
           33,
           29,
           36,
           32,
           48,
           52,
           37,
           28,
           65,
           31,
           40,
           26,
           33,
           50,
           23,
           45,
           14,
           49,
           48,
           40,
           48,
           55,
           33,
           24,
           48,
           62,
           44,
           39,
           29,
           49,
           24,
           48,
           36,
           37,
           52,
           27,
           18,
           44,
           61,
           30,
           32,
           64,
           59,
           31,
           32,
           31,
           41,
           32,
           10,
           36,
           29,
           22,
           40,
           56,
           13,
           37,
           41,
           63,
           29,
           29,
           30,
           36,
           18,
           28,
           37,
           43,
           37,
           36,
           29,
           29,
           23,
           46,
           47,
           65,
           35,
           27,
           48,
           37,
           31,
           23,
           48,
           30,
           44,
           50,
           27,
           37,
           48,
           42,
           48,
           25,
           38,
           17,
           40,
           34,
           26,
           46,
           38,
           24,
           29,
           27,
           35,
           47,
           25,
           41,
           56,
           28,
           33,
           22,
           40,
           30,
           44,
           52,
           29,
           44,
           42,
           26,
           12,
           27,
           39,
           44,
           50,
           65,
           41,
           52,
           24,
           19,
           29,
           27,
           65,
           56,
           27,
           30,
           22,
           40,
           32,
           29,
           60,
           21,
           35,
           32,
           62,
           48,
           22,
           36,
           37,
           37,
           55,
           57,
           59,
           30,
           32,
           37,
           35,
           61,
           32,
           27,
           28,
           49,
           41,
           41,
           26,
           38,
           37,
           29,
           28,
           40,
           28,
           27,
           65,
           30,
           27,
           40
          ],
          "sizemode": "area",
          "sizeref": 0.1725,
          "symbol": "circle"
         },
         "mode": "markers",
         "name": "Female",
         "orientation": "h",
         "showlegend": true,
         "type": "scatter",
         "x": [
          65,
          40,
          40,
          36,
          27,
          41,
          11,
          30,
          36,
          32,
          21,
          40,
          43,
          29,
          63,
          36,
          47,
          37,
          46,
          61,
          20,
          28,
          58,
          29,
          31,
          34,
          40,
          27,
          21,
          37,
          29,
          9,
          16,
          34,
          34,
          32,
          35,
          30,
          32,
          47,
          40,
          24,
          61,
          32,
          38,
          55,
          44,
          38,
          40,
          39,
          15,
          37,
          33,
          29,
          36,
          32,
          48,
          52,
          37,
          28,
          65,
          31,
          40,
          26,
          33,
          50,
          23,
          45,
          14,
          49,
          48,
          40,
          48,
          55,
          33,
          24,
          48,
          62,
          44,
          39,
          29,
          49,
          24,
          48,
          36,
          37,
          52,
          27,
          18,
          44,
          61,
          30,
          32,
          64,
          59,
          31,
          32,
          31,
          41,
          32,
          10,
          36,
          29,
          22,
          40,
          56,
          13,
          37,
          41,
          63,
          29,
          29,
          30,
          36,
          18,
          28,
          37,
          43,
          37,
          36,
          29,
          29,
          23,
          46,
          47,
          65,
          35,
          27,
          48,
          37,
          31,
          23,
          48,
          30,
          44,
          50,
          27,
          37,
          48,
          42,
          48,
          25,
          38,
          17,
          40,
          34,
          26,
          46,
          38,
          24,
          29,
          27,
          35,
          47,
          25,
          41,
          56,
          28,
          33,
          22,
          40,
          30,
          44,
          52,
          29,
          44,
          42,
          26,
          12,
          27,
          39,
          44,
          50,
          65,
          41,
          52,
          24,
          19,
          29,
          27,
          65,
          56,
          27,
          30,
          22,
          40,
          32,
          29,
          60,
          21,
          35,
          32,
          62,
          48,
          22,
          36,
          37,
          37,
          55,
          57,
          59,
          30,
          32,
          37,
          35,
          61,
          32,
          27,
          28,
          49,
          41,
          41,
          26,
          38,
          37,
          29,
          28,
          40,
          28,
          27,
          65,
          30,
          27,
          40
         ],
         "xaxis": "x",
         "y": [
          0,
          2,
          3,
          5,
          6,
          8,
          9,
          12,
          14,
          15,
          16,
          17,
          18,
          22,
          23,
          26,
          29,
          33,
          34,
          35,
          37,
          38,
          39,
          42,
          43,
          44,
          45,
          47,
          48,
          49,
          50,
          52,
          53,
          58,
          59,
          60,
          63,
          70,
          71,
          76,
          83,
          89,
          95,
          98,
          100,
          102,
          103,
          104,
          105,
          108,
          121,
          127,
          128,
          130,
          131,
          132,
          135,
          139,
          140,
          141,
          144,
          145,
          147,
          148,
          149,
          151,
          156,
          157,
          158,
          163,
          165,
          166,
          167,
          169,
          171,
          173,
          174,
          176,
          177,
          178,
          181,
          182,
          183,
          184,
          185,
          186,
          189,
          191,
          193,
          194,
          195,
          196,
          198,
          201,
          202,
          204,
          205,
          206,
          207,
          208,
          211,
          212,
          213,
          215,
          217,
          218,
          219,
          220,
          221,
          223,
          226,
          227,
          228,
          232,
          234,
          235,
          238,
          242,
          244,
          246,
          247,
          250,
          252,
          253,
          254,
          255,
          256,
          257,
          259,
          261,
          262,
          263,
          264,
          267,
          270,
          271,
          275,
          276,
          277,
          278,
          279,
          280,
          283,
          284,
          287,
          288,
          289,
          291,
          292,
          293,
          295,
          297,
          298,
          300,
          301,
          307,
          308,
          309,
          310,
          311,
          315,
          322,
          324,
          325,
          326,
          327,
          328,
          329,
          332,
          333,
          334,
          335,
          336,
          341,
          342,
          343,
          349,
          351,
          354,
          357,
          359,
          360,
          361,
          363,
          365,
          370,
          371,
          372,
          375,
          377,
          380,
          385,
          386,
          387,
          388,
          389,
          391,
          392,
          394,
          396,
          397,
          398,
          399,
          400,
          407,
          408,
          409,
          412,
          414,
          416,
          422,
          423,
          425,
          430,
          431,
          433,
          434,
          435,
          440,
          442,
          443,
          445,
          447,
          449
         ],
         "yaxis": "y"
        },
        {
         "hovertemplate": "Gender=Male<br>Age=%{marker.size}<br>index=%{y}<extra></extra>",
         "legendgroup": "Male",
         "marker": {
          "color": "#EF553B",
          "size": [
           69,
           57,
           53,
           50,
           55,
           28,
           52,
           24,
           32,
           24,
           52,
           35,
           23,
           24,
           18,
           26,
           38,
           46,
           52,
           55,
           65,
           18,
           37,
           54,
           43,
           56,
           29,
           30,
           21,
           25,
           52,
           46,
           40,
           55,
           58,
           47,
           44,
           46,
           43,
           54,
           55,
           29,
           66,
           50,
           53,
           50,
           50,
           48,
           45,
           57,
           39,
           43,
           51,
           41,
           53,
           65,
           53,
           53,
           24,
           47,
           51,
           25,
           23,
           54,
           32,
           22,
           50,
           30,
           52,
           52,
           51,
           48,
           19,
           56,
           25,
           54,
           25,
           37,
           27,
           52,
           36,
           55,
           48,
           25,
           42,
           65,
           22,
           41,
           68,
           61,
           30,
           42,
           42,
           53,
           48,
           35,
           24,
           27,
           42,
           53,
           37,
           27,
           21,
           53,
           24,
           48,
           52,
           61,
           38,
           61,
           61,
           27,
           22,
           52,
           38,
           60,
           26,
           32,
           55,
           53,
           58,
           51,
           41,
           32,
           56,
           52,
           67,
           25,
           61,
           31,
           54,
           46,
           44,
           24,
           45,
           27,
           58,
           49,
           46,
           64,
           53,
           27,
           50,
           54,
           38,
           51,
           22,
           25,
           51,
           25,
           65,
           27,
           50,
           25,
           54,
           58,
           45,
           55,
           54,
           60,
           25,
           41,
           49,
           46,
           52,
           44,
           57,
           53,
           53,
           25,
           51,
           30,
           57,
           24,
           52,
           45,
           39,
           51,
           41,
           28,
           37,
           52,
           56,
           56,
           41,
           39,
           65,
           48,
           25,
           61,
           22,
           40,
           39,
           40,
           21,
           56,
           56,
           48,
           38,
           58,
           24,
           56,
           53,
           58,
           53,
           51,
           49,
           44,
           51,
           21,
           55,
           44,
           19,
           26,
           54,
           23,
           52,
           55,
           59,
           56,
           55,
           25,
           46,
           24,
           23,
           52,
           45,
           18
          ],
          "sizemode": "area",
          "sizeref": 0.1725,
          "symbol": "circle"
         },
         "mode": "markers",
         "name": "Male",
         "orientation": "h",
         "showlegend": true,
         "type": "scatter",
         "x": [
          69,
          57,
          53,
          50,
          55,
          28,
          52,
          24,
          32,
          24,
          52,
          35,
          23,
          24,
          18,
          26,
          38,
          46,
          52,
          55,
          65,
          18,
          37,
          54,
          43,
          56,
          29,
          30,
          21,
          25,
          52,
          46,
          40,
          55,
          58,
          47,
          44,
          46,
          43,
          54,
          55,
          29,
          66,
          50,
          53,
          50,
          50,
          48,
          45,
          57,
          39,
          43,
          51,
          41,
          53,
          65,
          53,
          53,
          24,
          47,
          51,
          25,
          23,
          54,
          32,
          22,
          50,
          30,
          52,
          52,
          51,
          48,
          19,
          56,
          25,
          54,
          25,
          37,
          27,
          52,
          36,
          55,
          48,
          25,
          42,
          65,
          22,
          41,
          68,
          61,
          30,
          42,
          42,
          53,
          48,
          35,
          24,
          27,
          42,
          53,
          37,
          27,
          21,
          53,
          24,
          48,
          52,
          61,
          38,
          61,
          61,
          27,
          22,
          52,
          38,
          60,
          26,
          32,
          55,
          53,
          58,
          51,
          41,
          32,
          56,
          52,
          67,
          25,
          61,
          31,
          54,
          46,
          44,
          24,
          45,
          27,
          58,
          49,
          46,
          64,
          53,
          27,
          50,
          54,
          38,
          51,
          22,
          25,
          51,
          25,
          65,
          27,
          50,
          25,
          54,
          58,
          45,
          55,
          54,
          60,
          25,
          41,
          49,
          46,
          52,
          44,
          57,
          53,
          53,
          25,
          51,
          30,
          57,
          24,
          52,
          45,
          39,
          51,
          41,
          28,
          37,
          52,
          56,
          56,
          41,
          39,
          65,
          48,
          25,
          61,
          22,
          40,
          39,
          40,
          21,
          56,
          56,
          48,
          38,
          58,
          24,
          56,
          53,
          58,
          53,
          51,
          49,
          44,
          51,
          21,
          55,
          44,
          19,
          26,
          54,
          23,
          52,
          55,
          59,
          56,
          55,
          25,
          46,
          24,
          23,
          52,
          45,
          18
         ],
         "xaxis": "x",
         "y": [
          1,
          4,
          7,
          10,
          11,
          13,
          19,
          20,
          21,
          24,
          25,
          27,
          28,
          30,
          31,
          32,
          36,
          40,
          41,
          46,
          51,
          54,
          55,
          56,
          57,
          61,
          62,
          64,
          65,
          66,
          67,
          68,
          69,
          72,
          73,
          74,
          75,
          77,
          78,
          79,
          80,
          81,
          82,
          84,
          85,
          86,
          87,
          88,
          90,
          91,
          92,
          93,
          94,
          96,
          97,
          99,
          101,
          106,
          107,
          109,
          110,
          111,
          112,
          113,
          114,
          115,
          116,
          117,
          118,
          119,
          120,
          122,
          123,
          124,
          125,
          126,
          129,
          133,
          134,
          136,
          137,
          138,
          142,
          143,
          146,
          150,
          152,
          153,
          154,
          155,
          159,
          160,
          161,
          162,
          164,
          168,
          170,
          172,
          175,
          179,
          180,
          187,
          188,
          190,
          192,
          197,
          199,
          200,
          203,
          209,
          210,
          214,
          216,
          222,
          224,
          225,
          229,
          230,
          231,
          233,
          236,
          237,
          239,
          240,
          241,
          243,
          245,
          248,
          249,
          251,
          258,
          260,
          265,
          266,
          268,
          269,
          272,
          273,
          274,
          281,
          282,
          285,
          286,
          290,
          294,
          296,
          299,
          302,
          303,
          304,
          305,
          306,
          312,
          313,
          314,
          316,
          317,
          318,
          319,
          320,
          321,
          323,
          330,
          331,
          337,
          338,
          339,
          340,
          344,
          345,
          346,
          347,
          348,
          350,
          352,
          353,
          355,
          356,
          358,
          362,
          364,
          366,
          367,
          368,
          369,
          373,
          374,
          376,
          378,
          379,
          381,
          382,
          383,
          384,
          390,
          393,
          395,
          401,
          402,
          403,
          404,
          405,
          406,
          410,
          411,
          413,
          415,
          417,
          418,
          419,
          420,
          421,
          424,
          426,
          427,
          428,
          429,
          432,
          436,
          437,
          438,
          439,
          441,
          444,
          446,
          448,
          450,
          451
         ],
         "yaxis": "y"
        }
       ],
       "layout": {
        "legend": {
         "itemsizing": "constant",
         "title": {
          "text": "Gender"
         },
         "tracegroupgap": 0
        },
        "margin": {
         "t": 60
        },
        "template": {
         "data": {
          "bar": [
           {
            "error_x": {
             "color": "#2a3f5f"
            },
            "error_y": {
             "color": "#2a3f5f"
            },
            "marker": {
             "line": {
              "color": "#E5ECF6",
              "width": 0.5
             },
             "pattern": {
              "fillmode": "overlay",
              "size": 10,
              "solidity": 0.2
             }
            },
            "type": "bar"
           }
          ],
          "barpolar": [
           {
            "marker": {
             "line": {
              "color": "#E5ECF6",
              "width": 0.5
             },
             "pattern": {
              "fillmode": "overlay",
              "size": 10,
              "solidity": 0.2
             }
            },
            "type": "barpolar"
           }
          ],
          "carpet": [
           {
            "aaxis": {
             "endlinecolor": "#2a3f5f",
             "gridcolor": "white",
             "linecolor": "white",
             "minorgridcolor": "white",
             "startlinecolor": "#2a3f5f"
            },
            "baxis": {
             "endlinecolor": "#2a3f5f",
             "gridcolor": "white",
             "linecolor": "white",
             "minorgridcolor": "white",
             "startlinecolor": "#2a3f5f"
            },
            "type": "carpet"
           }
          ],
          "choropleth": [
           {
            "colorbar": {
             "outlinewidth": 0,
             "ticks": ""
            },
            "type": "choropleth"
           }
          ],
          "contour": [
           {
            "colorbar": {
             "outlinewidth": 0,
             "ticks": ""
            },
            "colorscale": [
             [
              0,
              "#0d0887"
             ],
             [
              0.1111111111111111,
              "#46039f"
             ],
             [
              0.2222222222222222,
              "#7201a8"
             ],
             [
              0.3333333333333333,
              "#9c179e"
             ],
             [
              0.4444444444444444,
              "#bd3786"
             ],
             [
              0.5555555555555556,
              "#d8576b"
             ],
             [
              0.6666666666666666,
              "#ed7953"
             ],
             [
              0.7777777777777778,
              "#fb9f3a"
             ],
             [
              0.8888888888888888,
              "#fdca26"
             ],
             [
              1,
              "#f0f921"
             ]
            ],
            "type": "contour"
           }
          ],
          "contourcarpet": [
           {
            "colorbar": {
             "outlinewidth": 0,
             "ticks": ""
            },
            "type": "contourcarpet"
           }
          ],
          "heatmap": [
           {
            "colorbar": {
             "outlinewidth": 0,
             "ticks": ""
            },
            "colorscale": [
             [
              0,
              "#0d0887"
             ],
             [
              0.1111111111111111,
              "#46039f"
             ],
             [
              0.2222222222222222,
              "#7201a8"
             ],
             [
              0.3333333333333333,
              "#9c179e"
             ],
             [
              0.4444444444444444,
              "#bd3786"
             ],
             [
              0.5555555555555556,
              "#d8576b"
             ],
             [
              0.6666666666666666,
              "#ed7953"
             ],
             [
              0.7777777777777778,
              "#fb9f3a"
             ],
             [
              0.8888888888888888,
              "#fdca26"
             ],
             [
              1,
              "#f0f921"
             ]
            ],
            "type": "heatmap"
           }
          ],
          "heatmapgl": [
           {
            "colorbar": {
             "outlinewidth": 0,
             "ticks": ""
            },
            "colorscale": [
             [
              0,
              "#0d0887"
             ],
             [
              0.1111111111111111,
              "#46039f"
             ],
             [
              0.2222222222222222,
              "#7201a8"
             ],
             [
              0.3333333333333333,
              "#9c179e"
             ],
             [
              0.4444444444444444,
              "#bd3786"
             ],
             [
              0.5555555555555556,
              "#d8576b"
             ],
             [
              0.6666666666666666,
              "#ed7953"
             ],
             [
              0.7777777777777778,
              "#fb9f3a"
             ],
             [
              0.8888888888888888,
              "#fdca26"
             ],
             [
              1,
              "#f0f921"
             ]
            ],
            "type": "heatmapgl"
           }
          ],
          "histogram": [
           {
            "marker": {
             "pattern": {
              "fillmode": "overlay",
              "size": 10,
              "solidity": 0.2
             }
            },
            "type": "histogram"
           }
          ],
          "histogram2d": [
           {
            "colorbar": {
             "outlinewidth": 0,
             "ticks": ""
            },
            "colorscale": [
             [
              0,
              "#0d0887"
             ],
             [
              0.1111111111111111,
              "#46039f"
             ],
             [
              0.2222222222222222,
              "#7201a8"
             ],
             [
              0.3333333333333333,
              "#9c179e"
             ],
             [
              0.4444444444444444,
              "#bd3786"
             ],
             [
              0.5555555555555556,
              "#d8576b"
             ],
             [
              0.6666666666666666,
              "#ed7953"
             ],
             [
              0.7777777777777778,
              "#fb9f3a"
             ],
             [
              0.8888888888888888,
              "#fdca26"
             ],
             [
              1,
              "#f0f921"
             ]
            ],
            "type": "histogram2d"
           }
          ],
          "histogram2dcontour": [
           {
            "colorbar": {
             "outlinewidth": 0,
             "ticks": ""
            },
            "colorscale": [
             [
              0,
              "#0d0887"
             ],
             [
              0.1111111111111111,
              "#46039f"
             ],
             [
              0.2222222222222222,
              "#7201a8"
             ],
             [
              0.3333333333333333,
              "#9c179e"
             ],
             [
              0.4444444444444444,
              "#bd3786"
             ],
             [
              0.5555555555555556,
              "#d8576b"
             ],
             [
              0.6666666666666666,
              "#ed7953"
             ],
             [
              0.7777777777777778,
              "#fb9f3a"
             ],
             [
              0.8888888888888888,
              "#fdca26"
             ],
             [
              1,
              "#f0f921"
             ]
            ],
            "type": "histogram2dcontour"
           }
          ],
          "mesh3d": [
           {
            "colorbar": {
             "outlinewidth": 0,
             "ticks": ""
            },
            "type": "mesh3d"
           }
          ],
          "parcoords": [
           {
            "line": {
             "colorbar": {
              "outlinewidth": 0,
              "ticks": ""
             }
            },
            "type": "parcoords"
           }
          ],
          "pie": [
           {
            "automargin": true,
            "type": "pie"
           }
          ],
          "scatter": [
           {
            "fillpattern": {
             "fillmode": "overlay",
             "size": 10,
             "solidity": 0.2
            },
            "type": "scatter"
           }
          ],
          "scatter3d": [
           {
            "line": {
             "colorbar": {
              "outlinewidth": 0,
              "ticks": ""
             }
            },
            "marker": {
             "colorbar": {
              "outlinewidth": 0,
              "ticks": ""
             }
            },
            "type": "scatter3d"
           }
          ],
          "scattercarpet": [
           {
            "marker": {
             "colorbar": {
              "outlinewidth": 0,
              "ticks": ""
             }
            },
            "type": "scattercarpet"
           }
          ],
          "scattergeo": [
           {
            "marker": {
             "colorbar": {
              "outlinewidth": 0,
              "ticks": ""
             }
            },
            "type": "scattergeo"
           }
          ],
          "scattergl": [
           {
            "marker": {
             "colorbar": {
              "outlinewidth": 0,
              "ticks": ""
             }
            },
            "type": "scattergl"
           }
          ],
          "scattermapbox": [
           {
            "marker": {
             "colorbar": {
              "outlinewidth": 0,
              "ticks": ""
             }
            },
            "type": "scattermapbox"
           }
          ],
          "scatterpolar": [
           {
            "marker": {
             "colorbar": {
              "outlinewidth": 0,
              "ticks": ""
             }
            },
            "type": "scatterpolar"
           }
          ],
          "scatterpolargl": [
           {
            "marker": {
             "colorbar": {
              "outlinewidth": 0,
              "ticks": ""
             }
            },
            "type": "scatterpolargl"
           }
          ],
          "scatterternary": [
           {
            "marker": {
             "colorbar": {
              "outlinewidth": 0,
              "ticks": ""
             }
            },
            "type": "scatterternary"
           }
          ],
          "surface": [
           {
            "colorbar": {
             "outlinewidth": 0,
             "ticks": ""
            },
            "colorscale": [
             [
              0,
              "#0d0887"
             ],
             [
              0.1111111111111111,
              "#46039f"
             ],
             [
              0.2222222222222222,
              "#7201a8"
             ],
             [
              0.3333333333333333,
              "#9c179e"
             ],
             [
              0.4444444444444444,
              "#bd3786"
             ],
             [
              0.5555555555555556,
              "#d8576b"
             ],
             [
              0.6666666666666666,
              "#ed7953"
             ],
             [
              0.7777777777777778,
              "#fb9f3a"
             ],
             [
              0.8888888888888888,
              "#fdca26"
             ],
             [
              1,
              "#f0f921"
             ]
            ],
            "type": "surface"
           }
          ],
          "table": [
           {
            "cells": {
             "fill": {
              "color": "#EBF0F8"
             },
             "line": {
              "color": "white"
             }
            },
            "header": {
             "fill": {
              "color": "#C8D4E3"
             },
             "line": {
              "color": "white"
             }
            },
            "type": "table"
           }
          ]
         },
         "layout": {
          "annotationdefaults": {
           "arrowcolor": "#2a3f5f",
           "arrowhead": 0,
           "arrowwidth": 1
          },
          "autotypenumbers": "strict",
          "coloraxis": {
           "colorbar": {
            "outlinewidth": 0,
            "ticks": ""
           }
          },
          "colorscale": {
           "diverging": [
            [
             0,
             "#8e0152"
            ],
            [
             0.1,
             "#c51b7d"
            ],
            [
             0.2,
             "#de77ae"
            ],
            [
             0.3,
             "#f1b6da"
            ],
            [
             0.4,
             "#fde0ef"
            ],
            [
             0.5,
             "#f7f7f7"
            ],
            [
             0.6,
             "#e6f5d0"
            ],
            [
             0.7,
             "#b8e186"
            ],
            [
             0.8,
             "#7fbc41"
            ],
            [
             0.9,
             "#4d9221"
            ],
            [
             1,
             "#276419"
            ]
           ],
           "sequential": [
            [
             0,
             "#0d0887"
            ],
            [
             0.1111111111111111,
             "#46039f"
            ],
            [
             0.2222222222222222,
             "#7201a8"
            ],
            [
             0.3333333333333333,
             "#9c179e"
            ],
            [
             0.4444444444444444,
             "#bd3786"
            ],
            [
             0.5555555555555556,
             "#d8576b"
            ],
            [
             0.6666666666666666,
             "#ed7953"
            ],
            [
             0.7777777777777778,
             "#fb9f3a"
            ],
            [
             0.8888888888888888,
             "#fdca26"
            ],
            [
             1,
             "#f0f921"
            ]
           ],
           "sequentialminus": [
            [
             0,
             "#0d0887"
            ],
            [
             0.1111111111111111,
             "#46039f"
            ],
            [
             0.2222222222222222,
             "#7201a8"
            ],
            [
             0.3333333333333333,
             "#9c179e"
            ],
            [
             0.4444444444444444,
             "#bd3786"
            ],
            [
             0.5555555555555556,
             "#d8576b"
            ],
            [
             0.6666666666666666,
             "#ed7953"
            ],
            [
             0.7777777777777778,
             "#fb9f3a"
            ],
            [
             0.8888888888888888,
             "#fdca26"
            ],
            [
             1,
             "#f0f921"
            ]
           ]
          },
          "colorway": [
           "#636efa",
           "#EF553B",
           "#00cc96",
           "#ab63fa",
           "#FFA15A",
           "#19d3f3",
           "#FF6692",
           "#B6E880",
           "#FF97FF",
           "#FECB52"
          ],
          "font": {
           "color": "#2a3f5f"
          },
          "geo": {
           "bgcolor": "white",
           "lakecolor": "white",
           "landcolor": "#E5ECF6",
           "showlakes": true,
           "showland": true,
           "subunitcolor": "white"
          },
          "hoverlabel": {
           "align": "left"
          },
          "hovermode": "closest",
          "mapbox": {
           "style": "light"
          },
          "paper_bgcolor": "white",
          "plot_bgcolor": "#E5ECF6",
          "polar": {
           "angularaxis": {
            "gridcolor": "white",
            "linecolor": "white",
            "ticks": ""
           },
           "bgcolor": "#E5ECF6",
           "radialaxis": {
            "gridcolor": "white",
            "linecolor": "white",
            "ticks": ""
           }
          },
          "scene": {
           "xaxis": {
            "backgroundcolor": "#E5ECF6",
            "gridcolor": "white",
            "gridwidth": 2,
            "linecolor": "white",
            "showbackground": true,
            "ticks": "",
            "zerolinecolor": "white"
           },
           "yaxis": {
            "backgroundcolor": "#E5ECF6",
            "gridcolor": "white",
            "gridwidth": 2,
            "linecolor": "white",
            "showbackground": true,
            "ticks": "",
            "zerolinecolor": "white"
           },
           "zaxis": {
            "backgroundcolor": "#E5ECF6",
            "gridcolor": "white",
            "gridwidth": 2,
            "linecolor": "white",
            "showbackground": true,
            "ticks": "",
            "zerolinecolor": "white"
           }
          },
          "shapedefaults": {
           "line": {
            "color": "#2a3f5f"
           }
          },
          "ternary": {
           "aaxis": {
            "gridcolor": "white",
            "linecolor": "white",
            "ticks": ""
           },
           "baxis": {
            "gridcolor": "white",
            "linecolor": "white",
            "ticks": ""
           },
           "bgcolor": "#E5ECF6",
           "caxis": {
            "gridcolor": "white",
            "linecolor": "white",
            "ticks": ""
           }
          },
          "title": {
           "x": 0.05
          },
          "xaxis": {
           "automargin": true,
           "gridcolor": "white",
           "linecolor": "white",
           "ticks": "",
           "title": {
            "standoff": 15
           },
           "zerolinecolor": "white",
           "zerolinewidth": 2
          },
          "yaxis": {
           "automargin": true,
           "gridcolor": "white",
           "linecolor": "white",
           "ticks": "",
           "title": {
            "standoff": 15
           },
           "zerolinecolor": "white",
           "zerolinewidth": 2
          }
         }
        },
        "title": {
         "text": "Age distribution"
        },
        "xaxis": {
         "anchor": "y",
         "domain": [
          0,
          1
         ],
         "title": {
          "text": "Age"
         }
        },
        "yaxis": {
         "anchor": "x",
         "domain": [
          0,
          1
         ],
         "title": {
          "text": "index"
         }
        }
       }
      }
     },
     "metadata": {},
     "output_type": "display_data"
    }
   ],
   "source": [
    "fig = px.scatter(df, x='Age', color='Gender', color_continuous_scale='jet', size='Age', hover_data=['Age'])\n",
    "fig.update_layout(title='Age distribution')\n",
    "fig.show()"
   ]
  },
  {
   "attachments": {},
   "cell_type": "markdown",
   "metadata": {},
   "source": [
    "Below is a histogram that displays the smoking status of the paricipants sorted on age"
   ]
  },
  {
   "cell_type": "code",
   "execution_count": 61,
   "metadata": {},
   "outputs": [
    {
     "data": {
      "application/vnd.plotly.v1+json": {
       "config": {
        "plotlyServerURL": "https://plot.ly"
       },
       "data": [
        {
         "alignmentgroup": "True",
         "bingroup": "x",
         "hovertemplate": "Smoking_status=Yes<br>Age (years)=%{x}<br>count=%{y}<extra></extra>",
         "legendgroup": "Yes",
         "marker": {
          "color": "#636efa",
          "opacity": 0.5,
          "pattern": {
           "shape": ""
          }
         },
         "name": "Yes",
         "offsetgroup": "Yes",
         "orientation": "v",
         "showlegend": true,
         "type": "histogram",
         "x": [
          65,
          69,
          40,
          27,
          53,
          50,
          36,
          21,
          40,
          52,
          35,
          24,
          26,
          37,
          38,
          28,
          52,
          29,
          27,
          43,
          40,
          30,
          55,
          58,
          44,
          46,
          54,
          55,
          66,
          48,
          45,
          39,
          61,
          24,
          47,
          51,
          54,
          32,
          22,
          50,
          30,
          19,
          56,
          54,
          29,
          36,
          27,
          52,
          36,
          37,
          28,
          65,
          31,
          42,
          65,
          68,
          30,
          42,
          49,
          48,
          27,
          39,
          37,
          29,
          21,
          27,
          30,
          48,
          52,
          59,
          38,
          41,
          61,
          29,
          40,
          41,
          55,
          53,
          51,
          41,
          56,
          36,
          25,
          31,
          23,
          65,
          27,
          54,
          46,
          44,
          24,
          58,
          49,
          25,
          64,
          27,
          50,
          40,
          27,
          35,
          51,
          27,
          41,
          54,
          60,
          30,
          52,
          29,
          26,
          46,
          39,
          44,
          41,
          25,
          57,
          24,
          29,
          39,
          27,
          41,
          56,
          27,
          37,
          56,
          56,
          32,
          39,
          39,
          40,
          37,
          37,
          55,
          48,
          38,
          58,
          24,
          56,
          35,
          32,
          58,
          51,
          44,
          21,
          55,
          41,
          19,
          38,
          29,
          25,
          28,
          24,
          30,
          23,
          40
         ],
         "xaxis": "x",
         "yaxis": "y"
        },
        {
         "alignmentgroup": "True",
         "bingroup": "x",
         "hovertemplate": "Smoking_status=No<br>Age (years)=%{x}<br>count=%{y}<extra></extra>",
         "legendgroup": "No",
         "marker": {
          "color": "#EF553B",
          "opacity": 0.5,
          "pattern": {
           "shape": ""
          }
         },
         "name": "No",
         "offsetgroup": "No",
         "orientation": "v",
         "showlegend": true,
         "type": "histogram",
         "x": [
          40,
          57,
          36,
          41,
          11,
          55,
          30,
          28,
          32,
          43,
          24,
          32,
          29,
          63,
          24,
          52,
          36,
          23,
          47,
          18,
          46,
          61,
          20,
          58,
          46,
          31,
          34,
          40,
          55,
          21,
          37,
          29,
          65,
          9,
          16,
          18,
          37,
          54,
          34,
          34,
          32,
          56,
          29,
          35,
          30,
          21,
          25,
          52,
          46,
          32,
          47,
          47,
          43,
          29,
          40,
          50,
          53,
          50,
          50,
          24,
          57,
          43,
          51,
          41,
          53,
          32,
          65,
          38,
          53,
          55,
          44,
          38,
          40,
          53,
          39,
          25,
          23,
          52,
          52,
          51,
          15,
          48,
          25,
          37,
          33,
          25,
          32,
          37,
          48,
          55,
          52,
          48,
          25,
          40,
          26,
          33,
          50,
          22,
          41,
          61,
          23,
          45,
          14,
          42,
          53,
          48,
          40,
          48,
          35,
          55,
          24,
          33,
          24,
          48,
          42,
          62,
          44,
          53,
          49,
          24,
          48,
          36,
          37,
          27,
          52,
          53,
          24,
          18,
          44,
          61,
          32,
          61,
          64,
          31,
          32,
          31,
          32,
          61,
          10,
          36,
          27,
          22,
          22,
          56,
          13,
          37,
          52,
          63,
          38,
          60,
          29,
          29,
          30,
          26,
          32,
          36,
          18,
          28,
          58,
          37,
          32,
          43,
          52,
          37,
          67,
          29,
          61,
          29,
          46,
          47,
          35,
          48,
          37,
          31,
          23,
          48,
          30,
          45,
          27,
          44,
          50,
          46,
          27,
          37,
          48,
          42,
          48,
          53,
          38,
          17,
          34,
          26,
          54,
          46,
          38,
          24,
          38,
          29,
          51,
          22,
          47,
          25,
          25,
          25,
          65,
          56,
          28,
          33,
          22,
          50,
          25,
          40,
          58,
          45,
          55,
          54,
          25,
          41,
          44,
          44,
          42,
          49,
          12,
          27,
          50,
          52,
          44,
          57,
          53,
          65,
          52,
          53,
          51,
          30,
          24,
          19,
          52,
          45,
          51,
          65,
          28,
          30,
          22,
          52,
          41,
          40,
          29,
          65,
          60,
          48,
          21,
          25,
          61,
          35,
          22,
          40,
          32,
          62,
          48,
          22,
          36,
          21,
          56,
          56,
          57,
          59,
          30,
          32,
          37,
          53,
          61,
          53,
          27,
          28,
          49,
          49,
          51,
          44,
          41,
          26,
          26,
          54,
          23,
          52,
          37,
          55,
          28,
          40,
          59,
          56,
          55,
          46,
          27,
          65,
          27,
          52,
          45,
          18
         ],
         "xaxis": "x",
         "yaxis": "y"
        }
       ],
       "layout": {
        "barmode": "overlay",
        "legend": {
         "title": {
          "text": "Smoking status"
         },
         "tracegroupgap": 0
        },
        "margin": {
         "t": 60
        },
        "template": {
         "data": {
          "bar": [
           {
            "error_x": {
             "color": "#2a3f5f"
            },
            "error_y": {
             "color": "#2a3f5f"
            },
            "marker": {
             "line": {
              "color": "#E5ECF6",
              "width": 0.5
             },
             "pattern": {
              "fillmode": "overlay",
              "size": 10,
              "solidity": 0.2
             }
            },
            "type": "bar"
           }
          ],
          "barpolar": [
           {
            "marker": {
             "line": {
              "color": "#E5ECF6",
              "width": 0.5
             },
             "pattern": {
              "fillmode": "overlay",
              "size": 10,
              "solidity": 0.2
             }
            },
            "type": "barpolar"
           }
          ],
          "carpet": [
           {
            "aaxis": {
             "endlinecolor": "#2a3f5f",
             "gridcolor": "white",
             "linecolor": "white",
             "minorgridcolor": "white",
             "startlinecolor": "#2a3f5f"
            },
            "baxis": {
             "endlinecolor": "#2a3f5f",
             "gridcolor": "white",
             "linecolor": "white",
             "minorgridcolor": "white",
             "startlinecolor": "#2a3f5f"
            },
            "type": "carpet"
           }
          ],
          "choropleth": [
           {
            "colorbar": {
             "outlinewidth": 0,
             "ticks": ""
            },
            "type": "choropleth"
           }
          ],
          "contour": [
           {
            "colorbar": {
             "outlinewidth": 0,
             "ticks": ""
            },
            "colorscale": [
             [
              0,
              "#0d0887"
             ],
             [
              0.1111111111111111,
              "#46039f"
             ],
             [
              0.2222222222222222,
              "#7201a8"
             ],
             [
              0.3333333333333333,
              "#9c179e"
             ],
             [
              0.4444444444444444,
              "#bd3786"
             ],
             [
              0.5555555555555556,
              "#d8576b"
             ],
             [
              0.6666666666666666,
              "#ed7953"
             ],
             [
              0.7777777777777778,
              "#fb9f3a"
             ],
             [
              0.8888888888888888,
              "#fdca26"
             ],
             [
              1,
              "#f0f921"
             ]
            ],
            "type": "contour"
           }
          ],
          "contourcarpet": [
           {
            "colorbar": {
             "outlinewidth": 0,
             "ticks": ""
            },
            "type": "contourcarpet"
           }
          ],
          "heatmap": [
           {
            "colorbar": {
             "outlinewidth": 0,
             "ticks": ""
            },
            "colorscale": [
             [
              0,
              "#0d0887"
             ],
             [
              0.1111111111111111,
              "#46039f"
             ],
             [
              0.2222222222222222,
              "#7201a8"
             ],
             [
              0.3333333333333333,
              "#9c179e"
             ],
             [
              0.4444444444444444,
              "#bd3786"
             ],
             [
              0.5555555555555556,
              "#d8576b"
             ],
             [
              0.6666666666666666,
              "#ed7953"
             ],
             [
              0.7777777777777778,
              "#fb9f3a"
             ],
             [
              0.8888888888888888,
              "#fdca26"
             ],
             [
              1,
              "#f0f921"
             ]
            ],
            "type": "heatmap"
           }
          ],
          "heatmapgl": [
           {
            "colorbar": {
             "outlinewidth": 0,
             "ticks": ""
            },
            "colorscale": [
             [
              0,
              "#0d0887"
             ],
             [
              0.1111111111111111,
              "#46039f"
             ],
             [
              0.2222222222222222,
              "#7201a8"
             ],
             [
              0.3333333333333333,
              "#9c179e"
             ],
             [
              0.4444444444444444,
              "#bd3786"
             ],
             [
              0.5555555555555556,
              "#d8576b"
             ],
             [
              0.6666666666666666,
              "#ed7953"
             ],
             [
              0.7777777777777778,
              "#fb9f3a"
             ],
             [
              0.8888888888888888,
              "#fdca26"
             ],
             [
              1,
              "#f0f921"
             ]
            ],
            "type": "heatmapgl"
           }
          ],
          "histogram": [
           {
            "marker": {
             "pattern": {
              "fillmode": "overlay",
              "size": 10,
              "solidity": 0.2
             }
            },
            "type": "histogram"
           }
          ],
          "histogram2d": [
           {
            "colorbar": {
             "outlinewidth": 0,
             "ticks": ""
            },
            "colorscale": [
             [
              0,
              "#0d0887"
             ],
             [
              0.1111111111111111,
              "#46039f"
             ],
             [
              0.2222222222222222,
              "#7201a8"
             ],
             [
              0.3333333333333333,
              "#9c179e"
             ],
             [
              0.4444444444444444,
              "#bd3786"
             ],
             [
              0.5555555555555556,
              "#d8576b"
             ],
             [
              0.6666666666666666,
              "#ed7953"
             ],
             [
              0.7777777777777778,
              "#fb9f3a"
             ],
             [
              0.8888888888888888,
              "#fdca26"
             ],
             [
              1,
              "#f0f921"
             ]
            ],
            "type": "histogram2d"
           }
          ],
          "histogram2dcontour": [
           {
            "colorbar": {
             "outlinewidth": 0,
             "ticks": ""
            },
            "colorscale": [
             [
              0,
              "#0d0887"
             ],
             [
              0.1111111111111111,
              "#46039f"
             ],
             [
              0.2222222222222222,
              "#7201a8"
             ],
             [
              0.3333333333333333,
              "#9c179e"
             ],
             [
              0.4444444444444444,
              "#bd3786"
             ],
             [
              0.5555555555555556,
              "#d8576b"
             ],
             [
              0.6666666666666666,
              "#ed7953"
             ],
             [
              0.7777777777777778,
              "#fb9f3a"
             ],
             [
              0.8888888888888888,
              "#fdca26"
             ],
             [
              1,
              "#f0f921"
             ]
            ],
            "type": "histogram2dcontour"
           }
          ],
          "mesh3d": [
           {
            "colorbar": {
             "outlinewidth": 0,
             "ticks": ""
            },
            "type": "mesh3d"
           }
          ],
          "parcoords": [
           {
            "line": {
             "colorbar": {
              "outlinewidth": 0,
              "ticks": ""
             }
            },
            "type": "parcoords"
           }
          ],
          "pie": [
           {
            "automargin": true,
            "type": "pie"
           }
          ],
          "scatter": [
           {
            "fillpattern": {
             "fillmode": "overlay",
             "size": 10,
             "solidity": 0.2
            },
            "type": "scatter"
           }
          ],
          "scatter3d": [
           {
            "line": {
             "colorbar": {
              "outlinewidth": 0,
              "ticks": ""
             }
            },
            "marker": {
             "colorbar": {
              "outlinewidth": 0,
              "ticks": ""
             }
            },
            "type": "scatter3d"
           }
          ],
          "scattercarpet": [
           {
            "marker": {
             "colorbar": {
              "outlinewidth": 0,
              "ticks": ""
             }
            },
            "type": "scattercarpet"
           }
          ],
          "scattergeo": [
           {
            "marker": {
             "colorbar": {
              "outlinewidth": 0,
              "ticks": ""
             }
            },
            "type": "scattergeo"
           }
          ],
          "scattergl": [
           {
            "marker": {
             "colorbar": {
              "outlinewidth": 0,
              "ticks": ""
             }
            },
            "type": "scattergl"
           }
          ],
          "scattermapbox": [
           {
            "marker": {
             "colorbar": {
              "outlinewidth": 0,
              "ticks": ""
             }
            },
            "type": "scattermapbox"
           }
          ],
          "scatterpolar": [
           {
            "marker": {
             "colorbar": {
              "outlinewidth": 0,
              "ticks": ""
             }
            },
            "type": "scatterpolar"
           }
          ],
          "scatterpolargl": [
           {
            "marker": {
             "colorbar": {
              "outlinewidth": 0,
              "ticks": ""
             }
            },
            "type": "scatterpolargl"
           }
          ],
          "scatterternary": [
           {
            "marker": {
             "colorbar": {
              "outlinewidth": 0,
              "ticks": ""
             }
            },
            "type": "scatterternary"
           }
          ],
          "surface": [
           {
            "colorbar": {
             "outlinewidth": 0,
             "ticks": ""
            },
            "colorscale": [
             [
              0,
              "#0d0887"
             ],
             [
              0.1111111111111111,
              "#46039f"
             ],
             [
              0.2222222222222222,
              "#7201a8"
             ],
             [
              0.3333333333333333,
              "#9c179e"
             ],
             [
              0.4444444444444444,
              "#bd3786"
             ],
             [
              0.5555555555555556,
              "#d8576b"
             ],
             [
              0.6666666666666666,
              "#ed7953"
             ],
             [
              0.7777777777777778,
              "#fb9f3a"
             ],
             [
              0.8888888888888888,
              "#fdca26"
             ],
             [
              1,
              "#f0f921"
             ]
            ],
            "type": "surface"
           }
          ],
          "table": [
           {
            "cells": {
             "fill": {
              "color": "#EBF0F8"
             },
             "line": {
              "color": "white"
             }
            },
            "header": {
             "fill": {
              "color": "#C8D4E3"
             },
             "line": {
              "color": "white"
             }
            },
            "type": "table"
           }
          ]
         },
         "layout": {
          "annotationdefaults": {
           "arrowcolor": "#2a3f5f",
           "arrowhead": 0,
           "arrowwidth": 1
          },
          "autotypenumbers": "strict",
          "coloraxis": {
           "colorbar": {
            "outlinewidth": 0,
            "ticks": ""
           }
          },
          "colorscale": {
           "diverging": [
            [
             0,
             "#8e0152"
            ],
            [
             0.1,
             "#c51b7d"
            ],
            [
             0.2,
             "#de77ae"
            ],
            [
             0.3,
             "#f1b6da"
            ],
            [
             0.4,
             "#fde0ef"
            ],
            [
             0.5,
             "#f7f7f7"
            ],
            [
             0.6,
             "#e6f5d0"
            ],
            [
             0.7,
             "#b8e186"
            ],
            [
             0.8,
             "#7fbc41"
            ],
            [
             0.9,
             "#4d9221"
            ],
            [
             1,
             "#276419"
            ]
           ],
           "sequential": [
            [
             0,
             "#0d0887"
            ],
            [
             0.1111111111111111,
             "#46039f"
            ],
            [
             0.2222222222222222,
             "#7201a8"
            ],
            [
             0.3333333333333333,
             "#9c179e"
            ],
            [
             0.4444444444444444,
             "#bd3786"
            ],
            [
             0.5555555555555556,
             "#d8576b"
            ],
            [
             0.6666666666666666,
             "#ed7953"
            ],
            [
             0.7777777777777778,
             "#fb9f3a"
            ],
            [
             0.8888888888888888,
             "#fdca26"
            ],
            [
             1,
             "#f0f921"
            ]
           ],
           "sequentialminus": [
            [
             0,
             "#0d0887"
            ],
            [
             0.1111111111111111,
             "#46039f"
            ],
            [
             0.2222222222222222,
             "#7201a8"
            ],
            [
             0.3333333333333333,
             "#9c179e"
            ],
            [
             0.4444444444444444,
             "#bd3786"
            ],
            [
             0.5555555555555556,
             "#d8576b"
            ],
            [
             0.6666666666666666,
             "#ed7953"
            ],
            [
             0.7777777777777778,
             "#fb9f3a"
            ],
            [
             0.8888888888888888,
             "#fdca26"
            ],
            [
             1,
             "#f0f921"
            ]
           ]
          },
          "colorway": [
           "#636efa",
           "#EF553B",
           "#00cc96",
           "#ab63fa",
           "#FFA15A",
           "#19d3f3",
           "#FF6692",
           "#B6E880",
           "#FF97FF",
           "#FECB52"
          ],
          "font": {
           "color": "#2a3f5f"
          },
          "geo": {
           "bgcolor": "white",
           "lakecolor": "white",
           "landcolor": "#E5ECF6",
           "showlakes": true,
           "showland": true,
           "subunitcolor": "white"
          },
          "hoverlabel": {
           "align": "left"
          },
          "hovermode": "closest",
          "mapbox": {
           "style": "light"
          },
          "paper_bgcolor": "white",
          "plot_bgcolor": "#E5ECF6",
          "polar": {
           "angularaxis": {
            "gridcolor": "white",
            "linecolor": "white",
            "ticks": ""
           },
           "bgcolor": "#E5ECF6",
           "radialaxis": {
            "gridcolor": "white",
            "linecolor": "white",
            "ticks": ""
           }
          },
          "scene": {
           "xaxis": {
            "backgroundcolor": "#E5ECF6",
            "gridcolor": "white",
            "gridwidth": 2,
            "linecolor": "white",
            "showbackground": true,
            "ticks": "",
            "zerolinecolor": "white"
           },
           "yaxis": {
            "backgroundcolor": "#E5ECF6",
            "gridcolor": "white",
            "gridwidth": 2,
            "linecolor": "white",
            "showbackground": true,
            "ticks": "",
            "zerolinecolor": "white"
           },
           "zaxis": {
            "backgroundcolor": "#E5ECF6",
            "gridcolor": "white",
            "gridwidth": 2,
            "linecolor": "white",
            "showbackground": true,
            "ticks": "",
            "zerolinecolor": "white"
           }
          },
          "shapedefaults": {
           "line": {
            "color": "#2a3f5f"
           }
          },
          "ternary": {
           "aaxis": {
            "gridcolor": "white",
            "linecolor": "white",
            "ticks": ""
           },
           "baxis": {
            "gridcolor": "white",
            "linecolor": "white",
            "ticks": ""
           },
           "bgcolor": "#E5ECF6",
           "caxis": {
            "gridcolor": "white",
            "linecolor": "white",
            "ticks": ""
           }
          },
          "title": {
           "x": 0.05
          },
          "xaxis": {
           "automargin": true,
           "gridcolor": "white",
           "linecolor": "white",
           "ticks": "",
           "title": {
            "standoff": 15
           },
           "zerolinecolor": "white",
           "zerolinewidth": 2
          },
          "yaxis": {
           "automargin": true,
           "gridcolor": "white",
           "linecolor": "white",
           "ticks": "",
           "title": {
            "standoff": 15
           },
           "zerolinecolor": "white",
           "zerolinewidth": 2
          }
         }
        },
        "title": {
         "text": "Smoking status distribution"
        },
        "xaxis": {
         "anchor": "y",
         "domain": [
          0,
          1
         ],
         "title": {
          "text": "Age (years)"
         }
        },
        "yaxis": {
         "anchor": "x",
         "domain": [
          0,
          1
         ],
         "title": {
          "text": "count"
         }
        }
       }
      }
     },
     "metadata": {},
     "output_type": "display_data"
    }
   ],
   "source": [
    "fig = px.histogram(df, x='Age', color='Smoking_status', barmode='overlay', labels={'Age':'Age (years)'})\n",
    "fig.update_layout(title='Smoking status distribution', legend_title='Smoking status')\n",
    "fig.show()"
   ]
  },
  {
   "cell_type": "code",
   "execution_count": null,
   "metadata": {},
   "outputs": [],
   "source": []
  }
 ],
 "metadata": {
  "kernelspec": {
   "display_name": "Python 3",
   "language": "python",
   "name": "python3"
  },
  "language_info": {
   "codemirror_mode": {
    "name": "ipython",
    "version": 3
   },
   "file_extension": ".py",
   "mimetype": "text/x-python",
   "name": "python",
   "nbconvert_exporter": "python",
   "pygments_lexer": "ipython3",
   "version": "3.10.9"
  },
  "orig_nbformat": 4,
  "vscode": {
   "interpreter": {
    "hash": "369e01ec3dd6252750b8612bf6a52f666435a34cc86b1ebe126ab89b338dac53"
   }
  }
 },
 "nbformat": 4,
 "nbformat_minor": 2
}
