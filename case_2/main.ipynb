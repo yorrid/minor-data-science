{
 "cells": [
  {
   "cell_type": "code",
   "execution_count": null,
   "metadata": {},
   "outputs": [],
   "source": [
    "import requests\n",
    "import json\n",
    "import pandas as pd\n",
    "import numpy as np\n",
    "import plotly.express as px\n",
    "import kaggle"
   ]
  },
  {
   "attachments": {},
   "cell_type": "markdown",
   "metadata": {},
   "source": [
    "Import dataset via kaggle api"
   ]
  },
  {
   "cell_type": "code",
   "execution_count": null,
   "metadata": {},
   "outputs": [],
   "source": [
    "api = kaggle.api\n",
    "api.get_config_value('username')\n",
    "\n",
    "# Below paste the of the code to download the dataset from Kaggle\n",
    "\n",
    "# Main dataset\n",
    "# !kaggle datasets download -d equilibriumm/sleep-efficiency\n",
    "# !unzip sleep-efficiency.zip\n",
    "\n",
    "# # Sleep study pilot dataset\n",
    "# !kaggle datasets download -d mlomuscio/sleepstudypilot\n",
    "# !unzip sleepstudypilot.zip\n",
    "\n",
    "# # Sleep study US dataset\n",
    "# !kaggle datasets download -d thedevastator/how-much-sleep-do-americans-really-get\n",
    "# !unzip how-much-sleep-do-americans-really-get.zip"
   ]
  }
 ],
 "metadata": {
  "kernelspec": {
   "display_name": "dev-env",
   "language": "python",
   "name": "python3"
  },
  "language_info": {
   "codemirror_mode": {
    "name": "ipython",
    "version": 3
   },
   "file_extension": ".py",
   "mimetype": "text/x-python",
   "name": "python",
   "nbconvert_exporter": "python",
   "pygments_lexer": "ipython3",
   "version": "3.10.9"
  },
  "orig_nbformat": 4,
  "vscode": {
   "interpreter": {
    "hash": "14337318d348e84ea79359f515714bbecfaf05d807827fdb32d3602e845b9c79"
   }
  }
 },
 "nbformat": 4,
 "nbformat_minor": 2
}
