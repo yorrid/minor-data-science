{
 "cells": [
  {
   "cell_type": "markdown",
   "metadata": {},
   "source": [
    "## Deel 1: Inladen datasets\n",
    "**1. Importeer de 01_NLelftal.csv, 02_NLelftal.csv, 03_ NLelftal.csv datasets.**<br>\n",
    "**Inspecteer de data en bepaal de separator, zet de encoding op ANSI** <br>\n",
    "Mogelijk werkt dit niet voor Mac gebruikers. Zet dan engine gelijk aan \"python\" (10-12 min)\n",
    "\n",
    "Inladen van CSV: https://www.youtube.com/watch?v=1oBVx7pyuXo&list=PLwkTCAI_gJjW10xaAJpdqeQx7EQgFolfG&index=9"
   ]
  },
  {
   "cell_type": "code",
   "execution_count": null,
   "metadata": {},
   "outputs": [],
   "source": []
  },
  {
   "cell_type": "code",
   "execution_count": null,
   "metadata": {
    "scrolled": true
   },
   "outputs": [],
   "source": []
  },
  {
   "cell_type": "code",
   "execution_count": null,
   "metadata": {},
   "outputs": [],
   "source": []
  },
  {
   "cell_type": "code",
   "execution_count": null,
   "metadata": {},
   "outputs": [],
   "source": []
  },
  {
   "cell_type": "code",
   "execution_count": null,
   "metadata": {},
   "outputs": [],
   "source": []
  },
  {
   "cell_type": "code",
   "execution_count": null,
   "metadata": {},
   "outputs": [],
   "source": []
  },
  {
   "cell_type": "markdown",
   "metadata": {},
   "source": [
    "**2. Lees de excel 04_NLelftal.xlsx in** (3 min)\n"
   ]
  },
  {
   "cell_type": "code",
   "execution_count": null,
   "metadata": {},
   "outputs": [],
   "source": []
  },
  {
   "cell_type": "markdown",
   "metadata": {},
   "source": [
    "**2a. Bepaal of Nederland vaker de winnaar is per wedstrijd en sla dit op in een nieuwe kolom \"Saldo\". Geef de waarde \"Winnaar\" mee als er vaker gewonnen (kolom Gw vs kolom Ve) is anders \"Verloren\". Indien er even vaak gewonnen als verloren moet de kolom \"Gelijkspel\" bevatten. (5 min)** <br>\n",
    "<br>\n",
    "<i>Conditional statements: </i> https://www.youtube.com/watch?v=WURqpxX_Rsw&list=PLwkTCAI_gJjW10xaAJpdqeQx7EQgFolfG&index=8\n"
   ]
  },
  {
   "cell_type": "code",
   "execution_count": null,
   "metadata": {},
   "outputs": [],
   "source": []
  },
  {
   "cell_type": "markdown",
   "metadata": {},
   "source": [
    "**2b. Maak een nieuwe kolom met het gemiddeld aantal doelpunten van NL (Vo) per wedstrijd (Gs) (3 min)** <br><br>\n",
    "<i> Kolom toevoegen: </i> https://www.youtube.com/watch?v=GU6YNLxVdU8&list=PLwkTCAI_gJjW10xaAJpdqeQx7EQgFolfG&index=10"
   ]
  },
  {
   "cell_type": "code",
   "execution_count": null,
   "metadata": {},
   "outputs": [],
   "source": []
  },
  {
   "cell_type": "markdown",
   "metadata": {},
   "source": [
    "**2c. Bepaal het gemiddelde aantal doepunten per wedsrijd tegen alle tegenstanders (2 min)**"
   ]
  },
  {
   "cell_type": "code",
   "execution_count": null,
   "metadata": {},
   "outputs": [],
   "source": []
  },
  {
   "cell_type": "markdown",
   "metadata": {},
   "source": [
    "## Star Wars API\n",
    "**3. Instaleer en laad het package 'requests'.** (3 min)"
   ]
  },
  {
   "cell_type": "code",
   "execution_count": null,
   "metadata": {},
   "outputs": [],
   "source": []
  },
  {
   "cell_type": "markdown",
   "metadata": {},
   "source": [
    "**4-6. Maak een GET() request to https://swapi.dev/api/people/1/ en sla de resultaten op in een\n",
    "variabele genaamd response. <br> Welke informatie heb je gekregen? <br>\n",
    "Print de status code en de inhoud als tekst. <br>\n",
    "Laat tevens de inhoud als json zien** (10 min)\n",
    "\n",
    "<i>API: </i> https://www.youtube.com/watch?v=-dN2OdQFeKU&list=PLwkTCAI_gJjW10xaAJpdqeQx7EQgFolfG&index=19\n"
   ]
  },
  {
   "cell_type": "code",
   "execution_count": null,
   "metadata": {
    "scrolled": true
   },
   "outputs": [],
   "source": []
  },
  {
   "cell_type": "markdown",
   "metadata": {},
   "source": [
    "**7. Maak een GET() request naar een nieuwe url om meer informatie op te halen over de\n",
    "“homeworld\" van Luke Skywalker.** <br> **Tip: Hoe roep je een key uit een dictionary op? ** <br>\n",
    "\n",
    "(8 min)\n",
    "\n",
    "**Print dezelfde informatie als in vraag 6**\n"
   ]
  },
  {
   "cell_type": "code",
   "execution_count": null,
   "metadata": {},
   "outputs": [],
   "source": []
  },
  {
   "cell_type": "markdown",
   "metadata": {},
   "source": [
    "## Deel 3: Uploaden naar een server\n",
    "**8. Maak een GET() request naar https://5d6f7b60482b530014d2e39f.mockapi.io/api/rick/Test2\n",
    "en haal de content op. Welke variabelen zitten in de database?** (3 min)"
   ]
  },
  {
   "cell_type": "code",
   "execution_count": null,
   "metadata": {},
   "outputs": [],
   "source": []
  },
  {
   "cell_type": "markdown",
   "metadata": {},
   "source": [
    "**9. Creëer een nieuw profiel met de variabelen name, Favorietijs en Leeftijd. <br> Dit heeft de vorm van een dictionary. <br> Je hoeft geen id mee te geven** (5 min)\n",
    "\n",
    "Dictionaries: https://www.youtube.com/watch?v=eDEGUx76zog&list=PLwkTCAI_gJjW10xaAJpdqeQx7EQgFolfG&index=5"
   ]
  },
  {
   "cell_type": "code",
   "execution_count": null,
   "metadata": {},
   "outputs": [],
   "source": []
  },
  {
   "cell_type": "markdown",
   "metadata": {},
   "source": [
    "**10. Gebruik POST() om dit nieuwe profiel te uploaden naar de server. Controleer of dit gelukt is\n",
    "door de data nogmaals van de server te halen. Welk id heb je gekregen?**\n",
    "(8 min)"
   ]
  },
  {
   "cell_type": "code",
   "execution_count": null,
   "metadata": {},
   "outputs": [],
   "source": []
  },
  {
   "cell_type": "code",
   "execution_count": null,
   "metadata": {},
   "outputs": [],
   "source": []
  },
  {
   "cell_type": "code",
   "execution_count": null,
   "metadata": {},
   "outputs": [],
   "source": []
  },
  {
   "cell_type": "code",
   "execution_count": null,
   "metadata": {},
   "outputs": [],
   "source": []
  },
  {
   "cell_type": "code",
   "execution_count": null,
   "metadata": {},
   "outputs": [],
   "source": []
  },
  {
   "cell_type": "markdown",
   "metadata": {},
   "source": [
    "**11. Creeër een nieuwe dictionary met andere gegevens. <br> Kijk of het lukt om een list (met meerdere inputs) te maken voor een\n",
    "van de variabelen. <br> Gebruik de PUT() functie om je nieuwe profiel te updaten. <br> Controleer welk ID nummer je hiervoor moet gebruiken. <br> Hoe pas je dan het adres aan?**\n",
    "\n",
    "(12 min)"
   ]
  },
  {
   "cell_type": "code",
   "execution_count": null,
   "metadata": {},
   "outputs": [],
   "source": []
  },
  {
   "cell_type": "code",
   "execution_count": null,
   "metadata": {},
   "outputs": [],
   "source": []
  },
  {
   "cell_type": "code",
   "execution_count": null,
   "metadata": {},
   "outputs": [],
   "source": []
  },
  {
   "cell_type": "markdown",
   "metadata": {},
   "source": [
    "**12. Verwijder de door jouw geüploade gegevens met DELETE. Let op: Verwijder alleen jouw id!** (5 min)"
   ]
  },
  {
   "cell_type": "code",
   "execution_count": null,
   "metadata": {},
   "outputs": [],
   "source": []
  }
 ],
 "metadata": {
  "kernelspec": {
   "display_name": "Python 3 (ipykernel)",
   "language": "python",
   "name": "python3"
  },
  "language_info": {
   "codemirror_mode": {
    "name": "ipython",
    "version": 3
   },
   "file_extension": ".py",
   "mimetype": "text/x-python",
   "name": "python",
   "nbconvert_exporter": "python",
   "pygments_lexer": "ipython3",
   "version": "3.9.7"
  }
 },
 "nbformat": 4,
 "nbformat_minor": 4
}
