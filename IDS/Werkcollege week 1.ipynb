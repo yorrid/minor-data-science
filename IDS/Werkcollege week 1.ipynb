{
 "cells": [
  {
   "cell_type": "markdown",
   "metadata": {},
   "source": [
    "# 1\n",
    "Er zijn meerdere 1-dimensionale structuren in Python. De list, de numpy array en pandas Series zijn degene die je het meest zal gebruiken (numpy en pandas zijn packages).\n",
    "\n",
    "Meer informatie over lists: https://www.youtube.com/watch?v=U8x0wpgU9Kk&list=PLwkTCAI_gJjW10xaAJpdqeQx7EQgFolfG&index=4 \n",
    "\n",
    "**A. Maak een list met de getallen 6 tot en met 10** (2 min) "
   ]
  },
  {
   "cell_type": "code",
   "execution_count": 1,
   "metadata": {},
   "outputs": [
    {
     "data": {
      "text/plain": [
       "[6, 7, 8, 9, 10]"
      ]
     },
     "execution_count": 1,
     "metadata": {},
     "output_type": "execute_result"
    }
   ],
   "source": [
    "[6, 7, 8, 9, 10]"
   ]
  },
  {
   "cell_type": "markdown",
   "metadata": {},
   "source": [
    "**B. Geef de list de naam list1** (1 min)"
   ]
  },
  {
   "cell_type": "code",
   "execution_count": 2,
   "metadata": {},
   "outputs": [],
   "source": [
    "list1 = [6, 7, 8, 9, 10]"
   ]
  },
  {
   "cell_type": "code",
   "execution_count": 3,
   "metadata": {},
   "outputs": [],
   "source": [
    "import numpy as np\n",
    "import pandas as pd"
   ]
  },
  {
   "cell_type": "markdown",
   "metadata": {},
   "source": [
    "**C. Zet de list om in een numpy array en pandas series. Importeer eerst deze twee packages** (5 min) <br>\n",
    "Introductie in numpy: https://www.youtube.com/watch?v=WkK39hhP8Yk&list=PLwkTCAI_gJjW10xaAJpdqeQx7EQgFolfG&index=6 <br>\n",
    "Introductie in pandas: https://www.youtube.com/watch?v=s8G6SQLKvHs&list=PLwkTCAI_gJjW10xaAJpdqeQx7EQgFolfG&index=7"
   ]
  },
  {
   "cell_type": "code",
   "execution_count": 4,
   "metadata": {},
   "outputs": [
    {
     "data": {
      "text/plain": [
       "0     6\n",
       "1     7\n",
       "2     8\n",
       "3     9\n",
       "4    10\n",
       "dtype: int64"
      ]
     },
     "execution_count": 4,
     "metadata": {},
     "output_type": "execute_result"
    }
   ],
   "source": [
    "pd.Series(list1)"
   ]
  },
  {
   "cell_type": "code",
   "execution_count": 5,
   "metadata": {},
   "outputs": [
    {
     "data": {
      "text/plain": [
       "array([ 6,  7,  8,  9, 10])"
      ]
     },
     "execution_count": 5,
     "metadata": {},
     "output_type": "execute_result"
    }
   ],
   "source": [
    "np.array(list1)"
   ]
  },
  {
   "cell_type": "markdown",
   "metadata": {},
   "source": [
    "### **2. Tel 5 op bij alle getallen in list1, doe hetzelfde voor de array en series**\n",
    "\n",
    "Voor de python list hebben we een list comprehension nodig. De numpy array en pandas Series kunnen het in één keer. <br>\n",
    "(8 min)"
   ]
  },
  {
   "cell_type": "code",
   "execution_count": null,
   "metadata": {},
   "outputs": [],
   "source": []
  },
  {
   "cell_type": "code",
   "execution_count": null,
   "metadata": {},
   "outputs": [],
   "source": []
  },
  {
   "cell_type": "code",
   "execution_count": null,
   "metadata": {},
   "outputs": [],
   "source": []
  },
  {
   "cell_type": "markdown",
   "metadata": {},
   "source": [
    "## 3\n",
    "**A. Maak een tweede list met de letters A,B,C,D,E en noem deze list2** (2 min)"
   ]
  },
  {
   "cell_type": "code",
   "execution_count": null,
   "metadata": {},
   "outputs": [],
   "source": []
  },
  {
   "cell_type": "code",
   "execution_count": null,
   "metadata": {},
   "outputs": [],
   "source": [
    "\n"
   ]
  },
  {
   "cell_type": "markdown",
   "metadata": {},
   "source": [
    "**B. Maak een pandas dataframe met de naam df die bestaat uit twee kolommen: list1 en list2** <br> (4 min). Voor achtergrond zie introductie in pandas (1C)"
   ]
  },
  {
   "cell_type": "code",
   "execution_count": null,
   "metadata": {},
   "outputs": [],
   "source": []
  },
  {
   "cell_type": "markdown",
   "metadata": {},
   "source": [
    "**C. Voeg een derde kolom toe aan de dataframe met 5 x de waarde TRUE** (3 min) <br>\n",
    "Toevoegen kolommen: https://www.youtube.com/watch?v=GU6YNLxVdU8&list=PLwkTCAI_gJjW10xaAJpdqeQx7EQgFolfG&index=10"
   ]
  },
  {
   "cell_type": "code",
   "execution_count": null,
   "metadata": {},
   "outputs": [],
   "source": []
  },
  {
   "cell_type": "markdown",
   "metadata": {},
   "source": [
    "## 4 \n",
    "**Check of je working directory overeenkomt met de map waarin je de werkcolleges wil opslaan** (2 min)\n",
    "\n"
   ]
  },
  {
   "cell_type": "code",
   "execution_count": null,
   "metadata": {},
   "outputs": [],
   "source": []
  },
  {
   "cell_type": "markdown",
   "metadata": {},
   "source": [
    "## 5\n",
    "**Gebruik de functie 'read_csv()' uit het pandas package om de dataset in te laden en geef het de\n",
    "naam *HairEyeColour*** (3 min)"
   ]
  },
  {
   "cell_type": "code",
   "execution_count": null,
   "metadata": {},
   "outputs": [],
   "source": []
  },
  {
   "cell_type": "markdown",
   "metadata": {},
   "source": [
    "## 6 \n",
    "**Wat voor type variabelen zitten er in de dataset?** (3 min) <br> Tip: gebruik de method 'info()'\n",
    "\n",
    "object betekent 'tekst'"
   ]
  },
  {
   "cell_type": "code",
   "execution_count": null,
   "metadata": {},
   "outputs": [],
   "source": []
  },
  {
   "cell_type": "markdown",
   "metadata": {},
   "source": [
    "## 7 \n",
    "**Hoeveel mannen en hoeveel vrouwen zitten er in de dataset?** (5 min) <br> Tip: gebruik method 'value_counts()' of functie 'crosstab()' uit pandas"
   ]
  },
  {
   "cell_type": "code",
   "execution_count": null,
   "metadata": {},
   "outputs": [],
   "source": []
  },
  {
   "cell_type": "markdown",
   "metadata": {},
   "source": [
    "## 8 \n",
    "**Hoe veel roodharige personen met groene ogen zitten er in de dataset?** (5 min)"
   ]
  },
  {
   "cell_type": "code",
   "execution_count": null,
   "metadata": {},
   "outputs": [],
   "source": []
  },
  {
   "cell_type": "markdown",
   "metadata": {},
   "source": [
    "## 9\n",
    "**Welk percentage van de mensen met blond haar heeft blauwe ogen?** (6 min) <br> Tip: Zie gebruik functie crosstab. Welke optie kan hiervoor gebruiken. https://pandas.pydata.org/docs/reference/api/pandas.crosstab.html"
   ]
  },
  {
   "cell_type": "code",
   "execution_count": null,
   "metadata": {},
   "outputs": [],
   "source": []
  },
  {
   "cell_type": "markdown",
   "metadata": {},
   "source": [
    "## 10\n",
    "**Hoeveel vrouwen hebben blond en haar en blauwe ogen?** (4 min)\n"
   ]
  },
  {
   "cell_type": "code",
   "execution_count": null,
   "metadata": {},
   "outputs": [],
   "source": []
  },
  {
   "cell_type": "markdown",
   "metadata": {},
   "source": [
    "## 11\n",
    "**Voeg een kolom toe aan de dataset met de naam DarkHair. Deze kolom heeft de waarde\n",
    "“Dark” indien de haarkleur Black of Brown is en “Light” indien de haarkleur Blond of Red is.** (8 min)\n",
    "\n",
    "Tip: gebruik functie 'where()' uit numpy package of een list comprehension\n",
    "\n",
    "Introductie in conditional statements: https://www.youtube.com/watch?v=WURqpxX_Rsw&list=PLwkTCAI_gJjW10xaAJpdqeQx7EQgFolfG&index=8"
   ]
  },
  {
   "cell_type": "code",
   "execution_count": null,
   "metadata": {},
   "outputs": [],
   "source": []
  },
  {
   "cell_type": "markdown",
   "metadata": {},
   "source": [
    "## 12\n",
    "**Hoeveel personen hebben licht haar?** (3 min)"
   ]
  },
  {
   "cell_type": "code",
   "execution_count": null,
   "metadata": {},
   "outputs": [],
   "source": []
  },
  {
   "cell_type": "markdown",
   "metadata": {},
   "source": [
    "## 13 \n",
    "**Welk percentage van de personen heeft licht haar en blauwe ogen?** (3 min)"
   ]
  },
  {
   "cell_type": "code",
   "execution_count": null,
   "metadata": {},
   "outputs": [],
   "source": []
  }
 ],
 "metadata": {
  "kernelspec": {
   "display_name": "Python 3 (ipykernel)",
   "language": "python",
   "name": "python3"
  },
  "language_info": {
   "codemirror_mode": {
    "name": "ipython",
    "version": 3
   },
   "file_extension": ".py",
   "mimetype": "text/x-python",
   "name": "python",
   "nbconvert_exporter": "python",
   "pygments_lexer": "ipython3",
   "version": "3.9.13"
  }
 },
 "nbformat": 4,
 "nbformat_minor": 4
}
